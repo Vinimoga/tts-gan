{
 "cells": [
  {
   "cell_type": "code",
   "execution_count": 1,
   "metadata": {},
   "outputs": [
    {
     "name": "stderr",
     "output_type": "stream",
     "text": [
      "/usr/local/lib/python3.10/dist-packages/_distutils_hack/__init__.py:55: UserWarning: Reliance on distutils from stdlib is deprecated. Users must rely on setuptools to provide the distutils module. Avoid importing distutils or import setuptools first, and avoid setting SETUPTOOLS_USE_DISTUTILS=stdlib. Register concerns at https://github.com/pypa/setuptools/issues/new?template=distutils-deprecation.yml\n",
      "  warnings.warn(\n"
     ]
    }
   ],
   "source": [
    "import torch\n",
    "from torch import nn\n",
    "import torch.nn.functional as F\n",
    "from torch.utils import data\n",
    "\n",
    "import numpy as np\n",
    "\n",
    "import os\n",
    "import sys\n",
    "\n",
    "import matplotlib.pyplot as plt\n",
    "\n",
    "sys.path.append(os.path.abspath('..'))\n",
    "from LoadRealRunningJumping import *\n",
    "from LoadSyntheticRunningJumping import *\n",
    "\n",
    "from GANModels import *\n",
    "\n",
    "from dataLoader import *\n",
    "\n",
    "import torch.fft as fft\n",
    "\n",
    "from EvaluationFunctions import DagharUniclassEvaluation\n",
    "\n",
    "from sklearn.manifold import TSNE\n",
    "\n",
    "from sklearn.model_selection import train_test_split"
   ]
  },
  {
   "cell_type": "code",
   "execution_count": 2,
   "metadata": {},
   "outputs": [
    {
     "name": "stdout",
     "output_type": "stream",
     "text": [
      "(2784, 6, 30)\n"
     ]
    },
    {
     "data": {
      "text/plain": [
       "(array([[-6.57954440e-02,  3.39156203e-03, -3.63780037e-02,\n",
       "          2.31150724e-03,  1.73688936e-03, -5.11790160e-04],\n",
       "        [-5.77215701e-02,  2.36059283e-03, -6.14853799e-02,\n",
       "         -1.77596102e-03,  9.05988214e-04, -4.93116095e-05]]),\n",
       " array([-6.57954440e-02,  3.39156203e-03, -3.63780037e-02,  2.31150724e-03,\n",
       "         1.73688936e-03, -5.11790160e-04, -5.77215701e-02,  2.36059283e-03,\n",
       "        -6.14853799e-02, -1.77596102e-03,  9.05988214e-04, -4.93116095e-05,\n",
       "        -4.07599211e-02,  2.29385458e-02, -5.73152825e-02,  7.15994451e-04,\n",
       "         1.02047459e-03, -1.13943301e-03, -5.91965467e-02,  5.27873542e-03,\n",
       "        -5.57512864e-02, -3.72491637e-03,  4.45453450e-04,  2.60449527e-03,\n",
       "        -3.34645994e-02, -8.14894401e-03, -3.63945812e-02,  1.26490995e-04,\n",
       "        -2.29287613e-03, -3.10051045e-03]))"
      ]
     },
     "execution_count": 2,
     "metadata": {},
     "output_type": "execute_result"
    }
   ],
   "source": [
    "my_data = np.genfromtxt('../DAGHAR_split_25_10/train/data/KuHar_DAGHAR_Multiclass.csv', delimiter=',')\n",
    "reshaped_data = my_data.reshape(-1, 6, 30)\n",
    "print(reshaped_data.shape)\n",
    "my_data[0:2], reshaped_data[0][0]"
   ]
  },
  {
   "cell_type": "code",
   "execution_count": 3,
   "metadata": {},
   "outputs": [
    {
     "name": "stdout",
     "output_type": "stream",
     "text": [
      "new shape: (2784, 6, 30)  |  old_shape (83520, 6)\n",
      "torch.Size([2784, 6, 1, 30])\n",
      "return single class data and labels, class is KuHar_DAGHAR_Multiclass\n",
      "data shape is (2784, 6, 1, 30)\n",
      "label shape is (2784,)\n"
     ]
    },
    {
     "data": {
      "text/plain": [
       "(array([[-6.57954440e-02,  3.39156203e-03, -3.63780037e-02,\n",
       "          2.31150724e-03,  1.73688936e-03, -5.11790160e-04],\n",
       "        [-5.77215701e-02,  2.36059283e-03, -6.14853799e-02,\n",
       "         -1.77596102e-03,  9.05988214e-04, -4.93116095e-05]]),\n",
       " array([[-0.06579544, -0.05772157, -0.04075992, -0.05919655, -0.0334646 ,\n",
       "         -0.06759675, -0.08408509, -0.04984349, -0.05933582, -0.0588297 ,\n",
       "         -0.05476055, -0.05438235, -0.06727322, -0.05350637, -0.05125879,\n",
       "         -0.05126607, -0.05766883, -0.06653772, -0.05607793, -0.08187018,\n",
       "         -0.0348706 , -0.05205771, -0.05662755, -0.05324157, -0.05135826,\n",
       "         -0.06958009, -0.04932166, -0.05904635, -0.06455271, -0.04842236]]),\n",
       " tensor([-6.5795e-02,  3.3916e-03, -3.6378e-02,  2.3115e-03,  1.7369e-03,\n",
       "         -5.1179e-04, -5.7722e-02,  2.3606e-03, -6.1485e-02, -1.7760e-03,\n",
       "          9.0599e-04, -4.9312e-05, -4.0760e-02,  2.2939e-02, -5.7315e-02,\n",
       "          7.1599e-04,  1.0205e-03, -1.1394e-03, -5.9197e-02,  5.2787e-03,\n",
       "         -5.5751e-02, -3.7249e-03,  4.4545e-04,  2.6045e-03, -3.3465e-02,\n",
       "         -8.1489e-03, -3.6395e-02,  1.2649e-04, -2.2929e-03, -3.1005e-03],\n",
       "        dtype=torch.float64))"
      ]
     },
     "execution_count": 3,
     "metadata": {},
     "output_type": "execute_result"
    }
   ],
   "source": [
    "data_path = '../DAGHAR_split_25_10/train/data/'\n",
    "my_data = np.genfromtxt('../DAGHAR_split_25_10/train/data/KuHar_DAGHAR_Multiclass.csv', delimiter=',')\n",
    "\n",
    "new_shape = (my_data.shape[0] // 30, my_data.shape[1], 30)\n",
    "print(f'new shape: {new_shape}  |  old_shape {my_data.shape}')\n",
    "reshaped_data = my_data.reshape(new_shape)\n",
    "r = torch.from_numpy(reshaped_data).unsqueeze(dim=2)\n",
    "print(r.shape)\n",
    "\n",
    "dataset = daghar_load_dataset(class_name='KuHar_DAGHAR_Multiclass', path = data_path, seq_len=30)\n",
    "my_data[:2], dataset[0][0][0],r[0][0][0]"
   ]
  },
  {
   "cell_type": "code",
   "execution_count": 4,
   "metadata": {},
   "outputs": [
    {
     "name": "stdout",
     "output_type": "stream",
     "text": [
      "return single class data and labels, class is KuHar_Label_Multiclass\n",
      "data shape is (2784, 30, 1)\n",
      "label shape is (2784,)\n"
     ]
    }
   ],
   "source": [
    "data_path = '../DAGHAR_split_25_10/train/label/'\n",
    "dataset = daghar_load_dataset(class_name='KuHar_Label_Multiclass', path = data_path, seq_len=30)"
   ]
  },
  {
   "cell_type": "code",
   "execution_count": 5,
   "metadata": {},
   "outputs": [
    {
     "name": "stdout",
     "output_type": "stream",
     "text": [
      "(83520,)\n"
     ]
    },
    {
     "data": {
      "text/plain": [
       "1"
      ]
     },
     "execution_count": 5,
     "metadata": {},
     "output_type": "execute_result"
    }
   ],
   "source": [
    "my_data = np.genfromtxt('../DAGHAR_split_25_10/train/label/KuHar_Label_Multiclass.csv', delimiter=',',\n",
    "                       dtype=str)\n",
    "# Remover aspas de cada elemento e converter para inteiro\n",
    "my_data = np.char.strip(my_data, '\"').astype(int)\n",
    "print(my_data.shape)\n",
    "a = my_data.reshape(-1, 30)\n",
    "a = np.apply_along_axis(lambda x: np.bincount(x).argmax(), axis=1, arr=a)\n",
    "a[464]"
   ]
  },
  {
   "cell_type": "code",
   "execution_count": 6,
   "metadata": {},
   "outputs": [
    {
     "data": {
      "text/plain": [
       "(83520, 6)"
      ]
     },
     "execution_count": 6,
     "metadata": {},
     "output_type": "execute_result"
    }
   ],
   "source": [
    "my_data = np.genfromtxt('../DAGHAR_split_25_10/train/data/KuHar_DAGHAR_Multiclass.csv', delimiter=',')\n",
    "my_data.shape"
   ]
  },
  {
   "cell_type": "code",
   "execution_count": 7,
   "metadata": {},
   "outputs": [
    {
     "data": {
      "text/plain": [
       "((2784, 30, 1), (2784,))"
      ]
     },
     "execution_count": 7,
     "metadata": {},
     "output_type": "execute_result"
    }
   ],
   "source": [
    "a = np.array(dataset[:][0])\n",
    "b = np.array(dataset[:][1])\n",
    "a.shape, b.shape"
   ]
  },
  {
   "cell_type": "code",
   "execution_count": 8,
   "metadata": {},
   "outputs": [
    {
     "name": "stdout",
     "output_type": "stream",
     "text": [
      "return single class data and labels, class is KuHar_Label_Multiclass\n",
      "data shape is (2784, 6, 1, 30)\n",
      "label shape is (2784,)\n"
     ]
    }
   ],
   "source": [
    "cas = daghar_load_dataset_with_label(class_name = \"KuHar_Label_Multiclass\", seq_len = 30,\n",
    "                                     data_path = '../DAGHAR_split_25_10/train/data/KuHar_DAGHAR_Multiclass.csv',\n",
    "                                     label_path = '../DAGHAR_split_25_10/train/label/KuHar_Label_Multiclass.csv')\n"
   ]
  },
  {
   "cell_type": "code",
   "execution_count": 12,
   "metadata": {},
   "outputs": [
    {
     "data": {
      "text/plain": [
       "(array([[-6.57954440e-02,  3.39156203e-03, -3.63780037e-02,\n",
       "          2.31150724e-03,  1.73688936e-03, -5.11790160e-04],\n",
       "        [-5.77215701e-02,  2.36059283e-03, -6.14853799e-02,\n",
       "         -1.77596102e-03,  9.05988214e-04, -4.93116095e-05]]),\n",
       " array([[ 0.00339156,  0.00236059,  0.02293855,  0.00527874, -0.00814894,\n",
       "          0.01968824,  0.00260928, -0.02410107,  0.00333379, -0.0092587 ,\n",
       "         -0.02257819, -0.00631279, -0.01439436, -0.02569803,  0.0003228 ,\n",
       "          0.00849883,  0.00839682, -0.01399204, -0.00265503, -0.00908065,\n",
       "         -0.00316633,  0.01505292,  0.00537774,  0.02403486, -0.0080262 ,\n",
       "         -0.01052207,  0.00022064, -0.01116235,  0.02190525,  0.01343661]]))"
      ]
     },
     "execution_count": 12,
     "metadata": {},
     "output_type": "execute_result"
    }
   ],
   "source": [
    "my_data = np.genfromtxt('../DAGHAR_split_25_10/train/data/KuHar_DAGHAR_Multiclass.csv', delimiter=',')\n",
    "my_data[:2],cas[0][0][1]"
   ]
  },
  {
   "cell_type": "code",
   "execution_count": 10,
   "metadata": {},
   "outputs": [
    {
     "data": {
      "text/plain": [
       "((6, 1, 30),\n",
       " array([0, 0, 0, 0, 0, 0, 0, 0, 0, 0, 0, 0, 0, 0, 0, 0, 0, 0, 0, 0, 0, 0,\n",
       "        0, 0, 0, 0, 0, 0, 0, 0, 0, 0, 0, 0, 0, 0, 0, 0, 0, 0, 0, 0, 0, 0,\n",
       "        0, 0, 0, 0, 0, 0, 0, 0, 0, 0, 0, 0, 0, 0, 0, 0, 0, 0, 0, 0, 0, 0,\n",
       "        0, 0, 0, 0, 0, 0, 0, 0, 0, 0, 0, 0, 0, 0, 0, 0, 0, 0, 0, 0, 0, 0,\n",
       "        0, 0, 0, 0, 0, 0, 0, 0, 0, 0, 0, 0, 0, 0, 0, 0, 0, 0, 0, 0, 0, 0,\n",
       "        0, 0, 0, 0, 0, 0, 0, 0, 0, 0, 0, 0, 0, 0, 0, 0, 0, 0, 0, 0, 0, 0,\n",
       "        0, 0, 0, 0, 0, 0, 0, 0, 0, 0, 0, 0, 0, 0, 0, 0, 0, 0, 0, 0, 0, 0,\n",
       "        0, 0, 0, 0, 0, 0, 0, 0, 0, 0, 0, 0, 0, 0, 0, 0, 0, 0, 0, 0, 0, 0,\n",
       "        0, 0, 0, 0, 0, 0, 0, 0, 0, 0, 0, 0, 0, 0, 0, 0, 0, 0, 0, 0, 0, 0,\n",
       "        0, 0, 0, 0, 0, 0, 0, 0, 0, 0, 0, 0, 0, 0, 0, 0, 0, 0, 0, 0, 0, 0,\n",
       "        0, 0, 0, 0, 0, 0, 0, 0, 0, 0, 0, 0, 0, 0, 0, 0, 0, 0, 0, 0, 0, 0,\n",
       "        0, 0, 0, 0, 0, 0, 0, 0, 0, 0, 0, 0, 0, 0, 0, 0, 0, 0, 0, 0, 0, 0,\n",
       "        0, 0, 0, 0, 0, 0, 0, 0, 0, 0, 0, 0, 0, 0, 0, 0, 0, 0, 0, 0, 0, 0,\n",
       "        0, 0, 0, 0, 0, 0, 0, 0, 0, 0, 0, 0, 0, 0, 0, 0, 0, 0, 0, 0, 0, 0,\n",
       "        0, 0, 0, 0, 0, 0, 0, 0, 0, 0, 0, 0, 0, 0, 0, 0, 0, 0, 0, 0, 0, 0,\n",
       "        0, 0, 0, 0, 0, 0, 0, 0, 0, 0, 0, 0, 0, 0, 0, 0, 0, 0, 0, 0, 0, 0,\n",
       "        0, 0, 0, 0, 0, 0, 0, 0, 0, 0, 0, 0, 0, 0, 0, 0, 0, 0, 0, 0, 0, 0,\n",
       "        0, 0, 0, 0, 0, 0, 0, 0, 0, 0, 0, 0, 0, 0, 0, 0, 0, 0, 0, 0, 0, 0,\n",
       "        0, 0, 0, 0, 0, 0, 0, 0, 0, 0, 0, 0, 0, 0, 0, 0, 0, 0, 0, 0, 0, 0,\n",
       "        0, 0, 0, 0, 0, 0, 0, 0, 0, 0, 0, 0, 0, 0, 0, 0, 0, 0, 0, 0, 0, 0,\n",
       "        0, 0, 0, 0, 0, 0, 0, 0, 0, 0, 0, 0, 0, 0, 0, 0, 0, 0, 0, 0, 0, 0,\n",
       "        0, 0]))"
      ]
     },
     "execution_count": 10,
     "metadata": {},
     "output_type": "execute_result"
    }
   ],
   "source": [
    "cas[464][0].shape, cas[0:464][1]"
   ]
  }
 ],
 "metadata": {
  "kernelspec": {
   "display_name": "Python 3",
   "language": "python",
   "name": "python3"
  },
  "language_info": {
   "codemirror_mode": {
    "name": "ipython",
    "version": 3
   },
   "file_extension": ".py",
   "mimetype": "text/x-python",
   "name": "python",
   "nbconvert_exporter": "python",
   "pygments_lexer": "ipython3",
   "version": "3.10.6"
  }
 },
 "nbformat": 4,
 "nbformat_minor": 2
}
