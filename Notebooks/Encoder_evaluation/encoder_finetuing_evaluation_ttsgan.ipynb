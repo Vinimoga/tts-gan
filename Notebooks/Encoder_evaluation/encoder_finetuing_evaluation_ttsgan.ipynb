{
 "cells": [
  {
   "cell_type": "code",
   "execution_count": 1,
   "metadata": {},
   "outputs": [
    {
     "name": "stderr",
     "output_type": "stream",
     "text": [
      "/usr/local/lib/python3.10/dist-packages/_distutils_hack/__init__.py:55: UserWarning: Reliance on distutils from stdlib is deprecated. Users must rely on setuptools to provide the distutils module. Avoid importing distutils or import setuptools first, and avoid setting SETUPTOOLS_USE_DISTUTILS=stdlib. Register concerns at https://github.com/pypa/setuptools/issues/new?template=distutils-deprecation.yml\n",
      "  warnings.warn(\n",
      "/usr/local/lib/python3.10/dist-packages/tqdm/auto.py:21: TqdmWarning: IProgress not found. Please update jupyter and ipywidgets. See https://ipywidgets.readthedocs.io/en/stable/user_install.html\n",
      "  from .autonotebook import tqdm as notebook_tqdm\n"
     ]
    }
   ],
   "source": [
    "from datetime import datetime\n",
    "\n",
    "import lightning as L\n",
    "import torch\n",
    "from lightning.pytorch.callbacks import ModelCheckpoint\n",
    "from lightning.pytorch.loggers import CSVLogger\n",
    "\n",
    "from minerva.models.ssl.cpc import CPC\n",
    "from minerva.models.nets.cpc_networks import HARCPCAutoregressive\n",
    "from minerva.data.data_modules.har_rodrigues_24 import HARDataModuleCPC\n",
    "from minerva.pipelines.lightning_pipeline import SimpleLightningPipeline\n",
    "from minerva.models.nets.base import SimpleSupervisedModel\n",
    "\n",
    "from minerva.models.nets.tnc import TSEncoder\n",
    "import torchmetrics\n",
    "\n",
    "from minerva.data.data_modules.har import MultiModalHARSeriesDataModule\n",
    "from minerva.models.loaders import FromPretrained\n",
    "from minerva.models.nets.base import SimpleSupervisedModel\n",
    "from minerva.models.nets.mlp import MLP\n",
    "from minerva.analysis.metrics.balanced_accuracy import BalancedAccuracy\n",
    "from minerva.analysis.model_analysis import TSNEAnalysis\n",
    "\n",
    "from minerva.models.nets.time_series.gans import TTSGAN_Encoder, GAN, TTSGAN_Generator, TTSGAN_Discriminator\n",
    "import os\n",
    "\n",
    "from encoder_finetuning import complete_TTSGAN_training"
   ]
  },
  {
   "cell_type": "code",
   "execution_count": null,
   "metadata": {},
   "outputs": [
    {
     "name": "stdout",
     "output_type": "stream",
     "text": [
      "\n",
      "\n",
      "checkpoint number: 0 | repeat 1 | data name: UCI | checkpoint name: UCI_DAGHAR_Multiclass_50000_D_60_6axis_2024_12_16_15_30_53/Model/checkpoint\n",
      "\n",
      "\n",
      "Model loaded from gan_dict.pth\n",
      "When loading model, the following keys are unexpected: ['2.clshead.1.weight', '2.clshead.1.bias', '2.clshead.2.weight', '2.clshead.2.bias']. Ignoring unexpected keys.\n"
     ]
    },
    {
     "name": "stderr",
     "output_type": "stream",
     "text": [
      "/workspaces/container-workspace/tts-gan/Notebooks/Encoder_evaluation/encoder_finetuning.py:48: FutureWarning: You are using `torch.load` with `weights_only=False` (the current default value), which uses the default pickle module implicitly. It is possible to construct malicious pickle data which will execute arbitrary code during unpickling (See https://github.com/pytorch/pytorch/blob/main/SECURITY.md#untrusted-models for more details). In a future release, the default value for `weights_only` will be flipped to `True`. This limits the functions that could be executed during unpickling. Arbitrary objects will no longer be allowed to be loaded via this mode unless they are explicitly allowlisted by the user via `torch.serialization.add_safe_globals`. We recommend you start setting `weights_only=True` for any use case where you don't have full control of the loaded file. Please open an issue on GitHub for any issues related to this experimental feature.\n",
      "  ckpt = torch.load(f=checkpoint_path)\n"
     ]
    },
    {
     "name": "stdout",
     "output_type": "stream",
     "text": [
      "Using DataLoader with shuffle=True\n"
     ]
    },
    {
     "name": "stderr",
     "output_type": "stream",
     "text": [
      "GPU available: True (cuda), used: True\n",
      "TPU available: False, using: 0 TPU cores\n",
      "HPU available: False, using: 0 HPUs\n",
      "Seed set to 42\n"
     ]
    },
    {
     "name": "stdout",
     "output_type": "stream",
     "text": [
      "Log directory set to: /workspaces/container-workspace/tts-gan/Notebooks/Encoder_evaluation/logs/teste/0/UCI/run_20241216-172555\n",
      "Pipeline info saved at: /workspaces/container-workspace/tts-gan/Notebooks/Encoder_evaluation/logs/teste/0/UCI/run_20241216-172555/run_2024-12-16-17-25-56c2cb04bd2dc140408a4f1f06843c85e5.yaml\n"
     ]
    },
    {
     "name": "stderr",
     "output_type": "stream",
     "text": [
      "/usr/local/lib/python3.10/dist-packages/lightning/pytorch/callbacks/model_checkpoint.py:654: Checkpoint directory /workspaces/container-workspace/tts-gan/Notebooks/Encoder_evaluation/checkpoints exists and is not empty.\n",
      "LOCAL_RANK: 0 - CUDA_VISIBLE_DEVICES: [0]\n",
      "\n",
      "  | Name     | Type             | Params | Mode \n",
      "------------------------------------------------------\n",
      "0 | backbone | TTSGAN_Encoder   | 96.8 K | train\n",
      "1 | fc       | MLP              | 32.9 K | train\n",
      "2 | loss_fn  | CrossEntropyLoss | 0      | train\n",
      "------------------------------------------------------\n",
      "129 K     Trainable params\n",
      "0         Non-trainable params\n",
      "129 K     Total params\n",
      "0.519     Total estimated model params size (MB)\n",
      "71        Modules in train mode\n",
      "0         Modules in eval mode\n"
     ]
    },
    {
     "name": "stdout",
     "output_type": "stream",
     "text": [
      "Sanity Checking: |          | 0/? [00:00<?, ?it/s]Using DataLoader with shuffle=False\n"
     ]
    },
    {
     "name": "stderr",
     "output_type": "stream",
     "text": [
      "/usr/local/lib/python3.10/dist-packages/lightning/pytorch/trainer/connectors/data_connector.py:424: The 'val_dataloader' does not have many workers which may be a bottleneck. Consider increasing the value of the `num_workers` argument` to `num_workers=5` in the `DataLoader` to improve performance.\n"
     ]
    },
    {
     "name": "stdout",
     "output_type": "stream",
     "text": [
      "Using DataLoader with shuffle=True                                         \n"
     ]
    },
    {
     "name": "stderr",
     "output_type": "stream",
     "text": [
      "/usr/local/lib/python3.10/dist-packages/lightning/pytorch/trainer/connectors/data_connector.py:424: The 'train_dataloader' does not have many workers which may be a bottleneck. Consider increasing the value of the `num_workers` argument` to `num_workers=5` in the `DataLoader` to improve performance.\n",
      "/usr/local/lib/python3.10/dist-packages/lightning/pytorch/loops/fit_loop.py:298: The number of training batches (37) is smaller than the logging interval Trainer(log_every_n_steps=50). Set a lower value for log_every_n_steps if you want to see logs for the training epoch.\n"
     ]
    },
    {
     "name": "stdout",
     "output_type": "stream",
     "text": [
      "Epoch 0: 100%|██████████| 37/37 [00:00<00:00, 39.99it/s, v_num=2555, val_loss=1.230, val_acc=0.363, train_loss=2.060, train_acc=0.372]"
     ]
    },
    {
     "name": "stderr",
     "output_type": "stream",
     "text": [
      "`Trainer.fit` stopped: `max_epochs=1` reached.\n"
     ]
    },
    {
     "name": "stdout",
     "output_type": "stream",
     "text": [
      "Epoch 0: 100%|██████████| 37/37 [00:01<00:00, 35.69it/s, v_num=2555, val_loss=1.230, val_acc=0.363, train_loss=2.060, train_acc=0.372]\n",
      "Pipeline info saved at: /workspaces/container-workspace/tts-gan/Notebooks/Encoder_evaluation/logs/teste/0/UCI/run_20241216-172555/run_2024-12-16-17-25-56c2cb04bd2dc140408a4f1f06843c85e5.yaml\n"
     ]
    },
    {
     "name": "stderr",
     "output_type": "stream",
     "text": [
      "Seed set to 42\n"
     ]
    },
    {
     "name": "stdout",
     "output_type": "stream",
     "text": [
      "Log directory set to: /workspaces/container-workspace/tts-gan/Notebooks/Encoder_evaluation/logs/teste/0/UCI/run_20241216-172555\n",
      "Pipeline info saved at: /workspaces/container-workspace/tts-gan/Notebooks/Encoder_evaluation/logs/teste/0/UCI/run_20241216-172555/run_2024-12-16-17-25-5704a201191443404685d16e59ba516bcf.yaml\n",
      "Using DataLoader with shuffle=False\n"
     ]
    },
    {
     "name": "stderr",
     "output_type": "stream",
     "text": [
      "Restoring states from the checkpoint path at /workspaces/container-workspace/tts-gan/Notebooks/Encoder_evaluation/checkpoints/epoch=0-step=37-v20.ckpt\n",
      "LOCAL_RANK: 0 - CUDA_VISIBLE_DEVICES: [0]\n",
      "Loaded model weights from the checkpoint at /workspaces/container-workspace/tts-gan/Notebooks/Encoder_evaluation/checkpoints/epoch=0-step=37-v20.ckpt\n"
     ]
    },
    {
     "name": "stdout",
     "output_type": "stream",
     "text": [
      "Using DataLoader with shuffle=False\n"
     ]
    },
    {
     "name": "stderr",
     "output_type": "stream",
     "text": [
      "/usr/local/lib/python3.10/dist-packages/lightning/pytorch/trainer/connectors/data_connector.py:424: The 'predict_dataloader' does not have many workers which may be a bottleneck. Consider increasing the value of the `num_workers` argument` to `num_workers=5` in the `DataLoader` to improve performance.\n"
     ]
    },
    {
     "name": "stdout",
     "output_type": "stream",
     "text": [
      "Predicting DataLoader 0: 100%|██████████| 11/11 [00:00<00:00, 204.63it/s]"
     ]
    },
    {
     "name": "stderr",
     "output_type": "stream",
     "text": [
      "/workspaces/container-workspace/Minerva-Dev/minerva/analysis/metrics/balanced_accuracy.py:59: UserWarning: y_pred contains nan values and not all classes passed\n",
      "  warnings.warn(f\"y_pred contains nan values and not all classes passed\")\n"
     ]
    },
    {
     "name": "stdout",
     "output_type": "stream",
     "text": [
      "\n",
      "Running classification metrics...\n",
      "Running model analysis...\n",
      "Using DataLoader with shuffle=False\n"
     ]
    },
    {
     "name": "stderr",
     "output_type": "stream",
     "text": [
      "/workspaces/container-workspace/Minerva-Dev/minerva/analysis/model_analysis.py:118: UserWarning: Creating a tensor from a list of numpy.ndarrays is extremely slow. Please consider converting the list to a single numpy.ndarray with numpy.array() before converting to a tensor. (Triggered internally at ../torch/csrc/utils/tensor_new.cpp:278.)\n",
      "  X = torch.tensor(X, device=\"cpu\")\n"
     ]
    },
    {
     "name": "stdout",
     "output_type": "stream",
     "text": [
      "t-SNE plot saved to /workspaces/container-workspace/tts-gan/Notebooks/Encoder_evaluation/logs/teste/0/UCI/run_20241216-172555/tsne_cpc_finetuned_kuhar.pdf\n",
      "Metrics saved to /workspaces/container-workspace/tts-gan/Notebooks/Encoder_evaluation/logs/teste/0/UCI/run_20241216-172555/metrics_2024-12-16-17-25-5704a201191443404685d16e59ba516bcf.yaml\n",
      "Pipeline info saved at: /workspaces/container-workspace/tts-gan/Notebooks/Encoder_evaluation/logs/teste/0/UCI/run_20241216-172555/run_2024-12-16-17-25-5704a201191443404685d16e59ba516bcf.yaml\n",
      "\n",
      "\n",
      "checkpoint number: 0 | repeat 2 | data name: UCI | checkpoint name: UCI_DAGHAR_Multiclass_50000_D_60_6axis_2024_12_16_15_30_53/Model/checkpoint\n",
      "\n",
      "\n",
      "Model loaded from gan_dict.pth\n",
      "When loading model, the following keys are unexpected: ['2.clshead.1.weight', '2.clshead.1.bias', '2.clshead.2.weight', '2.clshead.2.bias']. Ignoring unexpected keys.\n"
     ]
    },
    {
     "name": "stderr",
     "output_type": "stream",
     "text": [
      "/workspaces/container-workspace/tts-gan/Notebooks/Encoder_evaluation/encoder_finetuning.py:48: FutureWarning:\n",
      "\n",
      "You are using `torch.load` with `weights_only=False` (the current default value), which uses the default pickle module implicitly. It is possible to construct malicious pickle data which will execute arbitrary code during unpickling (See https://github.com/pytorch/pytorch/blob/main/SECURITY.md#untrusted-models for more details). In a future release, the default value for `weights_only` will be flipped to `True`. This limits the functions that could be executed during unpickling. Arbitrary objects will no longer be allowed to be loaded via this mode unless they are explicitly allowlisted by the user via `torch.serialization.add_safe_globals`. We recommend you start setting `weights_only=True` for any use case where you don't have full control of the loaded file. Please open an issue on GitHub for any issues related to this experimental feature.\n",
      "\n"
     ]
    },
    {
     "name": "stdout",
     "output_type": "stream",
     "text": [
      "Using DataLoader with shuffle=True\n"
     ]
    },
    {
     "name": "stderr",
     "output_type": "stream",
     "text": [
      "GPU available: True (cuda), used: True\n",
      "TPU available: False, using: 0 TPU cores\n",
      "HPU available: False, using: 0 HPUs\n",
      "Seed set to 42\n"
     ]
    },
    {
     "name": "stdout",
     "output_type": "stream",
     "text": [
      "Log directory set to: /workspaces/container-workspace/tts-gan/Notebooks/Encoder_evaluation/logs/teste/0/UCI/run_20241216-172603\n",
      "Pipeline info saved at: /workspaces/container-workspace/tts-gan/Notebooks/Encoder_evaluation/logs/teste/0/UCI/run_20241216-172603/run_2024-12-16-17-26-03160de3d86db94d77af43df721b0a88ba.yaml\n"
     ]
    },
    {
     "name": "stderr",
     "output_type": "stream",
     "text": [
      "/usr/local/lib/python3.10/dist-packages/lightning/pytorch/callbacks/model_checkpoint.py:654: UserWarning:\n",
      "\n",
      "Checkpoint directory /workspaces/container-workspace/tts-gan/Notebooks/Encoder_evaluation/checkpoints exists and is not empty.\n",
      "\n",
      "LOCAL_RANK: 0 - CUDA_VISIBLE_DEVICES: [0]\n",
      "\n",
      "  | Name     | Type             | Params | Mode \n",
      "------------------------------------------------------\n",
      "0 | backbone | TTSGAN_Encoder   | 96.8 K | train\n",
      "1 | fc       | MLP              | 32.9 K | train\n",
      "2 | loss_fn  | CrossEntropyLoss | 0      | train\n",
      "------------------------------------------------------\n",
      "129 K     Trainable params\n",
      "0         Non-trainable params\n",
      "129 K     Total params\n",
      "0.519     Total estimated model params size (MB)\n",
      "71        Modules in train mode\n",
      "0         Modules in eval mode\n"
     ]
    },
    {
     "name": "stdout",
     "output_type": "stream",
     "text": [
      "Sanity Checking: |          | 0/? [00:00<?, ?it/s]Using DataLoader with shuffle=False\n"
     ]
    },
    {
     "name": "stderr",
     "output_type": "stream",
     "text": [
      "/usr/local/lib/python3.10/dist-packages/lightning/pytorch/trainer/connectors/data_connector.py:424: PossibleUserWarning:\n",
      "\n",
      "The 'val_dataloader' does not have many workers which may be a bottleneck. Consider increasing the value of the `num_workers` argument` to `num_workers=5` in the `DataLoader` to improve performance.\n",
      "\n"
     ]
    },
    {
     "name": "stdout",
     "output_type": "stream",
     "text": [
      "Using DataLoader with shuffle=True                                          \n"
     ]
    },
    {
     "name": "stderr",
     "output_type": "stream",
     "text": [
      "/usr/local/lib/python3.10/dist-packages/lightning/pytorch/trainer/connectors/data_connector.py:424: PossibleUserWarning:\n",
      "\n",
      "The 'train_dataloader' does not have many workers which may be a bottleneck. Consider increasing the value of the `num_workers` argument` to `num_workers=5` in the `DataLoader` to improve performance.\n",
      "\n",
      "/usr/local/lib/python3.10/dist-packages/lightning/pytorch/loops/fit_loop.py:298: PossibleUserWarning:\n",
      "\n",
      "The number of training batches (37) is smaller than the logging interval Trainer(log_every_n_steps=50). Set a lower value for log_every_n_steps if you want to see logs for the training epoch.\n",
      "\n"
     ]
    },
    {
     "name": "stdout",
     "output_type": "stream",
     "text": [
      "Epoch 0: 100%|██████████| 37/37 [00:00<00:00, 54.78it/s, v_num=2603, val_loss=1.230, val_acc=0.363, train_loss=2.060, train_acc=0.372]"
     ]
    },
    {
     "name": "stderr",
     "output_type": "stream",
     "text": [
      "`Trainer.fit` stopped: `max_epochs=1` reached.\n"
     ]
    },
    {
     "name": "stdout",
     "output_type": "stream",
     "text": [
      "Epoch 0: 100%|██████████| 37/37 [00:01<00:00, 23.11it/s, v_num=2603, val_loss=1.230, val_acc=0.363, train_loss=2.060, train_acc=0.372]"
     ]
    },
    {
     "name": "stderr",
     "output_type": "stream",
     "text": [
      "Seed set to 42\n"
     ]
    },
    {
     "name": "stdout",
     "output_type": "stream",
     "text": [
      "\n",
      "Pipeline info saved at: /workspaces/container-workspace/tts-gan/Notebooks/Encoder_evaluation/logs/teste/0/UCI/run_20241216-172603/run_2024-12-16-17-26-03160de3d86db94d77af43df721b0a88ba.yaml\n",
      "Log directory set to: /workspaces/container-workspace/tts-gan/Notebooks/Encoder_evaluation/logs/teste/0/UCI/run_20241216-172603\n",
      "Pipeline info saved at: /workspaces/container-workspace/tts-gan/Notebooks/Encoder_evaluation/logs/teste/0/UCI/run_20241216-172603/run_2024-12-16-17-26-068fb113123be34f35935ad3c764eb4fd9.yaml\n",
      "Using DataLoader with shuffle=False\n"
     ]
    },
    {
     "name": "stderr",
     "output_type": "stream",
     "text": [
      "Restoring states from the checkpoint path at /workspaces/container-workspace/tts-gan/Notebooks/Encoder_evaluation/checkpoints/epoch=0-step=37-v21.ckpt\n",
      "LOCAL_RANK: 0 - CUDA_VISIBLE_DEVICES: [0]\n",
      "Loaded model weights from the checkpoint at /workspaces/container-workspace/tts-gan/Notebooks/Encoder_evaluation/checkpoints/epoch=0-step=37-v21.ckpt\n"
     ]
    },
    {
     "name": "stdout",
     "output_type": "stream",
     "text": [
      "Using DataLoader with shuffle=False\n"
     ]
    },
    {
     "name": "stderr",
     "output_type": "stream",
     "text": [
      "/usr/local/lib/python3.10/dist-packages/lightning/pytorch/trainer/connectors/data_connector.py:424: PossibleUserWarning:\n",
      "\n",
      "The 'predict_dataloader' does not have many workers which may be a bottleneck. Consider increasing the value of the `num_workers` argument` to `num_workers=5` in the `DataLoader` to improve performance.\n",
      "\n"
     ]
    },
    {
     "name": "stdout",
     "output_type": "stream",
     "text": [
      "Predicting DataLoader 0: 100%|██████████| 11/11 [00:00<00:00, 180.66it/s]"
     ]
    },
    {
     "name": "stderr",
     "output_type": "stream",
     "text": [
      "/workspaces/container-workspace/Minerva-Dev/minerva/analysis/metrics/balanced_accuracy.py:59: UserWarning:\n",
      "\n",
      "y_pred contains nan values and not all classes passed\n",
      "\n"
     ]
    },
    {
     "name": "stdout",
     "output_type": "stream",
     "text": [
      "\n",
      "Running classification metrics...\n",
      "Running model analysis...\n",
      "Using DataLoader with shuffle=False\n",
      "t-SNE plot saved to /workspaces/container-workspace/tts-gan/Notebooks/Encoder_evaluation/logs/teste/0/UCI/run_20241216-172603/tsne_cpc_finetuned_kuhar.pdf\n",
      "Metrics saved to /workspaces/container-workspace/tts-gan/Notebooks/Encoder_evaluation/logs/teste/0/UCI/run_20241216-172603/metrics_2024-12-16-17-26-068fb113123be34f35935ad3c764eb4fd9.yaml\n",
      "Pipeline info saved at: /workspaces/container-workspace/tts-gan/Notebooks/Encoder_evaluation/logs/teste/0/UCI/run_20241216-172603/run_2024-12-16-17-26-068fb113123be34f35935ad3c764eb4fd9.yaml\n",
      "\n",
      "\n",
      "checkpoint number: 0 | repeat 3 | data name: UCI | checkpoint name: UCI_DAGHAR_Multiclass_50000_D_60_6axis_2024_12_16_15_30_53/Model/checkpoint\n",
      "\n",
      "\n",
      "Model loaded from gan_dict.pth\n",
      "When loading model, the following keys are unexpected: ['2.clshead.1.weight', '2.clshead.1.bias', '2.clshead.2.weight', '2.clshead.2.bias']. Ignoring unexpected keys.\n"
     ]
    },
    {
     "name": "stderr",
     "output_type": "stream",
     "text": [
      "/workspaces/container-workspace/tts-gan/Notebooks/Encoder_evaluation/encoder_finetuning.py:48: FutureWarning:\n",
      "\n",
      "You are using `torch.load` with `weights_only=False` (the current default value), which uses the default pickle module implicitly. It is possible to construct malicious pickle data which will execute arbitrary code during unpickling (See https://github.com/pytorch/pytorch/blob/main/SECURITY.md#untrusted-models for more details). In a future release, the default value for `weights_only` will be flipped to `True`. This limits the functions that could be executed during unpickling. Arbitrary objects will no longer be allowed to be loaded via this mode unless they are explicitly allowlisted by the user via `torch.serialization.add_safe_globals`. We recommend you start setting `weights_only=True` for any use case where you don't have full control of the loaded file. Please open an issue on GitHub for any issues related to this experimental feature.\n",
      "\n"
     ]
    },
    {
     "name": "stdout",
     "output_type": "stream",
     "text": [
      "Using DataLoader with shuffle=True\n"
     ]
    },
    {
     "name": "stderr",
     "output_type": "stream",
     "text": [
      "GPU available: True (cuda), used: True\n",
      "TPU available: False, using: 0 TPU cores\n",
      "HPU available: False, using: 0 HPUs\n",
      "Seed set to 42\n"
     ]
    },
    {
     "name": "stdout",
     "output_type": "stream",
     "text": [
      "Log directory set to: /workspaces/container-workspace/tts-gan/Notebooks/Encoder_evaluation/logs/teste/0/UCI/run_20241216-172609\n",
      "Pipeline info saved at: /workspaces/container-workspace/tts-gan/Notebooks/Encoder_evaluation/logs/teste/0/UCI/run_20241216-172609/run_2024-12-16-17-26-10bd22ee396ee848c9ad10f1dae118dd6e.yaml\n"
     ]
    },
    {
     "name": "stderr",
     "output_type": "stream",
     "text": [
      "/usr/local/lib/python3.10/dist-packages/lightning/pytorch/callbacks/model_checkpoint.py:654: UserWarning:\n",
      "\n",
      "Checkpoint directory /workspaces/container-workspace/tts-gan/Notebooks/Encoder_evaluation/checkpoints exists and is not empty.\n",
      "\n",
      "LOCAL_RANK: 0 - CUDA_VISIBLE_DEVICES: [0]\n",
      "\n",
      "  | Name     | Type             | Params | Mode \n",
      "------------------------------------------------------\n",
      "0 | backbone | TTSGAN_Encoder   | 96.8 K | train\n",
      "1 | fc       | MLP              | 32.9 K | train\n",
      "2 | loss_fn  | CrossEntropyLoss | 0      | train\n",
      "------------------------------------------------------\n",
      "129 K     Trainable params\n",
      "0         Non-trainable params\n",
      "129 K     Total params\n",
      "0.519     Total estimated model params size (MB)\n",
      "71        Modules in train mode\n",
      "0         Modules in eval mode\n"
     ]
    },
    {
     "name": "stdout",
     "output_type": "stream",
     "text": [
      "Sanity Checking: |          | 0/? [00:00<?, ?it/s]Using DataLoader with shuffle=False\n"
     ]
    },
    {
     "name": "stderr",
     "output_type": "stream",
     "text": [
      "/usr/local/lib/python3.10/dist-packages/lightning/pytorch/trainer/connectors/data_connector.py:424: PossibleUserWarning:\n",
      "\n",
      "The 'val_dataloader' does not have many workers which may be a bottleneck. Consider increasing the value of the `num_workers` argument` to `num_workers=5` in the `DataLoader` to improve performance.\n",
      "\n"
     ]
    },
    {
     "name": "stdout",
     "output_type": "stream",
     "text": [
      "Using DataLoader with shuffle=True                                         \n"
     ]
    },
    {
     "name": "stderr",
     "output_type": "stream",
     "text": [
      "/usr/local/lib/python3.10/dist-packages/lightning/pytorch/trainer/connectors/data_connector.py:424: PossibleUserWarning:\n",
      "\n",
      "The 'train_dataloader' does not have many workers which may be a bottleneck. Consider increasing the value of the `num_workers` argument` to `num_workers=5` in the `DataLoader` to improve performance.\n",
      "\n",
      "/usr/local/lib/python3.10/dist-packages/lightning/pytorch/loops/fit_loop.py:298: PossibleUserWarning:\n",
      "\n",
      "The number of training batches (37) is smaller than the logging interval Trainer(log_every_n_steps=50). Set a lower value for log_every_n_steps if you want to see logs for the training epoch.\n",
      "\n"
     ]
    },
    {
     "name": "stdout",
     "output_type": "stream",
     "text": [
      "Epoch 0: 100%|██████████| 37/37 [00:00<00:00, 52.72it/s, v_num=2609, val_loss=1.230, val_acc=0.363, train_loss=2.060, train_acc=0.372]"
     ]
    },
    {
     "name": "stderr",
     "output_type": "stream",
     "text": [
      "`Trainer.fit` stopped: `max_epochs=1` reached.\n"
     ]
    },
    {
     "name": "stdout",
     "output_type": "stream",
     "text": [
      "Epoch 0: 100%|██████████| 37/37 [00:00<00:00, 45.08it/s, v_num=2609, val_loss=1.230, val_acc=0.363, train_loss=2.060, train_acc=0.372]\n"
     ]
    },
    {
     "name": "stderr",
     "output_type": "stream",
     "text": [
      "Seed set to 42\n"
     ]
    },
    {
     "name": "stdout",
     "output_type": "stream",
     "text": [
      "Pipeline info saved at: /workspaces/container-workspace/tts-gan/Notebooks/Encoder_evaluation/logs/teste/0/UCI/run_20241216-172609/run_2024-12-16-17-26-10bd22ee396ee848c9ad10f1dae118dd6e.yaml\n",
      "Log directory set to: /workspaces/container-workspace/tts-gan/Notebooks/Encoder_evaluation/logs/teste/0/UCI/run_20241216-172609\n",
      "Pipeline info saved at: /workspaces/container-workspace/tts-gan/Notebooks/Encoder_evaluation/logs/teste/0/UCI/run_20241216-172609/run_2024-12-16-17-26-112ba1cf10183944cb90b8512c52925db0.yaml\n",
      "Using DataLoader with shuffle=False\n"
     ]
    },
    {
     "name": "stderr",
     "output_type": "stream",
     "text": [
      "Restoring states from the checkpoint path at /workspaces/container-workspace/tts-gan/Notebooks/Encoder_evaluation/checkpoints/epoch=0-step=37-v22.ckpt\n",
      "LOCAL_RANK: 0 - CUDA_VISIBLE_DEVICES: [0]\n",
      "Loaded model weights from the checkpoint at /workspaces/container-workspace/tts-gan/Notebooks/Encoder_evaluation/checkpoints/epoch=0-step=37-v22.ckpt\n"
     ]
    },
    {
     "name": "stdout",
     "output_type": "stream",
     "text": [
      "Using DataLoader with shuffle=False\n"
     ]
    },
    {
     "name": "stderr",
     "output_type": "stream",
     "text": [
      "/usr/local/lib/python3.10/dist-packages/lightning/pytorch/trainer/connectors/data_connector.py:424: PossibleUserWarning:\n",
      "\n",
      "The 'predict_dataloader' does not have many workers which may be a bottleneck. Consider increasing the value of the `num_workers` argument` to `num_workers=5` in the `DataLoader` to improve performance.\n",
      "\n"
     ]
    },
    {
     "name": "stdout",
     "output_type": "stream",
     "text": [
      "Predicting DataLoader 0: 100%|██████████| 11/11 [00:00<00:00, 196.80it/s]"
     ]
    },
    {
     "name": "stderr",
     "output_type": "stream",
     "text": [
      "/workspaces/container-workspace/Minerva-Dev/minerva/analysis/metrics/balanced_accuracy.py:59: UserWarning:\n",
      "\n",
      "y_pred contains nan values and not all classes passed\n",
      "\n"
     ]
    },
    {
     "name": "stdout",
     "output_type": "stream",
     "text": [
      "\n",
      "Running classification metrics...\n",
      "Running model analysis...\n",
      "Using DataLoader with shuffle=False\n",
      "t-SNE plot saved to /workspaces/container-workspace/tts-gan/Notebooks/Encoder_evaluation/logs/teste/0/UCI/run_20241216-172609/tsne_cpc_finetuned_kuhar.pdf\n",
      "Metrics saved to /workspaces/container-workspace/tts-gan/Notebooks/Encoder_evaluation/logs/teste/0/UCI/run_20241216-172609/metrics_2024-12-16-17-26-112ba1cf10183944cb90b8512c52925db0.yaml\n",
      "Pipeline info saved at: /workspaces/container-workspace/tts-gan/Notebooks/Encoder_evaluation/logs/teste/0/UCI/run_20241216-172609/run_2024-12-16-17-26-112ba1cf10183944cb90b8512c52925db0.yaml\n",
      "\n",
      "\n",
      "checkpoint number: 0 | repeat 1 | data name: WISDM | checkpoint name: UCI_DAGHAR_Multiclass_50000_D_60_6axis_2024_12_16_15_30_53/Model/checkpoint\n",
      "\n",
      "\n",
      "Model loaded from gan_dict.pth\n",
      "When loading model, the following keys are unexpected: ['2.clshead.1.weight', '2.clshead.1.bias', '2.clshead.2.weight', '2.clshead.2.bias']. Ignoring unexpected keys.\n"
     ]
    },
    {
     "name": "stderr",
     "output_type": "stream",
     "text": [
      "/workspaces/container-workspace/tts-gan/Notebooks/Encoder_evaluation/encoder_finetuning.py:48: FutureWarning:\n",
      "\n",
      "You are using `torch.load` with `weights_only=False` (the current default value), which uses the default pickle module implicitly. It is possible to construct malicious pickle data which will execute arbitrary code during unpickling (See https://github.com/pytorch/pytorch/blob/main/SECURITY.md#untrusted-models for more details). In a future release, the default value for `weights_only` will be flipped to `True`. This limits the functions that could be executed during unpickling. Arbitrary objects will no longer be allowed to be loaded via this mode unless they are explicitly allowlisted by the user via `torch.serialization.add_safe_globals`. We recommend you start setting `weights_only=True` for any use case where you don't have full control of the loaded file. Please open an issue on GitHub for any issues related to this experimental feature.\n",
      "\n"
     ]
    },
    {
     "name": "stdout",
     "output_type": "stream",
     "text": [
      "Using DataLoader with shuffle=True\n"
     ]
    },
    {
     "name": "stderr",
     "output_type": "stream",
     "text": [
      "GPU available: True (cuda), used: True\n",
      "TPU available: False, using: 0 TPU cores\n",
      "HPU available: False, using: 0 HPUs\n",
      "Seed set to 42\n"
     ]
    },
    {
     "name": "stdout",
     "output_type": "stream",
     "text": [
      "Log directory set to: /workspaces/container-workspace/tts-gan/Notebooks/Encoder_evaluation/logs/teste/0/WISDM/run_20241216-172615\n",
      "Pipeline info saved at: /workspaces/container-workspace/tts-gan/Notebooks/Encoder_evaluation/logs/teste/0/WISDM/run_20241216-172615/run_2024-12-16-17-26-16810b14ee52db4333bf60996a6f2914a0.yaml\n"
     ]
    },
    {
     "name": "stderr",
     "output_type": "stream",
     "text": [
      "/usr/local/lib/python3.10/dist-packages/lightning/pytorch/callbacks/model_checkpoint.py:654: UserWarning:\n",
      "\n",
      "Checkpoint directory /workspaces/container-workspace/tts-gan/Notebooks/Encoder_evaluation/checkpoints exists and is not empty.\n",
      "\n",
      "LOCAL_RANK: 0 - CUDA_VISIBLE_DEVICES: [0]\n",
      "\n",
      "  | Name     | Type             | Params | Mode \n",
      "------------------------------------------------------\n",
      "0 | backbone | TTSGAN_Encoder   | 96.8 K | train\n",
      "1 | fc       | MLP              | 32.9 K | train\n",
      "2 | loss_fn  | CrossEntropyLoss | 0      | train\n",
      "------------------------------------------------------\n",
      "129 K     Trainable params\n",
      "0         Non-trainable params\n",
      "129 K     Total params\n",
      "0.519     Total estimated model params size (MB)\n",
      "71        Modules in train mode\n",
      "0         Modules in eval mode\n"
     ]
    },
    {
     "name": "stdout",
     "output_type": "stream",
     "text": [
      "Sanity Checking: |          | 0/? [00:00<?, ?it/s]Using DataLoader with shuffle=False\n"
     ]
    },
    {
     "name": "stderr",
     "output_type": "stream",
     "text": [
      "/usr/local/lib/python3.10/dist-packages/lightning/pytorch/trainer/connectors/data_connector.py:424: PossibleUserWarning:\n",
      "\n",
      "The 'val_dataloader' does not have many workers which may be a bottleneck. Consider increasing the value of the `num_workers` argument` to `num_workers=5` in the `DataLoader` to improve performance.\n",
      "\n"
     ]
    },
    {
     "name": "stdout",
     "output_type": "stream",
     "text": [
      "Using DataLoader with shuffle=True                                          \n"
     ]
    },
    {
     "name": "stderr",
     "output_type": "stream",
     "text": [
      "/usr/local/lib/python3.10/dist-packages/lightning/pytorch/trainer/connectors/data_connector.py:424: PossibleUserWarning:\n",
      "\n",
      "The 'train_dataloader' does not have many workers which may be a bottleneck. Consider increasing the value of the `num_workers` argument` to `num_workers=5` in the `DataLoader` to improve performance.\n",
      "\n"
     ]
    },
    {
     "name": "stdout",
     "output_type": "stream",
     "text": [
      "Epoch 0: 100%|██████████| 136/136 [00:02<00:00, 62.46it/s, v_num=2615, val_loss=0.467, val_acc=0.754, train_loss=0.821, train_acc=0.647]"
     ]
    },
    {
     "name": "stderr",
     "output_type": "stream",
     "text": [
      "`Trainer.fit` stopped: `max_epochs=1` reached.\n"
     ]
    },
    {
     "name": "stdout",
     "output_type": "stream",
     "text": [
      "Epoch 0: 100%|██████████| 136/136 [00:02<00:00, 55.54it/s, v_num=2615, val_loss=0.467, val_acc=0.754, train_loss=0.821, train_acc=0.647]"
     ]
    },
    {
     "name": "stderr",
     "output_type": "stream",
     "text": [
      "Seed set to 42\n"
     ]
    },
    {
     "name": "stdout",
     "output_type": "stream",
     "text": [
      "\n",
      "Pipeline info saved at: /workspaces/container-workspace/tts-gan/Notebooks/Encoder_evaluation/logs/teste/0/WISDM/run_20241216-172615/run_2024-12-16-17-26-16810b14ee52db4333bf60996a6f2914a0.yaml\n",
      "Log directory set to: /workspaces/container-workspace/tts-gan/Notebooks/Encoder_evaluation/logs/teste/0/WISDM/run_20241216-172615\n",
      "Pipeline info saved at: /workspaces/container-workspace/tts-gan/Notebooks/Encoder_evaluation/logs/teste/0/WISDM/run_20241216-172615/run_2024-12-16-17-26-195c73e849f2f84100b6371adab71b041b.yaml\n"
     ]
    },
    {
     "name": "stderr",
     "output_type": "stream",
     "text": [
      "Restoring states from the checkpoint path at /workspaces/container-workspace/tts-gan/Notebooks/Encoder_evaluation/checkpoints/epoch=0-step=136-v15.ckpt\n"
     ]
    },
    {
     "name": "stdout",
     "output_type": "stream",
     "text": [
      "Using DataLoader with shuffle=False\n"
     ]
    },
    {
     "name": "stderr",
     "output_type": "stream",
     "text": [
      "LOCAL_RANK: 0 - CUDA_VISIBLE_DEVICES: [0]\n",
      "Loaded model weights from the checkpoint at /workspaces/container-workspace/tts-gan/Notebooks/Encoder_evaluation/checkpoints/epoch=0-step=136-v15.ckpt\n"
     ]
    },
    {
     "name": "stdout",
     "output_type": "stream",
     "text": [
      "Using DataLoader with shuffle=False\n"
     ]
    },
    {
     "name": "stderr",
     "output_type": "stream",
     "text": [
      "/usr/local/lib/python3.10/dist-packages/lightning/pytorch/trainer/connectors/data_connector.py:424: PossibleUserWarning:\n",
      "\n",
      "The 'predict_dataloader' does not have many workers which may be a bottleneck. Consider increasing the value of the `num_workers` argument` to `num_workers=5` in the `DataLoader` to improve performance.\n",
      "\n"
     ]
    },
    {
     "name": "stdout",
     "output_type": "stream",
     "text": [
      "Predicting DataLoader 0: 100%|██████████| 41/41 [00:00<00:00, 169.31it/s]\n",
      "Running classification metrics...\n",
      "Running model analysis...\n",
      "Using DataLoader with shuffle=False\n"
     ]
    },
    {
     "name": "stderr",
     "output_type": "stream",
     "text": [
      "/workspaces/container-workspace/Minerva-Dev/minerva/analysis/metrics/balanced_accuracy.py:59: UserWarning:\n",
      "\n",
      "y_pred contains nan values and not all classes passed\n",
      "\n"
     ]
    },
    {
     "name": "stdout",
     "output_type": "stream",
     "text": [
      "t-SNE plot saved to /workspaces/container-workspace/tts-gan/Notebooks/Encoder_evaluation/logs/teste/0/WISDM/run_20241216-172615/tsne_cpc_finetuned_kuhar.pdf\n",
      "Metrics saved to /workspaces/container-workspace/tts-gan/Notebooks/Encoder_evaluation/logs/teste/0/WISDM/run_20241216-172615/metrics_2024-12-16-17-26-195c73e849f2f84100b6371adab71b041b.yaml\n",
      "Pipeline info saved at: /workspaces/container-workspace/tts-gan/Notebooks/Encoder_evaluation/logs/teste/0/WISDM/run_20241216-172615/run_2024-12-16-17-26-195c73e849f2f84100b6371adab71b041b.yaml\n",
      "\n",
      "\n",
      "checkpoint number: 0 | repeat 2 | data name: WISDM | checkpoint name: UCI_DAGHAR_Multiclass_50000_D_60_6axis_2024_12_16_15_30_53/Model/checkpoint\n",
      "\n",
      "\n",
      "Model loaded from gan_dict.pth\n",
      "When loading model, the following keys are unexpected: ['2.clshead.1.weight', '2.clshead.1.bias', '2.clshead.2.weight', '2.clshead.2.bias']. Ignoring unexpected keys.\n"
     ]
    },
    {
     "name": "stderr",
     "output_type": "stream",
     "text": [
      "/workspaces/container-workspace/tts-gan/Notebooks/Encoder_evaluation/encoder_finetuning.py:48: FutureWarning:\n",
      "\n",
      "You are using `torch.load` with `weights_only=False` (the current default value), which uses the default pickle module implicitly. It is possible to construct malicious pickle data which will execute arbitrary code during unpickling (See https://github.com/pytorch/pytorch/blob/main/SECURITY.md#untrusted-models for more details). In a future release, the default value for `weights_only` will be flipped to `True`. This limits the functions that could be executed during unpickling. Arbitrary objects will no longer be allowed to be loaded via this mode unless they are explicitly allowlisted by the user via `torch.serialization.add_safe_globals`. We recommend you start setting `weights_only=True` for any use case where you don't have full control of the loaded file. Please open an issue on GitHub for any issues related to this experimental feature.\n",
      "\n"
     ]
    },
    {
     "name": "stdout",
     "output_type": "stream",
     "text": [
      "Using DataLoader with shuffle=True\n"
     ]
    },
    {
     "name": "stderr",
     "output_type": "stream",
     "text": [
      "GPU available: True (cuda), used: True\n",
      "TPU available: False, using: 0 TPU cores\n",
      "HPU available: False, using: 0 HPUs\n",
      "Seed set to 42\n"
     ]
    },
    {
     "name": "stdout",
     "output_type": "stream",
     "text": [
      "Log directory set to: /workspaces/container-workspace/tts-gan/Notebooks/Encoder_evaluation/logs/teste/0/WISDM/run_20241216-172636\n",
      "Pipeline info saved at: /workspaces/container-workspace/tts-gan/Notebooks/Encoder_evaluation/logs/teste/0/WISDM/run_20241216-172636/run_2024-12-16-17-26-37179c3e8beada46918213ffe6e89eb4e3.yaml\n"
     ]
    },
    {
     "name": "stderr",
     "output_type": "stream",
     "text": [
      "/usr/local/lib/python3.10/dist-packages/lightning/pytorch/callbacks/model_checkpoint.py:654: UserWarning:\n",
      "\n",
      "Checkpoint directory /workspaces/container-workspace/tts-gan/Notebooks/Encoder_evaluation/checkpoints exists and is not empty.\n",
      "\n",
      "LOCAL_RANK: 0 - CUDA_VISIBLE_DEVICES: [0]\n",
      "\n",
      "  | Name     | Type             | Params | Mode \n",
      "------------------------------------------------------\n",
      "0 | backbone | TTSGAN_Encoder   | 96.8 K | train\n",
      "1 | fc       | MLP              | 32.9 K | train\n",
      "2 | loss_fn  | CrossEntropyLoss | 0      | train\n",
      "------------------------------------------------------\n",
      "129 K     Trainable params\n",
      "0         Non-trainable params\n",
      "129 K     Total params\n",
      "0.519     Total estimated model params size (MB)\n",
      "71        Modules in train mode\n",
      "0         Modules in eval mode\n"
     ]
    },
    {
     "name": "stdout",
     "output_type": "stream",
     "text": [
      "Sanity Checking: |          | 0/? [00:00<?, ?it/s]Using DataLoader with shuffle=False\n"
     ]
    },
    {
     "name": "stderr",
     "output_type": "stream",
     "text": [
      "/usr/local/lib/python3.10/dist-packages/lightning/pytorch/trainer/connectors/data_connector.py:424: PossibleUserWarning:\n",
      "\n",
      "The 'val_dataloader' does not have many workers which may be a bottleneck. Consider increasing the value of the `num_workers` argument` to `num_workers=5` in the `DataLoader` to improve performance.\n",
      "\n"
     ]
    },
    {
     "name": "stdout",
     "output_type": "stream",
     "text": [
      "Using DataLoader with shuffle=True                                          \n"
     ]
    },
    {
     "name": "stderr",
     "output_type": "stream",
     "text": [
      "/usr/local/lib/python3.10/dist-packages/lightning/pytorch/trainer/connectors/data_connector.py:424: PossibleUserWarning:\n",
      "\n",
      "The 'train_dataloader' does not have many workers which may be a bottleneck. Consider increasing the value of the `num_workers` argument` to `num_workers=5` in the `DataLoader` to improve performance.\n",
      "\n"
     ]
    },
    {
     "name": "stdout",
     "output_type": "stream",
     "text": [
      "Epoch 0: 100%|██████████| 136/136 [00:02<00:00, 61.06it/s, v_num=2636, val_loss=0.467, val_acc=0.754, train_loss=0.821, train_acc=0.647]"
     ]
    },
    {
     "name": "stderr",
     "output_type": "stream",
     "text": [
      "`Trainer.fit` stopped: `max_epochs=1` reached.\n"
     ]
    },
    {
     "name": "stdout",
     "output_type": "stream",
     "text": [
      "Epoch 0: 100%|██████████| 136/136 [00:02<00:00, 58.51it/s, v_num=2636, val_loss=0.467, val_acc=0.754, train_loss=0.821, train_acc=0.647]\n"
     ]
    },
    {
     "name": "stderr",
     "output_type": "stream",
     "text": [
      "Seed set to 42\n"
     ]
    },
    {
     "name": "stdout",
     "output_type": "stream",
     "text": [
      "Pipeline info saved at: /workspaces/container-workspace/tts-gan/Notebooks/Encoder_evaluation/logs/teste/0/WISDM/run_20241216-172636/run_2024-12-16-17-26-37179c3e8beada46918213ffe6e89eb4e3.yaml\n",
      "Log directory set to: /workspaces/container-workspace/tts-gan/Notebooks/Encoder_evaluation/logs/teste/0/WISDM/run_20241216-172636\n",
      "Pipeline info saved at: /workspaces/container-workspace/tts-gan/Notebooks/Encoder_evaluation/logs/teste/0/WISDM/run_20241216-172636/run_2024-12-16-17-26-40c2ab5f77564846e1b3cf76611e7a44d3.yaml\n",
      "Using DataLoader with shuffle=False\n"
     ]
    },
    {
     "name": "stderr",
     "output_type": "stream",
     "text": [
      "Restoring states from the checkpoint path at /workspaces/container-workspace/tts-gan/Notebooks/Encoder_evaluation/checkpoints/epoch=0-step=136-v16.ckpt\n",
      "LOCAL_RANK: 0 - CUDA_VISIBLE_DEVICES: [0]\n",
      "Loaded model weights from the checkpoint at /workspaces/container-workspace/tts-gan/Notebooks/Encoder_evaluation/checkpoints/epoch=0-step=136-v16.ckpt\n"
     ]
    },
    {
     "name": "stdout",
     "output_type": "stream",
     "text": [
      "Using DataLoader with shuffle=False\n"
     ]
    },
    {
     "name": "stderr",
     "output_type": "stream",
     "text": [
      "/usr/local/lib/python3.10/dist-packages/lightning/pytorch/trainer/connectors/data_connector.py:424: PossibleUserWarning:\n",
      "\n",
      "The 'predict_dataloader' does not have many workers which may be a bottleneck. Consider increasing the value of the `num_workers` argument` to `num_workers=5` in the `DataLoader` to improve performance.\n",
      "\n"
     ]
    },
    {
     "name": "stdout",
     "output_type": "stream",
     "text": [
      "Predicting DataLoader 0: 100%|██████████| 41/41 [00:00<00:00, 226.41it/s]\n",
      "Running classification metrics...\n",
      "Running model analysis...\n",
      "Using DataLoader with shuffle=False\n"
     ]
    },
    {
     "name": "stderr",
     "output_type": "stream",
     "text": [
      "/workspaces/container-workspace/Minerva-Dev/minerva/analysis/metrics/balanced_accuracy.py:59: UserWarning:\n",
      "\n",
      "y_pred contains nan values and not all classes passed\n",
      "\n"
     ]
    },
    {
     "name": "stdout",
     "output_type": "stream",
     "text": [
      "t-SNE plot saved to /workspaces/container-workspace/tts-gan/Notebooks/Encoder_evaluation/logs/teste/0/WISDM/run_20241216-172636/tsne_cpc_finetuned_kuhar.pdf\n",
      "Metrics saved to /workspaces/container-workspace/tts-gan/Notebooks/Encoder_evaluation/logs/teste/0/WISDM/run_20241216-172636/metrics_2024-12-16-17-26-40c2ab5f77564846e1b3cf76611e7a44d3.yaml\n",
      "Pipeline info saved at: /workspaces/container-workspace/tts-gan/Notebooks/Encoder_evaluation/logs/teste/0/WISDM/run_20241216-172636/run_2024-12-16-17-26-40c2ab5f77564846e1b3cf76611e7a44d3.yaml\n",
      "\n",
      "\n",
      "checkpoint number: 0 | repeat 3 | data name: WISDM | checkpoint name: UCI_DAGHAR_Multiclass_50000_D_60_6axis_2024_12_16_15_30_53/Model/checkpoint\n",
      "\n",
      "\n",
      "Model loaded from gan_dict.pth\n",
      "When loading model, the following keys are unexpected: ['2.clshead.1.weight', '2.clshead.1.bias', '2.clshead.2.weight', '2.clshead.2.bias']. Ignoring unexpected keys.\n"
     ]
    },
    {
     "name": "stderr",
     "output_type": "stream",
     "text": [
      "/workspaces/container-workspace/tts-gan/Notebooks/Encoder_evaluation/encoder_finetuning.py:48: FutureWarning:\n",
      "\n",
      "You are using `torch.load` with `weights_only=False` (the current default value), which uses the default pickle module implicitly. It is possible to construct malicious pickle data which will execute arbitrary code during unpickling (See https://github.com/pytorch/pytorch/blob/main/SECURITY.md#untrusted-models for more details). In a future release, the default value for `weights_only` will be flipped to `True`. This limits the functions that could be executed during unpickling. Arbitrary objects will no longer be allowed to be loaded via this mode unless they are explicitly allowlisted by the user via `torch.serialization.add_safe_globals`. We recommend you start setting `weights_only=True` for any use case where you don't have full control of the loaded file. Please open an issue on GitHub for any issues related to this experimental feature.\n",
      "\n"
     ]
    },
    {
     "name": "stdout",
     "output_type": "stream",
     "text": [
      "Using DataLoader with shuffle=True\n"
     ]
    },
    {
     "name": "stderr",
     "output_type": "stream",
     "text": [
      "GPU available: True (cuda), used: True\n",
      "TPU available: False, using: 0 TPU cores\n",
      "HPU available: False, using: 0 HPUs\n",
      "Seed set to 42\n"
     ]
    },
    {
     "name": "stdout",
     "output_type": "stream",
     "text": [
      "Log directory set to: /workspaces/container-workspace/tts-gan/Notebooks/Encoder_evaluation/logs/teste/0/WISDM/run_20241216-172657\n",
      "Pipeline info saved at: /workspaces/container-workspace/tts-gan/Notebooks/Encoder_evaluation/logs/teste/0/WISDM/run_20241216-172657/run_2024-12-16-17-26-5801e2ca76bf2a4d7abeb62e0e01ddbef4.yaml\n"
     ]
    },
    {
     "name": "stderr",
     "output_type": "stream",
     "text": [
      "/usr/local/lib/python3.10/dist-packages/lightning/pytorch/callbacks/model_checkpoint.py:654: UserWarning:\n",
      "\n",
      "Checkpoint directory /workspaces/container-workspace/tts-gan/Notebooks/Encoder_evaluation/checkpoints exists and is not empty.\n",
      "\n",
      "LOCAL_RANK: 0 - CUDA_VISIBLE_DEVICES: [0]\n",
      "\n",
      "  | Name     | Type             | Params | Mode \n",
      "------------------------------------------------------\n",
      "0 | backbone | TTSGAN_Encoder   | 96.8 K | train\n",
      "1 | fc       | MLP              | 32.9 K | train\n",
      "2 | loss_fn  | CrossEntropyLoss | 0      | train\n",
      "------------------------------------------------------\n",
      "129 K     Trainable params\n",
      "0         Non-trainable params\n",
      "129 K     Total params\n",
      "0.519     Total estimated model params size (MB)\n",
      "71        Modules in train mode\n",
      "0         Modules in eval mode\n"
     ]
    },
    {
     "name": "stdout",
     "output_type": "stream",
     "text": [
      "Sanity Checking: |          | 0/? [00:00<?, ?it/s]Using DataLoader with shuffle=False\n"
     ]
    },
    {
     "name": "stderr",
     "output_type": "stream",
     "text": [
      "/usr/local/lib/python3.10/dist-packages/lightning/pytorch/trainer/connectors/data_connector.py:424: PossibleUserWarning:\n",
      "\n",
      "The 'val_dataloader' does not have many workers which may be a bottleneck. Consider increasing the value of the `num_workers` argument` to `num_workers=5` in the `DataLoader` to improve performance.\n",
      "\n"
     ]
    },
    {
     "name": "stdout",
     "output_type": "stream",
     "text": [
      "Using DataLoader with shuffle=True                                          \n"
     ]
    },
    {
     "name": "stderr",
     "output_type": "stream",
     "text": [
      "/usr/local/lib/python3.10/dist-packages/lightning/pytorch/trainer/connectors/data_connector.py:424: PossibleUserWarning:\n",
      "\n",
      "The 'train_dataloader' does not have many workers which may be a bottleneck. Consider increasing the value of the `num_workers` argument` to `num_workers=5` in the `DataLoader` to improve performance.\n",
      "\n"
     ]
    },
    {
     "name": "stdout",
     "output_type": "stream",
     "text": [
      "Epoch 0: 100%|██████████| 136/136 [00:02<00:00, 60.44it/s, v_num=2657, val_loss=0.467, val_acc=0.754, train_loss=0.821, train_acc=0.647]"
     ]
    },
    {
     "name": "stderr",
     "output_type": "stream",
     "text": [
      "`Trainer.fit` stopped: `max_epochs=1` reached.\n"
     ]
    },
    {
     "name": "stdout",
     "output_type": "stream",
     "text": [
      "Epoch 0: 100%|██████████| 136/136 [00:02<00:00, 57.69it/s, v_num=2657, val_loss=0.467, val_acc=0.754, train_loss=0.821, train_acc=0.647]\n"
     ]
    },
    {
     "name": "stderr",
     "output_type": "stream",
     "text": [
      "Seed set to 42\n"
     ]
    },
    {
     "name": "stdout",
     "output_type": "stream",
     "text": [
      "Pipeline info saved at: /workspaces/container-workspace/tts-gan/Notebooks/Encoder_evaluation/logs/teste/0/WISDM/run_20241216-172657/run_2024-12-16-17-26-5801e2ca76bf2a4d7abeb62e0e01ddbef4.yaml\n",
      "Log directory set to: /workspaces/container-workspace/tts-gan/Notebooks/Encoder_evaluation/logs/teste/0/WISDM/run_20241216-172657\n",
      "Pipeline info saved at: /workspaces/container-workspace/tts-gan/Notebooks/Encoder_evaluation/logs/teste/0/WISDM/run_20241216-172657/run_2024-12-16-17-27-0109c71df92343472a8c42000dd5930e08.yaml\n",
      "Using DataLoader with shuffle=False\n"
     ]
    },
    {
     "name": "stderr",
     "output_type": "stream",
     "text": [
      "Restoring states from the checkpoint path at /workspaces/container-workspace/tts-gan/Notebooks/Encoder_evaluation/checkpoints/epoch=0-step=136-v17.ckpt\n",
      "LOCAL_RANK: 0 - CUDA_VISIBLE_DEVICES: [0]\n",
      "Loaded model weights from the checkpoint at /workspaces/container-workspace/tts-gan/Notebooks/Encoder_evaluation/checkpoints/epoch=0-step=136-v17.ckpt\n"
     ]
    },
    {
     "name": "stdout",
     "output_type": "stream",
     "text": [
      "Using DataLoader with shuffle=False\n"
     ]
    },
    {
     "name": "stderr",
     "output_type": "stream",
     "text": [
      "/usr/local/lib/python3.10/dist-packages/lightning/pytorch/trainer/connectors/data_connector.py:424: PossibleUserWarning:\n",
      "\n",
      "The 'predict_dataloader' does not have many workers which may be a bottleneck. Consider increasing the value of the `num_workers` argument` to `num_workers=5` in the `DataLoader` to improve performance.\n",
      "\n"
     ]
    },
    {
     "name": "stdout",
     "output_type": "stream",
     "text": [
      "Predicting DataLoader 0: 100%|██████████| 41/41 [00:00<00:00, 213.99it/s]\n",
      "Running classification metrics...\n",
      "Running model analysis...\n",
      "Using DataLoader with shuffle=False\n"
     ]
    },
    {
     "name": "stderr",
     "output_type": "stream",
     "text": [
      "/workspaces/container-workspace/Minerva-Dev/minerva/analysis/metrics/balanced_accuracy.py:59: UserWarning:\n",
      "\n",
      "y_pred contains nan values and not all classes passed\n",
      "\n"
     ]
    },
    {
     "name": "stdout",
     "output_type": "stream",
     "text": [
      "t-SNE plot saved to /workspaces/container-workspace/tts-gan/Notebooks/Encoder_evaluation/logs/teste/0/WISDM/run_20241216-172657/tsne_cpc_finetuned_kuhar.pdf\n",
      "Metrics saved to /workspaces/container-workspace/tts-gan/Notebooks/Encoder_evaluation/logs/teste/0/WISDM/run_20241216-172657/metrics_2024-12-16-17-27-0109c71df92343472a8c42000dd5930e08.yaml\n",
      "Pipeline info saved at: /workspaces/container-workspace/tts-gan/Notebooks/Encoder_evaluation/logs/teste/0/WISDM/run_20241216-172657/run_2024-12-16-17-27-0109c71df92343472a8c42000dd5930e08.yaml\n",
      "\n",
      "\n",
      "checkpoint number: 0 | repeat 1 | data name: KuHar | checkpoint name: UCI_DAGHAR_Multiclass_50000_D_60_6axis_2024_12_16_15_30_53/Model/checkpoint\n",
      "\n",
      "\n",
      "Model loaded from gan_dict.pth\n",
      "When loading model, the following keys are unexpected: ['2.clshead.1.weight', '2.clshead.1.bias', '2.clshead.2.weight', '2.clshead.2.bias']. Ignoring unexpected keys.\n"
     ]
    },
    {
     "name": "stderr",
     "output_type": "stream",
     "text": [
      "/workspaces/container-workspace/tts-gan/Notebooks/Encoder_evaluation/encoder_finetuning.py:48: FutureWarning:\n",
      "\n",
      "You are using `torch.load` with `weights_only=False` (the current default value), which uses the default pickle module implicitly. It is possible to construct malicious pickle data which will execute arbitrary code during unpickling (See https://github.com/pytorch/pytorch/blob/main/SECURITY.md#untrusted-models for more details). In a future release, the default value for `weights_only` will be flipped to `True`. This limits the functions that could be executed during unpickling. Arbitrary objects will no longer be allowed to be loaded via this mode unless they are explicitly allowlisted by the user via `torch.serialization.add_safe_globals`. We recommend you start setting `weights_only=True` for any use case where you don't have full control of the loaded file. Please open an issue on GitHub for any issues related to this experimental feature.\n",
      "\n"
     ]
    },
    {
     "name": "stdout",
     "output_type": "stream",
     "text": [
      "Using DataLoader with shuffle=True\n"
     ]
    },
    {
     "name": "stderr",
     "output_type": "stream",
     "text": [
      "GPU available: True (cuda), used: True\n",
      "TPU available: False, using: 0 TPU cores\n",
      "HPU available: False, using: 0 HPUs\n",
      "Seed set to 42\n"
     ]
    },
    {
     "name": "stdout",
     "output_type": "stream",
     "text": [
      "Log directory set to: /workspaces/container-workspace/tts-gan/Notebooks/Encoder_evaluation/logs/teste/0/KuHar/run_20241216-172717\n",
      "Pipeline info saved at: /workspaces/container-workspace/tts-gan/Notebooks/Encoder_evaluation/logs/teste/0/KuHar/run_20241216-172717/run_2024-12-16-17-27-1804f6b741acd54522b494e5f5cb39f103.yaml\n"
     ]
    },
    {
     "name": "stderr",
     "output_type": "stream",
     "text": [
      "/usr/local/lib/python3.10/dist-packages/lightning/pytorch/callbacks/model_checkpoint.py:654: UserWarning:\n",
      "\n",
      "Checkpoint directory /workspaces/container-workspace/tts-gan/Notebooks/Encoder_evaluation/checkpoints exists and is not empty.\n",
      "\n",
      "LOCAL_RANK: 0 - CUDA_VISIBLE_DEVICES: [0]\n",
      "\n",
      "  | Name     | Type             | Params | Mode \n",
      "------------------------------------------------------\n",
      "0 | backbone | TTSGAN_Encoder   | 96.8 K | train\n",
      "1 | fc       | MLP              | 32.9 K | train\n",
      "2 | loss_fn  | CrossEntropyLoss | 0      | train\n",
      "------------------------------------------------------\n",
      "129 K     Trainable params\n",
      "0         Non-trainable params\n",
      "129 K     Total params\n",
      "0.519     Total estimated model params size (MB)\n",
      "71        Modules in train mode\n",
      "0         Modules in eval mode\n"
     ]
    },
    {
     "name": "stdout",
     "output_type": "stream",
     "text": [
      "Sanity Checking: |          | 0/? [00:00<?, ?it/s]Using DataLoader with shuffle=False\n"
     ]
    },
    {
     "name": "stderr",
     "output_type": "stream",
     "text": [
      "/usr/local/lib/python3.10/dist-packages/lightning/pytorch/trainer/connectors/data_connector.py:424: PossibleUserWarning:\n",
      "\n",
      "The 'val_dataloader' does not have many workers which may be a bottleneck. Consider increasing the value of the `num_workers` argument` to `num_workers=5` in the `DataLoader` to improve performance.\n",
      "\n"
     ]
    },
    {
     "name": "stdout",
     "output_type": "stream",
     "text": [
      "Using DataLoader with shuffle=True                                         \n"
     ]
    },
    {
     "name": "stderr",
     "output_type": "stream",
     "text": [
      "/usr/local/lib/python3.10/dist-packages/lightning/pytorch/trainer/connectors/data_connector.py:424: PossibleUserWarning:\n",
      "\n",
      "The 'train_dataloader' does not have many workers which may be a bottleneck. Consider increasing the value of the `num_workers` argument` to `num_workers=5` in the `DataLoader` to improve performance.\n",
      "\n",
      "/usr/local/lib/python3.10/dist-packages/lightning/pytorch/loops/fit_loop.py:298: PossibleUserWarning:\n",
      "\n",
      "The number of training batches (21) is smaller than the logging interval Trainer(log_every_n_steps=50). Set a lower value for log_every_n_steps if you want to see logs for the training epoch.\n",
      "\n"
     ]
    },
    {
     "name": "stdout",
     "output_type": "stream",
     "text": [
      "Epoch 0: 100%|██████████| 21/21 [00:00<00:00, 44.79it/s, v_num=2717, val_loss=2.040, val_acc=0.341, train_loss=2.700, train_acc=0.330]"
     ]
    },
    {
     "name": "stderr",
     "output_type": "stream",
     "text": [
      "`Trainer.fit` stopped: `max_epochs=1` reached.\n"
     ]
    },
    {
     "name": "stdout",
     "output_type": "stream",
     "text": [
      "Epoch 0: 100%|██████████| 21/21 [00:00<00:00, 36.39it/s, v_num=2717, val_loss=2.040, val_acc=0.341, train_loss=2.700, train_acc=0.330]\n",
      "Pipeline info saved at: /workspaces/container-workspace/tts-gan/Notebooks/Encoder_evaluation/logs/teste/0/KuHar/run_20241216-172717/run_2024-12-16-17-27-1804f6b741acd54522b494e5f5cb39f103.yaml\n"
     ]
    },
    {
     "name": "stderr",
     "output_type": "stream",
     "text": [
      "Seed set to 42\n"
     ]
    },
    {
     "name": "stdout",
     "output_type": "stream",
     "text": [
      "Log directory set to: /workspaces/container-workspace/tts-gan/Notebooks/Encoder_evaluation/logs/teste/0/KuHar/run_20241216-172717\n"
     ]
    },
    {
     "name": "stderr",
     "output_type": "stream",
     "text": [
      "Restoring states from the checkpoint path at /workspaces/container-workspace/tts-gan/Notebooks/Encoder_evaluation/checkpoints/epoch=0-step=21-v14.ckpt\n",
      "LOCAL_RANK: 0 - CUDA_VISIBLE_DEVICES: [0]\n",
      "Loaded model weights from the checkpoint at /workspaces/container-workspace/tts-gan/Notebooks/Encoder_evaluation/checkpoints/epoch=0-step=21-v14.ckpt\n",
      "/usr/local/lib/python3.10/dist-packages/lightning/pytorch/trainer/connectors/data_connector.py:424: PossibleUserWarning:\n",
      "\n",
      "The 'predict_dataloader' does not have many workers which may be a bottleneck. Consider increasing the value of the `num_workers` argument` to `num_workers=5` in the `DataLoader` to improve performance.\n",
      "\n"
     ]
    },
    {
     "name": "stdout",
     "output_type": "stream",
     "text": [
      "Pipeline info saved at: /workspaces/container-workspace/tts-gan/Notebooks/Encoder_evaluation/logs/teste/0/KuHar/run_20241216-172717/run_2024-12-16-17-27-195d7109255b4c40e7929b5f695e3fb501.yaml\n",
      "Using DataLoader with shuffle=False\n",
      "Using DataLoader with shuffle=False\n",
      "Predicting DataLoader 0: 100%|██████████| 3/3 [00:00<00:00, 166.08it/s]\n",
      "Running classification metrics...\n",
      "Running model analysis...\n",
      "Using DataLoader with shuffle=False\n",
      "t-SNE plot saved to /workspaces/container-workspace/tts-gan/Notebooks/Encoder_evaluation/logs/teste/0/KuHar/run_20241216-172717/tsne_cpc_finetuned_kuhar.pdf\n",
      "Metrics saved to /workspaces/container-workspace/tts-gan/Notebooks/Encoder_evaluation/logs/teste/0/KuHar/run_20241216-172717/metrics_2024-12-16-17-27-195d7109255b4c40e7929b5f695e3fb501.yaml\n",
      "Pipeline info saved at: /workspaces/container-workspace/tts-gan/Notebooks/Encoder_evaluation/logs/teste/0/KuHar/run_20241216-172717/run_2024-12-16-17-27-195d7109255b4c40e7929b5f695e3fb501.yaml\n",
      "\n",
      "\n",
      "checkpoint number: 0 | repeat 2 | data name: KuHar | checkpoint name: UCI_DAGHAR_Multiclass_50000_D_60_6axis_2024_12_16_15_30_53/Model/checkpoint\n",
      "\n",
      "\n",
      "Model loaded from gan_dict.pth\n",
      "When loading model, the following keys are unexpected: ['2.clshead.1.weight', '2.clshead.1.bias', '2.clshead.2.weight', '2.clshead.2.bias']. Ignoring unexpected keys.\n"
     ]
    },
    {
     "name": "stderr",
     "output_type": "stream",
     "text": [
      "/workspaces/container-workspace/tts-gan/Notebooks/Encoder_evaluation/encoder_finetuning.py:48: FutureWarning:\n",
      "\n",
      "You are using `torch.load` with `weights_only=False` (the current default value), which uses the default pickle module implicitly. It is possible to construct malicious pickle data which will execute arbitrary code during unpickling (See https://github.com/pytorch/pytorch/blob/main/SECURITY.md#untrusted-models for more details). In a future release, the default value for `weights_only` will be flipped to `True`. This limits the functions that could be executed during unpickling. Arbitrary objects will no longer be allowed to be loaded via this mode unless they are explicitly allowlisted by the user via `torch.serialization.add_safe_globals`. We recommend you start setting `weights_only=True` for any use case where you don't have full control of the loaded file. Please open an issue on GitHub for any issues related to this experimental feature.\n",
      "\n"
     ]
    },
    {
     "name": "stdout",
     "output_type": "stream",
     "text": [
      "Using DataLoader with shuffle=True\n"
     ]
    },
    {
     "name": "stderr",
     "output_type": "stream",
     "text": [
      "GPU available: True (cuda), used: True\n",
      "TPU available: False, using: 0 TPU cores\n",
      "HPU available: False, using: 0 HPUs\n",
      "Seed set to 42\n"
     ]
    },
    {
     "name": "stdout",
     "output_type": "stream",
     "text": [
      "Log directory set to: /workspaces/container-workspace/tts-gan/Notebooks/Encoder_evaluation/logs/teste/0/KuHar/run_20241216-172720\n",
      "Pipeline info saved at: /workspaces/container-workspace/tts-gan/Notebooks/Encoder_evaluation/logs/teste/0/KuHar/run_20241216-172720/run_2024-12-16-17-27-20baac2548a4104019acd7f0a5e01c2d74.yaml\n"
     ]
    },
    {
     "name": "stderr",
     "output_type": "stream",
     "text": [
      "/usr/local/lib/python3.10/dist-packages/lightning/pytorch/callbacks/model_checkpoint.py:654: UserWarning:\n",
      "\n",
      "Checkpoint directory /workspaces/container-workspace/tts-gan/Notebooks/Encoder_evaluation/checkpoints exists and is not empty.\n",
      "\n",
      "LOCAL_RANK: 0 - CUDA_VISIBLE_DEVICES: [0]\n",
      "\n",
      "  | Name     | Type             | Params | Mode \n",
      "------------------------------------------------------\n",
      "0 | backbone | TTSGAN_Encoder   | 96.8 K | train\n",
      "1 | fc       | MLP              | 32.9 K | train\n",
      "2 | loss_fn  | CrossEntropyLoss | 0      | train\n",
      "------------------------------------------------------\n",
      "129 K     Trainable params\n",
      "0         Non-trainable params\n",
      "129 K     Total params\n",
      "0.519     Total estimated model params size (MB)\n",
      "71        Modules in train mode\n",
      "0         Modules in eval mode\n"
     ]
    },
    {
     "name": "stdout",
     "output_type": "stream",
     "text": [
      "Sanity Checking: |          | 0/? [00:00<?, ?it/s]"
     ]
    },
    {
     "name": "stderr",
     "output_type": "stream",
     "text": [
      "/usr/local/lib/python3.10/dist-packages/lightning/pytorch/trainer/connectors/data_connector.py:424: PossibleUserWarning:\n",
      "\n",
      "The 'val_dataloader' does not have many workers which may be a bottleneck. Consider increasing the value of the `num_workers` argument` to `num_workers=5` in the `DataLoader` to improve performance.\n",
      "\n"
     ]
    },
    {
     "name": "stdout",
     "output_type": "stream",
     "text": [
      "Using DataLoader with shuffle=False\n",
      "Using DataLoader with shuffle=True                                          \n"
     ]
    },
    {
     "name": "stderr",
     "output_type": "stream",
     "text": [
      "/usr/local/lib/python3.10/dist-packages/lightning/pytorch/trainer/connectors/data_connector.py:424: PossibleUserWarning:\n",
      "\n",
      "The 'train_dataloader' does not have many workers which may be a bottleneck. Consider increasing the value of the `num_workers` argument` to `num_workers=5` in the `DataLoader` to improve performance.\n",
      "\n",
      "/usr/local/lib/python3.10/dist-packages/lightning/pytorch/loops/fit_loop.py:298: PossibleUserWarning:\n",
      "\n",
      "The number of training batches (21) is smaller than the logging interval Trainer(log_every_n_steps=50). Set a lower value for log_every_n_steps if you want to see logs for the training epoch.\n",
      "\n"
     ]
    },
    {
     "name": "stdout",
     "output_type": "stream",
     "text": [
      "Epoch 0: 100%|██████████| 21/21 [00:00<00:00, 39.70it/s, v_num=2720, val_loss=2.040, val_acc=0.341, train_loss=2.700, train_acc=0.330]"
     ]
    },
    {
     "name": "stderr",
     "output_type": "stream",
     "text": [
      "`Trainer.fit` stopped: `max_epochs=1` reached.\n"
     ]
    },
    {
     "name": "stdout",
     "output_type": "stream",
     "text": [
      "Epoch 0: 100%|██████████| 21/21 [00:00<00:00, 33.07it/s, v_num=2720, val_loss=2.040, val_acc=0.341, train_loss=2.700, train_acc=0.330]\n"
     ]
    },
    {
     "name": "stderr",
     "output_type": "stream",
     "text": [
      "Seed set to 42\n"
     ]
    },
    {
     "name": "stdout",
     "output_type": "stream",
     "text": [
      "Pipeline info saved at: /workspaces/container-workspace/tts-gan/Notebooks/Encoder_evaluation/logs/teste/0/KuHar/run_20241216-172720/run_2024-12-16-17-27-20baac2548a4104019acd7f0a5e01c2d74.yaml\n",
      "Log directory set to: /workspaces/container-workspace/tts-gan/Notebooks/Encoder_evaluation/logs/teste/0/KuHar/run_20241216-172720\n"
     ]
    },
    {
     "name": "stderr",
     "output_type": "stream",
     "text": [
      "Restoring states from the checkpoint path at /workspaces/container-workspace/tts-gan/Notebooks/Encoder_evaluation/checkpoints/epoch=0-step=21-v15.ckpt\n",
      "LOCAL_RANK: 0 - CUDA_VISIBLE_DEVICES: [0]\n",
      "Loaded model weights from the checkpoint at /workspaces/container-workspace/tts-gan/Notebooks/Encoder_evaluation/checkpoints/epoch=0-step=21-v15.ckpt\n"
     ]
    },
    {
     "name": "stdout",
     "output_type": "stream",
     "text": [
      "Pipeline info saved at: /workspaces/container-workspace/tts-gan/Notebooks/Encoder_evaluation/logs/teste/0/KuHar/run_20241216-172720/run_2024-12-16-17-27-210b97186cc1d7479ab39ec6fa8b6e17ac.yaml\n",
      "Using DataLoader with shuffle=False\n",
      "Using DataLoader with shuffle=False\n"
     ]
    },
    {
     "name": "stderr",
     "output_type": "stream",
     "text": [
      "/usr/local/lib/python3.10/dist-packages/lightning/pytorch/trainer/connectors/data_connector.py:424: PossibleUserWarning:\n",
      "\n",
      "The 'predict_dataloader' does not have many workers which may be a bottleneck. Consider increasing the value of the `num_workers` argument` to `num_workers=5` in the `DataLoader` to improve performance.\n",
      "\n"
     ]
    },
    {
     "name": "stdout",
     "output_type": "stream",
     "text": [
      "Predicting DataLoader 0: 100%|██████████| 3/3 [00:00<00:00, 110.83it/s]\n",
      "Running classification metrics...\n",
      "Running model analysis...\n",
      "Using DataLoader with shuffle=False\n",
      "t-SNE plot saved to /workspaces/container-workspace/tts-gan/Notebooks/Encoder_evaluation/logs/teste/0/KuHar/run_20241216-172720/tsne_cpc_finetuned_kuhar.pdf\n",
      "Metrics saved to /workspaces/container-workspace/tts-gan/Notebooks/Encoder_evaluation/logs/teste/0/KuHar/run_20241216-172720/metrics_2024-12-16-17-27-210b97186cc1d7479ab39ec6fa8b6e17ac.yaml\n",
      "Pipeline info saved at: /workspaces/container-workspace/tts-gan/Notebooks/Encoder_evaluation/logs/teste/0/KuHar/run_20241216-172720/run_2024-12-16-17-27-210b97186cc1d7479ab39ec6fa8b6e17ac.yaml\n",
      "\n",
      "\n",
      "checkpoint number: 0 | repeat 3 | data name: KuHar | checkpoint name: UCI_DAGHAR_Multiclass_50000_D_60_6axis_2024_12_16_15_30_53/Model/checkpoint\n",
      "\n",
      "\n",
      "Model loaded from gan_dict.pth\n",
      "When loading model, the following keys are unexpected: ['2.clshead.1.weight', '2.clshead.1.bias', '2.clshead.2.weight', '2.clshead.2.bias']. Ignoring unexpected keys.\n"
     ]
    },
    {
     "name": "stderr",
     "output_type": "stream",
     "text": [
      "/workspaces/container-workspace/tts-gan/Notebooks/Encoder_evaluation/encoder_finetuning.py:48: FutureWarning:\n",
      "\n",
      "You are using `torch.load` with `weights_only=False` (the current default value), which uses the default pickle module implicitly. It is possible to construct malicious pickle data which will execute arbitrary code during unpickling (See https://github.com/pytorch/pytorch/blob/main/SECURITY.md#untrusted-models for more details). In a future release, the default value for `weights_only` will be flipped to `True`. This limits the functions that could be executed during unpickling. Arbitrary objects will no longer be allowed to be loaded via this mode unless they are explicitly allowlisted by the user via `torch.serialization.add_safe_globals`. We recommend you start setting `weights_only=True` for any use case where you don't have full control of the loaded file. Please open an issue on GitHub for any issues related to this experimental feature.\n",
      "\n"
     ]
    },
    {
     "name": "stdout",
     "output_type": "stream",
     "text": [
      "Using DataLoader with shuffle=True\n"
     ]
    },
    {
     "name": "stderr",
     "output_type": "stream",
     "text": [
      "GPU available: True (cuda), used: True\n",
      "TPU available: False, using: 0 TPU cores\n",
      "HPU available: False, using: 0 HPUs\n",
      "Seed set to 42\n"
     ]
    },
    {
     "name": "stdout",
     "output_type": "stream",
     "text": [
      "Log directory set to: /workspaces/container-workspace/tts-gan/Notebooks/Encoder_evaluation/logs/teste/0/KuHar/run_20241216-172722\n",
      "Pipeline info saved at: /workspaces/container-workspace/tts-gan/Notebooks/Encoder_evaluation/logs/teste/0/KuHar/run_20241216-172722/run_2024-12-16-17-27-22f8d914a7757843a3836fe57c85dcf35c.yaml\n"
     ]
    },
    {
     "name": "stderr",
     "output_type": "stream",
     "text": [
      "/usr/local/lib/python3.10/dist-packages/lightning/pytorch/callbacks/model_checkpoint.py:654: UserWarning:\n",
      "\n",
      "Checkpoint directory /workspaces/container-workspace/tts-gan/Notebooks/Encoder_evaluation/checkpoints exists and is not empty.\n",
      "\n",
      "LOCAL_RANK: 0 - CUDA_VISIBLE_DEVICES: [0]\n",
      "\n",
      "  | Name     | Type             | Params | Mode \n",
      "------------------------------------------------------\n",
      "0 | backbone | TTSGAN_Encoder   | 96.8 K | train\n",
      "1 | fc       | MLP              | 32.9 K | train\n",
      "2 | loss_fn  | CrossEntropyLoss | 0      | train\n",
      "------------------------------------------------------\n",
      "129 K     Trainable params\n",
      "0         Non-trainable params\n",
      "129 K     Total params\n",
      "0.519     Total estimated model params size (MB)\n",
      "71        Modules in train mode\n",
      "0         Modules in eval mode\n"
     ]
    },
    {
     "name": "stdout",
     "output_type": "stream",
     "text": [
      "Sanity Checking: |          | 0/? [00:00<?, ?it/s]Using DataLoader with shuffle=False\n"
     ]
    },
    {
     "name": "stderr",
     "output_type": "stream",
     "text": [
      "/usr/local/lib/python3.10/dist-packages/lightning/pytorch/trainer/connectors/data_connector.py:424: PossibleUserWarning:\n",
      "\n",
      "The 'val_dataloader' does not have many workers which may be a bottleneck. Consider increasing the value of the `num_workers` argument` to `num_workers=5` in the `DataLoader` to improve performance.\n",
      "\n"
     ]
    },
    {
     "name": "stdout",
     "output_type": "stream",
     "text": [
      "Using DataLoader with shuffle=True                                         \n"
     ]
    },
    {
     "name": "stderr",
     "output_type": "stream",
     "text": [
      "/usr/local/lib/python3.10/dist-packages/lightning/pytorch/trainer/connectors/data_connector.py:424: PossibleUserWarning:\n",
      "\n",
      "The 'train_dataloader' does not have many workers which may be a bottleneck. Consider increasing the value of the `num_workers` argument` to `num_workers=5` in the `DataLoader` to improve performance.\n",
      "\n",
      "/usr/local/lib/python3.10/dist-packages/lightning/pytorch/loops/fit_loop.py:298: PossibleUserWarning:\n",
      "\n",
      "The number of training batches (21) is smaller than the logging interval Trainer(log_every_n_steps=50). Set a lower value for log_every_n_steps if you want to see logs for the training epoch.\n",
      "\n"
     ]
    },
    {
     "name": "stdout",
     "output_type": "stream",
     "text": [
      "Epoch 0: 100%|██████████| 21/21 [00:00<00:00, 45.30it/s, v_num=2722, val_loss=2.040, val_acc=0.341, train_loss=2.700, train_acc=0.330]"
     ]
    },
    {
     "name": "stderr",
     "output_type": "stream",
     "text": [
      "`Trainer.fit` stopped: `max_epochs=1` reached.\n"
     ]
    },
    {
     "name": "stdout",
     "output_type": "stream",
     "text": [
      "Epoch 0: 100%|██████████| 21/21 [00:00<00:00, 35.94it/s, v_num=2722, val_loss=2.040, val_acc=0.341, train_loss=2.700, train_acc=0.330]\n"
     ]
    },
    {
     "name": "stderr",
     "output_type": "stream",
     "text": [
      "Seed set to 42\n"
     ]
    },
    {
     "name": "stdout",
     "output_type": "stream",
     "text": [
      "Pipeline info saved at: /workspaces/container-workspace/tts-gan/Notebooks/Encoder_evaluation/logs/teste/0/KuHar/run_20241216-172722/run_2024-12-16-17-27-22f8d914a7757843a3836fe57c85dcf35c.yaml\n",
      "Log directory set to: /workspaces/container-workspace/tts-gan/Notebooks/Encoder_evaluation/logs/teste/0/KuHar/run_20241216-172722\n"
     ]
    },
    {
     "name": "stderr",
     "output_type": "stream",
     "text": [
      "Restoring states from the checkpoint path at /workspaces/container-workspace/tts-gan/Notebooks/Encoder_evaluation/checkpoints/epoch=0-step=21-v16.ckpt\n",
      "LOCAL_RANK: 0 - CUDA_VISIBLE_DEVICES: [0]\n",
      "Loaded model weights from the checkpoint at /workspaces/container-workspace/tts-gan/Notebooks/Encoder_evaluation/checkpoints/epoch=0-step=21-v16.ckpt\n"
     ]
    },
    {
     "name": "stdout",
     "output_type": "stream",
     "text": [
      "Pipeline info saved at: /workspaces/container-workspace/tts-gan/Notebooks/Encoder_evaluation/logs/teste/0/KuHar/run_20241216-172722/run_2024-12-16-17-27-23080c366112cd4778abd281d38d01ead5.yaml\n",
      "Using DataLoader with shuffle=False\n",
      "Using DataLoader with shuffle=False\n"
     ]
    },
    {
     "name": "stderr",
     "output_type": "stream",
     "text": [
      "/usr/local/lib/python3.10/dist-packages/lightning/pytorch/trainer/connectors/data_connector.py:424: PossibleUserWarning:\n",
      "\n",
      "The 'predict_dataloader' does not have many workers which may be a bottleneck. Consider increasing the value of the `num_workers` argument` to `num_workers=5` in the `DataLoader` to improve performance.\n",
      "\n"
     ]
    },
    {
     "name": "stdout",
     "output_type": "stream",
     "text": [
      "Predicting DataLoader 0: 100%|██████████| 3/3 [00:00<00:00, 172.65it/s]\n",
      "Running classification metrics...\n",
      "Running model analysis...\n",
      "Using DataLoader with shuffle=False\n",
      "t-SNE plot saved to /workspaces/container-workspace/tts-gan/Notebooks/Encoder_evaluation/logs/teste/0/KuHar/run_20241216-172722/tsne_cpc_finetuned_kuhar.pdf\n",
      "Metrics saved to /workspaces/container-workspace/tts-gan/Notebooks/Encoder_evaluation/logs/teste/0/KuHar/run_20241216-172722/metrics_2024-12-16-17-27-23080c366112cd4778abd281d38d01ead5.yaml\n",
      "Pipeline info saved at: /workspaces/container-workspace/tts-gan/Notebooks/Encoder_evaluation/logs/teste/0/KuHar/run_20241216-172722/run_2024-12-16-17-27-23080c366112cd4778abd281d38d01ead5.yaml\n",
      "\n",
      "\n",
      "checkpoint number: 0 | repeat 1 | data name: RealWorld_waist | checkpoint name: UCI_DAGHAR_Multiclass_50000_D_60_6axis_2024_12_16_15_30_53/Model/checkpoint\n",
      "\n",
      "\n",
      "Model loaded from gan_dict.pth\n",
      "When loading model, the following keys are unexpected: ['2.clshead.1.weight', '2.clshead.1.bias', '2.clshead.2.weight', '2.clshead.2.bias']. Ignoring unexpected keys.\n"
     ]
    },
    {
     "name": "stderr",
     "output_type": "stream",
     "text": [
      "/workspaces/container-workspace/tts-gan/Notebooks/Encoder_evaluation/encoder_finetuning.py:48: FutureWarning:\n",
      "\n",
      "You are using `torch.load` with `weights_only=False` (the current default value), which uses the default pickle module implicitly. It is possible to construct malicious pickle data which will execute arbitrary code during unpickling (See https://github.com/pytorch/pytorch/blob/main/SECURITY.md#untrusted-models for more details). In a future release, the default value for `weights_only` will be flipped to `True`. This limits the functions that could be executed during unpickling. Arbitrary objects will no longer be allowed to be loaded via this mode unless they are explicitly allowlisted by the user via `torch.serialization.add_safe_globals`. We recommend you start setting `weights_only=True` for any use case where you don't have full control of the loaded file. Please open an issue on GitHub for any issues related to this experimental feature.\n",
      "\n"
     ]
    },
    {
     "name": "stdout",
     "output_type": "stream",
     "text": [
      "Using DataLoader with shuffle=True\n"
     ]
    },
    {
     "name": "stderr",
     "output_type": "stream",
     "text": [
      "GPU available: True (cuda), used: True\n",
      "TPU available: False, using: 0 TPU cores\n",
      "HPU available: False, using: 0 HPUs\n",
      "Seed set to 42\n"
     ]
    },
    {
     "name": "stdout",
     "output_type": "stream",
     "text": [
      "Log directory set to: /workspaces/container-workspace/tts-gan/Notebooks/Encoder_evaluation/logs/teste/0/RealWorld_waist/run_20241216-172724\n",
      "Pipeline info saved at: /workspaces/container-workspace/tts-gan/Notebooks/Encoder_evaluation/logs/teste/0/RealWorld_waist/run_20241216-172724/run_2024-12-16-17-27-265d20001139524d7e897677b45cf123ec.yaml\n"
     ]
    },
    {
     "name": "stderr",
     "output_type": "stream",
     "text": [
      "/usr/local/lib/python3.10/dist-packages/lightning/pytorch/callbacks/model_checkpoint.py:654: UserWarning:\n",
      "\n",
      "Checkpoint directory /workspaces/container-workspace/tts-gan/Notebooks/Encoder_evaluation/checkpoints exists and is not empty.\n",
      "\n",
      "LOCAL_RANK: 0 - CUDA_VISIBLE_DEVICES: [0]\n",
      "\n",
      "  | Name     | Type             | Params | Mode \n",
      "------------------------------------------------------\n",
      "0 | backbone | TTSGAN_Encoder   | 96.8 K | train\n",
      "1 | fc       | MLP              | 32.9 K | train\n",
      "2 | loss_fn  | CrossEntropyLoss | 0      | train\n",
      "------------------------------------------------------\n",
      "129 K     Trainable params\n",
      "0         Non-trainable params\n",
      "129 K     Total params\n",
      "0.519     Total estimated model params size (MB)\n",
      "71        Modules in train mode\n",
      "0         Modules in eval mode\n"
     ]
    },
    {
     "name": "stdout",
     "output_type": "stream",
     "text": [
      "Sanity Checking: |          | 0/? [00:00<?, ?it/s]Using DataLoader with shuffle=False\n"
     ]
    },
    {
     "name": "stderr",
     "output_type": "stream",
     "text": [
      "/usr/local/lib/python3.10/dist-packages/lightning/pytorch/trainer/connectors/data_connector.py:424: PossibleUserWarning:\n",
      "\n",
      "The 'val_dataloader' does not have many workers which may be a bottleneck. Consider increasing the value of the `num_workers` argument` to `num_workers=5` in the `DataLoader` to improve performance.\n",
      "\n"
     ]
    },
    {
     "name": "stdout",
     "output_type": "stream",
     "text": [
      "Using DataLoader with shuffle=True                                         \n"
     ]
    },
    {
     "name": "stderr",
     "output_type": "stream",
     "text": [
      "/usr/local/lib/python3.10/dist-packages/lightning/pytorch/trainer/connectors/data_connector.py:424: PossibleUserWarning:\n",
      "\n",
      "The 'train_dataloader' does not have many workers which may be a bottleneck. Consider increasing the value of the `num_workers` argument` to `num_workers=5` in the `DataLoader` to improve performance.\n",
      "\n"
     ]
    },
    {
     "name": "stdout",
     "output_type": "stream",
     "text": [
      "Epoch 0: 100%|██████████| 161/161 [00:02<00:00, 57.88it/s, v_num=2724, val_loss=1.160, val_acc=0.523, train_loss=1.450, train_acc=0.447]"
     ]
    },
    {
     "name": "stderr",
     "output_type": "stream",
     "text": [
      "`Trainer.fit` stopped: `max_epochs=1` reached.\n"
     ]
    },
    {
     "name": "stdout",
     "output_type": "stream",
     "text": [
      "Epoch 0: 100%|██████████| 161/161 [00:02<00:00, 55.75it/s, v_num=2724, val_loss=1.160, val_acc=0.523, train_loss=1.450, train_acc=0.447]\n"
     ]
    },
    {
     "name": "stderr",
     "output_type": "stream",
     "text": [
      "Seed set to 42\n"
     ]
    },
    {
     "name": "stdout",
     "output_type": "stream",
     "text": [
      "Pipeline info saved at: /workspaces/container-workspace/tts-gan/Notebooks/Encoder_evaluation/logs/teste/0/RealWorld_waist/run_20241216-172724/run_2024-12-16-17-27-265d20001139524d7e897677b45cf123ec.yaml\n",
      "Log directory set to: /workspaces/container-workspace/tts-gan/Notebooks/Encoder_evaluation/logs/teste/0/RealWorld_waist/run_20241216-172724\n",
      "Pipeline info saved at: /workspaces/container-workspace/tts-gan/Notebooks/Encoder_evaluation/logs/teste/0/RealWorld_waist/run_20241216-172724/run_2024-12-16-17-27-296786b187fb094cf1be40b481efd77538.yaml\n"
     ]
    },
    {
     "name": "stderr",
     "output_type": "stream",
     "text": [
      "Restoring states from the checkpoint path at /workspaces/container-workspace/tts-gan/Notebooks/Encoder_evaluation/checkpoints/epoch=0-step=161-v22.ckpt\n",
      "LOCAL_RANK: 0 - CUDA_VISIBLE_DEVICES: [0]\n",
      "Loaded model weights from the checkpoint at /workspaces/container-workspace/tts-gan/Notebooks/Encoder_evaluation/checkpoints/epoch=0-step=161-v22.ckpt\n"
     ]
    },
    {
     "name": "stdout",
     "output_type": "stream",
     "text": [
      "Using DataLoader with shuffle=False\n",
      "Using DataLoader with shuffle=False\n"
     ]
    },
    {
     "name": "stderr",
     "output_type": "stream",
     "text": [
      "/usr/local/lib/python3.10/dist-packages/lightning/pytorch/trainer/connectors/data_connector.py:424: PossibleUserWarning:\n",
      "\n",
      "The 'predict_dataloader' does not have many workers which may be a bottleneck. Consider increasing the value of the `num_workers` argument` to `num_workers=5` in the `DataLoader` to improve performance.\n",
      "\n"
     ]
    },
    {
     "name": "stdout",
     "output_type": "stream",
     "text": [
      "Predicting DataLoader 0: 100%|██████████| 41/41 [00:00<00:00, 161.68it/s]\n",
      "Running classification metrics...\n",
      "Running model analysis...\n",
      "Using DataLoader with shuffle=False\n",
      "t-SNE plot saved to /workspaces/container-workspace/tts-gan/Notebooks/Encoder_evaluation/logs/teste/0/RealWorld_waist/run_20241216-172724/tsne_cpc_finetuned_kuhar.pdf\n",
      "Metrics saved to /workspaces/container-workspace/tts-gan/Notebooks/Encoder_evaluation/logs/teste/0/RealWorld_waist/run_20241216-172724/metrics_2024-12-16-17-27-296786b187fb094cf1be40b481efd77538.yaml\n",
      "Pipeline info saved at: /workspaces/container-workspace/tts-gan/Notebooks/Encoder_evaluation/logs/teste/0/RealWorld_waist/run_20241216-172724/run_2024-12-16-17-27-296786b187fb094cf1be40b481efd77538.yaml\n",
      "\n",
      "\n",
      "checkpoint number: 0 | repeat 2 | data name: RealWorld_waist | checkpoint name: UCI_DAGHAR_Multiclass_50000_D_60_6axis_2024_12_16_15_30_53/Model/checkpoint\n",
      "\n",
      "\n",
      "Model loaded from gan_dict.pth\n",
      "When loading model, the following keys are unexpected: ['2.clshead.1.weight', '2.clshead.1.bias', '2.clshead.2.weight', '2.clshead.2.bias']. Ignoring unexpected keys.\n"
     ]
    },
    {
     "name": "stderr",
     "output_type": "stream",
     "text": [
      "/workspaces/container-workspace/tts-gan/Notebooks/Encoder_evaluation/encoder_finetuning.py:48: FutureWarning:\n",
      "\n",
      "You are using `torch.load` with `weights_only=False` (the current default value), which uses the default pickle module implicitly. It is possible to construct malicious pickle data which will execute arbitrary code during unpickling (See https://github.com/pytorch/pytorch/blob/main/SECURITY.md#untrusted-models for more details). In a future release, the default value for `weights_only` will be flipped to `True`. This limits the functions that could be executed during unpickling. Arbitrary objects will no longer be allowed to be loaded via this mode unless they are explicitly allowlisted by the user via `torch.serialization.add_safe_globals`. We recommend you start setting `weights_only=True` for any use case where you don't have full control of the loaded file. Please open an issue on GitHub for any issues related to this experimental feature.\n",
      "\n"
     ]
    },
    {
     "name": "stdout",
     "output_type": "stream",
     "text": [
      "Using DataLoader with shuffle=True\n"
     ]
    },
    {
     "name": "stderr",
     "output_type": "stream",
     "text": [
      "GPU available: True (cuda), used: True\n",
      "TPU available: False, using: 0 TPU cores\n",
      "HPU available: False, using: 0 HPUs\n",
      "Seed set to 42\n"
     ]
    },
    {
     "name": "stdout",
     "output_type": "stream",
     "text": [
      "Log directory set to: /workspaces/container-workspace/tts-gan/Notebooks/Encoder_evaluation/logs/teste/0/RealWorld_waist/run_20241216-172746\n",
      "Pipeline info saved at: /workspaces/container-workspace/tts-gan/Notebooks/Encoder_evaluation/logs/teste/0/RealWorld_waist/run_20241216-172746/run_2024-12-16-17-27-476d11415f6643482ba422fa026d310fc1.yaml\n"
     ]
    },
    {
     "name": "stderr",
     "output_type": "stream",
     "text": [
      "/usr/local/lib/python3.10/dist-packages/lightning/pytorch/callbacks/model_checkpoint.py:654: UserWarning:\n",
      "\n",
      "Checkpoint directory /workspaces/container-workspace/tts-gan/Notebooks/Encoder_evaluation/checkpoints exists and is not empty.\n",
      "\n",
      "LOCAL_RANK: 0 - CUDA_VISIBLE_DEVICES: [0]\n",
      "\n",
      "  | Name     | Type             | Params | Mode \n",
      "------------------------------------------------------\n",
      "0 | backbone | TTSGAN_Encoder   | 96.8 K | train\n",
      "1 | fc       | MLP              | 32.9 K | train\n",
      "2 | loss_fn  | CrossEntropyLoss | 0      | train\n",
      "------------------------------------------------------\n",
      "129 K     Trainable params\n",
      "0         Non-trainable params\n",
      "129 K     Total params\n",
      "0.519     Total estimated model params size (MB)\n",
      "71        Modules in train mode\n",
      "0         Modules in eval mode\n"
     ]
    },
    {
     "name": "stdout",
     "output_type": "stream",
     "text": [
      "Sanity Checking: |          | 0/? [00:00<?, ?it/s]Using DataLoader with shuffle=False\n"
     ]
    },
    {
     "name": "stderr",
     "output_type": "stream",
     "text": [
      "/usr/local/lib/python3.10/dist-packages/lightning/pytorch/trainer/connectors/data_connector.py:424: PossibleUserWarning:\n",
      "\n",
      "The 'val_dataloader' does not have many workers which may be a bottleneck. Consider increasing the value of the `num_workers` argument` to `num_workers=5` in the `DataLoader` to improve performance.\n",
      "\n"
     ]
    },
    {
     "name": "stdout",
     "output_type": "stream",
     "text": [
      "Using DataLoader with shuffle=True                                          \n"
     ]
    },
    {
     "name": "stderr",
     "output_type": "stream",
     "text": [
      "/usr/local/lib/python3.10/dist-packages/lightning/pytorch/trainer/connectors/data_connector.py:424: PossibleUserWarning:\n",
      "\n",
      "The 'train_dataloader' does not have many workers which may be a bottleneck. Consider increasing the value of the `num_workers` argument` to `num_workers=5` in the `DataLoader` to improve performance.\n",
      "\n"
     ]
    },
    {
     "name": "stdout",
     "output_type": "stream",
     "text": [
      "Epoch 0: 100%|██████████| 161/161 [00:02<00:00, 58.96it/s, v_num=2746, val_loss=1.160, val_acc=0.523, train_loss=1.450, train_acc=0.447]"
     ]
    },
    {
     "name": "stderr",
     "output_type": "stream",
     "text": [
      "`Trainer.fit` stopped: `max_epochs=1` reached.\n"
     ]
    },
    {
     "name": "stdout",
     "output_type": "stream",
     "text": [
      "Epoch 0: 100%|██████████| 161/161 [00:02<00:00, 56.35it/s, v_num=2746, val_loss=1.160, val_acc=0.523, train_loss=1.450, train_acc=0.447]\n"
     ]
    },
    {
     "name": "stderr",
     "output_type": "stream",
     "text": [
      "Seed set to 42\n"
     ]
    },
    {
     "name": "stdout",
     "output_type": "stream",
     "text": [
      "Pipeline info saved at: /workspaces/container-workspace/tts-gan/Notebooks/Encoder_evaluation/logs/teste/0/RealWorld_waist/run_20241216-172746/run_2024-12-16-17-27-476d11415f6643482ba422fa026d310fc1.yaml\n",
      "Log directory set to: /workspaces/container-workspace/tts-gan/Notebooks/Encoder_evaluation/logs/teste/0/RealWorld_waist/run_20241216-172746\n",
      "Pipeline info saved at: /workspaces/container-workspace/tts-gan/Notebooks/Encoder_evaluation/logs/teste/0/RealWorld_waist/run_20241216-172746/run_2024-12-16-17-27-516f73bce159fd4cb287cb07fe5fd7eae5.yaml\n"
     ]
    },
    {
     "name": "stderr",
     "output_type": "stream",
     "text": [
      "Restoring states from the checkpoint path at /workspaces/container-workspace/tts-gan/Notebooks/Encoder_evaluation/checkpoints/epoch=0-step=161-v23.ckpt\n"
     ]
    },
    {
     "name": "stdout",
     "output_type": "stream",
     "text": [
      "Using DataLoader with shuffle=False\n"
     ]
    },
    {
     "name": "stderr",
     "output_type": "stream",
     "text": [
      "LOCAL_RANK: 0 - CUDA_VISIBLE_DEVICES: [0]\n",
      "Loaded model weights from the checkpoint at /workspaces/container-workspace/tts-gan/Notebooks/Encoder_evaluation/checkpoints/epoch=0-step=161-v23.ckpt\n"
     ]
    },
    {
     "name": "stdout",
     "output_type": "stream",
     "text": [
      "Using DataLoader with shuffle=False\n"
     ]
    },
    {
     "name": "stderr",
     "output_type": "stream",
     "text": [
      "/usr/local/lib/python3.10/dist-packages/lightning/pytorch/trainer/connectors/data_connector.py:424: PossibleUserWarning:\n",
      "\n",
      "The 'predict_dataloader' does not have many workers which may be a bottleneck. Consider increasing the value of the `num_workers` argument` to `num_workers=5` in the `DataLoader` to improve performance.\n",
      "\n"
     ]
    },
    {
     "name": "stdout",
     "output_type": "stream",
     "text": [
      "Predicting DataLoader 0: 100%|██████████| 41/41 [00:00<00:00, 219.26it/s]\n",
      "Running classification metrics...\n",
      "Running model analysis...\n",
      "Using DataLoader with shuffle=False\n",
      "t-SNE plot saved to /workspaces/container-workspace/tts-gan/Notebooks/Encoder_evaluation/logs/teste/0/RealWorld_waist/run_20241216-172746/tsne_cpc_finetuned_kuhar.pdf\n",
      "Metrics saved to /workspaces/container-workspace/tts-gan/Notebooks/Encoder_evaluation/logs/teste/0/RealWorld_waist/run_20241216-172746/metrics_2024-12-16-17-27-516f73bce159fd4cb287cb07fe5fd7eae5.yaml\n",
      "Pipeline info saved at: /workspaces/container-workspace/tts-gan/Notebooks/Encoder_evaluation/logs/teste/0/RealWorld_waist/run_20241216-172746/run_2024-12-16-17-27-516f73bce159fd4cb287cb07fe5fd7eae5.yaml\n",
      "\n",
      "\n",
      "checkpoint number: 0 | repeat 3 | data name: RealWorld_waist | checkpoint name: UCI_DAGHAR_Multiclass_50000_D_60_6axis_2024_12_16_15_30_53/Model/checkpoint\n",
      "\n",
      "\n",
      "Model loaded from gan_dict.pth\n",
      "When loading model, the following keys are unexpected: ['2.clshead.1.weight', '2.clshead.1.bias', '2.clshead.2.weight', '2.clshead.2.bias']. Ignoring unexpected keys.\n"
     ]
    },
    {
     "name": "stderr",
     "output_type": "stream",
     "text": [
      "/workspaces/container-workspace/tts-gan/Notebooks/Encoder_evaluation/encoder_finetuning.py:48: FutureWarning:\n",
      "\n",
      "You are using `torch.load` with `weights_only=False` (the current default value), which uses the default pickle module implicitly. It is possible to construct malicious pickle data which will execute arbitrary code during unpickling (See https://github.com/pytorch/pytorch/blob/main/SECURITY.md#untrusted-models for more details). In a future release, the default value for `weights_only` will be flipped to `True`. This limits the functions that could be executed during unpickling. Arbitrary objects will no longer be allowed to be loaded via this mode unless they are explicitly allowlisted by the user via `torch.serialization.add_safe_globals`. We recommend you start setting `weights_only=True` for any use case where you don't have full control of the loaded file. Please open an issue on GitHub for any issues related to this experimental feature.\n",
      "\n"
     ]
    },
    {
     "name": "stdout",
     "output_type": "stream",
     "text": [
      "Using DataLoader with shuffle=True\n"
     ]
    },
    {
     "name": "stderr",
     "output_type": "stream",
     "text": [
      "GPU available: True (cuda), used: True\n",
      "TPU available: False, using: 0 TPU cores\n",
      "HPU available: False, using: 0 HPUs\n",
      "Seed set to 42\n"
     ]
    },
    {
     "name": "stdout",
     "output_type": "stream",
     "text": [
      "Log directory set to: /workspaces/container-workspace/tts-gan/Notebooks/Encoder_evaluation/logs/teste/0/RealWorld_waist/run_20241216-172807\n",
      "Pipeline info saved at: /workspaces/container-workspace/tts-gan/Notebooks/Encoder_evaluation/logs/teste/0/RealWorld_waist/run_20241216-172807/run_2024-12-16-17-28-083220b3813e3546c08a5bf9cfd8fc51da.yaml\n"
     ]
    },
    {
     "name": "stderr",
     "output_type": "stream",
     "text": [
      "/usr/local/lib/python3.10/dist-packages/lightning/pytorch/callbacks/model_checkpoint.py:654: UserWarning:\n",
      "\n",
      "Checkpoint directory /workspaces/container-workspace/tts-gan/Notebooks/Encoder_evaluation/checkpoints exists and is not empty.\n",
      "\n",
      "LOCAL_RANK: 0 - CUDA_VISIBLE_DEVICES: [0]\n",
      "\n",
      "  | Name     | Type             | Params | Mode \n",
      "------------------------------------------------------\n",
      "0 | backbone | TTSGAN_Encoder   | 96.8 K | train\n",
      "1 | fc       | MLP              | 32.9 K | train\n",
      "2 | loss_fn  | CrossEntropyLoss | 0      | train\n",
      "------------------------------------------------------\n",
      "129 K     Trainable params\n",
      "0         Non-trainable params\n",
      "129 K     Total params\n",
      "0.519     Total estimated model params size (MB)\n",
      "71        Modules in train mode\n",
      "0         Modules in eval mode\n"
     ]
    },
    {
     "name": "stdout",
     "output_type": "stream",
     "text": [
      "Sanity Checking: |          | 0/? [00:00<?, ?it/s]Using DataLoader with shuffle=False\n"
     ]
    },
    {
     "name": "stderr",
     "output_type": "stream",
     "text": [
      "/usr/local/lib/python3.10/dist-packages/lightning/pytorch/trainer/connectors/data_connector.py:424: PossibleUserWarning:\n",
      "\n",
      "The 'val_dataloader' does not have many workers which may be a bottleneck. Consider increasing the value of the `num_workers` argument` to `num_workers=5` in the `DataLoader` to improve performance.\n",
      "\n"
     ]
    },
    {
     "name": "stdout",
     "output_type": "stream",
     "text": [
      "Using DataLoader with shuffle=True                                         \n"
     ]
    },
    {
     "name": "stderr",
     "output_type": "stream",
     "text": [
      "/usr/local/lib/python3.10/dist-packages/lightning/pytorch/trainer/connectors/data_connector.py:424: PossibleUserWarning:\n",
      "\n",
      "The 'train_dataloader' does not have many workers which may be a bottleneck. Consider increasing the value of the `num_workers` argument` to `num_workers=5` in the `DataLoader` to improve performance.\n",
      "\n"
     ]
    },
    {
     "name": "stdout",
     "output_type": "stream",
     "text": [
      "Epoch 0: 100%|██████████| 161/161 [00:02<00:00, 59.89it/s, v_num=2807, val_loss=1.160, val_acc=0.523, train_loss=1.450, train_acc=0.447]"
     ]
    },
    {
     "name": "stderr",
     "output_type": "stream",
     "text": [
      "`Trainer.fit` stopped: `max_epochs=1` reached.\n"
     ]
    },
    {
     "name": "stdout",
     "output_type": "stream",
     "text": [
      "Epoch 0: 100%|██████████| 161/161 [00:02<00:00, 57.56it/s, v_num=2807, val_loss=1.160, val_acc=0.523, train_loss=1.450, train_acc=0.447]\n",
      "Pipeline info saved at: /workspaces/container-workspace/tts-gan/Notebooks/Encoder_evaluation/logs/teste/0/RealWorld_waist/run_20241216-172807/run_2024-12-16-17-28-083220b3813e3546c08a5bf9cfd8fc51da.yaml"
     ]
    },
    {
     "name": "stderr",
     "output_type": "stream",
     "text": [
      "Seed set to 42\n"
     ]
    },
    {
     "name": "stdout",
     "output_type": "stream",
     "text": [
      "\n",
      "Log directory set to: /workspaces/container-workspace/tts-gan/Notebooks/Encoder_evaluation/logs/teste/0/RealWorld_waist/run_20241216-172807\n",
      "Pipeline info saved at: /workspaces/container-workspace/tts-gan/Notebooks/Encoder_evaluation/logs/teste/0/RealWorld_waist/run_20241216-172807/run_2024-12-16-17-28-12c0aa769809fa49669d00c633d346ff98.yaml\n",
      "Using DataLoader with shuffle=False\n"
     ]
    },
    {
     "name": "stderr",
     "output_type": "stream",
     "text": [
      "Restoring states from the checkpoint path at /workspaces/container-workspace/tts-gan/Notebooks/Encoder_evaluation/checkpoints/epoch=0-step=161-v24.ckpt\n",
      "LOCAL_RANK: 0 - CUDA_VISIBLE_DEVICES: [0]\n",
      "Loaded model weights from the checkpoint at /workspaces/container-workspace/tts-gan/Notebooks/Encoder_evaluation/checkpoints/epoch=0-step=161-v24.ckpt\n"
     ]
    },
    {
     "name": "stdout",
     "output_type": "stream",
     "text": [
      "Using DataLoader with shuffle=False\n"
     ]
    },
    {
     "name": "stderr",
     "output_type": "stream",
     "text": [
      "/usr/local/lib/python3.10/dist-packages/lightning/pytorch/trainer/connectors/data_connector.py:424: PossibleUserWarning:\n",
      "\n",
      "The 'predict_dataloader' does not have many workers which may be a bottleneck. Consider increasing the value of the `num_workers` argument` to `num_workers=5` in the `DataLoader` to improve performance.\n",
      "\n"
     ]
    },
    {
     "name": "stdout",
     "output_type": "stream",
     "text": [
      "Predicting DataLoader 0: 100%|██████████| 41/41 [00:00<00:00, 186.30it/s]\n",
      "Running classification metrics...\n",
      "Running model analysis...\n",
      "Using DataLoader with shuffle=False\n",
      "t-SNE plot saved to /workspaces/container-workspace/tts-gan/Notebooks/Encoder_evaluation/logs/teste/0/RealWorld_waist/run_20241216-172807/tsne_cpc_finetuned_kuhar.pdf\n",
      "Metrics saved to /workspaces/container-workspace/tts-gan/Notebooks/Encoder_evaluation/logs/teste/0/RealWorld_waist/run_20241216-172807/metrics_2024-12-16-17-28-12c0aa769809fa49669d00c633d346ff98.yaml\n",
      "Pipeline info saved at: /workspaces/container-workspace/tts-gan/Notebooks/Encoder_evaluation/logs/teste/0/RealWorld_waist/run_20241216-172807/run_2024-12-16-17-28-12c0aa769809fa49669d00c633d346ff98.yaml\n",
      "\n",
      "\n",
      "checkpoint number: 0 | repeat 1 | data name: MotionSense | checkpoint name: UCI_DAGHAR_Multiclass_50000_D_60_6axis_2024_12_16_15_30_53/Model/checkpoint\n",
      "\n",
      "\n",
      "Model loaded from gan_dict.pth\n",
      "When loading model, the following keys are unexpected: ['2.clshead.1.weight', '2.clshead.1.bias', '2.clshead.2.weight', '2.clshead.2.bias']. Ignoring unexpected keys.\n"
     ]
    },
    {
     "name": "stderr",
     "output_type": "stream",
     "text": [
      "/workspaces/container-workspace/tts-gan/Notebooks/Encoder_evaluation/encoder_finetuning.py:48: FutureWarning:\n",
      "\n",
      "You are using `torch.load` with `weights_only=False` (the current default value), which uses the default pickle module implicitly. It is possible to construct malicious pickle data which will execute arbitrary code during unpickling (See https://github.com/pytorch/pytorch/blob/main/SECURITY.md#untrusted-models for more details). In a future release, the default value for `weights_only` will be flipped to `True`. This limits the functions that could be executed during unpickling. Arbitrary objects will no longer be allowed to be loaded via this mode unless they are explicitly allowlisted by the user via `torch.serialization.add_safe_globals`. We recommend you start setting `weights_only=True` for any use case where you don't have full control of the loaded file. Please open an issue on GitHub for any issues related to this experimental feature.\n",
      "\n"
     ]
    },
    {
     "name": "stdout",
     "output_type": "stream",
     "text": [
      "Using DataLoader with shuffle=True\n"
     ]
    },
    {
     "name": "stderr",
     "output_type": "stream",
     "text": [
      "GPU available: True (cuda), used: True\n",
      "TPU available: False, using: 0 TPU cores\n",
      "HPU available: False, using: 0 HPUs\n",
      "Seed set to 42\n"
     ]
    },
    {
     "name": "stdout",
     "output_type": "stream",
     "text": [
      "Log directory set to: /workspaces/container-workspace/tts-gan/Notebooks/Encoder_evaluation/logs/teste/0/MotionSense/run_20241216-172829\n",
      "Pipeline info saved at: /workspaces/container-workspace/tts-gan/Notebooks/Encoder_evaluation/logs/teste/0/MotionSense/run_20241216-172829/run_2024-12-16-17-28-30cc24499f29cd4c79915c0d6f917a76ec.yaml\n"
     ]
    },
    {
     "name": "stderr",
     "output_type": "stream",
     "text": [
      "/usr/local/lib/python3.10/dist-packages/lightning/pytorch/callbacks/model_checkpoint.py:654: UserWarning:\n",
      "\n",
      "Checkpoint directory /workspaces/container-workspace/tts-gan/Notebooks/Encoder_evaluation/checkpoints exists and is not empty.\n",
      "\n",
      "LOCAL_RANK: 0 - CUDA_VISIBLE_DEVICES: [0]\n",
      "\n",
      "  | Name     | Type             | Params | Mode \n",
      "------------------------------------------------------\n",
      "0 | backbone | TTSGAN_Encoder   | 96.8 K | train\n",
      "1 | fc       | MLP              | 32.9 K | train\n",
      "2 | loss_fn  | CrossEntropyLoss | 0      | train\n",
      "------------------------------------------------------\n",
      "129 K     Trainable params\n",
      "0         Non-trainable params\n",
      "129 K     Total params\n",
      "0.519     Total estimated model params size (MB)\n",
      "71        Modules in train mode\n",
      "0         Modules in eval mode\n"
     ]
    },
    {
     "name": "stdout",
     "output_type": "stream",
     "text": [
      "Sanity Checking: |          | 0/? [00:00<?, ?it/s]Using DataLoader with shuffle=False\n"
     ]
    },
    {
     "name": "stderr",
     "output_type": "stream",
     "text": [
      "/usr/local/lib/python3.10/dist-packages/lightning/pytorch/trainer/connectors/data_connector.py:424: PossibleUserWarning:\n",
      "\n",
      "The 'val_dataloader' does not have many workers which may be a bottleneck. Consider increasing the value of the `num_workers` argument` to `num_workers=5` in the `DataLoader` to improve performance.\n",
      "\n"
     ]
    },
    {
     "name": "stdout",
     "output_type": "stream",
     "text": [
      "Using DataLoader with shuffle=True                                          \n"
     ]
    },
    {
     "name": "stderr",
     "output_type": "stream",
     "text": [
      "/usr/local/lib/python3.10/dist-packages/lightning/pytorch/trainer/connectors/data_connector.py:424: PossibleUserWarning:\n",
      "\n",
      "The 'train_dataloader' does not have many workers which may be a bottleneck. Consider increasing the value of the `num_workers` argument` to `num_workers=5` in the `DataLoader` to improve performance.\n",
      "\n"
     ]
    },
    {
     "name": "stdout",
     "output_type": "stream",
     "text": [
      "Epoch 0: 100%|██████████| 55/55 [00:00<00:00, 56.41it/s, v_num=2829, val_loss=0.953, val_acc=0.591, train_loss=1.890, train_acc=0.388]"
     ]
    },
    {
     "name": "stderr",
     "output_type": "stream",
     "text": [
      "`Trainer.fit` stopped: `max_epochs=1` reached.\n"
     ]
    },
    {
     "name": "stdout",
     "output_type": "stream",
     "text": [
      "Epoch 0: 100%|██████████| 55/55 [00:01<00:00, 50.27it/s, v_num=2829, val_loss=0.953, val_acc=0.591, train_loss=1.890, train_acc=0.388]\n"
     ]
    },
    {
     "name": "stderr",
     "output_type": "stream",
     "text": [
      "Seed set to 42\n"
     ]
    },
    {
     "name": "stdout",
     "output_type": "stream",
     "text": [
      "Pipeline info saved at: /workspaces/container-workspace/tts-gan/Notebooks/Encoder_evaluation/logs/teste/0/MotionSense/run_20241216-172829/run_2024-12-16-17-28-30cc24499f29cd4c79915c0d6f917a76ec.yaml\n",
      "Log directory set to: /workspaces/container-workspace/tts-gan/Notebooks/Encoder_evaluation/logs/teste/0/MotionSense/run_20241216-172829\n",
      "Pipeline info saved at: /workspaces/container-workspace/tts-gan/Notebooks/Encoder_evaluation/logs/teste/0/MotionSense/run_20241216-172829/run_2024-12-16-17-28-32fc36c21b7736402997c2b8ecdcf093f5.yaml\n"
     ]
    },
    {
     "name": "stderr",
     "output_type": "stream",
     "text": [
      "Restoring states from the checkpoint path at /workspaces/container-workspace/tts-gan/Notebooks/Encoder_evaluation/checkpoints/epoch=0-step=55-v11.ckpt\n",
      "LOCAL_RANK: 0 - CUDA_VISIBLE_DEVICES: [0]\n",
      "Loaded model weights from the checkpoint at /workspaces/container-workspace/tts-gan/Notebooks/Encoder_evaluation/checkpoints/epoch=0-step=55-v11.ckpt\n"
     ]
    },
    {
     "name": "stdout",
     "output_type": "stream",
     "text": [
      "Using DataLoader with shuffle=False\n",
      "Using DataLoader with shuffle=False\n"
     ]
    },
    {
     "name": "stderr",
     "output_type": "stream",
     "text": [
      "/usr/local/lib/python3.10/dist-packages/lightning/pytorch/trainer/connectors/data_connector.py:424: PossibleUserWarning:\n",
      "\n",
      "The 'predict_dataloader' does not have many workers which may be a bottleneck. Consider increasing the value of the `num_workers` argument` to `num_workers=5` in the `DataLoader` to improve performance.\n",
      "\n"
     ]
    },
    {
     "name": "stdout",
     "output_type": "stream",
     "text": [
      "Predicting DataLoader 0: 100%|██████████| 17/17 [00:00<00:00, 193.79it/s]\n",
      "Running classification metrics...\n",
      "Running model analysis...\n",
      "Using DataLoader with shuffle=False\n",
      "t-SNE plot saved to /workspaces/container-workspace/tts-gan/Notebooks/Encoder_evaluation/logs/teste/0/MotionSense/run_20241216-172829/tsne_cpc_finetuned_kuhar.pdf\n",
      "Metrics saved to /workspaces/container-workspace/tts-gan/Notebooks/Encoder_evaluation/logs/teste/0/MotionSense/run_20241216-172829/metrics_2024-12-16-17-28-32fc36c21b7736402997c2b8ecdcf093f5.yaml\n",
      "Pipeline info saved at: /workspaces/container-workspace/tts-gan/Notebooks/Encoder_evaluation/logs/teste/0/MotionSense/run_20241216-172829/run_2024-12-16-17-28-32fc36c21b7736402997c2b8ecdcf093f5.yaml\n",
      "\n",
      "\n",
      "checkpoint number: 0 | repeat 2 | data name: MotionSense | checkpoint name: UCI_DAGHAR_Multiclass_50000_D_60_6axis_2024_12_16_15_30_53/Model/checkpoint\n",
      "\n",
      "\n",
      "Model loaded from gan_dict.pth\n",
      "When loading model, the following keys are unexpected: ['2.clshead.1.weight', '2.clshead.1.bias', '2.clshead.2.weight', '2.clshead.2.bias']. Ignoring unexpected keys.\n"
     ]
    },
    {
     "name": "stderr",
     "output_type": "stream",
     "text": [
      "/workspaces/container-workspace/tts-gan/Notebooks/Encoder_evaluation/encoder_finetuning.py:48: FutureWarning:\n",
      "\n",
      "You are using `torch.load` with `weights_only=False` (the current default value), which uses the default pickle module implicitly. It is possible to construct malicious pickle data which will execute arbitrary code during unpickling (See https://github.com/pytorch/pytorch/blob/main/SECURITY.md#untrusted-models for more details). In a future release, the default value for `weights_only` will be flipped to `True`. This limits the functions that could be executed during unpickling. Arbitrary objects will no longer be allowed to be loaded via this mode unless they are explicitly allowlisted by the user via `torch.serialization.add_safe_globals`. We recommend you start setting `weights_only=True` for any use case where you don't have full control of the loaded file. Please open an issue on GitHub for any issues related to this experimental feature.\n",
      "\n"
     ]
    },
    {
     "name": "stdout",
     "output_type": "stream",
     "text": [
      "Using DataLoader with shuffle=True\n"
     ]
    },
    {
     "name": "stderr",
     "output_type": "stream",
     "text": [
      "GPU available: True (cuda), used: True\n",
      "TPU available: False, using: 0 TPU cores\n",
      "HPU available: False, using: 0 HPUs\n",
      "Seed set to 42\n"
     ]
    },
    {
     "name": "stdout",
     "output_type": "stream",
     "text": [
      "Log directory set to: /workspaces/container-workspace/tts-gan/Notebooks/Encoder_evaluation/logs/teste/0/MotionSense/run_20241216-172839\n",
      "Pipeline info saved at: /workspaces/container-workspace/tts-gan/Notebooks/Encoder_evaluation/logs/teste/0/MotionSense/run_20241216-172839/run_2024-12-16-17-28-4040646cb7ca884d6bbd2a60585b719d4c.yaml\n"
     ]
    },
    {
     "name": "stderr",
     "output_type": "stream",
     "text": [
      "/usr/local/lib/python3.10/dist-packages/lightning/pytorch/callbacks/model_checkpoint.py:654: UserWarning:\n",
      "\n",
      "Checkpoint directory /workspaces/container-workspace/tts-gan/Notebooks/Encoder_evaluation/checkpoints exists and is not empty.\n",
      "\n",
      "LOCAL_RANK: 0 - CUDA_VISIBLE_DEVICES: [0]\n",
      "\n",
      "  | Name     | Type             | Params | Mode \n",
      "------------------------------------------------------\n",
      "0 | backbone | TTSGAN_Encoder   | 96.8 K | train\n",
      "1 | fc       | MLP              | 32.9 K | train\n",
      "2 | loss_fn  | CrossEntropyLoss | 0      | train\n",
      "------------------------------------------------------\n",
      "129 K     Trainable params\n",
      "0         Non-trainable params\n",
      "129 K     Total params\n",
      "0.519     Total estimated model params size (MB)\n",
      "71        Modules in train mode\n",
      "0         Modules in eval mode\n"
     ]
    },
    {
     "name": "stdout",
     "output_type": "stream",
     "text": [
      "Sanity Checking: |          | 0/? [00:00<?, ?it/s]Using DataLoader with shuffle=False\n"
     ]
    },
    {
     "name": "stderr",
     "output_type": "stream",
     "text": [
      "/usr/local/lib/python3.10/dist-packages/lightning/pytorch/trainer/connectors/data_connector.py:424: PossibleUserWarning:\n",
      "\n",
      "The 'val_dataloader' does not have many workers which may be a bottleneck. Consider increasing the value of the `num_workers` argument` to `num_workers=5` in the `DataLoader` to improve performance.\n",
      "\n"
     ]
    },
    {
     "name": "stdout",
     "output_type": "stream",
     "text": [
      "Using DataLoader with shuffle=True                                         \n"
     ]
    },
    {
     "name": "stderr",
     "output_type": "stream",
     "text": [
      "/usr/local/lib/python3.10/dist-packages/lightning/pytorch/trainer/connectors/data_connector.py:424: PossibleUserWarning:\n",
      "\n",
      "The 'train_dataloader' does not have many workers which may be a bottleneck. Consider increasing the value of the `num_workers` argument` to `num_workers=5` in the `DataLoader` to improve performance.\n",
      "\n"
     ]
    },
    {
     "name": "stdout",
     "output_type": "stream",
     "text": [
      "Epoch 0: 100%|██████████| 55/55 [00:00<00:00, 55.92it/s, v_num=2839, val_loss=0.953, val_acc=0.591, train_loss=1.890, train_acc=0.388]"
     ]
    },
    {
     "name": "stderr",
     "output_type": "stream",
     "text": [
      "`Trainer.fit` stopped: `max_epochs=1` reached.\n"
     ]
    },
    {
     "name": "stdout",
     "output_type": "stream",
     "text": [
      "Epoch 0: 100%|██████████| 55/55 [00:01<00:00, 50.64it/s, v_num=2839, val_loss=0.953, val_acc=0.591, train_loss=1.890, train_acc=0.388]\n"
     ]
    },
    {
     "name": "stderr",
     "output_type": "stream",
     "text": [
      "Seed set to 42\n"
     ]
    },
    {
     "name": "stdout",
     "output_type": "stream",
     "text": [
      "Pipeline info saved at: /workspaces/container-workspace/tts-gan/Notebooks/Encoder_evaluation/logs/teste/0/MotionSense/run_20241216-172839/run_2024-12-16-17-28-4040646cb7ca884d6bbd2a60585b719d4c.yaml\n",
      "Log directory set to: /workspaces/container-workspace/tts-gan/Notebooks/Encoder_evaluation/logs/teste/0/MotionSense/run_20241216-172839\n",
      "Pipeline info saved at: /workspaces/container-workspace/tts-gan/Notebooks/Encoder_evaluation/logs/teste/0/MotionSense/run_20241216-172839/run_2024-12-16-17-28-4201160878a66145b3bc6ff7cf84ff0c67.yaml\n",
      "Using DataLoader with shuffle=False\n"
     ]
    },
    {
     "name": "stderr",
     "output_type": "stream",
     "text": [
      "Restoring states from the checkpoint path at /workspaces/container-workspace/tts-gan/Notebooks/Encoder_evaluation/checkpoints/epoch=0-step=55-v12.ckpt\n",
      "LOCAL_RANK: 0 - CUDA_VISIBLE_DEVICES: [0]\n",
      "Loaded model weights from the checkpoint at /workspaces/container-workspace/tts-gan/Notebooks/Encoder_evaluation/checkpoints/epoch=0-step=55-v12.ckpt\n"
     ]
    },
    {
     "name": "stdout",
     "output_type": "stream",
     "text": [
      "Using DataLoader with shuffle=False\n"
     ]
    },
    {
     "name": "stderr",
     "output_type": "stream",
     "text": [
      "/usr/local/lib/python3.10/dist-packages/lightning/pytorch/trainer/connectors/data_connector.py:424: PossibleUserWarning:\n",
      "\n",
      "The 'predict_dataloader' does not have many workers which may be a bottleneck. Consider increasing the value of the `num_workers` argument` to `num_workers=5` in the `DataLoader` to improve performance.\n",
      "\n"
     ]
    },
    {
     "name": "stdout",
     "output_type": "stream",
     "text": [
      "Predicting DataLoader 0: 100%|██████████| 17/17 [00:00<00:00, 203.06it/s]\n",
      "Running classification metrics...\n",
      "Running model analysis...\n",
      "Using DataLoader with shuffle=False\n",
      "t-SNE plot saved to /workspaces/container-workspace/tts-gan/Notebooks/Encoder_evaluation/logs/teste/0/MotionSense/run_20241216-172839/tsne_cpc_finetuned_kuhar.pdf\n",
      "Metrics saved to /workspaces/container-workspace/tts-gan/Notebooks/Encoder_evaluation/logs/teste/0/MotionSense/run_20241216-172839/metrics_2024-12-16-17-28-4201160878a66145b3bc6ff7cf84ff0c67.yaml\n",
      "Pipeline info saved at: /workspaces/container-workspace/tts-gan/Notebooks/Encoder_evaluation/logs/teste/0/MotionSense/run_20241216-172839/run_2024-12-16-17-28-4201160878a66145b3bc6ff7cf84ff0c67.yaml\n",
      "\n",
      "\n",
      "checkpoint number: 0 | repeat 3 | data name: MotionSense | checkpoint name: UCI_DAGHAR_Multiclass_50000_D_60_6axis_2024_12_16_15_30_53/Model/checkpoint\n",
      "\n",
      "\n",
      "Model loaded from gan_dict.pth\n",
      "When loading model, the following keys are unexpected: ['2.clshead.1.weight', '2.clshead.1.bias', '2.clshead.2.weight', '2.clshead.2.bias']. Ignoring unexpected keys.\n"
     ]
    },
    {
     "name": "stderr",
     "output_type": "stream",
     "text": [
      "/workspaces/container-workspace/tts-gan/Notebooks/Encoder_evaluation/encoder_finetuning.py:48: FutureWarning:\n",
      "\n",
      "You are using `torch.load` with `weights_only=False` (the current default value), which uses the default pickle module implicitly. It is possible to construct malicious pickle data which will execute arbitrary code during unpickling (See https://github.com/pytorch/pytorch/blob/main/SECURITY.md#untrusted-models for more details). In a future release, the default value for `weights_only` will be flipped to `True`. This limits the functions that could be executed during unpickling. Arbitrary objects will no longer be allowed to be loaded via this mode unless they are explicitly allowlisted by the user via `torch.serialization.add_safe_globals`. We recommend you start setting `weights_only=True` for any use case where you don't have full control of the loaded file. Please open an issue on GitHub for any issues related to this experimental feature.\n",
      "\n"
     ]
    },
    {
     "name": "stdout",
     "output_type": "stream",
     "text": [
      "Using DataLoader with shuffle=True\n"
     ]
    },
    {
     "name": "stderr",
     "output_type": "stream",
     "text": [
      "GPU available: True (cuda), used: True\n",
      "TPU available: False, using: 0 TPU cores\n",
      "HPU available: False, using: 0 HPUs\n",
      "Seed set to 42\n"
     ]
    },
    {
     "name": "stdout",
     "output_type": "stream",
     "text": [
      "Log directory set to: /workspaces/container-workspace/tts-gan/Notebooks/Encoder_evaluation/logs/teste/0/MotionSense/run_20241216-172849\n",
      "Pipeline info saved at: /workspaces/container-workspace/tts-gan/Notebooks/Encoder_evaluation/logs/teste/0/MotionSense/run_20241216-172849/run_2024-12-16-17-28-49fa01c5dab04046aa8e50f6bcc1d63d86.yaml\n"
     ]
    },
    {
     "name": "stderr",
     "output_type": "stream",
     "text": [
      "/usr/local/lib/python3.10/dist-packages/lightning/pytorch/callbacks/model_checkpoint.py:654: UserWarning:\n",
      "\n",
      "Checkpoint directory /workspaces/container-workspace/tts-gan/Notebooks/Encoder_evaluation/checkpoints exists and is not empty.\n",
      "\n",
      "LOCAL_RANK: 0 - CUDA_VISIBLE_DEVICES: [0]\n",
      "\n",
      "  | Name     | Type             | Params | Mode \n",
      "------------------------------------------------------\n",
      "0 | backbone | TTSGAN_Encoder   | 96.8 K | train\n",
      "1 | fc       | MLP              | 32.9 K | train\n",
      "2 | loss_fn  | CrossEntropyLoss | 0      | train\n",
      "------------------------------------------------------\n",
      "129 K     Trainable params\n",
      "0         Non-trainable params\n",
      "129 K     Total params\n",
      "0.519     Total estimated model params size (MB)\n",
      "71        Modules in train mode\n",
      "0         Modules in eval mode\n"
     ]
    },
    {
     "name": "stdout",
     "output_type": "stream",
     "text": [
      "Sanity Checking: |          | 0/? [00:00<?, ?it/s]Using DataLoader with shuffle=False\n"
     ]
    },
    {
     "name": "stderr",
     "output_type": "stream",
     "text": [
      "/usr/local/lib/python3.10/dist-packages/lightning/pytorch/trainer/connectors/data_connector.py:424: PossibleUserWarning:\n",
      "\n",
      "The 'val_dataloader' does not have many workers which may be a bottleneck. Consider increasing the value of the `num_workers` argument` to `num_workers=5` in the `DataLoader` to improve performance.\n",
      "\n"
     ]
    },
    {
     "name": "stdout",
     "output_type": "stream",
     "text": [
      "Using DataLoader with shuffle=True                                          \n"
     ]
    },
    {
     "name": "stderr",
     "output_type": "stream",
     "text": [
      "/usr/local/lib/python3.10/dist-packages/lightning/pytorch/trainer/connectors/data_connector.py:424: PossibleUserWarning:\n",
      "\n",
      "The 'train_dataloader' does not have many workers which may be a bottleneck. Consider increasing the value of the `num_workers` argument` to `num_workers=5` in the `DataLoader` to improve performance.\n",
      "\n"
     ]
    },
    {
     "name": "stdout",
     "output_type": "stream",
     "text": [
      "Epoch 0: 100%|██████████| 55/55 [00:01<00:00, 54.21it/s, v_num=2849, val_loss=0.953, val_acc=0.591, train_loss=1.890, train_acc=0.388]"
     ]
    },
    {
     "name": "stderr",
     "output_type": "stream",
     "text": [
      "`Trainer.fit` stopped: `max_epochs=1` reached.\n"
     ]
    },
    {
     "name": "stdout",
     "output_type": "stream",
     "text": [
      "Epoch 0: 100%|██████████| 55/55 [00:01<00:00, 48.92it/s, v_num=2849, val_loss=0.953, val_acc=0.591, train_loss=1.890, train_acc=0.388]\n"
     ]
    },
    {
     "name": "stderr",
     "output_type": "stream",
     "text": [
      "Seed set to 42\n"
     ]
    },
    {
     "name": "stdout",
     "output_type": "stream",
     "text": [
      "Pipeline info saved at: /workspaces/container-workspace/tts-gan/Notebooks/Encoder_evaluation/logs/teste/0/MotionSense/run_20241216-172849/run_2024-12-16-17-28-49fa01c5dab04046aa8e50f6bcc1d63d86.yaml\n",
      "Log directory set to: /workspaces/container-workspace/tts-gan/Notebooks/Encoder_evaluation/logs/teste/0/MotionSense/run_20241216-172849\n",
      "Pipeline info saved at: /workspaces/container-workspace/tts-gan/Notebooks/Encoder_evaluation/logs/teste/0/MotionSense/run_20241216-172849/run_2024-12-16-17-28-51578b3d7f9ef24b13815546d3fc03c2f8.yaml\n",
      "Using DataLoader with shuffle=False\n"
     ]
    },
    {
     "name": "stderr",
     "output_type": "stream",
     "text": [
      "Restoring states from the checkpoint path at /workspaces/container-workspace/tts-gan/Notebooks/Encoder_evaluation/checkpoints/epoch=0-step=55-v13.ckpt\n",
      "LOCAL_RANK: 0 - CUDA_VISIBLE_DEVICES: [0]\n",
      "Loaded model weights from the checkpoint at /workspaces/container-workspace/tts-gan/Notebooks/Encoder_evaluation/checkpoints/epoch=0-step=55-v13.ckpt\n"
     ]
    },
    {
     "name": "stdout",
     "output_type": "stream",
     "text": [
      "Using DataLoader with shuffle=False\n"
     ]
    },
    {
     "name": "stderr",
     "output_type": "stream",
     "text": [
      "/usr/local/lib/python3.10/dist-packages/lightning/pytorch/trainer/connectors/data_connector.py:424: PossibleUserWarning:\n",
      "\n",
      "The 'predict_dataloader' does not have many workers which may be a bottleneck. Consider increasing the value of the `num_workers` argument` to `num_workers=5` in the `DataLoader` to improve performance.\n",
      "\n"
     ]
    },
    {
     "name": "stdout",
     "output_type": "stream",
     "text": [
      "Predicting DataLoader 0: 100%|██████████| 17/17 [00:00<00:00, 175.65it/s]\n",
      "Running classification metrics...\n",
      "Running model analysis...\n",
      "Using DataLoader with shuffle=False\n",
      "t-SNE plot saved to /workspaces/container-workspace/tts-gan/Notebooks/Encoder_evaluation/logs/teste/0/MotionSense/run_20241216-172849/tsne_cpc_finetuned_kuhar.pdf\n",
      "Metrics saved to /workspaces/container-workspace/tts-gan/Notebooks/Encoder_evaluation/logs/teste/0/MotionSense/run_20241216-172849/metrics_2024-12-16-17-28-51578b3d7f9ef24b13815546d3fc03c2f8.yaml\n",
      "Pipeline info saved at: /workspaces/container-workspace/tts-gan/Notebooks/Encoder_evaluation/logs/teste/0/MotionSense/run_20241216-172849/run_2024-12-16-17-28-51578b3d7f9ef24b13815546d3fc03c2f8.yaml\n",
      "\n",
      "\n",
      "checkpoint number: 0 | repeat 1 | data name: RealWorld_thigh | checkpoint name: UCI_DAGHAR_Multiclass_50000_D_60_6axis_2024_12_16_15_30_53/Model/checkpoint\n",
      "\n",
      "\n",
      "Model loaded from gan_dict.pth\n",
      "When loading model, the following keys are unexpected: ['2.clshead.1.weight', '2.clshead.1.bias', '2.clshead.2.weight', '2.clshead.2.bias']. Ignoring unexpected keys.\n"
     ]
    },
    {
     "name": "stderr",
     "output_type": "stream",
     "text": [
      "/workspaces/container-workspace/tts-gan/Notebooks/Encoder_evaluation/encoder_finetuning.py:48: FutureWarning:\n",
      "\n",
      "You are using `torch.load` with `weights_only=False` (the current default value), which uses the default pickle module implicitly. It is possible to construct malicious pickle data which will execute arbitrary code during unpickling (See https://github.com/pytorch/pytorch/blob/main/SECURITY.md#untrusted-models for more details). In a future release, the default value for `weights_only` will be flipped to `True`. This limits the functions that could be executed during unpickling. Arbitrary objects will no longer be allowed to be loaded via this mode unless they are explicitly allowlisted by the user via `torch.serialization.add_safe_globals`. We recommend you start setting `weights_only=True` for any use case where you don't have full control of the loaded file. Please open an issue on GitHub for any issues related to this experimental feature.\n",
      "\n"
     ]
    },
    {
     "name": "stdout",
     "output_type": "stream",
     "text": [
      "Using DataLoader with shuffle=True\n"
     ]
    },
    {
     "name": "stderr",
     "output_type": "stream",
     "text": [
      "GPU available: True (cuda), used: True\n",
      "TPU available: False, using: 0 TPU cores\n",
      "HPU available: False, using: 0 HPUs\n",
      "Seed set to 42\n"
     ]
    },
    {
     "name": "stdout",
     "output_type": "stream",
     "text": [
      "Log directory set to: /workspaces/container-workspace/tts-gan/Notebooks/Encoder_evaluation/logs/teste/0/RealWorld_thigh/run_20241216-172858\n",
      "Pipeline info saved at: /workspaces/container-workspace/tts-gan/Notebooks/Encoder_evaluation/logs/teste/0/RealWorld_thigh/run_20241216-172858/run_2024-12-16-17-29-004b6110379a814dac86a65653eddab964.yaml\n"
     ]
    },
    {
     "name": "stderr",
     "output_type": "stream",
     "text": [
      "/usr/local/lib/python3.10/dist-packages/lightning/pytorch/callbacks/model_checkpoint.py:654: UserWarning:\n",
      "\n",
      "Checkpoint directory /workspaces/container-workspace/tts-gan/Notebooks/Encoder_evaluation/checkpoints exists and is not empty.\n",
      "\n",
      "LOCAL_RANK: 0 - CUDA_VISIBLE_DEVICES: [0]\n",
      "\n",
      "  | Name     | Type             | Params | Mode \n",
      "------------------------------------------------------\n",
      "0 | backbone | TTSGAN_Encoder   | 96.8 K | train\n",
      "1 | fc       | MLP              | 32.9 K | train\n",
      "2 | loss_fn  | CrossEntropyLoss | 0      | train\n",
      "------------------------------------------------------\n",
      "129 K     Trainable params\n",
      "0         Non-trainable params\n",
      "129 K     Total params\n",
      "0.519     Total estimated model params size (MB)\n",
      "71        Modules in train mode\n",
      "0         Modules in eval mode\n"
     ]
    },
    {
     "name": "stdout",
     "output_type": "stream",
     "text": [
      "Sanity Checking: |          | 0/? [00:00<?, ?it/s]Using DataLoader with shuffle=False\n"
     ]
    },
    {
     "name": "stderr",
     "output_type": "stream",
     "text": [
      "/usr/local/lib/python3.10/dist-packages/lightning/pytorch/trainer/connectors/data_connector.py:424: PossibleUserWarning:\n",
      "\n",
      "The 'val_dataloader' does not have many workers which may be a bottleneck. Consider increasing the value of the `num_workers` argument` to `num_workers=5` in the `DataLoader` to improve performance.\n",
      "\n"
     ]
    },
    {
     "name": "stdout",
     "output_type": "stream",
     "text": [
      "Using DataLoader with shuffle=True                                          \n"
     ]
    },
    {
     "name": "stderr",
     "output_type": "stream",
     "text": [
      "/usr/local/lib/python3.10/dist-packages/lightning/pytorch/trainer/connectors/data_connector.py:424: PossibleUserWarning:\n",
      "\n",
      "The 'train_dataloader' does not have many workers which may be a bottleneck. Consider increasing the value of the `num_workers` argument` to `num_workers=5` in the `DataLoader` to improve performance.\n",
      "\n"
     ]
    },
    {
     "name": "stdout",
     "output_type": "stream",
     "text": [
      "Epoch 0: 100%|██████████| 161/161 [00:02<00:00, 59.75it/s, v_num=2858, val_loss=1.150, val_acc=0.501, train_loss=1.390, train_acc=0.475]"
     ]
    },
    {
     "name": "stderr",
     "output_type": "stream",
     "text": [
      "`Trainer.fit` stopped: `max_epochs=1` reached.\n"
     ]
    },
    {
     "name": "stdout",
     "output_type": "stream",
     "text": [
      "Epoch 0: 100%|██████████| 161/161 [00:02<00:00, 57.42it/s, v_num=2858, val_loss=1.150, val_acc=0.501, train_loss=1.390, train_acc=0.475]\n"
     ]
    },
    {
     "name": "stderr",
     "output_type": "stream",
     "text": [
      "Seed set to 42\n"
     ]
    },
    {
     "name": "stdout",
     "output_type": "stream",
     "text": [
      "Pipeline info saved at: /workspaces/container-workspace/tts-gan/Notebooks/Encoder_evaluation/logs/teste/0/RealWorld_thigh/run_20241216-172858/run_2024-12-16-17-29-004b6110379a814dac86a65653eddab964.yaml\n",
      "Log directory set to: /workspaces/container-workspace/tts-gan/Notebooks/Encoder_evaluation/logs/teste/0/RealWorld_thigh/run_20241216-172858\n",
      "Pipeline info saved at: /workspaces/container-workspace/tts-gan/Notebooks/Encoder_evaluation/logs/teste/0/RealWorld_thigh/run_20241216-172858/run_2024-12-16-17-29-041bfb5925684747c5b0ccaf1325ebdda8.yaml\n"
     ]
    },
    {
     "name": "stderr",
     "output_type": "stream",
     "text": [
      "Restoring states from the checkpoint path at /workspaces/container-workspace/tts-gan/Notebooks/Encoder_evaluation/checkpoints/epoch=0-step=161-v25.ckpt\n",
      "LOCAL_RANK: 0 - CUDA_VISIBLE_DEVICES: [0]\n",
      "Loaded model weights from the checkpoint at /workspaces/container-workspace/tts-gan/Notebooks/Encoder_evaluation/checkpoints/epoch=0-step=161-v25.ckpt\n"
     ]
    },
    {
     "name": "stdout",
     "output_type": "stream",
     "text": [
      "Using DataLoader with shuffle=False\n",
      "Using DataLoader with shuffle=False\n"
     ]
    },
    {
     "name": "stderr",
     "output_type": "stream",
     "text": [
      "/usr/local/lib/python3.10/dist-packages/lightning/pytorch/trainer/connectors/data_connector.py:424: PossibleUserWarning:\n",
      "\n",
      "The 'predict_dataloader' does not have many workers which may be a bottleneck. Consider increasing the value of the `num_workers` argument` to `num_workers=5` in the `DataLoader` to improve performance.\n",
      "\n"
     ]
    },
    {
     "name": "stdout",
     "output_type": "stream",
     "text": [
      "Predicting DataLoader 0: 100%|██████████| 46/46 [00:00<00:00, 211.20it/s]\n",
      "Running classification metrics...\n",
      "Running model analysis...\n",
      "Using DataLoader with shuffle=False\n",
      "t-SNE plot saved to /workspaces/container-workspace/tts-gan/Notebooks/Encoder_evaluation/logs/teste/0/RealWorld_thigh/run_20241216-172858/tsne_cpc_finetuned_kuhar.pdf\n",
      "Metrics saved to /workspaces/container-workspace/tts-gan/Notebooks/Encoder_evaluation/logs/teste/0/RealWorld_thigh/run_20241216-172858/metrics_2024-12-16-17-29-041bfb5925684747c5b0ccaf1325ebdda8.yaml\n",
      "Pipeline info saved at: /workspaces/container-workspace/tts-gan/Notebooks/Encoder_evaluation/logs/teste/0/RealWorld_thigh/run_20241216-172858/run_2024-12-16-17-29-041bfb5925684747c5b0ccaf1325ebdda8.yaml\n",
      "\n",
      "\n",
      "checkpoint number: 0 | repeat 2 | data name: RealWorld_thigh | checkpoint name: UCI_DAGHAR_Multiclass_50000_D_60_6axis_2024_12_16_15_30_53/Model/checkpoint\n",
      "\n",
      "\n",
      "Model loaded from gan_dict.pth\n",
      "When loading model, the following keys are unexpected: ['2.clshead.1.weight', '2.clshead.1.bias', '2.clshead.2.weight', '2.clshead.2.bias']. Ignoring unexpected keys.\n"
     ]
    },
    {
     "name": "stderr",
     "output_type": "stream",
     "text": [
      "/workspaces/container-workspace/tts-gan/Notebooks/Encoder_evaluation/encoder_finetuning.py:48: FutureWarning:\n",
      "\n",
      "You are using `torch.load` with `weights_only=False` (the current default value), which uses the default pickle module implicitly. It is possible to construct malicious pickle data which will execute arbitrary code during unpickling (See https://github.com/pytorch/pytorch/blob/main/SECURITY.md#untrusted-models for more details). In a future release, the default value for `weights_only` will be flipped to `True`. This limits the functions that could be executed during unpickling. Arbitrary objects will no longer be allowed to be loaded via this mode unless they are explicitly allowlisted by the user via `torch.serialization.add_safe_globals`. We recommend you start setting `weights_only=True` for any use case where you don't have full control of the loaded file. Please open an issue on GitHub for any issues related to this experimental feature.\n",
      "\n"
     ]
    },
    {
     "name": "stdout",
     "output_type": "stream",
     "text": [
      "Using DataLoader with shuffle=True\n"
     ]
    },
    {
     "name": "stderr",
     "output_type": "stream",
     "text": [
      "GPU available: True (cuda), used: True\n",
      "TPU available: False, using: 0 TPU cores\n",
      "HPU available: False, using: 0 HPUs\n",
      "Seed set to 42\n"
     ]
    },
    {
     "name": "stdout",
     "output_type": "stream",
     "text": [
      "Log directory set to: /workspaces/container-workspace/tts-gan/Notebooks/Encoder_evaluation/logs/teste/0/RealWorld_thigh/run_20241216-172924\n",
      "Pipeline info saved at: /workspaces/container-workspace/tts-gan/Notebooks/Encoder_evaluation/logs/teste/0/RealWorld_thigh/run_20241216-172924/run_2024-12-16-17-29-257b05dd2be38643458730ef80f39837f5.yaml\n"
     ]
    },
    {
     "name": "stderr",
     "output_type": "stream",
     "text": [
      "/usr/local/lib/python3.10/dist-packages/lightning/pytorch/callbacks/model_checkpoint.py:654: UserWarning:\n",
      "\n",
      "Checkpoint directory /workspaces/container-workspace/tts-gan/Notebooks/Encoder_evaluation/checkpoints exists and is not empty.\n",
      "\n",
      "LOCAL_RANK: 0 - CUDA_VISIBLE_DEVICES: [0]\n",
      "\n",
      "  | Name     | Type             | Params | Mode \n",
      "------------------------------------------------------\n",
      "0 | backbone | TTSGAN_Encoder   | 96.8 K | train\n",
      "1 | fc       | MLP              | 32.9 K | train\n",
      "2 | loss_fn  | CrossEntropyLoss | 0      | train\n",
      "------------------------------------------------------\n",
      "129 K     Trainable params\n",
      "0         Non-trainable params\n",
      "129 K     Total params\n",
      "0.519     Total estimated model params size (MB)\n",
      "71        Modules in train mode\n",
      "0         Modules in eval mode\n"
     ]
    },
    {
     "name": "stdout",
     "output_type": "stream",
     "text": [
      "Sanity Checking: |          | 0/? [00:00<?, ?it/s]Using DataLoader with shuffle=False\n"
     ]
    },
    {
     "name": "stderr",
     "output_type": "stream",
     "text": [
      "/usr/local/lib/python3.10/dist-packages/lightning/pytorch/trainer/connectors/data_connector.py:424: PossibleUserWarning:\n",
      "\n",
      "The 'val_dataloader' does not have many workers which may be a bottleneck. Consider increasing the value of the `num_workers` argument` to `num_workers=5` in the `DataLoader` to improve performance.\n",
      "\n"
     ]
    },
    {
     "name": "stdout",
     "output_type": "stream",
     "text": [
      "Using DataLoader with shuffle=True                                          \n"
     ]
    },
    {
     "name": "stderr",
     "output_type": "stream",
     "text": [
      "/usr/local/lib/python3.10/dist-packages/lightning/pytorch/trainer/connectors/data_connector.py:424: PossibleUserWarning:\n",
      "\n",
      "The 'train_dataloader' does not have many workers which may be a bottleneck. Consider increasing the value of the `num_workers` argument` to `num_workers=5` in the `DataLoader` to improve performance.\n",
      "\n"
     ]
    },
    {
     "name": "stdout",
     "output_type": "stream",
     "text": [
      "Epoch 0: 100%|██████████| 161/161 [00:02<00:00, 56.40it/s, v_num=2924, val_loss=1.150, val_acc=0.501, train_loss=1.390, train_acc=0.475]"
     ]
    },
    {
     "name": "stderr",
     "output_type": "stream",
     "text": [
      "`Trainer.fit` stopped: `max_epochs=1` reached.\n"
     ]
    },
    {
     "name": "stdout",
     "output_type": "stream",
     "text": [
      "Epoch 0: 100%|██████████| 161/161 [00:03<00:00, 50.92it/s, v_num=2924, val_loss=1.150, val_acc=0.501, train_loss=1.390, train_acc=0.475]"
     ]
    },
    {
     "name": "stderr",
     "output_type": "stream",
     "text": [
      "Seed set to 42\n"
     ]
    },
    {
     "name": "stdout",
     "output_type": "stream",
     "text": [
      "\n",
      "Pipeline info saved at: /workspaces/container-workspace/tts-gan/Notebooks/Encoder_evaluation/logs/teste/0/RealWorld_thigh/run_20241216-172924/run_2024-12-16-17-29-257b05dd2be38643458730ef80f39837f5.yaml\n",
      "Log directory set to: /workspaces/container-workspace/tts-gan/Notebooks/Encoder_evaluation/logs/teste/0/RealWorld_thigh/run_20241216-172924\n",
      "Pipeline info saved at: /workspaces/container-workspace/tts-gan/Notebooks/Encoder_evaluation/logs/teste/0/RealWorld_thigh/run_20241216-172924/run_2024-12-16-17-29-29a4478a60009445a6970b472449eabc1a.yaml\n",
      "Using DataLoader with shuffle=False\n"
     ]
    },
    {
     "name": "stderr",
     "output_type": "stream",
     "text": [
      "Restoring states from the checkpoint path at /workspaces/container-workspace/tts-gan/Notebooks/Encoder_evaluation/checkpoints/epoch=0-step=161-v26.ckpt\n",
      "LOCAL_RANK: 0 - CUDA_VISIBLE_DEVICES: [0]\n",
      "Loaded model weights from the checkpoint at /workspaces/container-workspace/tts-gan/Notebooks/Encoder_evaluation/checkpoints/epoch=0-step=161-v26.ckpt\n"
     ]
    },
    {
     "name": "stdout",
     "output_type": "stream",
     "text": [
      "Using DataLoader with shuffle=False\n"
     ]
    },
    {
     "name": "stderr",
     "output_type": "stream",
     "text": [
      "/usr/local/lib/python3.10/dist-packages/lightning/pytorch/trainer/connectors/data_connector.py:424: PossibleUserWarning:\n",
      "\n",
      "The 'predict_dataloader' does not have many workers which may be a bottleneck. Consider increasing the value of the `num_workers` argument` to `num_workers=5` in the `DataLoader` to improve performance.\n",
      "\n"
     ]
    },
    {
     "name": "stdout",
     "output_type": "stream",
     "text": [
      "Predicting DataLoader 0: 100%|██████████| 46/46 [00:00<00:00, 199.87it/s]\n",
      "Running classification metrics...\n",
      "Running model analysis...\n",
      "Using DataLoader with shuffle=False\n",
      "t-SNE plot saved to /workspaces/container-workspace/tts-gan/Notebooks/Encoder_evaluation/logs/teste/0/RealWorld_thigh/run_20241216-172924/tsne_cpc_finetuned_kuhar.pdf\n",
      "Metrics saved to /workspaces/container-workspace/tts-gan/Notebooks/Encoder_evaluation/logs/teste/0/RealWorld_thigh/run_20241216-172924/metrics_2024-12-16-17-29-29a4478a60009445a6970b472449eabc1a.yaml\n",
      "Pipeline info saved at: /workspaces/container-workspace/tts-gan/Notebooks/Encoder_evaluation/logs/teste/0/RealWorld_thigh/run_20241216-172924/run_2024-12-16-17-29-29a4478a60009445a6970b472449eabc1a.yaml\n",
      "\n",
      "\n",
      "checkpoint number: 0 | repeat 3 | data name: RealWorld_thigh | checkpoint name: UCI_DAGHAR_Multiclass_50000_D_60_6axis_2024_12_16_15_30_53/Model/checkpoint\n",
      "\n",
      "\n",
      "Model loaded from gan_dict.pth\n",
      "When loading model, the following keys are unexpected: ['2.clshead.1.weight', '2.clshead.1.bias', '2.clshead.2.weight', '2.clshead.2.bias']. Ignoring unexpected keys.\n"
     ]
    },
    {
     "name": "stderr",
     "output_type": "stream",
     "text": [
      "/workspaces/container-workspace/tts-gan/Notebooks/Encoder_evaluation/encoder_finetuning.py:48: FutureWarning:\n",
      "\n",
      "You are using `torch.load` with `weights_only=False` (the current default value), which uses the default pickle module implicitly. It is possible to construct malicious pickle data which will execute arbitrary code during unpickling (See https://github.com/pytorch/pytorch/blob/main/SECURITY.md#untrusted-models for more details). In a future release, the default value for `weights_only` will be flipped to `True`. This limits the functions that could be executed during unpickling. Arbitrary objects will no longer be allowed to be loaded via this mode unless they are explicitly allowlisted by the user via `torch.serialization.add_safe_globals`. We recommend you start setting `weights_only=True` for any use case where you don't have full control of the loaded file. Please open an issue on GitHub for any issues related to this experimental feature.\n",
      "\n"
     ]
    },
    {
     "name": "stdout",
     "output_type": "stream",
     "text": [
      "Using DataLoader with shuffle=True\n"
     ]
    },
    {
     "name": "stderr",
     "output_type": "stream",
     "text": [
      "GPU available: True (cuda), used: True\n",
      "TPU available: False, using: 0 TPU cores\n",
      "HPU available: False, using: 0 HPUs\n",
      "Seed set to 42\n"
     ]
    },
    {
     "name": "stdout",
     "output_type": "stream",
     "text": [
      "Log directory set to: /workspaces/container-workspace/tts-gan/Notebooks/Encoder_evaluation/logs/teste/0/RealWorld_thigh/run_20241216-172950\n",
      "Pipeline info saved at: /workspaces/container-workspace/tts-gan/Notebooks/Encoder_evaluation/logs/teste/0/RealWorld_thigh/run_20241216-172950/run_2024-12-16-17-29-50bc618eaf3c99430b9f3eaf072d84f443.yaml\n"
     ]
    },
    {
     "name": "stderr",
     "output_type": "stream",
     "text": [
      "/usr/local/lib/python3.10/dist-packages/lightning/pytorch/callbacks/model_checkpoint.py:654: UserWarning:\n",
      "\n",
      "Checkpoint directory /workspaces/container-workspace/tts-gan/Notebooks/Encoder_evaluation/checkpoints exists and is not empty.\n",
      "\n",
      "LOCAL_RANK: 0 - CUDA_VISIBLE_DEVICES: [0]\n",
      "\n",
      "  | Name     | Type             | Params | Mode \n",
      "------------------------------------------------------\n",
      "0 | backbone | TTSGAN_Encoder   | 96.8 K | train\n",
      "1 | fc       | MLP              | 32.9 K | train\n",
      "2 | loss_fn  | CrossEntropyLoss | 0      | train\n",
      "------------------------------------------------------\n",
      "129 K     Trainable params\n",
      "0         Non-trainable params\n",
      "129 K     Total params\n",
      "0.519     Total estimated model params size (MB)\n",
      "71        Modules in train mode\n",
      "0         Modules in eval mode\n"
     ]
    },
    {
     "name": "stdout",
     "output_type": "stream",
     "text": [
      "Sanity Checking: |          | 0/? [00:00<?, ?it/s]Using DataLoader with shuffle=False\n"
     ]
    },
    {
     "name": "stderr",
     "output_type": "stream",
     "text": [
      "/usr/local/lib/python3.10/dist-packages/lightning/pytorch/trainer/connectors/data_connector.py:424: PossibleUserWarning:\n",
      "\n",
      "The 'val_dataloader' does not have many workers which may be a bottleneck. Consider increasing the value of the `num_workers` argument` to `num_workers=5` in the `DataLoader` to improve performance.\n",
      "\n"
     ]
    },
    {
     "name": "stdout",
     "output_type": "stream",
     "text": [
      "Using DataLoader with shuffle=True                                          \n"
     ]
    },
    {
     "name": "stderr",
     "output_type": "stream",
     "text": [
      "/usr/local/lib/python3.10/dist-packages/lightning/pytorch/trainer/connectors/data_connector.py:424: PossibleUserWarning:\n",
      "\n",
      "The 'train_dataloader' does not have many workers which may be a bottleneck. Consider increasing the value of the `num_workers` argument` to `num_workers=5` in the `DataLoader` to improve performance.\n",
      "\n"
     ]
    },
    {
     "name": "stdout",
     "output_type": "stream",
     "text": [
      "Epoch 0: 100%|██████████| 161/161 [00:02<00:00, 57.99it/s, v_num=2950, val_loss=1.150, val_acc=0.501, train_loss=1.390, train_acc=0.475]"
     ]
    },
    {
     "name": "stderr",
     "output_type": "stream",
     "text": [
      "`Trainer.fit` stopped: `max_epochs=1` reached.\n"
     ]
    },
    {
     "name": "stdout",
     "output_type": "stream",
     "text": [
      "Epoch 0: 100%|██████████| 161/161 [00:02<00:00, 55.81it/s, v_num=2950, val_loss=1.150, val_acc=0.501, train_loss=1.390, train_acc=0.475]\n",
      "Pipeline info saved at: /workspaces/container-workspace/tts-gan/Notebooks/Encoder_evaluation/logs/teste/0/RealWorld_thigh/run_20241216-172950/run_2024-12-16-17-29-50bc618eaf3c99430b9f3eaf072d84f443.yaml\n"
     ]
    },
    {
     "name": "stderr",
     "output_type": "stream",
     "text": [
      "Seed set to 42\n"
     ]
    },
    {
     "name": "stdout",
     "output_type": "stream",
     "text": [
      "Log directory set to: /workspaces/container-workspace/tts-gan/Notebooks/Encoder_evaluation/logs/teste/0/RealWorld_thigh/run_20241216-172950\n",
      "Pipeline info saved at: /workspaces/container-workspace/tts-gan/Notebooks/Encoder_evaluation/logs/teste/0/RealWorld_thigh/run_20241216-172950/run_2024-12-16-17-29-548800a99c9fa14652ac5ae727463e461e.yaml\n"
     ]
    },
    {
     "name": "stderr",
     "output_type": "stream",
     "text": [
      "Restoring states from the checkpoint path at /workspaces/container-workspace/tts-gan/Notebooks/Encoder_evaluation/checkpoints/epoch=0-step=161-v27.ckpt\n"
     ]
    },
    {
     "name": "stdout",
     "output_type": "stream",
     "text": [
      "Using DataLoader with shuffle=False\n"
     ]
    },
    {
     "name": "stderr",
     "output_type": "stream",
     "text": [
      "LOCAL_RANK: 0 - CUDA_VISIBLE_DEVICES: [0]\n",
      "Loaded model weights from the checkpoint at /workspaces/container-workspace/tts-gan/Notebooks/Encoder_evaluation/checkpoints/epoch=0-step=161-v27.ckpt\n"
     ]
    },
    {
     "name": "stdout",
     "output_type": "stream",
     "text": [
      "Using DataLoader with shuffle=False\n"
     ]
    },
    {
     "name": "stderr",
     "output_type": "stream",
     "text": [
      "/usr/local/lib/python3.10/dist-packages/lightning/pytorch/trainer/connectors/data_connector.py:424: PossibleUserWarning:\n",
      "\n",
      "The 'predict_dataloader' does not have many workers which may be a bottleneck. Consider increasing the value of the `num_workers` argument` to `num_workers=5` in the `DataLoader` to improve performance.\n",
      "\n"
     ]
    },
    {
     "name": "stdout",
     "output_type": "stream",
     "text": [
      "Predicting DataLoader 0: 100%|██████████| 46/46 [00:00<00:00, 198.16it/s]\n",
      "Running classification metrics...\n",
      "Running model analysis...\n",
      "Using DataLoader with shuffle=False\n",
      "t-SNE plot saved to /workspaces/container-workspace/tts-gan/Notebooks/Encoder_evaluation/logs/teste/0/RealWorld_thigh/run_20241216-172950/tsne_cpc_finetuned_kuhar.pdf\n",
      "Metrics saved to /workspaces/container-workspace/tts-gan/Notebooks/Encoder_evaluation/logs/teste/0/RealWorld_thigh/run_20241216-172950/metrics_2024-12-16-17-29-548800a99c9fa14652ac5ae727463e461e.yaml\n",
      "Pipeline info saved at: /workspaces/container-workspace/tts-gan/Notebooks/Encoder_evaluation/logs/teste/0/RealWorld_thigh/run_20241216-172950/run_2024-12-16-17-29-548800a99c9fa14652ac5ae727463e461e.yaml\n",
      "\n",
      "\n",
      "checkpoint number: 1 | repeat 1 | data name: UCI | checkpoint name: UCI_DAGHAR_Multiclass_50000_D_60_6axis_2024_12_16_17_00_44/Model/checkpoint\n",
      "\n",
      "\n",
      "Model loaded from gan_dict.pth\n",
      "When loading model, the following keys are unexpected: ['2.clshead.1.weight', '2.clshead.1.bias', '2.clshead.2.weight', '2.clshead.2.bias']. Ignoring unexpected keys.\n"
     ]
    },
    {
     "name": "stderr",
     "output_type": "stream",
     "text": [
      "/workspaces/container-workspace/tts-gan/Notebooks/Encoder_evaluation/encoder_finetuning.py:48: FutureWarning:\n",
      "\n",
      "You are using `torch.load` with `weights_only=False` (the current default value), which uses the default pickle module implicitly. It is possible to construct malicious pickle data which will execute arbitrary code during unpickling (See https://github.com/pytorch/pytorch/blob/main/SECURITY.md#untrusted-models for more details). In a future release, the default value for `weights_only` will be flipped to `True`. This limits the functions that could be executed during unpickling. Arbitrary objects will no longer be allowed to be loaded via this mode unless they are explicitly allowlisted by the user via `torch.serialization.add_safe_globals`. We recommend you start setting `weights_only=True` for any use case where you don't have full control of the loaded file. Please open an issue on GitHub for any issues related to this experimental feature.\n",
      "\n"
     ]
    },
    {
     "name": "stdout",
     "output_type": "stream",
     "text": [
      "Using DataLoader with shuffle=True\n"
     ]
    },
    {
     "name": "stderr",
     "output_type": "stream",
     "text": [
      "GPU available: True (cuda), used: True\n",
      "TPU available: False, using: 0 TPU cores\n",
      "HPU available: False, using: 0 HPUs\n",
      "Seed set to 42\n"
     ]
    },
    {
     "name": "stdout",
     "output_type": "stream",
     "text": [
      "Log directory set to: /workspaces/container-workspace/tts-gan/Notebooks/Encoder_evaluation/logs/teste/1/UCI/run_20241216-173014\n",
      "Pipeline info saved at: /workspaces/container-workspace/tts-gan/Notebooks/Encoder_evaluation/logs/teste/1/UCI/run_20241216-173014/run_2024-12-16-17-30-1540911c60875c4b1e9544b05e6f913261.yaml\n"
     ]
    },
    {
     "name": "stderr",
     "output_type": "stream",
     "text": [
      "/usr/local/lib/python3.10/dist-packages/lightning/pytorch/callbacks/model_checkpoint.py:654: UserWarning:\n",
      "\n",
      "Checkpoint directory /workspaces/container-workspace/tts-gan/Notebooks/Encoder_evaluation/checkpoints exists and is not empty.\n",
      "\n",
      "LOCAL_RANK: 0 - CUDA_VISIBLE_DEVICES: [0]\n",
      "\n",
      "  | Name     | Type             | Params | Mode \n",
      "------------------------------------------------------\n",
      "0 | backbone | TTSGAN_Encoder   | 96.8 K | train\n",
      "1 | fc       | MLP              | 32.9 K | train\n",
      "2 | loss_fn  | CrossEntropyLoss | 0      | train\n",
      "------------------------------------------------------\n",
      "129 K     Trainable params\n",
      "0         Non-trainable params\n",
      "129 K     Total params\n",
      "0.519     Total estimated model params size (MB)\n",
      "71        Modules in train mode\n",
      "0         Modules in eval mode\n"
     ]
    },
    {
     "name": "stdout",
     "output_type": "stream",
     "text": [
      "Sanity Checking: |          | 0/? [00:00<?, ?it/s]Using DataLoader with shuffle=False\n"
     ]
    },
    {
     "name": "stderr",
     "output_type": "stream",
     "text": [
      "/usr/local/lib/python3.10/dist-packages/lightning/pytorch/trainer/connectors/data_connector.py:424: PossibleUserWarning:\n",
      "\n",
      "The 'val_dataloader' does not have many workers which may be a bottleneck. Consider increasing the value of the `num_workers` argument` to `num_workers=5` in the `DataLoader` to improve performance.\n",
      "\n"
     ]
    },
    {
     "name": "stdout",
     "output_type": "stream",
     "text": [
      "Using DataLoader with shuffle=True                                         \n"
     ]
    },
    {
     "name": "stderr",
     "output_type": "stream",
     "text": [
      "/usr/local/lib/python3.10/dist-packages/lightning/pytorch/trainer/connectors/data_connector.py:424: PossibleUserWarning:\n",
      "\n",
      "The 'train_dataloader' does not have many workers which may be a bottleneck. Consider increasing the value of the `num_workers` argument` to `num_workers=5` in the `DataLoader` to improve performance.\n",
      "\n",
      "/usr/local/lib/python3.10/dist-packages/lightning/pytorch/loops/fit_loop.py:298: PossibleUserWarning:\n",
      "\n",
      "The number of training batches (37) is smaller than the logging interval Trainer(log_every_n_steps=50). Set a lower value for log_every_n_steps if you want to see logs for the training epoch.\n",
      "\n"
     ]
    },
    {
     "name": "stdout",
     "output_type": "stream",
     "text": [
      "Epoch 0: 100%|██████████| 37/37 [00:00<00:00, 51.06it/s, v_num=3014, val_loss=1.180, val_acc=0.416, train_loss=1.940, train_acc=0.383]"
     ]
    },
    {
     "name": "stderr",
     "output_type": "stream",
     "text": [
      "`Trainer.fit` stopped: `max_epochs=1` reached.\n"
     ]
    },
    {
     "name": "stdout",
     "output_type": "stream",
     "text": [
      "Epoch 0: 100%|██████████| 37/37 [00:00<00:00, 43.95it/s, v_num=3014, val_loss=1.180, val_acc=0.416, train_loss=1.940, train_acc=0.383]\n"
     ]
    },
    {
     "name": "stderr",
     "output_type": "stream",
     "text": [
      "Seed set to 42\n"
     ]
    },
    {
     "name": "stdout",
     "output_type": "stream",
     "text": [
      "Pipeline info saved at: /workspaces/container-workspace/tts-gan/Notebooks/Encoder_evaluation/logs/teste/1/UCI/run_20241216-173014/run_2024-12-16-17-30-1540911c60875c4b1e9544b05e6f913261.yaml\n",
      "Log directory set to: /workspaces/container-workspace/tts-gan/Notebooks/Encoder_evaluation/logs/teste/1/UCI/run_20241216-173014\n",
      "Pipeline info saved at: /workspaces/container-workspace/tts-gan/Notebooks/Encoder_evaluation/logs/teste/1/UCI/run_20241216-173014/run_2024-12-16-17-30-1663af3cff9bcb408088d99a12673c0cce.yaml\n",
      "Using DataLoader with shuffle=False\n"
     ]
    },
    {
     "name": "stderr",
     "output_type": "stream",
     "text": [
      "Restoring states from the checkpoint path at /workspaces/container-workspace/tts-gan/Notebooks/Encoder_evaluation/checkpoints/epoch=0-step=37-v23.ckpt\n",
      "LOCAL_RANK: 0 - CUDA_VISIBLE_DEVICES: [0]\n",
      "Loaded model weights from the checkpoint at /workspaces/container-workspace/tts-gan/Notebooks/Encoder_evaluation/checkpoints/epoch=0-step=37-v23.ckpt\n"
     ]
    },
    {
     "name": "stdout",
     "output_type": "stream",
     "text": [
      "Using DataLoader with shuffle=False\n"
     ]
    },
    {
     "name": "stderr",
     "output_type": "stream",
     "text": [
      "/usr/local/lib/python3.10/dist-packages/lightning/pytorch/trainer/connectors/data_connector.py:424: PossibleUserWarning:\n",
      "\n",
      "The 'predict_dataloader' does not have many workers which may be a bottleneck. Consider increasing the value of the `num_workers` argument` to `num_workers=5` in the `DataLoader` to improve performance.\n",
      "\n"
     ]
    },
    {
     "name": "stdout",
     "output_type": "stream",
     "text": [
      "Predicting DataLoader 0: 100%|██████████| 11/11 [00:00<00:00, 128.01it/s]\n",
      "Running classification metrics...\n",
      "Running model analysis...\n",
      "Using DataLoader with shuffle=False\n"
     ]
    },
    {
     "name": "stderr",
     "output_type": "stream",
     "text": [
      "/workspaces/container-workspace/Minerva-Dev/minerva/analysis/metrics/balanced_accuracy.py:59: UserWarning:\n",
      "\n",
      "y_pred contains nan values and not all classes passed\n",
      "\n"
     ]
    },
    {
     "name": "stdout",
     "output_type": "stream",
     "text": [
      "t-SNE plot saved to /workspaces/container-workspace/tts-gan/Notebooks/Encoder_evaluation/logs/teste/1/UCI/run_20241216-173014/tsne_cpc_finetuned_kuhar.pdf\n",
      "Metrics saved to /workspaces/container-workspace/tts-gan/Notebooks/Encoder_evaluation/logs/teste/1/UCI/run_20241216-173014/metrics_2024-12-16-17-30-1663af3cff9bcb408088d99a12673c0cce.yaml\n",
      "Pipeline info saved at: /workspaces/container-workspace/tts-gan/Notebooks/Encoder_evaluation/logs/teste/1/UCI/run_20241216-173014/run_2024-12-16-17-30-1663af3cff9bcb408088d99a12673c0cce.yaml\n",
      "\n",
      "\n",
      "checkpoint number: 1 | repeat 2 | data name: UCI | checkpoint name: UCI_DAGHAR_Multiclass_50000_D_60_6axis_2024_12_16_17_00_44/Model/checkpoint\n",
      "\n",
      "\n",
      "Model loaded from gan_dict.pth\n",
      "When loading model, the following keys are unexpected: ['2.clshead.1.weight', '2.clshead.1.bias', '2.clshead.2.weight', '2.clshead.2.bias']. Ignoring unexpected keys.\n"
     ]
    },
    {
     "name": "stderr",
     "output_type": "stream",
     "text": [
      "/workspaces/container-workspace/tts-gan/Notebooks/Encoder_evaluation/encoder_finetuning.py:48: FutureWarning:\n",
      "\n",
      "You are using `torch.load` with `weights_only=False` (the current default value), which uses the default pickle module implicitly. It is possible to construct malicious pickle data which will execute arbitrary code during unpickling (See https://github.com/pytorch/pytorch/blob/main/SECURITY.md#untrusted-models for more details). In a future release, the default value for `weights_only` will be flipped to `True`. This limits the functions that could be executed during unpickling. Arbitrary objects will no longer be allowed to be loaded via this mode unless they are explicitly allowlisted by the user via `torch.serialization.add_safe_globals`. We recommend you start setting `weights_only=True` for any use case where you don't have full control of the loaded file. Please open an issue on GitHub for any issues related to this experimental feature.\n",
      "\n"
     ]
    },
    {
     "name": "stdout",
     "output_type": "stream",
     "text": [
      "Using DataLoader with shuffle=True\n"
     ]
    },
    {
     "name": "stderr",
     "output_type": "stream",
     "text": [
      "GPU available: True (cuda), used: True\n",
      "TPU available: False, using: 0 TPU cores\n",
      "HPU available: False, using: 0 HPUs\n",
      "Seed set to 42\n"
     ]
    },
    {
     "name": "stdout",
     "output_type": "stream",
     "text": [
      "Log directory set to: /workspaces/container-workspace/tts-gan/Notebooks/Encoder_evaluation/logs/teste/1/UCI/run_20241216-173020\n",
      "Pipeline info saved at: /workspaces/container-workspace/tts-gan/Notebooks/Encoder_evaluation/logs/teste/1/UCI/run_20241216-173020/run_2024-12-16-17-30-20f024a1a091b1482bb51583d5dfe32a61.yaml\n"
     ]
    },
    {
     "name": "stderr",
     "output_type": "stream",
     "text": [
      "/usr/local/lib/python3.10/dist-packages/lightning/pytorch/callbacks/model_checkpoint.py:654: UserWarning:\n",
      "\n",
      "Checkpoint directory /workspaces/container-workspace/tts-gan/Notebooks/Encoder_evaluation/checkpoints exists and is not empty.\n",
      "\n",
      "LOCAL_RANK: 0 - CUDA_VISIBLE_DEVICES: [0]\n",
      "\n",
      "  | Name     | Type             | Params | Mode \n",
      "------------------------------------------------------\n",
      "0 | backbone | TTSGAN_Encoder   | 96.8 K | train\n",
      "1 | fc       | MLP              | 32.9 K | train\n",
      "2 | loss_fn  | CrossEntropyLoss | 0      | train\n",
      "------------------------------------------------------\n",
      "129 K     Trainable params\n",
      "0         Non-trainable params\n",
      "129 K     Total params\n",
      "0.519     Total estimated model params size (MB)\n",
      "71        Modules in train mode\n",
      "0         Modules in eval mode\n"
     ]
    },
    {
     "name": "stdout",
     "output_type": "stream",
     "text": [
      "Sanity Checking: |          | 0/? [00:00<?, ?it/s]Using DataLoader with shuffle=False\n"
     ]
    },
    {
     "name": "stderr",
     "output_type": "stream",
     "text": [
      "/usr/local/lib/python3.10/dist-packages/lightning/pytorch/trainer/connectors/data_connector.py:424: PossibleUserWarning:\n",
      "\n",
      "The 'val_dataloader' does not have many workers which may be a bottleneck. Consider increasing the value of the `num_workers` argument` to `num_workers=5` in the `DataLoader` to improve performance.\n",
      "\n"
     ]
    },
    {
     "name": "stdout",
     "output_type": "stream",
     "text": [
      "Using DataLoader with shuffle=True                                          \n"
     ]
    },
    {
     "name": "stderr",
     "output_type": "stream",
     "text": [
      "/usr/local/lib/python3.10/dist-packages/lightning/pytorch/trainer/connectors/data_connector.py:424: PossibleUserWarning:\n",
      "\n",
      "The 'train_dataloader' does not have many workers which may be a bottleneck. Consider increasing the value of the `num_workers` argument` to `num_workers=5` in the `DataLoader` to improve performance.\n",
      "\n",
      "/usr/local/lib/python3.10/dist-packages/lightning/pytorch/loops/fit_loop.py:298: PossibleUserWarning:\n",
      "\n",
      "The number of training batches (37) is smaller than the logging interval Trainer(log_every_n_steps=50). Set a lower value for log_every_n_steps if you want to see logs for the training epoch.\n",
      "\n"
     ]
    },
    {
     "name": "stdout",
     "output_type": "stream",
     "text": [
      "Epoch 0: 100%|██████████| 37/37 [00:00<00:00, 51.13it/s, v_num=3020, val_loss=1.180, val_acc=0.416, train_loss=1.940, train_acc=0.383]"
     ]
    },
    {
     "name": "stderr",
     "output_type": "stream",
     "text": [
      "`Trainer.fit` stopped: `max_epochs=1` reached.\n"
     ]
    },
    {
     "name": "stdout",
     "output_type": "stream",
     "text": [
      "Epoch 0: 100%|██████████| 37/37 [00:00<00:00, 44.49it/s, v_num=3020, val_loss=1.180, val_acc=0.416, train_loss=1.940, train_acc=0.383]\n"
     ]
    },
    {
     "name": "stderr",
     "output_type": "stream",
     "text": [
      "Seed set to 42\n"
     ]
    },
    {
     "name": "stdout",
     "output_type": "stream",
     "text": [
      "Pipeline info saved at: /workspaces/container-workspace/tts-gan/Notebooks/Encoder_evaluation/logs/teste/1/UCI/run_20241216-173020/run_2024-12-16-17-30-20f024a1a091b1482bb51583d5dfe32a61.yaml\n",
      "Log directory set to: /workspaces/container-workspace/tts-gan/Notebooks/Encoder_evaluation/logs/teste/1/UCI/run_20241216-173020\n",
      "Pipeline info saved at: /workspaces/container-workspace/tts-gan/Notebooks/Encoder_evaluation/logs/teste/1/UCI/run_20241216-173020/run_2024-12-16-17-30-2251d088dd9a20444b992039aca36d3749.yaml\n",
      "Using DataLoader with shuffle=False\n"
     ]
    },
    {
     "name": "stderr",
     "output_type": "stream",
     "text": [
      "Restoring states from the checkpoint path at /workspaces/container-workspace/tts-gan/Notebooks/Encoder_evaluation/checkpoints/epoch=0-step=37-v24.ckpt\n",
      "LOCAL_RANK: 0 - CUDA_VISIBLE_DEVICES: [0]\n",
      "Loaded model weights from the checkpoint at /workspaces/container-workspace/tts-gan/Notebooks/Encoder_evaluation/checkpoints/epoch=0-step=37-v24.ckpt\n"
     ]
    },
    {
     "name": "stdout",
     "output_type": "stream",
     "text": [
      "Using DataLoader with shuffle=False\n"
     ]
    },
    {
     "name": "stderr",
     "output_type": "stream",
     "text": [
      "/usr/local/lib/python3.10/dist-packages/lightning/pytorch/trainer/connectors/data_connector.py:424: PossibleUserWarning:\n",
      "\n",
      "The 'predict_dataloader' does not have many workers which may be a bottleneck. Consider increasing the value of the `num_workers` argument` to `num_workers=5` in the `DataLoader` to improve performance.\n",
      "\n"
     ]
    },
    {
     "name": "stdout",
     "output_type": "stream",
     "text": [
      "Predicting DataLoader 0: 100%|██████████| 11/11 [00:00<00:00, 210.20it/s]"
     ]
    },
    {
     "name": "stderr",
     "output_type": "stream",
     "text": [
      "/workspaces/container-workspace/Minerva-Dev/minerva/analysis/metrics/balanced_accuracy.py:59: UserWarning:\n",
      "\n",
      "y_pred contains nan values and not all classes passed\n",
      "\n"
     ]
    },
    {
     "name": "stdout",
     "output_type": "stream",
     "text": [
      "\n",
      "Running classification metrics...\n",
      "Running model analysis...\n",
      "Using DataLoader with shuffle=False\n",
      "t-SNE plot saved to /workspaces/container-workspace/tts-gan/Notebooks/Encoder_evaluation/logs/teste/1/UCI/run_20241216-173020/tsne_cpc_finetuned_kuhar.pdf\n",
      "Metrics saved to /workspaces/container-workspace/tts-gan/Notebooks/Encoder_evaluation/logs/teste/1/UCI/run_20241216-173020/metrics_2024-12-16-17-30-2251d088dd9a20444b992039aca36d3749.yaml\n",
      "Pipeline info saved at: /workspaces/container-workspace/tts-gan/Notebooks/Encoder_evaluation/logs/teste/1/UCI/run_20241216-173020/run_2024-12-16-17-30-2251d088dd9a20444b992039aca36d3749.yaml\n",
      "\n",
      "\n",
      "checkpoint number: 1 | repeat 3 | data name: UCI | checkpoint name: UCI_DAGHAR_Multiclass_50000_D_60_6axis_2024_12_16_17_00_44/Model/checkpoint\n",
      "\n",
      "\n",
      "Model loaded from gan_dict.pth\n",
      "When loading model, the following keys are unexpected: ['2.clshead.1.weight', '2.clshead.1.bias', '2.clshead.2.weight', '2.clshead.2.bias']. Ignoring unexpected keys.\n"
     ]
    },
    {
     "name": "stderr",
     "output_type": "stream",
     "text": [
      "/workspaces/container-workspace/tts-gan/Notebooks/Encoder_evaluation/encoder_finetuning.py:48: FutureWarning:\n",
      "\n",
      "You are using `torch.load` with `weights_only=False` (the current default value), which uses the default pickle module implicitly. It is possible to construct malicious pickle data which will execute arbitrary code during unpickling (See https://github.com/pytorch/pytorch/blob/main/SECURITY.md#untrusted-models for more details). In a future release, the default value for `weights_only` will be flipped to `True`. This limits the functions that could be executed during unpickling. Arbitrary objects will no longer be allowed to be loaded via this mode unless they are explicitly allowlisted by the user via `torch.serialization.add_safe_globals`. We recommend you start setting `weights_only=True` for any use case where you don't have full control of the loaded file. Please open an issue on GitHub for any issues related to this experimental feature.\n",
      "\n"
     ]
    },
    {
     "name": "stdout",
     "output_type": "stream",
     "text": [
      "Using DataLoader with shuffle=True\n"
     ]
    },
    {
     "name": "stderr",
     "output_type": "stream",
     "text": [
      "GPU available: True (cuda), used: True\n",
      "TPU available: False, using: 0 TPU cores\n",
      "HPU available: False, using: 0 HPUs\n",
      "Seed set to 42\n"
     ]
    },
    {
     "name": "stdout",
     "output_type": "stream",
     "text": [
      "Log directory set to: /workspaces/container-workspace/tts-gan/Notebooks/Encoder_evaluation/logs/teste/1/UCI/run_20241216-173026\n",
      "Pipeline info saved at: /workspaces/container-workspace/tts-gan/Notebooks/Encoder_evaluation/logs/teste/1/UCI/run_20241216-173026/run_2024-12-16-17-30-26f2dbe422674e4b7fb93b604f58df78e6.yaml\n"
     ]
    },
    {
     "name": "stderr",
     "output_type": "stream",
     "text": [
      "/usr/local/lib/python3.10/dist-packages/lightning/pytorch/callbacks/model_checkpoint.py:654: UserWarning:\n",
      "\n",
      "Checkpoint directory /workspaces/container-workspace/tts-gan/Notebooks/Encoder_evaluation/checkpoints exists and is not empty.\n",
      "\n",
      "LOCAL_RANK: 0 - CUDA_VISIBLE_DEVICES: [0]\n",
      "\n",
      "  | Name     | Type             | Params | Mode \n",
      "------------------------------------------------------\n",
      "0 | backbone | TTSGAN_Encoder   | 96.8 K | train\n",
      "1 | fc       | MLP              | 32.9 K | train\n",
      "2 | loss_fn  | CrossEntropyLoss | 0      | train\n",
      "------------------------------------------------------\n",
      "129 K     Trainable params\n",
      "0         Non-trainable params\n",
      "129 K     Total params\n",
      "0.519     Total estimated model params size (MB)\n",
      "71        Modules in train mode\n",
      "0         Modules in eval mode\n"
     ]
    },
    {
     "name": "stdout",
     "output_type": "stream",
     "text": [
      "Sanity Checking: |          | 0/? [00:00<?, ?it/s]Using DataLoader with shuffle=False\n"
     ]
    },
    {
     "name": "stderr",
     "output_type": "stream",
     "text": [
      "/usr/local/lib/python3.10/dist-packages/lightning/pytorch/trainer/connectors/data_connector.py:424: PossibleUserWarning:\n",
      "\n",
      "The 'val_dataloader' does not have many workers which may be a bottleneck. Consider increasing the value of the `num_workers` argument` to `num_workers=5` in the `DataLoader` to improve performance.\n",
      "\n"
     ]
    },
    {
     "name": "stdout",
     "output_type": "stream",
     "text": [
      "Using DataLoader with shuffle=True                                         \n"
     ]
    },
    {
     "name": "stderr",
     "output_type": "stream",
     "text": [
      "/usr/local/lib/python3.10/dist-packages/lightning/pytorch/trainer/connectors/data_connector.py:424: PossibleUserWarning:\n",
      "\n",
      "The 'train_dataloader' does not have many workers which may be a bottleneck. Consider increasing the value of the `num_workers` argument` to `num_workers=5` in the `DataLoader` to improve performance.\n",
      "\n",
      "/usr/local/lib/python3.10/dist-packages/lightning/pytorch/loops/fit_loop.py:298: PossibleUserWarning:\n",
      "\n",
      "The number of training batches (37) is smaller than the logging interval Trainer(log_every_n_steps=50). Set a lower value for log_every_n_steps if you want to see logs for the training epoch.\n",
      "\n"
     ]
    },
    {
     "name": "stdout",
     "output_type": "stream",
     "text": [
      "Epoch 0: 100%|██████████| 37/37 [00:00<00:00, 49.01it/s, v_num=3026, val_loss=1.180, val_acc=0.416, train_loss=1.940, train_acc=0.383]"
     ]
    },
    {
     "name": "stderr",
     "output_type": "stream",
     "text": [
      "`Trainer.fit` stopped: `max_epochs=1` reached.\n"
     ]
    },
    {
     "name": "stdout",
     "output_type": "stream",
     "text": [
      "Epoch 0: 100%|██████████| 37/37 [00:00<00:00, 43.01it/s, v_num=3026, val_loss=1.180, val_acc=0.416, train_loss=1.940, train_acc=0.383]\n",
      "Pipeline info saved at: /workspaces/container-workspace/tts-gan/Notebooks/Encoder_evaluation/logs/teste/1/UCI/run_20241216-173026/run_2024-12-16-17-30-26f2dbe422674e4b7fb93b604f58df78e6.yaml\n"
     ]
    },
    {
     "name": "stderr",
     "output_type": "stream",
     "text": [
      "Seed set to 42\n"
     ]
    },
    {
     "name": "stdout",
     "output_type": "stream",
     "text": [
      "Log directory set to: /workspaces/container-workspace/tts-gan/Notebooks/Encoder_evaluation/logs/teste/1/UCI/run_20241216-173026\n",
      "Pipeline info saved at: /workspaces/container-workspace/tts-gan/Notebooks/Encoder_evaluation/logs/teste/1/UCI/run_20241216-173026/run_2024-12-16-17-30-27d8f207c4734847eeb0a1d443cb84e9cd.yaml\n",
      "Using DataLoader with shuffle=False\n"
     ]
    },
    {
     "name": "stderr",
     "output_type": "stream",
     "text": [
      "Restoring states from the checkpoint path at /workspaces/container-workspace/tts-gan/Notebooks/Encoder_evaluation/checkpoints/epoch=0-step=37-v25.ckpt\n",
      "LOCAL_RANK: 0 - CUDA_VISIBLE_DEVICES: [0]\n",
      "Loaded model weights from the checkpoint at /workspaces/container-workspace/tts-gan/Notebooks/Encoder_evaluation/checkpoints/epoch=0-step=37-v25.ckpt\n"
     ]
    },
    {
     "name": "stdout",
     "output_type": "stream",
     "text": [
      "Using DataLoader with shuffle=False\n"
     ]
    },
    {
     "name": "stderr",
     "output_type": "stream",
     "text": [
      "/usr/local/lib/python3.10/dist-packages/lightning/pytorch/trainer/connectors/data_connector.py:424: PossibleUserWarning:\n",
      "\n",
      "The 'predict_dataloader' does not have many workers which may be a bottleneck. Consider increasing the value of the `num_workers` argument` to `num_workers=5` in the `DataLoader` to improve performance.\n",
      "\n"
     ]
    },
    {
     "name": "stdout",
     "output_type": "stream",
     "text": [
      "Predicting DataLoader 0: 100%|██████████| 11/11 [00:00<00:00, 190.25it/s]"
     ]
    },
    {
     "name": "stderr",
     "output_type": "stream",
     "text": [
      "/workspaces/container-workspace/Minerva-Dev/minerva/analysis/metrics/balanced_accuracy.py:59: UserWarning:\n",
      "\n",
      "y_pred contains nan values and not all classes passed\n",
      "\n"
     ]
    },
    {
     "name": "stdout",
     "output_type": "stream",
     "text": [
      "\n",
      "Running classification metrics...\n",
      "Running model analysis...\n",
      "Using DataLoader with shuffle=False\n",
      "t-SNE plot saved to /workspaces/container-workspace/tts-gan/Notebooks/Encoder_evaluation/logs/teste/1/UCI/run_20241216-173026/tsne_cpc_finetuned_kuhar.pdf\n",
      "Metrics saved to /workspaces/container-workspace/tts-gan/Notebooks/Encoder_evaluation/logs/teste/1/UCI/run_20241216-173026/metrics_2024-12-16-17-30-27d8f207c4734847eeb0a1d443cb84e9cd.yaml\n",
      "Pipeline info saved at: /workspaces/container-workspace/tts-gan/Notebooks/Encoder_evaluation/logs/teste/1/UCI/run_20241216-173026/run_2024-12-16-17-30-27d8f207c4734847eeb0a1d443cb84e9cd.yaml\n",
      "\n",
      "\n",
      "checkpoint number: 1 | repeat 1 | data name: WISDM | checkpoint name: UCI_DAGHAR_Multiclass_50000_D_60_6axis_2024_12_16_17_00_44/Model/checkpoint\n",
      "\n",
      "\n",
      "Model loaded from gan_dict.pth\n",
      "When loading model, the following keys are unexpected: ['2.clshead.1.weight', '2.clshead.1.bias', '2.clshead.2.weight', '2.clshead.2.bias']. Ignoring unexpected keys.\n"
     ]
    },
    {
     "name": "stderr",
     "output_type": "stream",
     "text": [
      "/workspaces/container-workspace/tts-gan/Notebooks/Encoder_evaluation/encoder_finetuning.py:48: FutureWarning:\n",
      "\n",
      "You are using `torch.load` with `weights_only=False` (the current default value), which uses the default pickle module implicitly. It is possible to construct malicious pickle data which will execute arbitrary code during unpickling (See https://github.com/pytorch/pytorch/blob/main/SECURITY.md#untrusted-models for more details). In a future release, the default value for `weights_only` will be flipped to `True`. This limits the functions that could be executed during unpickling. Arbitrary objects will no longer be allowed to be loaded via this mode unless they are explicitly allowlisted by the user via `torch.serialization.add_safe_globals`. We recommend you start setting `weights_only=True` for any use case where you don't have full control of the loaded file. Please open an issue on GitHub for any issues related to this experimental feature.\n",
      "\n"
     ]
    },
    {
     "name": "stdout",
     "output_type": "stream",
     "text": [
      "Using DataLoader with shuffle=True\n"
     ]
    },
    {
     "name": "stderr",
     "output_type": "stream",
     "text": [
      "GPU available: True (cuda), used: True\n",
      "TPU available: False, using: 0 TPU cores\n",
      "HPU available: False, using: 0 HPUs\n",
      "Seed set to 42\n"
     ]
    },
    {
     "name": "stdout",
     "output_type": "stream",
     "text": [
      "Log directory set to: /workspaces/container-workspace/tts-gan/Notebooks/Encoder_evaluation/logs/teste/1/WISDM/run_20241216-173031\n",
      "Pipeline info saved at: /workspaces/container-workspace/tts-gan/Notebooks/Encoder_evaluation/logs/teste/1/WISDM/run_20241216-173031/run_2024-12-16-17-30-32bab60ea61db54487a02b453c3aed47b1.yaml\n"
     ]
    },
    {
     "name": "stderr",
     "output_type": "stream",
     "text": [
      "/usr/local/lib/python3.10/dist-packages/lightning/pytorch/callbacks/model_checkpoint.py:654: UserWarning:\n",
      "\n",
      "Checkpoint directory /workspaces/container-workspace/tts-gan/Notebooks/Encoder_evaluation/checkpoints exists and is not empty.\n",
      "\n",
      "LOCAL_RANK: 0 - CUDA_VISIBLE_DEVICES: [0]\n",
      "\n",
      "  | Name     | Type             | Params | Mode \n",
      "------------------------------------------------------\n",
      "0 | backbone | TTSGAN_Encoder   | 96.8 K | train\n",
      "1 | fc       | MLP              | 32.9 K | train\n",
      "2 | loss_fn  | CrossEntropyLoss | 0      | train\n",
      "------------------------------------------------------\n",
      "129 K     Trainable params\n",
      "0         Non-trainable params\n",
      "129 K     Total params\n",
      "0.519     Total estimated model params size (MB)\n",
      "71        Modules in train mode\n",
      "0         Modules in eval mode\n"
     ]
    },
    {
     "name": "stdout",
     "output_type": "stream",
     "text": [
      "Sanity Checking: |          | 0/? [00:00<?, ?it/s]Using DataLoader with shuffle=False\n"
     ]
    },
    {
     "name": "stderr",
     "output_type": "stream",
     "text": [
      "/usr/local/lib/python3.10/dist-packages/lightning/pytorch/trainer/connectors/data_connector.py:424: PossibleUserWarning:\n",
      "\n",
      "The 'val_dataloader' does not have many workers which may be a bottleneck. Consider increasing the value of the `num_workers` argument` to `num_workers=5` in the `DataLoader` to improve performance.\n",
      "\n"
     ]
    },
    {
     "name": "stdout",
     "output_type": "stream",
     "text": [
      "Using DataLoader with shuffle=True                                         \n"
     ]
    },
    {
     "name": "stderr",
     "output_type": "stream",
     "text": [
      "/usr/local/lib/python3.10/dist-packages/lightning/pytorch/trainer/connectors/data_connector.py:424: PossibleUserWarning:\n",
      "\n",
      "The 'train_dataloader' does not have many workers which may be a bottleneck. Consider increasing the value of the `num_workers` argument` to `num_workers=5` in the `DataLoader` to improve performance.\n",
      "\n"
     ]
    },
    {
     "name": "stdout",
     "output_type": "stream",
     "text": [
      "Epoch 0: 100%|██████████| 136/136 [00:02<00:00, 60.86it/s, v_num=3031, val_loss=0.533, val_acc=0.651, train_loss=0.912, train_acc=0.583]"
     ]
    },
    {
     "name": "stderr",
     "output_type": "stream",
     "text": [
      "`Trainer.fit` stopped: `max_epochs=1` reached.\n"
     ]
    },
    {
     "name": "stdout",
     "output_type": "stream",
     "text": [
      "Epoch 0: 100%|██████████| 136/136 [00:02<00:00, 57.98it/s, v_num=3031, val_loss=0.533, val_acc=0.651, train_loss=0.912, train_acc=0.583]\n"
     ]
    },
    {
     "name": "stderr",
     "output_type": "stream",
     "text": [
      "Seed set to 42\n"
     ]
    },
    {
     "name": "stdout",
     "output_type": "stream",
     "text": [
      "Pipeline info saved at: /workspaces/container-workspace/tts-gan/Notebooks/Encoder_evaluation/logs/teste/1/WISDM/run_20241216-173031/run_2024-12-16-17-30-32bab60ea61db54487a02b453c3aed47b1.yaml\n",
      "Log directory set to: /workspaces/container-workspace/tts-gan/Notebooks/Encoder_evaluation/logs/teste/1/WISDM/run_20241216-173031\n",
      "Pipeline info saved at: /workspaces/container-workspace/tts-gan/Notebooks/Encoder_evaluation/logs/teste/1/WISDM/run_20241216-173031/run_2024-12-16-17-30-35f852921b67254bff8052164e19968544.yaml\n",
      "Using DataLoader with shuffle=False\n"
     ]
    },
    {
     "name": "stderr",
     "output_type": "stream",
     "text": [
      "Restoring states from the checkpoint path at /workspaces/container-workspace/tts-gan/Notebooks/Encoder_evaluation/checkpoints/epoch=0-step=136-v18.ckpt\n",
      "LOCAL_RANK: 0 - CUDA_VISIBLE_DEVICES: [0]\n",
      "Loaded model weights from the checkpoint at /workspaces/container-workspace/tts-gan/Notebooks/Encoder_evaluation/checkpoints/epoch=0-step=136-v18.ckpt\n"
     ]
    },
    {
     "name": "stdout",
     "output_type": "stream",
     "text": [
      "Using DataLoader with shuffle=False\n"
     ]
    },
    {
     "name": "stderr",
     "output_type": "stream",
     "text": [
      "/usr/local/lib/python3.10/dist-packages/lightning/pytorch/trainer/connectors/data_connector.py:424: PossibleUserWarning:\n",
      "\n",
      "The 'predict_dataloader' does not have many workers which may be a bottleneck. Consider increasing the value of the `num_workers` argument` to `num_workers=5` in the `DataLoader` to improve performance.\n",
      "\n"
     ]
    },
    {
     "name": "stdout",
     "output_type": "stream",
     "text": [
      "Predicting DataLoader 0: 100%|██████████| 41/41 [00:00<00:00, 226.18it/s]\n",
      "Running classification metrics...\n",
      "Running model analysis...\n",
      "Using DataLoader with shuffle=False\n"
     ]
    },
    {
     "name": "stderr",
     "output_type": "stream",
     "text": [
      "/workspaces/container-workspace/Minerva-Dev/minerva/analysis/metrics/balanced_accuracy.py:59: UserWarning:\n",
      "\n",
      "y_pred contains nan values and not all classes passed\n",
      "\n"
     ]
    },
    {
     "name": "stdout",
     "output_type": "stream",
     "text": [
      "t-SNE plot saved to /workspaces/container-workspace/tts-gan/Notebooks/Encoder_evaluation/logs/teste/1/WISDM/run_20241216-173031/tsne_cpc_finetuned_kuhar.pdf\n",
      "Metrics saved to /workspaces/container-workspace/tts-gan/Notebooks/Encoder_evaluation/logs/teste/1/WISDM/run_20241216-173031/metrics_2024-12-16-17-30-35f852921b67254bff8052164e19968544.yaml\n",
      "Pipeline info saved at: /workspaces/container-workspace/tts-gan/Notebooks/Encoder_evaluation/logs/teste/1/WISDM/run_20241216-173031/run_2024-12-16-17-30-35f852921b67254bff8052164e19968544.yaml\n",
      "\n",
      "\n",
      "checkpoint number: 1 | repeat 2 | data name: WISDM | checkpoint name: UCI_DAGHAR_Multiclass_50000_D_60_6axis_2024_12_16_17_00_44/Model/checkpoint\n",
      "\n",
      "\n",
      "Model loaded from gan_dict.pth\n",
      "When loading model, the following keys are unexpected: ['2.clshead.1.weight', '2.clshead.1.bias', '2.clshead.2.weight', '2.clshead.2.bias']. Ignoring unexpected keys.\n"
     ]
    },
    {
     "name": "stderr",
     "output_type": "stream",
     "text": [
      "/workspaces/container-workspace/tts-gan/Notebooks/Encoder_evaluation/encoder_finetuning.py:48: FutureWarning:\n",
      "\n",
      "You are using `torch.load` with `weights_only=False` (the current default value), which uses the default pickle module implicitly. It is possible to construct malicious pickle data which will execute arbitrary code during unpickling (See https://github.com/pytorch/pytorch/blob/main/SECURITY.md#untrusted-models for more details). In a future release, the default value for `weights_only` will be flipped to `True`. This limits the functions that could be executed during unpickling. Arbitrary objects will no longer be allowed to be loaded via this mode unless they are explicitly allowlisted by the user via `torch.serialization.add_safe_globals`. We recommend you start setting `weights_only=True` for any use case where you don't have full control of the loaded file. Please open an issue on GitHub for any issues related to this experimental feature.\n",
      "\n"
     ]
    },
    {
     "name": "stdout",
     "output_type": "stream",
     "text": [
      "Using DataLoader with shuffle=True\n"
     ]
    },
    {
     "name": "stderr",
     "output_type": "stream",
     "text": [
      "GPU available: True (cuda), used: True\n",
      "TPU available: False, using: 0 TPU cores\n",
      "HPU available: False, using: 0 HPUs\n",
      "Seed set to 42\n"
     ]
    },
    {
     "name": "stdout",
     "output_type": "stream",
     "text": [
      "Log directory set to: /workspaces/container-workspace/tts-gan/Notebooks/Encoder_evaluation/logs/teste/1/WISDM/run_20241216-173052\n",
      "Pipeline info saved at: /workspaces/container-workspace/tts-gan/Notebooks/Encoder_evaluation/logs/teste/1/WISDM/run_20241216-173052/run_2024-12-16-17-30-533a7b7cc5739e4cb69021feb6e4ddcf25.yaml\n"
     ]
    },
    {
     "name": "stderr",
     "output_type": "stream",
     "text": [
      "/usr/local/lib/python3.10/dist-packages/lightning/pytorch/callbacks/model_checkpoint.py:654: UserWarning:\n",
      "\n",
      "Checkpoint directory /workspaces/container-workspace/tts-gan/Notebooks/Encoder_evaluation/checkpoints exists and is not empty.\n",
      "\n",
      "LOCAL_RANK: 0 - CUDA_VISIBLE_DEVICES: [0]\n",
      "\n",
      "  | Name     | Type             | Params | Mode \n",
      "------------------------------------------------------\n",
      "0 | backbone | TTSGAN_Encoder   | 96.8 K | train\n",
      "1 | fc       | MLP              | 32.9 K | train\n",
      "2 | loss_fn  | CrossEntropyLoss | 0      | train\n",
      "------------------------------------------------------\n",
      "129 K     Trainable params\n",
      "0         Non-trainable params\n",
      "129 K     Total params\n",
      "0.519     Total estimated model params size (MB)\n",
      "71        Modules in train mode\n",
      "0         Modules in eval mode\n"
     ]
    },
    {
     "name": "stdout",
     "output_type": "stream",
     "text": [
      "Sanity Checking: |          | 0/? [00:00<?, ?it/s]Using DataLoader with shuffle=False\n"
     ]
    },
    {
     "name": "stderr",
     "output_type": "stream",
     "text": [
      "/usr/local/lib/python3.10/dist-packages/lightning/pytorch/trainer/connectors/data_connector.py:424: PossibleUserWarning:\n",
      "\n",
      "The 'val_dataloader' does not have many workers which may be a bottleneck. Consider increasing the value of the `num_workers` argument` to `num_workers=5` in the `DataLoader` to improve performance.\n",
      "\n"
     ]
    },
    {
     "name": "stdout",
     "output_type": "stream",
     "text": [
      "Using DataLoader with shuffle=True                                          \n"
     ]
    },
    {
     "name": "stderr",
     "output_type": "stream",
     "text": [
      "/usr/local/lib/python3.10/dist-packages/lightning/pytorch/trainer/connectors/data_connector.py:424: PossibleUserWarning:\n",
      "\n",
      "The 'train_dataloader' does not have many workers which may be a bottleneck. Consider increasing the value of the `num_workers` argument` to `num_workers=5` in the `DataLoader` to improve performance.\n",
      "\n"
     ]
    },
    {
     "name": "stdout",
     "output_type": "stream",
     "text": [
      "Epoch 0: 100%|██████████| 136/136 [00:02<00:00, 61.46it/s, v_num=3052, val_loss=0.533, val_acc=0.651, train_loss=0.912, train_acc=0.583]"
     ]
    },
    {
     "name": "stderr",
     "output_type": "stream",
     "text": [
      "`Trainer.fit` stopped: `max_epochs=1` reached.\n"
     ]
    },
    {
     "name": "stdout",
     "output_type": "stream",
     "text": [
      "Epoch 0: 100%|██████████| 136/136 [00:02<00:00, 58.75it/s, v_num=3052, val_loss=0.533, val_acc=0.651, train_loss=0.912, train_acc=0.583]\n",
      "Pipeline info saved at: /workspaces/container-workspace/tts-gan/Notebooks/Encoder_evaluation/logs/teste/1/WISDM/run_20241216-173052/run_2024-12-16-17-30-533a7b7cc5739e4cb69021feb6e4ddcf25.yaml\n"
     ]
    },
    {
     "name": "stderr",
     "output_type": "stream",
     "text": [
      "Seed set to 42\n"
     ]
    },
    {
     "name": "stdout",
     "output_type": "stream",
     "text": [
      "Log directory set to: /workspaces/container-workspace/tts-gan/Notebooks/Encoder_evaluation/logs/teste/1/WISDM/run_20241216-173052\n",
      "Pipeline info saved at: /workspaces/container-workspace/tts-gan/Notebooks/Encoder_evaluation/logs/teste/1/WISDM/run_20241216-173052/run_2024-12-16-17-30-5629190827e84a4167a6d6197240ac320c.yaml\n",
      "Using DataLoader with shuffle=False\n"
     ]
    },
    {
     "name": "stderr",
     "output_type": "stream",
     "text": [
      "Restoring states from the checkpoint path at /workspaces/container-workspace/tts-gan/Notebooks/Encoder_evaluation/checkpoints/epoch=0-step=136-v19.ckpt\n",
      "LOCAL_RANK: 0 - CUDA_VISIBLE_DEVICES: [0]\n",
      "Loaded model weights from the checkpoint at /workspaces/container-workspace/tts-gan/Notebooks/Encoder_evaluation/checkpoints/epoch=0-step=136-v19.ckpt\n"
     ]
    },
    {
     "name": "stdout",
     "output_type": "stream",
     "text": [
      "Using DataLoader with shuffle=False\n"
     ]
    },
    {
     "name": "stderr",
     "output_type": "stream",
     "text": [
      "/usr/local/lib/python3.10/dist-packages/lightning/pytorch/trainer/connectors/data_connector.py:424: PossibleUserWarning:\n",
      "\n",
      "The 'predict_dataloader' does not have many workers which may be a bottleneck. Consider increasing the value of the `num_workers` argument` to `num_workers=5` in the `DataLoader` to improve performance.\n",
      "\n"
     ]
    },
    {
     "name": "stdout",
     "output_type": "stream",
     "text": [
      "Predicting DataLoader 0: 100%|██████████| 41/41 [00:00<00:00, 202.24it/s]\n",
      "Running classification metrics...\n",
      "Running model analysis...\n",
      "Using DataLoader with shuffle=False\n"
     ]
    },
    {
     "name": "stderr",
     "output_type": "stream",
     "text": [
      "/workspaces/container-workspace/Minerva-Dev/minerva/analysis/metrics/balanced_accuracy.py:59: UserWarning:\n",
      "\n",
      "y_pred contains nan values and not all classes passed\n",
      "\n"
     ]
    },
    {
     "name": "stdout",
     "output_type": "stream",
     "text": [
      "t-SNE plot saved to /workspaces/container-workspace/tts-gan/Notebooks/Encoder_evaluation/logs/teste/1/WISDM/run_20241216-173052/tsne_cpc_finetuned_kuhar.pdf\n",
      "Metrics saved to /workspaces/container-workspace/tts-gan/Notebooks/Encoder_evaluation/logs/teste/1/WISDM/run_20241216-173052/metrics_2024-12-16-17-30-5629190827e84a4167a6d6197240ac320c.yaml\n",
      "Pipeline info saved at: /workspaces/container-workspace/tts-gan/Notebooks/Encoder_evaluation/logs/teste/1/WISDM/run_20241216-173052/run_2024-12-16-17-30-5629190827e84a4167a6d6197240ac320c.yaml\n",
      "\n",
      "\n",
      "checkpoint number: 1 | repeat 3 | data name: WISDM | checkpoint name: UCI_DAGHAR_Multiclass_50000_D_60_6axis_2024_12_16_17_00_44/Model/checkpoint\n",
      "\n",
      "\n",
      "Model loaded from gan_dict.pth\n",
      "When loading model, the following keys are unexpected: ['2.clshead.1.weight', '2.clshead.1.bias', '2.clshead.2.weight', '2.clshead.2.bias']. Ignoring unexpected keys.\n"
     ]
    },
    {
     "name": "stderr",
     "output_type": "stream",
     "text": [
      "/workspaces/container-workspace/tts-gan/Notebooks/Encoder_evaluation/encoder_finetuning.py:48: FutureWarning:\n",
      "\n",
      "You are using `torch.load` with `weights_only=False` (the current default value), which uses the default pickle module implicitly. It is possible to construct malicious pickle data which will execute arbitrary code during unpickling (See https://github.com/pytorch/pytorch/blob/main/SECURITY.md#untrusted-models for more details). In a future release, the default value for `weights_only` will be flipped to `True`. This limits the functions that could be executed during unpickling. Arbitrary objects will no longer be allowed to be loaded via this mode unless they are explicitly allowlisted by the user via `torch.serialization.add_safe_globals`. We recommend you start setting `weights_only=True` for any use case where you don't have full control of the loaded file. Please open an issue on GitHub for any issues related to this experimental feature.\n",
      "\n"
     ]
    },
    {
     "name": "stdout",
     "output_type": "stream",
     "text": [
      "Using DataLoader with shuffle=True\n"
     ]
    },
    {
     "name": "stderr",
     "output_type": "stream",
     "text": [
      "GPU available: True (cuda), used: True\n",
      "TPU available: False, using: 0 TPU cores\n",
      "HPU available: False, using: 0 HPUs\n",
      "Seed set to 42\n"
     ]
    },
    {
     "name": "stdout",
     "output_type": "stream",
     "text": [
      "Log directory set to: /workspaces/container-workspace/tts-gan/Notebooks/Encoder_evaluation/logs/teste/1/WISDM/run_20241216-173113\n",
      "Pipeline info saved at: /workspaces/container-workspace/tts-gan/Notebooks/Encoder_evaluation/logs/teste/1/WISDM/run_20241216-173113/run_2024-12-16-17-31-139ce2164a741c4fe2a04740f68945198d.yaml\n"
     ]
    },
    {
     "name": "stderr",
     "output_type": "stream",
     "text": [
      "/usr/local/lib/python3.10/dist-packages/lightning/pytorch/callbacks/model_checkpoint.py:654: UserWarning:\n",
      "\n",
      "Checkpoint directory /workspaces/container-workspace/tts-gan/Notebooks/Encoder_evaluation/checkpoints exists and is not empty.\n",
      "\n",
      "LOCAL_RANK: 0 - CUDA_VISIBLE_DEVICES: [0]\n",
      "\n",
      "  | Name     | Type             | Params | Mode \n",
      "------------------------------------------------------\n",
      "0 | backbone | TTSGAN_Encoder   | 96.8 K | train\n",
      "1 | fc       | MLP              | 32.9 K | train\n",
      "2 | loss_fn  | CrossEntropyLoss | 0      | train\n",
      "------------------------------------------------------\n",
      "129 K     Trainable params\n",
      "0         Non-trainable params\n",
      "129 K     Total params\n",
      "0.519     Total estimated model params size (MB)\n",
      "71        Modules in train mode\n",
      "0         Modules in eval mode\n"
     ]
    },
    {
     "name": "stdout",
     "output_type": "stream",
     "text": [
      "Sanity Checking: |          | 0/? [00:00<?, ?it/s]Using DataLoader with shuffle=False\n"
     ]
    },
    {
     "name": "stderr",
     "output_type": "stream",
     "text": [
      "/usr/local/lib/python3.10/dist-packages/lightning/pytorch/trainer/connectors/data_connector.py:424: PossibleUserWarning:\n",
      "\n",
      "The 'val_dataloader' does not have many workers which may be a bottleneck. Consider increasing the value of the `num_workers` argument` to `num_workers=5` in the `DataLoader` to improve performance.\n",
      "\n"
     ]
    },
    {
     "name": "stdout",
     "output_type": "stream",
     "text": [
      "Using DataLoader with shuffle=True                                          \n"
     ]
    },
    {
     "name": "stderr",
     "output_type": "stream",
     "text": [
      "/usr/local/lib/python3.10/dist-packages/lightning/pytorch/trainer/connectors/data_connector.py:424: PossibleUserWarning:\n",
      "\n",
      "The 'train_dataloader' does not have many workers which may be a bottleneck. Consider increasing the value of the `num_workers` argument` to `num_workers=5` in the `DataLoader` to improve performance.\n",
      "\n"
     ]
    },
    {
     "name": "stdout",
     "output_type": "stream",
     "text": [
      "Epoch 0: 100%|██████████| 136/136 [00:02<00:00, 61.88it/s, v_num=3113, val_loss=0.517, val_acc=0.664, train_loss=0.911, train_acc=0.590]"
     ]
    },
    {
     "name": "stderr",
     "output_type": "stream",
     "text": [
      "`Trainer.fit` stopped: `max_epochs=1` reached.\n"
     ]
    },
    {
     "name": "stdout",
     "output_type": "stream",
     "text": [
      "Epoch 0: 100%|██████████| 136/136 [00:02<00:00, 58.49it/s, v_num=3113, val_loss=0.517, val_acc=0.664, train_loss=0.911, train_acc=0.590]\n"
     ]
    },
    {
     "name": "stderr",
     "output_type": "stream",
     "text": [
      "Seed set to 42\n"
     ]
    },
    {
     "name": "stdout",
     "output_type": "stream",
     "text": [
      "Pipeline info saved at: /workspaces/container-workspace/tts-gan/Notebooks/Encoder_evaluation/logs/teste/1/WISDM/run_20241216-173113/run_2024-12-16-17-31-139ce2164a741c4fe2a04740f68945198d.yaml\n",
      "Log directory set to: /workspaces/container-workspace/tts-gan/Notebooks/Encoder_evaluation/logs/teste/1/WISDM/run_20241216-173113\n",
      "Pipeline info saved at: /workspaces/container-workspace/tts-gan/Notebooks/Encoder_evaluation/logs/teste/1/WISDM/run_20241216-173113/run_2024-12-16-17-31-17e20e31390f4544f6979af8b4e936cf25.yaml\n"
     ]
    },
    {
     "name": "stderr",
     "output_type": "stream",
     "text": [
      "Restoring states from the checkpoint path at /workspaces/container-workspace/tts-gan/Notebooks/Encoder_evaluation/checkpoints/epoch=0-step=136-v20.ckpt\n",
      "LOCAL_RANK: 0 - CUDA_VISIBLE_DEVICES: [0]\n",
      "Loaded model weights from the checkpoint at /workspaces/container-workspace/tts-gan/Notebooks/Encoder_evaluation/checkpoints/epoch=0-step=136-v20.ckpt\n"
     ]
    },
    {
     "name": "stdout",
     "output_type": "stream",
     "text": [
      "Using DataLoader with shuffle=False\n",
      "Using DataLoader with shuffle=False\n"
     ]
    },
    {
     "name": "stderr",
     "output_type": "stream",
     "text": [
      "/usr/local/lib/python3.10/dist-packages/lightning/pytorch/trainer/connectors/data_connector.py:424: PossibleUserWarning:\n",
      "\n",
      "The 'predict_dataloader' does not have many workers which may be a bottleneck. Consider increasing the value of the `num_workers` argument` to `num_workers=5` in the `DataLoader` to improve performance.\n",
      "\n"
     ]
    },
    {
     "name": "stdout",
     "output_type": "stream",
     "text": [
      "Predicting DataLoader 0: 100%|██████████| 41/41 [00:00<00:00, 214.62it/s]\n",
      "Running classification metrics...\n",
      "Running model analysis...\n",
      "Using DataLoader with shuffle=False\n"
     ]
    },
    {
     "name": "stderr",
     "output_type": "stream",
     "text": [
      "/workspaces/container-workspace/Minerva-Dev/minerva/analysis/metrics/balanced_accuracy.py:59: UserWarning:\n",
      "\n",
      "y_pred contains nan values and not all classes passed\n",
      "\n"
     ]
    },
    {
     "name": "stdout",
     "output_type": "stream",
     "text": [
      "t-SNE plot saved to /workspaces/container-workspace/tts-gan/Notebooks/Encoder_evaluation/logs/teste/1/WISDM/run_20241216-173113/tsne_cpc_finetuned_kuhar.pdf\n",
      "Metrics saved to /workspaces/container-workspace/tts-gan/Notebooks/Encoder_evaluation/logs/teste/1/WISDM/run_20241216-173113/metrics_2024-12-16-17-31-17e20e31390f4544f6979af8b4e936cf25.yaml\n",
      "Pipeline info saved at: /workspaces/container-workspace/tts-gan/Notebooks/Encoder_evaluation/logs/teste/1/WISDM/run_20241216-173113/run_2024-12-16-17-31-17e20e31390f4544f6979af8b4e936cf25.yaml\n",
      "\n",
      "\n",
      "checkpoint number: 1 | repeat 1 | data name: KuHar | checkpoint name: UCI_DAGHAR_Multiclass_50000_D_60_6axis_2024_12_16_17_00_44/Model/checkpoint\n",
      "\n",
      "\n",
      "Model loaded from gan_dict.pth\n",
      "When loading model, the following keys are unexpected: ['2.clshead.1.weight', '2.clshead.1.bias', '2.clshead.2.weight', '2.clshead.2.bias']. Ignoring unexpected keys.\n"
     ]
    },
    {
     "name": "stderr",
     "output_type": "stream",
     "text": [
      "/workspaces/container-workspace/tts-gan/Notebooks/Encoder_evaluation/encoder_finetuning.py:48: FutureWarning:\n",
      "\n",
      "You are using `torch.load` with `weights_only=False` (the current default value), which uses the default pickle module implicitly. It is possible to construct malicious pickle data which will execute arbitrary code during unpickling (See https://github.com/pytorch/pytorch/blob/main/SECURITY.md#untrusted-models for more details). In a future release, the default value for `weights_only` will be flipped to `True`. This limits the functions that could be executed during unpickling. Arbitrary objects will no longer be allowed to be loaded via this mode unless they are explicitly allowlisted by the user via `torch.serialization.add_safe_globals`. We recommend you start setting `weights_only=True` for any use case where you don't have full control of the loaded file. Please open an issue on GitHub for any issues related to this experimental feature.\n",
      "\n"
     ]
    },
    {
     "name": "stdout",
     "output_type": "stream",
     "text": [
      "Using DataLoader with shuffle=True\n"
     ]
    },
    {
     "name": "stderr",
     "output_type": "stream",
     "text": [
      "GPU available: True (cuda), used: True\n",
      "TPU available: False, using: 0 TPU cores\n",
      "HPU available: False, using: 0 HPUs\n",
      "Seed set to 42\n"
     ]
    },
    {
     "name": "stdout",
     "output_type": "stream",
     "text": [
      "Log directory set to: /workspaces/container-workspace/tts-gan/Notebooks/Encoder_evaluation/logs/teste/1/KuHar/run_20241216-173133\n",
      "Pipeline info saved at: /workspaces/container-workspace/tts-gan/Notebooks/Encoder_evaluation/logs/teste/1/KuHar/run_20241216-173133/run_2024-12-16-17-31-332c9d39ecafae4742bdf0b42604a624c0.yaml\n"
     ]
    },
    {
     "name": "stderr",
     "output_type": "stream",
     "text": [
      "/usr/local/lib/python3.10/dist-packages/lightning/pytorch/callbacks/model_checkpoint.py:654: UserWarning:\n",
      "\n",
      "Checkpoint directory /workspaces/container-workspace/tts-gan/Notebooks/Encoder_evaluation/checkpoints exists and is not empty.\n",
      "\n",
      "LOCAL_RANK: 0 - CUDA_VISIBLE_DEVICES: [0]\n",
      "\n",
      "  | Name     | Type             | Params | Mode \n",
      "------------------------------------------------------\n",
      "0 | backbone | TTSGAN_Encoder   | 96.8 K | train\n",
      "1 | fc       | MLP              | 32.9 K | train\n",
      "2 | loss_fn  | CrossEntropyLoss | 0      | train\n",
      "------------------------------------------------------\n",
      "129 K     Trainable params\n",
      "0         Non-trainable params\n",
      "129 K     Total params\n",
      "0.519     Total estimated model params size (MB)\n",
      "71        Modules in train mode\n",
      "0         Modules in eval mode\n"
     ]
    },
    {
     "name": "stdout",
     "output_type": "stream",
     "text": [
      "Sanity Checking: |          | 0/? [00:00<?, ?it/s]"
     ]
    },
    {
     "name": "stderr",
     "output_type": "stream",
     "text": [
      "/usr/local/lib/python3.10/dist-packages/lightning/pytorch/trainer/connectors/data_connector.py:424: PossibleUserWarning:\n",
      "\n",
      "The 'val_dataloader' does not have many workers which may be a bottleneck. Consider increasing the value of the `num_workers` argument` to `num_workers=5` in the `DataLoader` to improve performance.\n",
      "\n"
     ]
    },
    {
     "name": "stdout",
     "output_type": "stream",
     "text": [
      "Using DataLoader with shuffle=False\n",
      "Using DataLoader with shuffle=True                                         \n"
     ]
    },
    {
     "name": "stderr",
     "output_type": "stream",
     "text": [
      "/usr/local/lib/python3.10/dist-packages/lightning/pytorch/trainer/connectors/data_connector.py:424: PossibleUserWarning:\n",
      "\n",
      "The 'train_dataloader' does not have many workers which may be a bottleneck. Consider increasing the value of the `num_workers` argument` to `num_workers=5` in the `DataLoader` to improve performance.\n",
      "\n",
      "/usr/local/lib/python3.10/dist-packages/lightning/pytorch/loops/fit_loop.py:298: PossibleUserWarning:\n",
      "\n",
      "The number of training batches (21) is smaller than the logging interval Trainer(log_every_n_steps=50). Set a lower value for log_every_n_steps if you want to see logs for the training epoch.\n",
      "\n"
     ]
    },
    {
     "name": "stdout",
     "output_type": "stream",
     "text": [
      "Epoch 0: 100%|██████████| 21/21 [00:00<00:00, 39.16it/s, v_num=3133, val_loss=1.620, val_acc=0.375, train_loss=2.730, train_acc=0.314]"
     ]
    },
    {
     "name": "stderr",
     "output_type": "stream",
     "text": [
      "`Trainer.fit` stopped: `max_epochs=1` reached.\n"
     ]
    },
    {
     "name": "stdout",
     "output_type": "stream",
     "text": [
      "Epoch 0: 100%|██████████| 21/21 [00:00<00:00, 32.67it/s, v_num=3133, val_loss=1.620, val_acc=0.375, train_loss=2.730, train_acc=0.314]\n"
     ]
    },
    {
     "name": "stderr",
     "output_type": "stream",
     "text": [
      "Seed set to 42\n"
     ]
    },
    {
     "name": "stdout",
     "output_type": "stream",
     "text": [
      "Pipeline info saved at: /workspaces/container-workspace/tts-gan/Notebooks/Encoder_evaluation/logs/teste/1/KuHar/run_20241216-173133/run_2024-12-16-17-31-332c9d39ecafae4742bdf0b42604a624c0.yaml\n",
      "Log directory set to: /workspaces/container-workspace/tts-gan/Notebooks/Encoder_evaluation/logs/teste/1/KuHar/run_20241216-173133\n"
     ]
    },
    {
     "name": "stderr",
     "output_type": "stream",
     "text": [
      "Restoring states from the checkpoint path at /workspaces/container-workspace/tts-gan/Notebooks/Encoder_evaluation/checkpoints/epoch=0-step=21-v17.ckpt\n"
     ]
    },
    {
     "name": "stdout",
     "output_type": "stream",
     "text": [
      "Pipeline info saved at: /workspaces/container-workspace/tts-gan/Notebooks/Encoder_evaluation/logs/teste/1/KuHar/run_20241216-173133/run_2024-12-16-17-31-359d66cc72b2864527b8572b8e3509b151.yaml\n",
      "Using DataLoader with shuffle=False\n"
     ]
    },
    {
     "name": "stderr",
     "output_type": "stream",
     "text": [
      "LOCAL_RANK: 0 - CUDA_VISIBLE_DEVICES: [0]\n",
      "Loaded model weights from the checkpoint at /workspaces/container-workspace/tts-gan/Notebooks/Encoder_evaluation/checkpoints/epoch=0-step=21-v17.ckpt\n"
     ]
    },
    {
     "name": "stdout",
     "output_type": "stream",
     "text": [
      "Using DataLoader with shuffle=False\n"
     ]
    },
    {
     "name": "stderr",
     "output_type": "stream",
     "text": [
      "/usr/local/lib/python3.10/dist-packages/lightning/pytorch/trainer/connectors/data_connector.py:424: PossibleUserWarning:\n",
      "\n",
      "The 'predict_dataloader' does not have many workers which may be a bottleneck. Consider increasing the value of the `num_workers` argument` to `num_workers=5` in the `DataLoader` to improve performance.\n",
      "\n"
     ]
    },
    {
     "name": "stdout",
     "output_type": "stream",
     "text": [
      "Predicting DataLoader 0: 100%|██████████| 3/3 [00:00<00:00, 225.55it/s]\n",
      "Running classification metrics...\n",
      "Running model analysis...\n",
      "Using DataLoader with shuffle=False\n",
      "t-SNE plot saved to /workspaces/container-workspace/tts-gan/Notebooks/Encoder_evaluation/logs/teste/1/KuHar/run_20241216-173133/tsne_cpc_finetuned_kuhar.pdf\n",
      "Metrics saved to /workspaces/container-workspace/tts-gan/Notebooks/Encoder_evaluation/logs/teste/1/KuHar/run_20241216-173133/metrics_2024-12-16-17-31-359d66cc72b2864527b8572b8e3509b151.yaml\n",
      "Pipeline info saved at: /workspaces/container-workspace/tts-gan/Notebooks/Encoder_evaluation/logs/teste/1/KuHar/run_20241216-173133/run_2024-12-16-17-31-359d66cc72b2864527b8572b8e3509b151.yaml\n",
      "\n",
      "\n",
      "checkpoint number: 1 | repeat 2 | data name: KuHar | checkpoint name: UCI_DAGHAR_Multiclass_50000_D_60_6axis_2024_12_16_17_00_44/Model/checkpoint\n",
      "\n",
      "\n",
      "Model loaded from gan_dict.pth\n",
      "When loading model, the following keys are unexpected: ['2.clshead.1.weight', '2.clshead.1.bias', '2.clshead.2.weight', '2.clshead.2.bias']. Ignoring unexpected keys.\n"
     ]
    },
    {
     "name": "stderr",
     "output_type": "stream",
     "text": [
      "/workspaces/container-workspace/tts-gan/Notebooks/Encoder_evaluation/encoder_finetuning.py:48: FutureWarning:\n",
      "\n",
      "You are using `torch.load` with `weights_only=False` (the current default value), which uses the default pickle module implicitly. It is possible to construct malicious pickle data which will execute arbitrary code during unpickling (See https://github.com/pytorch/pytorch/blob/main/SECURITY.md#untrusted-models for more details). In a future release, the default value for `weights_only` will be flipped to `True`. This limits the functions that could be executed during unpickling. Arbitrary objects will no longer be allowed to be loaded via this mode unless they are explicitly allowlisted by the user via `torch.serialization.add_safe_globals`. We recommend you start setting `weights_only=True` for any use case where you don't have full control of the loaded file. Please open an issue on GitHub for any issues related to this experimental feature.\n",
      "\n"
     ]
    },
    {
     "name": "stdout",
     "output_type": "stream",
     "text": [
      "Using DataLoader with shuffle=True\n"
     ]
    },
    {
     "name": "stderr",
     "output_type": "stream",
     "text": [
      "GPU available: True (cuda), used: True\n",
      "TPU available: False, using: 0 TPU cores\n",
      "HPU available: False, using: 0 HPUs\n",
      "Seed set to 42\n",
      "/usr/local/lib/python3.10/dist-packages/lightning/pytorch/callbacks/model_checkpoint.py:654: UserWarning:\n",
      "\n",
      "Checkpoint directory /workspaces/container-workspace/tts-gan/Notebooks/Encoder_evaluation/checkpoints exists and is not empty.\n",
      "\n",
      "LOCAL_RANK: 0 - CUDA_VISIBLE_DEVICES: [0]\n",
      "\n",
      "  | Name     | Type             | Params | Mode \n",
      "------------------------------------------------------\n",
      "0 | backbone | TTSGAN_Encoder   | 96.8 K | train\n",
      "1 | fc       | MLP              | 32.9 K | train\n",
      "2 | loss_fn  | CrossEntropyLoss | 0      | train\n",
      "------------------------------------------------------\n",
      "129 K     Trainable params\n",
      "0         Non-trainable params\n",
      "129 K     Total params\n",
      "0.519     Total estimated model params size (MB)\n",
      "71        Modules in train mode\n",
      "0         Modules in eval mode\n"
     ]
    },
    {
     "name": "stdout",
     "output_type": "stream",
     "text": [
      "Log directory set to: /workspaces/container-workspace/tts-gan/Notebooks/Encoder_evaluation/logs/teste/1/KuHar/run_20241216-173135\n",
      "Pipeline info saved at: /workspaces/container-workspace/tts-gan/Notebooks/Encoder_evaluation/logs/teste/1/KuHar/run_20241216-173135/run_2024-12-16-17-31-36911997e88e5d438e96a3328bf8211dc8.yaml\n",
      "Sanity Checking: |          | 0/? [00:00<?, ?it/s]Using DataLoader with shuffle=False\n"
     ]
    },
    {
     "name": "stderr",
     "output_type": "stream",
     "text": [
      "/usr/local/lib/python3.10/dist-packages/lightning/pytorch/trainer/connectors/data_connector.py:424: PossibleUserWarning:\n",
      "\n",
      "The 'val_dataloader' does not have many workers which may be a bottleneck. Consider increasing the value of the `num_workers` argument` to `num_workers=5` in the `DataLoader` to improve performance.\n",
      "\n"
     ]
    },
    {
     "name": "stdout",
     "output_type": "stream",
     "text": [
      "Using DataLoader with shuffle=True                                          \n"
     ]
    },
    {
     "name": "stderr",
     "output_type": "stream",
     "text": [
      "/usr/local/lib/python3.10/dist-packages/lightning/pytorch/trainer/connectors/data_connector.py:424: PossibleUserWarning:\n",
      "\n",
      "The 'train_dataloader' does not have many workers which may be a bottleneck. Consider increasing the value of the `num_workers` argument` to `num_workers=5` in the `DataLoader` to improve performance.\n",
      "\n",
      "/usr/local/lib/python3.10/dist-packages/lightning/pytorch/loops/fit_loop.py:298: PossibleUserWarning:\n",
      "\n",
      "The number of training batches (21) is smaller than the logging interval Trainer(log_every_n_steps=50). Set a lower value for log_every_n_steps if you want to see logs for the training epoch.\n",
      "\n"
     ]
    },
    {
     "name": "stdout",
     "output_type": "stream",
     "text": [
      "Epoch 0: 100%|██████████| 21/21 [00:00<00:00, 46.09it/s, v_num=3135, val_loss=1.620, val_acc=0.375, train_loss=2.730, train_acc=0.314]"
     ]
    },
    {
     "name": "stderr",
     "output_type": "stream",
     "text": [
      "`Trainer.fit` stopped: `max_epochs=1` reached.\n"
     ]
    },
    {
     "name": "stdout",
     "output_type": "stream",
     "text": [
      "Epoch 0: 100%|██████████| 21/21 [00:00<00:00, 37.41it/s, v_num=3135, val_loss=1.620, val_acc=0.375, train_loss=2.730, train_acc=0.314]\n"
     ]
    },
    {
     "name": "stderr",
     "output_type": "stream",
     "text": [
      "Seed set to 42\n"
     ]
    },
    {
     "name": "stdout",
     "output_type": "stream",
     "text": [
      "Pipeline info saved at: /workspaces/container-workspace/tts-gan/Notebooks/Encoder_evaluation/logs/teste/1/KuHar/run_20241216-173135/run_2024-12-16-17-31-36911997e88e5d438e96a3328bf8211dc8.yaml\n",
      "Log directory set to: /workspaces/container-workspace/tts-gan/Notebooks/Encoder_evaluation/logs/teste/1/KuHar/run_20241216-173135\n"
     ]
    },
    {
     "name": "stderr",
     "output_type": "stream",
     "text": [
      "Restoring states from the checkpoint path at /workspaces/container-workspace/tts-gan/Notebooks/Encoder_evaluation/checkpoints/epoch=0-step=21-v18.ckpt\n",
      "LOCAL_RANK: 0 - CUDA_VISIBLE_DEVICES: [0]\n",
      "Loaded model weights from the checkpoint at /workspaces/container-workspace/tts-gan/Notebooks/Encoder_evaluation/checkpoints/epoch=0-step=21-v18.ckpt\n",
      "/usr/local/lib/python3.10/dist-packages/lightning/pytorch/trainer/connectors/data_connector.py:424: PossibleUserWarning:\n",
      "\n",
      "The 'predict_dataloader' does not have many workers which may be a bottleneck. Consider increasing the value of the `num_workers` argument` to `num_workers=5` in the `DataLoader` to improve performance.\n",
      "\n"
     ]
    },
    {
     "name": "stdout",
     "output_type": "stream",
     "text": [
      "Pipeline info saved at: /workspaces/container-workspace/tts-gan/Notebooks/Encoder_evaluation/logs/teste/1/KuHar/run_20241216-173135/run_2024-12-16-17-31-379236b1877a6b4a71ad8001ffb0989293.yaml\n",
      "Using DataLoader with shuffle=False\n",
      "Using DataLoader with shuffle=False\n",
      "Predicting DataLoader 0: 100%|██████████| 3/3 [00:00<00:00, 233.80it/s]\n",
      "Running classification metrics...\n",
      "Running model analysis...\n",
      "Using DataLoader with shuffle=False\n",
      "t-SNE plot saved to /workspaces/container-workspace/tts-gan/Notebooks/Encoder_evaluation/logs/teste/1/KuHar/run_20241216-173135/tsne_cpc_finetuned_kuhar.pdf\n",
      "Metrics saved to /workspaces/container-workspace/tts-gan/Notebooks/Encoder_evaluation/logs/teste/1/KuHar/run_20241216-173135/metrics_2024-12-16-17-31-379236b1877a6b4a71ad8001ffb0989293.yaml\n",
      "Pipeline info saved at: /workspaces/container-workspace/tts-gan/Notebooks/Encoder_evaluation/logs/teste/1/KuHar/run_20241216-173135/run_2024-12-16-17-31-379236b1877a6b4a71ad8001ffb0989293.yaml\n",
      "\n",
      "\n",
      "checkpoint number: 1 | repeat 3 | data name: KuHar | checkpoint name: UCI_DAGHAR_Multiclass_50000_D_60_6axis_2024_12_16_17_00_44/Model/checkpoint\n",
      "\n",
      "\n",
      "Model loaded from gan_dict.pth\n",
      "When loading model, the following keys are unexpected: ['2.clshead.1.weight', '2.clshead.1.bias', '2.clshead.2.weight', '2.clshead.2.bias']. Ignoring unexpected keys.\n"
     ]
    },
    {
     "name": "stderr",
     "output_type": "stream",
     "text": [
      "/workspaces/container-workspace/tts-gan/Notebooks/Encoder_evaluation/encoder_finetuning.py:48: FutureWarning:\n",
      "\n",
      "You are using `torch.load` with `weights_only=False` (the current default value), which uses the default pickle module implicitly. It is possible to construct malicious pickle data which will execute arbitrary code during unpickling (See https://github.com/pytorch/pytorch/blob/main/SECURITY.md#untrusted-models for more details). In a future release, the default value for `weights_only` will be flipped to `True`. This limits the functions that could be executed during unpickling. Arbitrary objects will no longer be allowed to be loaded via this mode unless they are explicitly allowlisted by the user via `torch.serialization.add_safe_globals`. We recommend you start setting `weights_only=True` for any use case where you don't have full control of the loaded file. Please open an issue on GitHub for any issues related to this experimental feature.\n",
      "\n"
     ]
    },
    {
     "name": "stdout",
     "output_type": "stream",
     "text": [
      "Using DataLoader with shuffle=True\n"
     ]
    },
    {
     "name": "stderr",
     "output_type": "stream",
     "text": [
      "GPU available: True (cuda), used: True\n",
      "TPU available: False, using: 0 TPU cores\n",
      "HPU available: False, using: 0 HPUs\n",
      "Seed set to 42\n"
     ]
    },
    {
     "name": "stdout",
     "output_type": "stream",
     "text": [
      "Log directory set to: /workspaces/container-workspace/tts-gan/Notebooks/Encoder_evaluation/logs/teste/1/KuHar/run_20241216-173138\n",
      "Pipeline info saved at: /workspaces/container-workspace/tts-gan/Notebooks/Encoder_evaluation/logs/teste/1/KuHar/run_20241216-173138/run_2024-12-16-17-31-38c7458c8fbd684c08bc558babb275edc4.yaml\n"
     ]
    },
    {
     "name": "stderr",
     "output_type": "stream",
     "text": [
      "/usr/local/lib/python3.10/dist-packages/lightning/pytorch/callbacks/model_checkpoint.py:654: UserWarning:\n",
      "\n",
      "Checkpoint directory /workspaces/container-workspace/tts-gan/Notebooks/Encoder_evaluation/checkpoints exists and is not empty.\n",
      "\n",
      "LOCAL_RANK: 0 - CUDA_VISIBLE_DEVICES: [0]\n",
      "\n",
      "  | Name     | Type             | Params | Mode \n",
      "------------------------------------------------------\n",
      "0 | backbone | TTSGAN_Encoder   | 96.8 K | train\n",
      "1 | fc       | MLP              | 32.9 K | train\n",
      "2 | loss_fn  | CrossEntropyLoss | 0      | train\n",
      "------------------------------------------------------\n",
      "129 K     Trainable params\n",
      "0         Non-trainable params\n",
      "129 K     Total params\n",
      "0.519     Total estimated model params size (MB)\n",
      "71        Modules in train mode\n",
      "0         Modules in eval mode\n"
     ]
    },
    {
     "name": "stdout",
     "output_type": "stream",
     "text": [
      "Sanity Checking: |          | 0/? [00:00<?, ?it/s]Using DataLoader with shuffle=False\n"
     ]
    },
    {
     "name": "stderr",
     "output_type": "stream",
     "text": [
      "/usr/local/lib/python3.10/dist-packages/lightning/pytorch/trainer/connectors/data_connector.py:424: PossibleUserWarning:\n",
      "\n",
      "The 'val_dataloader' does not have many workers which may be a bottleneck. Consider increasing the value of the `num_workers` argument` to `num_workers=5` in the `DataLoader` to improve performance.\n",
      "\n"
     ]
    },
    {
     "name": "stdout",
     "output_type": "stream",
     "text": [
      "Using DataLoader with shuffle=True                                          \n"
     ]
    },
    {
     "name": "stderr",
     "output_type": "stream",
     "text": [
      "/usr/local/lib/python3.10/dist-packages/lightning/pytorch/trainer/connectors/data_connector.py:424: PossibleUserWarning:\n",
      "\n",
      "The 'train_dataloader' does not have many workers which may be a bottleneck. Consider increasing the value of the `num_workers` argument` to `num_workers=5` in the `DataLoader` to improve performance.\n",
      "\n",
      "/usr/local/lib/python3.10/dist-packages/lightning/pytorch/loops/fit_loop.py:298: PossibleUserWarning:\n",
      "\n",
      "The number of training batches (21) is smaller than the logging interval Trainer(log_every_n_steps=50). Set a lower value for log_every_n_steps if you want to see logs for the training epoch.\n",
      "\n"
     ]
    },
    {
     "name": "stdout",
     "output_type": "stream",
     "text": [
      "Epoch 0: 100%|██████████| 21/21 [00:00<00:00, 46.51it/s, v_num=3138, val_loss=1.620, val_acc=0.375, train_loss=2.730, train_acc=0.314]"
     ]
    },
    {
     "name": "stderr",
     "output_type": "stream",
     "text": [
      "`Trainer.fit` stopped: `max_epochs=1` reached.\n"
     ]
    },
    {
     "name": "stdout",
     "output_type": "stream",
     "text": [
      "Epoch 0: 100%|██████████| 21/21 [00:00<00:00, 37.72it/s, v_num=3138, val_loss=1.620, val_acc=0.375, train_loss=2.730, train_acc=0.314]\n"
     ]
    },
    {
     "name": "stderr",
     "output_type": "stream",
     "text": [
      "Seed set to 42\n",
      "Restoring states from the checkpoint path at /workspaces/container-workspace/tts-gan/Notebooks/Encoder_evaluation/checkpoints/epoch=0-step=21-v19.ckpt\n"
     ]
    },
    {
     "name": "stdout",
     "output_type": "stream",
     "text": [
      "Pipeline info saved at: /workspaces/container-workspace/tts-gan/Notebooks/Encoder_evaluation/logs/teste/1/KuHar/run_20241216-173138/run_2024-12-16-17-31-38c7458c8fbd684c08bc558babb275edc4.yaml\n",
      "Log directory set to: /workspaces/container-workspace/tts-gan/Notebooks/Encoder_evaluation/logs/teste/1/KuHar/run_20241216-173138\n",
      "Pipeline info saved at: /workspaces/container-workspace/tts-gan/Notebooks/Encoder_evaluation/logs/teste/1/KuHar/run_20241216-173138/run_2024-12-16-17-31-39c45faaa8851649df9fafb01c26328d26.yaml\n",
      "Using DataLoader with shuffle=False\n"
     ]
    },
    {
     "name": "stderr",
     "output_type": "stream",
     "text": [
      "LOCAL_RANK: 0 - CUDA_VISIBLE_DEVICES: [0]\n",
      "Loaded model weights from the checkpoint at /workspaces/container-workspace/tts-gan/Notebooks/Encoder_evaluation/checkpoints/epoch=0-step=21-v19.ckpt\n"
     ]
    },
    {
     "name": "stdout",
     "output_type": "stream",
     "text": [
      "Using DataLoader with shuffle=False\n"
     ]
    },
    {
     "name": "stderr",
     "output_type": "stream",
     "text": [
      "/usr/local/lib/python3.10/dist-packages/lightning/pytorch/trainer/connectors/data_connector.py:424: PossibleUserWarning:\n",
      "\n",
      "The 'predict_dataloader' does not have many workers which may be a bottleneck. Consider increasing the value of the `num_workers` argument` to `num_workers=5` in the `DataLoader` to improve performance.\n",
      "\n"
     ]
    },
    {
     "name": "stdout",
     "output_type": "stream",
     "text": [
      "Predicting DataLoader 0: 100%|██████████| 3/3 [00:00<00:00, 231.74it/s]\n",
      "Running classification metrics...\n",
      "Running model analysis...\n",
      "Using DataLoader with shuffle=False\n",
      "t-SNE plot saved to /workspaces/container-workspace/tts-gan/Notebooks/Encoder_evaluation/logs/teste/1/KuHar/run_20241216-173138/tsne_cpc_finetuned_kuhar.pdf\n",
      "Metrics saved to /workspaces/container-workspace/tts-gan/Notebooks/Encoder_evaluation/logs/teste/1/KuHar/run_20241216-173138/metrics_2024-12-16-17-31-39c45faaa8851649df9fafb01c26328d26.yaml\n",
      "Pipeline info saved at: /workspaces/container-workspace/tts-gan/Notebooks/Encoder_evaluation/logs/teste/1/KuHar/run_20241216-173138/run_2024-12-16-17-31-39c45faaa8851649df9fafb01c26328d26.yaml\n",
      "\n",
      "\n",
      "checkpoint number: 1 | repeat 1 | data name: RealWorld_waist | checkpoint name: UCI_DAGHAR_Multiclass_50000_D_60_6axis_2024_12_16_17_00_44/Model/checkpoint\n",
      "\n",
      "\n",
      "Model loaded from gan_dict.pth\n",
      "When loading model, the following keys are unexpected: ['2.clshead.1.weight', '2.clshead.1.bias', '2.clshead.2.weight', '2.clshead.2.bias']. Ignoring unexpected keys.\n"
     ]
    },
    {
     "name": "stderr",
     "output_type": "stream",
     "text": [
      "/workspaces/container-workspace/tts-gan/Notebooks/Encoder_evaluation/encoder_finetuning.py:48: FutureWarning:\n",
      "\n",
      "You are using `torch.load` with `weights_only=False` (the current default value), which uses the default pickle module implicitly. It is possible to construct malicious pickle data which will execute arbitrary code during unpickling (See https://github.com/pytorch/pytorch/blob/main/SECURITY.md#untrusted-models for more details). In a future release, the default value for `weights_only` will be flipped to `True`. This limits the functions that could be executed during unpickling. Arbitrary objects will no longer be allowed to be loaded via this mode unless they are explicitly allowlisted by the user via `torch.serialization.add_safe_globals`. We recommend you start setting `weights_only=True` for any use case where you don't have full control of the loaded file. Please open an issue on GitHub for any issues related to this experimental feature.\n",
      "\n"
     ]
    },
    {
     "name": "stdout",
     "output_type": "stream",
     "text": [
      "Using DataLoader with shuffle=True\n"
     ]
    },
    {
     "name": "stderr",
     "output_type": "stream",
     "text": [
      "GPU available: True (cuda), used: True\n",
      "TPU available: False, using: 0 TPU cores\n",
      "HPU available: False, using: 0 HPUs\n",
      "Seed set to 42\n"
     ]
    },
    {
     "name": "stdout",
     "output_type": "stream",
     "text": [
      "Log directory set to: /workspaces/container-workspace/tts-gan/Notebooks/Encoder_evaluation/logs/teste/1/RealWorld_waist/run_20241216-173140\n",
      "Pipeline info saved at: /workspaces/container-workspace/tts-gan/Notebooks/Encoder_evaluation/logs/teste/1/RealWorld_waist/run_20241216-173140/run_2024-12-16-17-31-4153277f8110104e3a88aa15c45c8dcff2.yaml\n"
     ]
    },
    {
     "name": "stderr",
     "output_type": "stream",
     "text": [
      "/usr/local/lib/python3.10/dist-packages/lightning/pytorch/callbacks/model_checkpoint.py:654: UserWarning:\n",
      "\n",
      "Checkpoint directory /workspaces/container-workspace/tts-gan/Notebooks/Encoder_evaluation/checkpoints exists and is not empty.\n",
      "\n",
      "LOCAL_RANK: 0 - CUDA_VISIBLE_DEVICES: [0]\n",
      "\n",
      "  | Name     | Type             | Params | Mode \n",
      "------------------------------------------------------\n",
      "0 | backbone | TTSGAN_Encoder   | 96.8 K | train\n",
      "1 | fc       | MLP              | 32.9 K | train\n",
      "2 | loss_fn  | CrossEntropyLoss | 0      | train\n",
      "------------------------------------------------------\n",
      "129 K     Trainable params\n",
      "0         Non-trainable params\n",
      "129 K     Total params\n",
      "0.519     Total estimated model params size (MB)\n",
      "71        Modules in train mode\n",
      "0         Modules in eval mode\n"
     ]
    },
    {
     "name": "stdout",
     "output_type": "stream",
     "text": [
      "Sanity Checking: |          | 0/? [00:00<?, ?it/s]Using DataLoader with shuffle=False\n"
     ]
    },
    {
     "name": "stderr",
     "output_type": "stream",
     "text": [
      "/usr/local/lib/python3.10/dist-packages/lightning/pytorch/trainer/connectors/data_connector.py:424: PossibleUserWarning:\n",
      "\n",
      "The 'val_dataloader' does not have many workers which may be a bottleneck. Consider increasing the value of the `num_workers` argument` to `num_workers=5` in the `DataLoader` to improve performance.\n",
      "\n"
     ]
    },
    {
     "name": "stdout",
     "output_type": "stream",
     "text": [
      "Using DataLoader with shuffle=True                                          \n"
     ]
    },
    {
     "name": "stderr",
     "output_type": "stream",
     "text": [
      "/usr/local/lib/python3.10/dist-packages/lightning/pytorch/trainer/connectors/data_connector.py:424: PossibleUserWarning:\n",
      "\n",
      "The 'train_dataloader' does not have many workers which may be a bottleneck. Consider increasing the value of the `num_workers` argument` to `num_workers=5` in the `DataLoader` to improve performance.\n",
      "\n"
     ]
    },
    {
     "name": "stdout",
     "output_type": "stream",
     "text": [
      "Epoch 0: 100%|██████████| 161/161 [00:02<00:00, 61.10it/s, v_num=3140, val_loss=1.120, val_acc=0.478, train_loss=1.460, train_acc=0.419]"
     ]
    },
    {
     "name": "stderr",
     "output_type": "stream",
     "text": [
      "`Trainer.fit` stopped: `max_epochs=1` reached.\n"
     ]
    },
    {
     "name": "stdout",
     "output_type": "stream",
     "text": [
      "Epoch 0: 100%|██████████| 161/161 [00:02<00:00, 58.81it/s, v_num=3140, val_loss=1.120, val_acc=0.478, train_loss=1.460, train_acc=0.419]\n",
      "Pipeline info saved at: /workspaces/container-workspace/tts-gan/Notebooks/Encoder_evaluation/logs/teste/1/RealWorld_waist/run_20241216-173140/run_2024-12-16-17-31-4153277f8110104e3a88aa15c45c8dcff2.yaml\n"
     ]
    },
    {
     "name": "stderr",
     "output_type": "stream",
     "text": [
      "Seed set to 42\n"
     ]
    },
    {
     "name": "stdout",
     "output_type": "stream",
     "text": [
      "Log directory set to: /workspaces/container-workspace/tts-gan/Notebooks/Encoder_evaluation/logs/teste/1/RealWorld_waist/run_20241216-173140\n",
      "Pipeline info saved at: /workspaces/container-workspace/tts-gan/Notebooks/Encoder_evaluation/logs/teste/1/RealWorld_waist/run_20241216-173140/run_2024-12-16-17-31-450a0a3580467d4e85bd205305f898656b.yaml\n"
     ]
    },
    {
     "name": "stderr",
     "output_type": "stream",
     "text": [
      "Restoring states from the checkpoint path at /workspaces/container-workspace/tts-gan/Notebooks/Encoder_evaluation/checkpoints/epoch=0-step=161-v28.ckpt\n"
     ]
    },
    {
     "name": "stdout",
     "output_type": "stream",
     "text": [
      "Using DataLoader with shuffle=False\n"
     ]
    },
    {
     "name": "stderr",
     "output_type": "stream",
     "text": [
      "LOCAL_RANK: 0 - CUDA_VISIBLE_DEVICES: [0]\n",
      "Loaded model weights from the checkpoint at /workspaces/container-workspace/tts-gan/Notebooks/Encoder_evaluation/checkpoints/epoch=0-step=161-v28.ckpt\n"
     ]
    },
    {
     "name": "stdout",
     "output_type": "stream",
     "text": [
      "Using DataLoader with shuffle=False\n"
     ]
    },
    {
     "name": "stderr",
     "output_type": "stream",
     "text": [
      "/usr/local/lib/python3.10/dist-packages/lightning/pytorch/trainer/connectors/data_connector.py:424: PossibleUserWarning:\n",
      "\n",
      "The 'predict_dataloader' does not have many workers which may be a bottleneck. Consider increasing the value of the `num_workers` argument` to `num_workers=5` in the `DataLoader` to improve performance.\n",
      "\n"
     ]
    },
    {
     "name": "stdout",
     "output_type": "stream",
     "text": [
      "Predicting DataLoader 0: 100%|██████████| 41/41 [00:00<00:00, 248.37it/s]\n",
      "Running classification metrics...\n",
      "Running model analysis...\n",
      "Using DataLoader with shuffle=False\n",
      "t-SNE plot saved to /workspaces/container-workspace/tts-gan/Notebooks/Encoder_evaluation/logs/teste/1/RealWorld_waist/run_20241216-173140/tsne_cpc_finetuned_kuhar.pdf\n",
      "Metrics saved to /workspaces/container-workspace/tts-gan/Notebooks/Encoder_evaluation/logs/teste/1/RealWorld_waist/run_20241216-173140/metrics_2024-12-16-17-31-450a0a3580467d4e85bd205305f898656b.yaml\n",
      "Pipeline info saved at: /workspaces/container-workspace/tts-gan/Notebooks/Encoder_evaluation/logs/teste/1/RealWorld_waist/run_20241216-173140/run_2024-12-16-17-31-450a0a3580467d4e85bd205305f898656b.yaml\n",
      "\n",
      "\n",
      "checkpoint number: 1 | repeat 2 | data name: RealWorld_waist | checkpoint name: UCI_DAGHAR_Multiclass_50000_D_60_6axis_2024_12_16_17_00_44/Model/checkpoint\n",
      "\n",
      "\n",
      "Model loaded from gan_dict.pth\n",
      "When loading model, the following keys are unexpected: ['2.clshead.1.weight', '2.clshead.1.bias', '2.clshead.2.weight', '2.clshead.2.bias']. Ignoring unexpected keys.\n"
     ]
    },
    {
     "name": "stderr",
     "output_type": "stream",
     "text": [
      "/workspaces/container-workspace/tts-gan/Notebooks/Encoder_evaluation/encoder_finetuning.py:48: FutureWarning:\n",
      "\n",
      "You are using `torch.load` with `weights_only=False` (the current default value), which uses the default pickle module implicitly. It is possible to construct malicious pickle data which will execute arbitrary code during unpickling (See https://github.com/pytorch/pytorch/blob/main/SECURITY.md#untrusted-models for more details). In a future release, the default value for `weights_only` will be flipped to `True`. This limits the functions that could be executed during unpickling. Arbitrary objects will no longer be allowed to be loaded via this mode unless they are explicitly allowlisted by the user via `torch.serialization.add_safe_globals`. We recommend you start setting `weights_only=True` for any use case where you don't have full control of the loaded file. Please open an issue on GitHub for any issues related to this experimental feature.\n",
      "\n"
     ]
    },
    {
     "name": "stdout",
     "output_type": "stream",
     "text": [
      "Using DataLoader with shuffle=True\n"
     ]
    },
    {
     "name": "stderr",
     "output_type": "stream",
     "text": [
      "GPU available: True (cuda), used: True\n",
      "TPU available: False, using: 0 TPU cores\n",
      "HPU available: False, using: 0 HPUs\n",
      "Seed set to 42\n"
     ]
    },
    {
     "name": "stdout",
     "output_type": "stream",
     "text": [
      "Log directory set to: /workspaces/container-workspace/tts-gan/Notebooks/Encoder_evaluation/logs/teste/1/RealWorld_waist/run_20241216-173200\n",
      "Pipeline info saved at: /workspaces/container-workspace/tts-gan/Notebooks/Encoder_evaluation/logs/teste/1/RealWorld_waist/run_20241216-173200/run_2024-12-16-17-32-011d76924fb3b94e22a36c306150ba7c46.yaml\n"
     ]
    },
    {
     "name": "stderr",
     "output_type": "stream",
     "text": [
      "/usr/local/lib/python3.10/dist-packages/lightning/pytorch/callbacks/model_checkpoint.py:654: UserWarning:\n",
      "\n",
      "Checkpoint directory /workspaces/container-workspace/tts-gan/Notebooks/Encoder_evaluation/checkpoints exists and is not empty.\n",
      "\n",
      "LOCAL_RANK: 0 - CUDA_VISIBLE_DEVICES: [0]\n",
      "\n",
      "  | Name     | Type             | Params | Mode \n",
      "------------------------------------------------------\n",
      "0 | backbone | TTSGAN_Encoder   | 96.8 K | train\n",
      "1 | fc       | MLP              | 32.9 K | train\n",
      "2 | loss_fn  | CrossEntropyLoss | 0      | train\n",
      "------------------------------------------------------\n",
      "129 K     Trainable params\n",
      "0         Non-trainable params\n",
      "129 K     Total params\n",
      "0.519     Total estimated model params size (MB)\n",
      "71        Modules in train mode\n",
      "0         Modules in eval mode\n"
     ]
    },
    {
     "name": "stdout",
     "output_type": "stream",
     "text": [
      "Sanity Checking: |          | 0/? [00:00<?, ?it/s]Using DataLoader with shuffle=False\n"
     ]
    },
    {
     "name": "stderr",
     "output_type": "stream",
     "text": [
      "/usr/local/lib/python3.10/dist-packages/lightning/pytorch/trainer/connectors/data_connector.py:424: PossibleUserWarning:\n",
      "\n",
      "The 'val_dataloader' does not have many workers which may be a bottleneck. Consider increasing the value of the `num_workers` argument` to `num_workers=5` in the `DataLoader` to improve performance.\n",
      "\n"
     ]
    },
    {
     "name": "stdout",
     "output_type": "stream",
     "text": [
      "Using DataLoader with shuffle=True                                         \n"
     ]
    },
    {
     "name": "stderr",
     "output_type": "stream",
     "text": [
      "/usr/local/lib/python3.10/dist-packages/lightning/pytorch/trainer/connectors/data_connector.py:424: PossibleUserWarning:\n",
      "\n",
      "The 'train_dataloader' does not have many workers which may be a bottleneck. Consider increasing the value of the `num_workers` argument` to `num_workers=5` in the `DataLoader` to improve performance.\n",
      "\n"
     ]
    },
    {
     "name": "stdout",
     "output_type": "stream",
     "text": [
      "Epoch 0: 100%|██████████| 161/161 [00:02<00:00, 59.79it/s, v_num=3200, val_loss=1.120, val_acc=0.478, train_loss=1.460, train_acc=0.419]"
     ]
    },
    {
     "name": "stderr",
     "output_type": "stream",
     "text": [
      "`Trainer.fit` stopped: `max_epochs=1` reached.\n"
     ]
    },
    {
     "name": "stdout",
     "output_type": "stream",
     "text": [
      "Epoch 0: 100%|██████████| 161/161 [00:02<00:00, 57.41it/s, v_num=3200, val_loss=1.120, val_acc=0.478, train_loss=1.460, train_acc=0.419]\n",
      "Pipeline info saved at: /workspaces/container-workspace/tts-gan/Notebooks/Encoder_evaluation/logs/teste/1/RealWorld_waist/run_20241216-173200/run_2024-12-16-17-32-011d76924fb3b94e22a36c306150ba7c46.yaml\n"
     ]
    },
    {
     "name": "stderr",
     "output_type": "stream",
     "text": [
      "Seed set to 42\n"
     ]
    },
    {
     "name": "stdout",
     "output_type": "stream",
     "text": [
      "Log directory set to: /workspaces/container-workspace/tts-gan/Notebooks/Encoder_evaluation/logs/teste/1/RealWorld_waist/run_20241216-173200\n",
      "Pipeline info saved at: /workspaces/container-workspace/tts-gan/Notebooks/Encoder_evaluation/logs/teste/1/RealWorld_waist/run_20241216-173200/run_2024-12-16-17-32-0525a63835b9ac4aefa8422c214c17cb40.yaml\n",
      "Using DataLoader with shuffle=False\n"
     ]
    },
    {
     "name": "stderr",
     "output_type": "stream",
     "text": [
      "Restoring states from the checkpoint path at /workspaces/container-workspace/tts-gan/Notebooks/Encoder_evaluation/checkpoints/epoch=0-step=161-v29.ckpt\n",
      "LOCAL_RANK: 0 - CUDA_VISIBLE_DEVICES: [0]\n",
      "Loaded model weights from the checkpoint at /workspaces/container-workspace/tts-gan/Notebooks/Encoder_evaluation/checkpoints/epoch=0-step=161-v29.ckpt\n"
     ]
    },
    {
     "name": "stdout",
     "output_type": "stream",
     "text": [
      "Using DataLoader with shuffle=False\n"
     ]
    },
    {
     "name": "stderr",
     "output_type": "stream",
     "text": [
      "/usr/local/lib/python3.10/dist-packages/lightning/pytorch/trainer/connectors/data_connector.py:424: PossibleUserWarning:\n",
      "\n",
      "The 'predict_dataloader' does not have many workers which may be a bottleneck. Consider increasing the value of the `num_workers` argument` to `num_workers=5` in the `DataLoader` to improve performance.\n",
      "\n"
     ]
    },
    {
     "name": "stdout",
     "output_type": "stream",
     "text": [
      "Predicting DataLoader 0: 100%|██████████| 41/41 [00:00<00:00, 214.65it/s]\n",
      "Running classification metrics...\n",
      "Running model analysis...\n",
      "Using DataLoader with shuffle=False\n",
      "t-SNE plot saved to /workspaces/container-workspace/tts-gan/Notebooks/Encoder_evaluation/logs/teste/1/RealWorld_waist/run_20241216-173200/tsne_cpc_finetuned_kuhar.pdf\n",
      "Metrics saved to /workspaces/container-workspace/tts-gan/Notebooks/Encoder_evaluation/logs/teste/1/RealWorld_waist/run_20241216-173200/metrics_2024-12-16-17-32-0525a63835b9ac4aefa8422c214c17cb40.yaml\n",
      "Pipeline info saved at: /workspaces/container-workspace/tts-gan/Notebooks/Encoder_evaluation/logs/teste/1/RealWorld_waist/run_20241216-173200/run_2024-12-16-17-32-0525a63835b9ac4aefa8422c214c17cb40.yaml\n",
      "\n",
      "\n",
      "checkpoint number: 1 | repeat 3 | data name: RealWorld_waist | checkpoint name: UCI_DAGHAR_Multiclass_50000_D_60_6axis_2024_12_16_17_00_44/Model/checkpoint\n",
      "\n",
      "\n",
      "Model loaded from gan_dict.pth\n",
      "When loading model, the following keys are unexpected: ['2.clshead.1.weight', '2.clshead.1.bias', '2.clshead.2.weight', '2.clshead.2.bias']. Ignoring unexpected keys.\n"
     ]
    },
    {
     "name": "stderr",
     "output_type": "stream",
     "text": [
      "/workspaces/container-workspace/tts-gan/Notebooks/Encoder_evaluation/encoder_finetuning.py:48: FutureWarning:\n",
      "\n",
      "You are using `torch.load` with `weights_only=False` (the current default value), which uses the default pickle module implicitly. It is possible to construct malicious pickle data which will execute arbitrary code during unpickling (See https://github.com/pytorch/pytorch/blob/main/SECURITY.md#untrusted-models for more details). In a future release, the default value for `weights_only` will be flipped to `True`. This limits the functions that could be executed during unpickling. Arbitrary objects will no longer be allowed to be loaded via this mode unless they are explicitly allowlisted by the user via `torch.serialization.add_safe_globals`. We recommend you start setting `weights_only=True` for any use case where you don't have full control of the loaded file. Please open an issue on GitHub for any issues related to this experimental feature.\n",
      "\n"
     ]
    },
    {
     "name": "stdout",
     "output_type": "stream",
     "text": [
      "Using DataLoader with shuffle=True\n"
     ]
    },
    {
     "name": "stderr",
     "output_type": "stream",
     "text": [
      "GPU available: True (cuda), used: True\n",
      "TPU available: False, using: 0 TPU cores\n",
      "HPU available: False, using: 0 HPUs\n",
      "Seed set to 42\n"
     ]
    },
    {
     "name": "stdout",
     "output_type": "stream",
     "text": [
      "Log directory set to: /workspaces/container-workspace/tts-gan/Notebooks/Encoder_evaluation/logs/teste/1/RealWorld_waist/run_20241216-173221\n",
      "Pipeline info saved at: /workspaces/container-workspace/tts-gan/Notebooks/Encoder_evaluation/logs/teste/1/RealWorld_waist/run_20241216-173221/run_2024-12-16-17-32-22e683a2ba54c34663a998cdc478a0240a.yaml\n"
     ]
    },
    {
     "name": "stderr",
     "output_type": "stream",
     "text": [
      "/usr/local/lib/python3.10/dist-packages/lightning/pytorch/callbacks/model_checkpoint.py:654: UserWarning:\n",
      "\n",
      "Checkpoint directory /workspaces/container-workspace/tts-gan/Notebooks/Encoder_evaluation/checkpoints exists and is not empty.\n",
      "\n",
      "LOCAL_RANK: 0 - CUDA_VISIBLE_DEVICES: [0]\n",
      "\n",
      "  | Name     | Type             | Params | Mode \n",
      "------------------------------------------------------\n",
      "0 | backbone | TTSGAN_Encoder   | 96.8 K | train\n",
      "1 | fc       | MLP              | 32.9 K | train\n",
      "2 | loss_fn  | CrossEntropyLoss | 0      | train\n",
      "------------------------------------------------------\n",
      "129 K     Trainable params\n",
      "0         Non-trainable params\n",
      "129 K     Total params\n",
      "0.519     Total estimated model params size (MB)\n",
      "71        Modules in train mode\n",
      "0         Modules in eval mode\n"
     ]
    },
    {
     "name": "stdout",
     "output_type": "stream",
     "text": [
      "Sanity Checking: |          | 0/? [00:00<?, ?it/s]Using DataLoader with shuffle=False\n"
     ]
    },
    {
     "name": "stderr",
     "output_type": "stream",
     "text": [
      "/usr/local/lib/python3.10/dist-packages/lightning/pytorch/trainer/connectors/data_connector.py:424: PossibleUserWarning:\n",
      "\n",
      "The 'val_dataloader' does not have many workers which may be a bottleneck. Consider increasing the value of the `num_workers` argument` to `num_workers=5` in the `DataLoader` to improve performance.\n",
      "\n"
     ]
    },
    {
     "name": "stdout",
     "output_type": "stream",
     "text": [
      "Using DataLoader with shuffle=True                                         \n"
     ]
    },
    {
     "name": "stderr",
     "output_type": "stream",
     "text": [
      "/usr/local/lib/python3.10/dist-packages/lightning/pytorch/trainer/connectors/data_connector.py:424: PossibleUserWarning:\n",
      "\n",
      "The 'train_dataloader' does not have many workers which may be a bottleneck. Consider increasing the value of the `num_workers` argument` to `num_workers=5` in the `DataLoader` to improve performance.\n",
      "\n"
     ]
    },
    {
     "name": "stdout",
     "output_type": "stream",
     "text": [
      "Epoch 0: 100%|██████████| 161/161 [00:02<00:00, 57.30it/s, v_num=3221, val_loss=1.120, val_acc=0.478, train_loss=1.460, train_acc=0.419]"
     ]
    },
    {
     "name": "stderr",
     "output_type": "stream",
     "text": [
      "`Trainer.fit` stopped: `max_epochs=1` reached.\n"
     ]
    },
    {
     "name": "stdout",
     "output_type": "stream",
     "text": [
      "Epoch 0: 100%|██████████| 161/161 [00:02<00:00, 55.35it/s, v_num=3221, val_loss=1.120, val_acc=0.478, train_loss=1.460, train_acc=0.419]\n"
     ]
    },
    {
     "name": "stderr",
     "output_type": "stream",
     "text": [
      "Seed set to 42\n"
     ]
    },
    {
     "name": "stdout",
     "output_type": "stream",
     "text": [
      "Pipeline info saved at: /workspaces/container-workspace/tts-gan/Notebooks/Encoder_evaluation/logs/teste/1/RealWorld_waist/run_20241216-173221/run_2024-12-16-17-32-22e683a2ba54c34663a998cdc478a0240a.yaml\n",
      "Log directory set to: /workspaces/container-workspace/tts-gan/Notebooks/Encoder_evaluation/logs/teste/1/RealWorld_waist/run_20241216-173221\n",
      "Pipeline info saved at: /workspaces/container-workspace/tts-gan/Notebooks/Encoder_evaluation/logs/teste/1/RealWorld_waist/run_20241216-173221/run_2024-12-16-17-32-2575ff68bb9dc64e09bb8efab43d4b8a8d.yaml\n",
      "Using DataLoader with shuffle=False\n"
     ]
    },
    {
     "name": "stderr",
     "output_type": "stream",
     "text": [
      "Restoring states from the checkpoint path at /workspaces/container-workspace/tts-gan/Notebooks/Encoder_evaluation/checkpoints/epoch=0-step=161-v30.ckpt\n",
      "LOCAL_RANK: 0 - CUDA_VISIBLE_DEVICES: [0]\n",
      "Loaded model weights from the checkpoint at /workspaces/container-workspace/tts-gan/Notebooks/Encoder_evaluation/checkpoints/epoch=0-step=161-v30.ckpt\n"
     ]
    },
    {
     "name": "stdout",
     "output_type": "stream",
     "text": [
      "Using DataLoader with shuffle=False\n"
     ]
    },
    {
     "name": "stderr",
     "output_type": "stream",
     "text": [
      "/usr/local/lib/python3.10/dist-packages/lightning/pytorch/trainer/connectors/data_connector.py:424: PossibleUserWarning:\n",
      "\n",
      "The 'predict_dataloader' does not have many workers which may be a bottleneck. Consider increasing the value of the `num_workers` argument` to `num_workers=5` in the `DataLoader` to improve performance.\n",
      "\n"
     ]
    },
    {
     "name": "stdout",
     "output_type": "stream",
     "text": [
      "Predicting DataLoader 0: 100%|██████████| 41/41 [00:00<00:00, 212.44it/s]\n",
      "Running classification metrics...\n",
      "Running model analysis...\n",
      "Using DataLoader with shuffle=False\n",
      "t-SNE plot saved to /workspaces/container-workspace/tts-gan/Notebooks/Encoder_evaluation/logs/teste/1/RealWorld_waist/run_20241216-173221/tsne_cpc_finetuned_kuhar.pdf\n",
      "Metrics saved to /workspaces/container-workspace/tts-gan/Notebooks/Encoder_evaluation/logs/teste/1/RealWorld_waist/run_20241216-173221/metrics_2024-12-16-17-32-2575ff68bb9dc64e09bb8efab43d4b8a8d.yaml\n",
      "Pipeline info saved at: /workspaces/container-workspace/tts-gan/Notebooks/Encoder_evaluation/logs/teste/1/RealWorld_waist/run_20241216-173221/run_2024-12-16-17-32-2575ff68bb9dc64e09bb8efab43d4b8a8d.yaml\n",
      "\n",
      "\n",
      "checkpoint number: 1 | repeat 1 | data name: MotionSense | checkpoint name: UCI_DAGHAR_Multiclass_50000_D_60_6axis_2024_12_16_17_00_44/Model/checkpoint\n",
      "\n",
      "\n",
      "Model loaded from gan_dict.pth\n",
      "When loading model, the following keys are unexpected: ['2.clshead.1.weight', '2.clshead.1.bias', '2.clshead.2.weight', '2.clshead.2.bias']. Ignoring unexpected keys.\n"
     ]
    },
    {
     "name": "stderr",
     "output_type": "stream",
     "text": [
      "/workspaces/container-workspace/tts-gan/Notebooks/Encoder_evaluation/encoder_finetuning.py:48: FutureWarning:\n",
      "\n",
      "You are using `torch.load` with `weights_only=False` (the current default value), which uses the default pickle module implicitly. It is possible to construct malicious pickle data which will execute arbitrary code during unpickling (See https://github.com/pytorch/pytorch/blob/main/SECURITY.md#untrusted-models for more details). In a future release, the default value for `weights_only` will be flipped to `True`. This limits the functions that could be executed during unpickling. Arbitrary objects will no longer be allowed to be loaded via this mode unless they are explicitly allowlisted by the user via `torch.serialization.add_safe_globals`. We recommend you start setting `weights_only=True` for any use case where you don't have full control of the loaded file. Please open an issue on GitHub for any issues related to this experimental feature.\n",
      "\n"
     ]
    },
    {
     "name": "stdout",
     "output_type": "stream",
     "text": [
      "Using DataLoader with shuffle=True\n"
     ]
    },
    {
     "name": "stderr",
     "output_type": "stream",
     "text": [
      "GPU available: True (cuda), used: True\n",
      "TPU available: False, using: 0 TPU cores\n",
      "HPU available: False, using: 0 HPUs\n",
      "Seed set to 42\n"
     ]
    },
    {
     "name": "stdout",
     "output_type": "stream",
     "text": [
      "Log directory set to: /workspaces/container-workspace/tts-gan/Notebooks/Encoder_evaluation/logs/teste/1/MotionSense/run_20241216-173241\n",
      "Pipeline info saved at: /workspaces/container-workspace/tts-gan/Notebooks/Encoder_evaluation/logs/teste/1/MotionSense/run_20241216-173241/run_2024-12-16-17-32-42b018a0c414ec4e69803dce495ff46e3c.yaml\n"
     ]
    },
    {
     "name": "stderr",
     "output_type": "stream",
     "text": [
      "/usr/local/lib/python3.10/dist-packages/lightning/pytorch/callbacks/model_checkpoint.py:654: UserWarning:\n",
      "\n",
      "Checkpoint directory /workspaces/container-workspace/tts-gan/Notebooks/Encoder_evaluation/checkpoints exists and is not empty.\n",
      "\n",
      "LOCAL_RANK: 0 - CUDA_VISIBLE_DEVICES: [0]\n",
      "\n",
      "  | Name     | Type             | Params | Mode \n",
      "------------------------------------------------------\n",
      "0 | backbone | TTSGAN_Encoder   | 96.8 K | train\n",
      "1 | fc       | MLP              | 32.9 K | train\n",
      "2 | loss_fn  | CrossEntropyLoss | 0      | train\n",
      "------------------------------------------------------\n",
      "129 K     Trainable params\n",
      "0         Non-trainable params\n",
      "129 K     Total params\n",
      "0.519     Total estimated model params size (MB)\n",
      "71        Modules in train mode\n",
      "0         Modules in eval mode\n"
     ]
    },
    {
     "name": "stdout",
     "output_type": "stream",
     "text": [
      "Sanity Checking: |          | 0/? [00:00<?, ?it/s]Using DataLoader with shuffle=False\n"
     ]
    },
    {
     "name": "stderr",
     "output_type": "stream",
     "text": [
      "/usr/local/lib/python3.10/dist-packages/lightning/pytorch/trainer/connectors/data_connector.py:424: PossibleUserWarning:\n",
      "\n",
      "The 'val_dataloader' does not have many workers which may be a bottleneck. Consider increasing the value of the `num_workers` argument` to `num_workers=5` in the `DataLoader` to improve performance.\n",
      "\n"
     ]
    },
    {
     "name": "stdout",
     "output_type": "stream",
     "text": [
      "Using DataLoader with shuffle=True                                          \n"
     ]
    },
    {
     "name": "stderr",
     "output_type": "stream",
     "text": [
      "/usr/local/lib/python3.10/dist-packages/lightning/pytorch/trainer/connectors/data_connector.py:424: PossibleUserWarning:\n",
      "\n",
      "The 'train_dataloader' does not have many workers which may be a bottleneck. Consider increasing the value of the `num_workers` argument` to `num_workers=5` in the `DataLoader` to improve performance.\n",
      "\n"
     ]
    },
    {
     "name": "stdout",
     "output_type": "stream",
     "text": [
      "Epoch 0: 100%|██████████| 55/55 [00:01<00:00, 53.97it/s, v_num=3241, val_loss=1.140, val_acc=0.414, train_loss=1.970, train_acc=0.360]"
     ]
    },
    {
     "name": "stderr",
     "output_type": "stream",
     "text": [
      "`Trainer.fit` stopped: `max_epochs=1` reached.\n"
     ]
    },
    {
     "name": "stdout",
     "output_type": "stream",
     "text": [
      "Epoch 0: 100%|██████████| 55/55 [00:01<00:00, 46.52it/s, v_num=3241, val_loss=1.140, val_acc=0.414, train_loss=1.970, train_acc=0.360]\n"
     ]
    },
    {
     "name": "stderr",
     "output_type": "stream",
     "text": [
      "Seed set to 42\n"
     ]
    },
    {
     "name": "stdout",
     "output_type": "stream",
     "text": [
      "Pipeline info saved at: /workspaces/container-workspace/tts-gan/Notebooks/Encoder_evaluation/logs/teste/1/MotionSense/run_20241216-173241/run_2024-12-16-17-32-42b018a0c414ec4e69803dce495ff46e3c.yaml\n",
      "Log directory set to: /workspaces/container-workspace/tts-gan/Notebooks/Encoder_evaluation/logs/teste/1/MotionSense/run_20241216-173241\n",
      "Pipeline info saved at: /workspaces/container-workspace/tts-gan/Notebooks/Encoder_evaluation/logs/teste/1/MotionSense/run_20241216-173241/run_2024-12-16-17-32-44f2a88baff3594fb1835be7127a1f7d5f.yaml\n",
      "Using DataLoader with shuffle=False\n"
     ]
    },
    {
     "name": "stderr",
     "output_type": "stream",
     "text": [
      "Restoring states from the checkpoint path at /workspaces/container-workspace/tts-gan/Notebooks/Encoder_evaluation/checkpoints/epoch=0-step=55-v14.ckpt\n",
      "LOCAL_RANK: 0 - CUDA_VISIBLE_DEVICES: [0]\n",
      "Loaded model weights from the checkpoint at /workspaces/container-workspace/tts-gan/Notebooks/Encoder_evaluation/checkpoints/epoch=0-step=55-v14.ckpt\n"
     ]
    },
    {
     "name": "stdout",
     "output_type": "stream",
     "text": [
      "Using DataLoader with shuffle=False\n"
     ]
    },
    {
     "name": "stderr",
     "output_type": "stream",
     "text": [
      "/usr/local/lib/python3.10/dist-packages/lightning/pytorch/trainer/connectors/data_connector.py:424: PossibleUserWarning:\n",
      "\n",
      "The 'predict_dataloader' does not have many workers which may be a bottleneck. Consider increasing the value of the `num_workers` argument` to `num_workers=5` in the `DataLoader` to improve performance.\n",
      "\n"
     ]
    },
    {
     "name": "stdout",
     "output_type": "stream",
     "text": [
      "Predicting DataLoader 0: 100%|██████████| 17/17 [00:00<00:00, 207.16it/s]\n",
      "Running classification metrics...\n",
      "Running model analysis...\n",
      "Using DataLoader with shuffle=False\n",
      "t-SNE plot saved to /workspaces/container-workspace/tts-gan/Notebooks/Encoder_evaluation/logs/teste/1/MotionSense/run_20241216-173241/tsne_cpc_finetuned_kuhar.pdf\n",
      "Metrics saved to /workspaces/container-workspace/tts-gan/Notebooks/Encoder_evaluation/logs/teste/1/MotionSense/run_20241216-173241/metrics_2024-12-16-17-32-44f2a88baff3594fb1835be7127a1f7d5f.yaml\n",
      "Pipeline info saved at: /workspaces/container-workspace/tts-gan/Notebooks/Encoder_evaluation/logs/teste/1/MotionSense/run_20241216-173241/run_2024-12-16-17-32-44f2a88baff3594fb1835be7127a1f7d5f.yaml\n",
      "\n",
      "\n",
      "checkpoint number: 1 | repeat 2 | data name: MotionSense | checkpoint name: UCI_DAGHAR_Multiclass_50000_D_60_6axis_2024_12_16_17_00_44/Model/checkpoint\n",
      "\n",
      "\n",
      "Model loaded from gan_dict.pth\n",
      "When loading model, the following keys are unexpected: ['2.clshead.1.weight', '2.clshead.1.bias', '2.clshead.2.weight', '2.clshead.2.bias']. Ignoring unexpected keys.\n"
     ]
    },
    {
     "name": "stderr",
     "output_type": "stream",
     "text": [
      "/workspaces/container-workspace/tts-gan/Notebooks/Encoder_evaluation/encoder_finetuning.py:48: FutureWarning:\n",
      "\n",
      "You are using `torch.load` with `weights_only=False` (the current default value), which uses the default pickle module implicitly. It is possible to construct malicious pickle data which will execute arbitrary code during unpickling (See https://github.com/pytorch/pytorch/blob/main/SECURITY.md#untrusted-models for more details). In a future release, the default value for `weights_only` will be flipped to `True`. This limits the functions that could be executed during unpickling. Arbitrary objects will no longer be allowed to be loaded via this mode unless they are explicitly allowlisted by the user via `torch.serialization.add_safe_globals`. We recommend you start setting `weights_only=True` for any use case where you don't have full control of the loaded file. Please open an issue on GitHub for any issues related to this experimental feature.\n",
      "\n"
     ]
    },
    {
     "name": "stdout",
     "output_type": "stream",
     "text": [
      "Using DataLoader with shuffle=True\n"
     ]
    },
    {
     "name": "stderr",
     "output_type": "stream",
     "text": [
      "GPU available: True (cuda), used: True\n",
      "TPU available: False, using: 0 TPU cores\n",
      "HPU available: False, using: 0 HPUs\n",
      "Seed set to 42\n"
     ]
    },
    {
     "name": "stdout",
     "output_type": "stream",
     "text": [
      "Log directory set to: /workspaces/container-workspace/tts-gan/Notebooks/Encoder_evaluation/logs/teste/1/MotionSense/run_20241216-173251\n",
      "Pipeline info saved at: /workspaces/container-workspace/tts-gan/Notebooks/Encoder_evaluation/logs/teste/1/MotionSense/run_20241216-173251/run_2024-12-16-17-32-521ce97d83fba343a38609a5678f6412c2.yaml\n"
     ]
    },
    {
     "name": "stderr",
     "output_type": "stream",
     "text": [
      "/usr/local/lib/python3.10/dist-packages/lightning/pytorch/callbacks/model_checkpoint.py:654: UserWarning:\n",
      "\n",
      "Checkpoint directory /workspaces/container-workspace/tts-gan/Notebooks/Encoder_evaluation/checkpoints exists and is not empty.\n",
      "\n",
      "LOCAL_RANK: 0 - CUDA_VISIBLE_DEVICES: [0]\n",
      "\n",
      "  | Name     | Type             | Params | Mode \n",
      "------------------------------------------------------\n",
      "0 | backbone | TTSGAN_Encoder   | 96.8 K | train\n",
      "1 | fc       | MLP              | 32.9 K | train\n",
      "2 | loss_fn  | CrossEntropyLoss | 0      | train\n",
      "------------------------------------------------------\n",
      "129 K     Trainable params\n",
      "0         Non-trainable params\n",
      "129 K     Total params\n",
      "0.519     Total estimated model params size (MB)\n",
      "71        Modules in train mode\n",
      "0         Modules in eval mode\n"
     ]
    },
    {
     "name": "stdout",
     "output_type": "stream",
     "text": [
      "Sanity Checking: |          | 0/? [00:00<?, ?it/s]Using DataLoader with shuffle=False\n"
     ]
    },
    {
     "name": "stderr",
     "output_type": "stream",
     "text": [
      "/usr/local/lib/python3.10/dist-packages/lightning/pytorch/trainer/connectors/data_connector.py:424: PossibleUserWarning:\n",
      "\n",
      "The 'val_dataloader' does not have many workers which may be a bottleneck. Consider increasing the value of the `num_workers` argument` to `num_workers=5` in the `DataLoader` to improve performance.\n",
      "\n"
     ]
    },
    {
     "name": "stdout",
     "output_type": "stream",
     "text": [
      "Using DataLoader with shuffle=True                                          \n"
     ]
    },
    {
     "name": "stderr",
     "output_type": "stream",
     "text": [
      "/usr/local/lib/python3.10/dist-packages/lightning/pytorch/trainer/connectors/data_connector.py:424: PossibleUserWarning:\n",
      "\n",
      "The 'train_dataloader' does not have many workers which may be a bottleneck. Consider increasing the value of the `num_workers` argument` to `num_workers=5` in the `DataLoader` to improve performance.\n",
      "\n"
     ]
    },
    {
     "name": "stdout",
     "output_type": "stream",
     "text": [
      "Epoch 0: 100%|██████████| 55/55 [00:00<00:00, 60.64it/s, v_num=3251, val_loss=1.140, val_acc=0.414, train_loss=1.970, train_acc=0.360]"
     ]
    },
    {
     "name": "stderr",
     "output_type": "stream",
     "text": [
      "`Trainer.fit` stopped: `max_epochs=1` reached.\n"
     ]
    },
    {
     "name": "stdout",
     "output_type": "stream",
     "text": [
      "Epoch 0: 100%|██████████| 55/55 [00:01<00:00, 41.86it/s, v_num=3251, val_loss=1.140, val_acc=0.414, train_loss=1.970, train_acc=0.360]"
     ]
    },
    {
     "name": "stderr",
     "output_type": "stream",
     "text": [
      "Seed set to 42\n"
     ]
    },
    {
     "name": "stdout",
     "output_type": "stream",
     "text": [
      "\n",
      "Pipeline info saved at: /workspaces/container-workspace/tts-gan/Notebooks/Encoder_evaluation/logs/teste/1/MotionSense/run_20241216-173251/run_2024-12-16-17-32-521ce97d83fba343a38609a5678f6412c2.yaml\n",
      "Log directory set to: /workspaces/container-workspace/tts-gan/Notebooks/Encoder_evaluation/logs/teste/1/MotionSense/run_20241216-173251\n",
      "Pipeline info saved at: /workspaces/container-workspace/tts-gan/Notebooks/Encoder_evaluation/logs/teste/1/MotionSense/run_20241216-173251/run_2024-12-16-17-32-5448cd39c447f843bc9b9d6e899713cba6.yaml\n"
     ]
    },
    {
     "name": "stderr",
     "output_type": "stream",
     "text": [
      "Restoring states from the checkpoint path at /workspaces/container-workspace/tts-gan/Notebooks/Encoder_evaluation/checkpoints/epoch=0-step=55-v15.ckpt\n",
      "LOCAL_RANK: 0 - CUDA_VISIBLE_DEVICES: [0]\n",
      "Loaded model weights from the checkpoint at /workspaces/container-workspace/tts-gan/Notebooks/Encoder_evaluation/checkpoints/epoch=0-step=55-v15.ckpt\n"
     ]
    },
    {
     "name": "stdout",
     "output_type": "stream",
     "text": [
      "Using DataLoader with shuffle=False\n",
      "Using DataLoader with shuffle=False\n"
     ]
    },
    {
     "name": "stderr",
     "output_type": "stream",
     "text": [
      "/usr/local/lib/python3.10/dist-packages/lightning/pytorch/trainer/connectors/data_connector.py:424: PossibleUserWarning:\n",
      "\n",
      "The 'predict_dataloader' does not have many workers which may be a bottleneck. Consider increasing the value of the `num_workers` argument` to `num_workers=5` in the `DataLoader` to improve performance.\n",
      "\n"
     ]
    },
    {
     "name": "stdout",
     "output_type": "stream",
     "text": [
      "Predicting DataLoader 0: 100%|██████████| 17/17 [00:00<00:00, 163.00it/s]\n",
      "Running classification metrics...\n",
      "Running model analysis...\n",
      "Using DataLoader with shuffle=False\n",
      "t-SNE plot saved to /workspaces/container-workspace/tts-gan/Notebooks/Encoder_evaluation/logs/teste/1/MotionSense/run_20241216-173251/tsne_cpc_finetuned_kuhar.pdf\n",
      "Metrics saved to /workspaces/container-workspace/tts-gan/Notebooks/Encoder_evaluation/logs/teste/1/MotionSense/run_20241216-173251/metrics_2024-12-16-17-32-5448cd39c447f843bc9b9d6e899713cba6.yaml\n",
      "Pipeline info saved at: /workspaces/container-workspace/tts-gan/Notebooks/Encoder_evaluation/logs/teste/1/MotionSense/run_20241216-173251/run_2024-12-16-17-32-5448cd39c447f843bc9b9d6e899713cba6.yaml\n",
      "\n",
      "\n",
      "checkpoint number: 1 | repeat 3 | data name: MotionSense | checkpoint name: UCI_DAGHAR_Multiclass_50000_D_60_6axis_2024_12_16_17_00_44/Model/checkpoint\n",
      "\n",
      "\n",
      "Model loaded from gan_dict.pth\n",
      "When loading model, the following keys are unexpected: ['2.clshead.1.weight', '2.clshead.1.bias', '2.clshead.2.weight', '2.clshead.2.bias']. Ignoring unexpected keys.\n"
     ]
    },
    {
     "name": "stderr",
     "output_type": "stream",
     "text": [
      "/workspaces/container-workspace/tts-gan/Notebooks/Encoder_evaluation/encoder_finetuning.py:48: FutureWarning:\n",
      "\n",
      "You are using `torch.load` with `weights_only=False` (the current default value), which uses the default pickle module implicitly. It is possible to construct malicious pickle data which will execute arbitrary code during unpickling (See https://github.com/pytorch/pytorch/blob/main/SECURITY.md#untrusted-models for more details). In a future release, the default value for `weights_only` will be flipped to `True`. This limits the functions that could be executed during unpickling. Arbitrary objects will no longer be allowed to be loaded via this mode unless they are explicitly allowlisted by the user via `torch.serialization.add_safe_globals`. We recommend you start setting `weights_only=True` for any use case where you don't have full control of the loaded file. Please open an issue on GitHub for any issues related to this experimental feature.\n",
      "\n"
     ]
    },
    {
     "name": "stdout",
     "output_type": "stream",
     "text": [
      "Using DataLoader with shuffle=True\n"
     ]
    },
    {
     "name": "stderr",
     "output_type": "stream",
     "text": [
      "GPU available: True (cuda), used: True\n",
      "TPU available: False, using: 0 TPU cores\n",
      "HPU available: False, using: 0 HPUs\n",
      "Seed set to 42\n"
     ]
    },
    {
     "name": "stdout",
     "output_type": "stream",
     "text": [
      "Log directory set to: /workspaces/container-workspace/tts-gan/Notebooks/Encoder_evaluation/logs/teste/1/MotionSense/run_20241216-173301\n",
      "Pipeline info saved at: /workspaces/container-workspace/tts-gan/Notebooks/Encoder_evaluation/logs/teste/1/MotionSense/run_20241216-173301/run_2024-12-16-17-33-02039f079828e04b09b9c67d62ce1a3543.yaml\n"
     ]
    },
    {
     "name": "stderr",
     "output_type": "stream",
     "text": [
      "/usr/local/lib/python3.10/dist-packages/lightning/pytorch/callbacks/model_checkpoint.py:654: UserWarning:\n",
      "\n",
      "Checkpoint directory /workspaces/container-workspace/tts-gan/Notebooks/Encoder_evaluation/checkpoints exists and is not empty.\n",
      "\n",
      "LOCAL_RANK: 0 - CUDA_VISIBLE_DEVICES: [0]\n",
      "\n",
      "  | Name     | Type             | Params | Mode \n",
      "------------------------------------------------------\n",
      "0 | backbone | TTSGAN_Encoder   | 96.8 K | train\n",
      "1 | fc       | MLP              | 32.9 K | train\n",
      "2 | loss_fn  | CrossEntropyLoss | 0      | train\n",
      "------------------------------------------------------\n",
      "129 K     Trainable params\n",
      "0         Non-trainable params\n",
      "129 K     Total params\n",
      "0.519     Total estimated model params size (MB)\n",
      "71        Modules in train mode\n",
      "0         Modules in eval mode\n"
     ]
    },
    {
     "name": "stdout",
     "output_type": "stream",
     "text": [
      "Sanity Checking: |          | 0/? [00:00<?, ?it/s]Using DataLoader with shuffle=False\n"
     ]
    },
    {
     "name": "stderr",
     "output_type": "stream",
     "text": [
      "/usr/local/lib/python3.10/dist-packages/lightning/pytorch/trainer/connectors/data_connector.py:424: PossibleUserWarning:\n",
      "\n",
      "The 'val_dataloader' does not have many workers which may be a bottleneck. Consider increasing the value of the `num_workers` argument` to `num_workers=5` in the `DataLoader` to improve performance.\n",
      "\n"
     ]
    },
    {
     "name": "stdout",
     "output_type": "stream",
     "text": [
      "Using DataLoader with shuffle=True                                         \n"
     ]
    },
    {
     "name": "stderr",
     "output_type": "stream",
     "text": [
      "/usr/local/lib/python3.10/dist-packages/lightning/pytorch/trainer/connectors/data_connector.py:424: PossibleUserWarning:\n",
      "\n",
      "The 'train_dataloader' does not have many workers which may be a bottleneck. Consider increasing the value of the `num_workers` argument` to `num_workers=5` in the `DataLoader` to improve performance.\n",
      "\n"
     ]
    },
    {
     "name": "stdout",
     "output_type": "stream",
     "text": [
      "Epoch 0: 100%|██████████| 55/55 [00:01<00:00, 51.26it/s, v_num=3301, val_loss=1.140, val_acc=0.414, train_loss=1.970, train_acc=0.360]"
     ]
    },
    {
     "name": "stderr",
     "output_type": "stream",
     "text": [
      "`Trainer.fit` stopped: `max_epochs=1` reached.\n"
     ]
    },
    {
     "name": "stdout",
     "output_type": "stream",
     "text": [
      "Epoch 0: 100%|██████████| 55/55 [00:01<00:00, 46.20it/s, v_num=3301, val_loss=1.140, val_acc=0.414, train_loss=1.970, train_acc=0.360]\n"
     ]
    },
    {
     "name": "stderr",
     "output_type": "stream",
     "text": [
      "Seed set to 42\n"
     ]
    },
    {
     "name": "stdout",
     "output_type": "stream",
     "text": [
      "Pipeline info saved at: /workspaces/container-workspace/tts-gan/Notebooks/Encoder_evaluation/logs/teste/1/MotionSense/run_20241216-173301/run_2024-12-16-17-33-02039f079828e04b09b9c67d62ce1a3543.yaml\n",
      "Log directory set to: /workspaces/container-workspace/tts-gan/Notebooks/Encoder_evaluation/logs/teste/1/MotionSense/run_20241216-173301\n",
      "Pipeline info saved at: /workspaces/container-workspace/tts-gan/Notebooks/Encoder_evaluation/logs/teste/1/MotionSense/run_20241216-173301/run_2024-12-16-17-33-0416d326ba24dd4d6cada72418bddc86d4.yaml\n",
      "Using DataLoader with shuffle=False\n"
     ]
    },
    {
     "name": "stderr",
     "output_type": "stream",
     "text": [
      "Restoring states from the checkpoint path at /workspaces/container-workspace/tts-gan/Notebooks/Encoder_evaluation/checkpoints/epoch=0-step=55-v16.ckpt\n",
      "LOCAL_RANK: 0 - CUDA_VISIBLE_DEVICES: [0]\n",
      "Loaded model weights from the checkpoint at /workspaces/container-workspace/tts-gan/Notebooks/Encoder_evaluation/checkpoints/epoch=0-step=55-v16.ckpt\n"
     ]
    },
    {
     "name": "stdout",
     "output_type": "stream",
     "text": [
      "Using DataLoader with shuffle=False\n"
     ]
    },
    {
     "name": "stderr",
     "output_type": "stream",
     "text": [
      "/usr/local/lib/python3.10/dist-packages/lightning/pytorch/trainer/connectors/data_connector.py:424: PossibleUserWarning:\n",
      "\n",
      "The 'predict_dataloader' does not have many workers which may be a bottleneck. Consider increasing the value of the `num_workers` argument` to `num_workers=5` in the `DataLoader` to improve performance.\n",
      "\n"
     ]
    },
    {
     "name": "stdout",
     "output_type": "stream",
     "text": [
      "Predicting DataLoader 0: 100%|██████████| 17/17 [00:00<00:00, 221.09it/s]\n",
      "Running classification metrics...\n",
      "Running model analysis...\n",
      "Using DataLoader with shuffle=False\n",
      "t-SNE plot saved to /workspaces/container-workspace/tts-gan/Notebooks/Encoder_evaluation/logs/teste/1/MotionSense/run_20241216-173301/tsne_cpc_finetuned_kuhar.pdf\n",
      "Metrics saved to /workspaces/container-workspace/tts-gan/Notebooks/Encoder_evaluation/logs/teste/1/MotionSense/run_20241216-173301/metrics_2024-12-16-17-33-0416d326ba24dd4d6cada72418bddc86d4.yaml\n",
      "Pipeline info saved at: /workspaces/container-workspace/tts-gan/Notebooks/Encoder_evaluation/logs/teste/1/MotionSense/run_20241216-173301/run_2024-12-16-17-33-0416d326ba24dd4d6cada72418bddc86d4.yaml\n",
      "\n",
      "\n",
      "checkpoint number: 1 | repeat 1 | data name: RealWorld_thigh | checkpoint name: UCI_DAGHAR_Multiclass_50000_D_60_6axis_2024_12_16_17_00_44/Model/checkpoint\n",
      "\n",
      "\n",
      "Model loaded from gan_dict.pth\n",
      "When loading model, the following keys are unexpected: ['2.clshead.1.weight', '2.clshead.1.bias', '2.clshead.2.weight', '2.clshead.2.bias']. Ignoring unexpected keys.\n"
     ]
    },
    {
     "name": "stderr",
     "output_type": "stream",
     "text": [
      "/workspaces/container-workspace/tts-gan/Notebooks/Encoder_evaluation/encoder_finetuning.py:48: FutureWarning:\n",
      "\n",
      "You are using `torch.load` with `weights_only=False` (the current default value), which uses the default pickle module implicitly. It is possible to construct malicious pickle data which will execute arbitrary code during unpickling (See https://github.com/pytorch/pytorch/blob/main/SECURITY.md#untrusted-models for more details). In a future release, the default value for `weights_only` will be flipped to `True`. This limits the functions that could be executed during unpickling. Arbitrary objects will no longer be allowed to be loaded via this mode unless they are explicitly allowlisted by the user via `torch.serialization.add_safe_globals`. We recommend you start setting `weights_only=True` for any use case where you don't have full control of the loaded file. Please open an issue on GitHub for any issues related to this experimental feature.\n",
      "\n"
     ]
    },
    {
     "name": "stdout",
     "output_type": "stream",
     "text": [
      "Using DataLoader with shuffle=True\n"
     ]
    },
    {
     "name": "stderr",
     "output_type": "stream",
     "text": [
      "GPU available: True (cuda), used: True\n",
      "TPU available: False, using: 0 TPU cores\n",
      "HPU available: False, using: 0 HPUs\n",
      "Seed set to 42\n"
     ]
    },
    {
     "name": "stdout",
     "output_type": "stream",
     "text": [
      "Log directory set to: /workspaces/container-workspace/tts-gan/Notebooks/Encoder_evaluation/logs/teste/1/RealWorld_thigh/run_20241216-173311\n",
      "Pipeline info saved at: /workspaces/container-workspace/tts-gan/Notebooks/Encoder_evaluation/logs/teste/1/RealWorld_thigh/run_20241216-173311/run_2024-12-16-17-33-12cd90cbadfe4e4e6ab11ce5562a1228fc.yaml\n"
     ]
    },
    {
     "name": "stderr",
     "output_type": "stream",
     "text": [
      "/usr/local/lib/python3.10/dist-packages/lightning/pytorch/callbacks/model_checkpoint.py:654: UserWarning:\n",
      "\n",
      "Checkpoint directory /workspaces/container-workspace/tts-gan/Notebooks/Encoder_evaluation/checkpoints exists and is not empty.\n",
      "\n",
      "LOCAL_RANK: 0 - CUDA_VISIBLE_DEVICES: [0]\n",
      "\n",
      "  | Name     | Type             | Params | Mode \n",
      "------------------------------------------------------\n",
      "0 | backbone | TTSGAN_Encoder   | 96.8 K | train\n",
      "1 | fc       | MLP              | 32.9 K | train\n",
      "2 | loss_fn  | CrossEntropyLoss | 0      | train\n",
      "------------------------------------------------------\n",
      "129 K     Trainable params\n",
      "0         Non-trainable params\n",
      "129 K     Total params\n",
      "0.519     Total estimated model params size (MB)\n",
      "71        Modules in train mode\n",
      "0         Modules in eval mode\n"
     ]
    },
    {
     "name": "stdout",
     "output_type": "stream",
     "text": [
      "Sanity Checking: |          | 0/? [00:00<?, ?it/s]Using DataLoader with shuffle=False\n"
     ]
    },
    {
     "name": "stderr",
     "output_type": "stream",
     "text": [
      "/usr/local/lib/python3.10/dist-packages/lightning/pytorch/trainer/connectors/data_connector.py:424: PossibleUserWarning:\n",
      "\n",
      "The 'val_dataloader' does not have many workers which may be a bottleneck. Consider increasing the value of the `num_workers` argument` to `num_workers=5` in the `DataLoader` to improve performance.\n",
      "\n"
     ]
    },
    {
     "name": "stdout",
     "output_type": "stream",
     "text": [
      "Using DataLoader with shuffle=True                                          \n"
     ]
    },
    {
     "name": "stderr",
     "output_type": "stream",
     "text": [
      "/usr/local/lib/python3.10/dist-packages/lightning/pytorch/trainer/connectors/data_connector.py:424: PossibleUserWarning:\n",
      "\n",
      "The 'train_dataloader' does not have many workers which may be a bottleneck. Consider increasing the value of the `num_workers` argument` to `num_workers=5` in the `DataLoader` to improve performance.\n",
      "\n"
     ]
    },
    {
     "name": "stdout",
     "output_type": "stream",
     "text": [
      "Epoch 0: 100%|██████████| 161/161 [00:02<00:00, 59.46it/s, v_num=3311, val_loss=1.080, val_acc=0.584, train_loss=1.470, train_acc=0.431]"
     ]
    },
    {
     "name": "stderr",
     "output_type": "stream",
     "text": [
      "`Trainer.fit` stopped: `max_epochs=1` reached.\n"
     ]
    },
    {
     "name": "stdout",
     "output_type": "stream",
     "text": [
      "Epoch 0: 100%|██████████| 161/161 [00:02<00:00, 57.20it/s, v_num=3311, val_loss=1.080, val_acc=0.584, train_loss=1.470, train_acc=0.431]\n"
     ]
    },
    {
     "name": "stderr",
     "output_type": "stream",
     "text": [
      "Seed set to 42\n"
     ]
    },
    {
     "name": "stdout",
     "output_type": "stream",
     "text": [
      "Pipeline info saved at: /workspaces/container-workspace/tts-gan/Notebooks/Encoder_evaluation/logs/teste/1/RealWorld_thigh/run_20241216-173311/run_2024-12-16-17-33-12cd90cbadfe4e4e6ab11ce5562a1228fc.yaml\n",
      "Log directory set to: /workspaces/container-workspace/tts-gan/Notebooks/Encoder_evaluation/logs/teste/1/RealWorld_thigh/run_20241216-173311\n",
      "Pipeline info saved at: /workspaces/container-workspace/tts-gan/Notebooks/Encoder_evaluation/logs/teste/1/RealWorld_thigh/run_20241216-173311/run_2024-12-16-17-33-16fe21d66b9912477d8024d455517bbbb6.yaml\n"
     ]
    },
    {
     "name": "stderr",
     "output_type": "stream",
     "text": [
      "Restoring states from the checkpoint path at /workspaces/container-workspace/tts-gan/Notebooks/Encoder_evaluation/checkpoints/epoch=0-step=161-v31.ckpt\n",
      "LOCAL_RANK: 0 - CUDA_VISIBLE_DEVICES: [0]\n",
      "Loaded model weights from the checkpoint at /workspaces/container-workspace/tts-gan/Notebooks/Encoder_evaluation/checkpoints/epoch=0-step=161-v31.ckpt\n"
     ]
    },
    {
     "name": "stdout",
     "output_type": "stream",
     "text": [
      "Using DataLoader with shuffle=False\n",
      "Using DataLoader with shuffle=False\n"
     ]
    },
    {
     "name": "stderr",
     "output_type": "stream",
     "text": [
      "/usr/local/lib/python3.10/dist-packages/lightning/pytorch/trainer/connectors/data_connector.py:424: PossibleUserWarning:\n",
      "\n",
      "The 'predict_dataloader' does not have many workers which may be a bottleneck. Consider increasing the value of the `num_workers` argument` to `num_workers=5` in the `DataLoader` to improve performance.\n",
      "\n"
     ]
    },
    {
     "name": "stdout",
     "output_type": "stream",
     "text": [
      "Predicting DataLoader 0: 100%|██████████| 46/46 [00:00<00:00, 185.21it/s]\n",
      "Running classification metrics...\n",
      "Running model analysis...\n",
      "Using DataLoader with shuffle=False\n",
      "t-SNE plot saved to /workspaces/container-workspace/tts-gan/Notebooks/Encoder_evaluation/logs/teste/1/RealWorld_thigh/run_20241216-173311/tsne_cpc_finetuned_kuhar.pdf\n",
      "Metrics saved to /workspaces/container-workspace/tts-gan/Notebooks/Encoder_evaluation/logs/teste/1/RealWorld_thigh/run_20241216-173311/metrics_2024-12-16-17-33-16fe21d66b9912477d8024d455517bbbb6.yaml\n",
      "Pipeline info saved at: /workspaces/container-workspace/tts-gan/Notebooks/Encoder_evaluation/logs/teste/1/RealWorld_thigh/run_20241216-173311/run_2024-12-16-17-33-16fe21d66b9912477d8024d455517bbbb6.yaml\n",
      "\n",
      "\n",
      "checkpoint number: 1 | repeat 2 | data name: RealWorld_thigh | checkpoint name: UCI_DAGHAR_Multiclass_50000_D_60_6axis_2024_12_16_17_00_44/Model/checkpoint\n",
      "\n",
      "\n",
      "Model loaded from gan_dict.pth\n",
      "When loading model, the following keys are unexpected: ['2.clshead.1.weight', '2.clshead.1.bias', '2.clshead.2.weight', '2.clshead.2.bias']. Ignoring unexpected keys.\n"
     ]
    },
    {
     "name": "stderr",
     "output_type": "stream",
     "text": [
      "/workspaces/container-workspace/tts-gan/Notebooks/Encoder_evaluation/encoder_finetuning.py:48: FutureWarning:\n",
      "\n",
      "You are using `torch.load` with `weights_only=False` (the current default value), which uses the default pickle module implicitly. It is possible to construct malicious pickle data which will execute arbitrary code during unpickling (See https://github.com/pytorch/pytorch/blob/main/SECURITY.md#untrusted-models for more details). In a future release, the default value for `weights_only` will be flipped to `True`. This limits the functions that could be executed during unpickling. Arbitrary objects will no longer be allowed to be loaded via this mode unless they are explicitly allowlisted by the user via `torch.serialization.add_safe_globals`. We recommend you start setting `weights_only=True` for any use case where you don't have full control of the loaded file. Please open an issue on GitHub for any issues related to this experimental feature.\n",
      "\n"
     ]
    },
    {
     "name": "stdout",
     "output_type": "stream",
     "text": [
      "Using DataLoader with shuffle=True\n"
     ]
    },
    {
     "name": "stderr",
     "output_type": "stream",
     "text": [
      "GPU available: True (cuda), used: True\n",
      "TPU available: False, using: 0 TPU cores\n",
      "HPU available: False, using: 0 HPUs\n",
      "Seed set to 42\n"
     ]
    },
    {
     "name": "stdout",
     "output_type": "stream",
     "text": [
      "Log directory set to: /workspaces/container-workspace/tts-gan/Notebooks/Encoder_evaluation/logs/teste/1/RealWorld_thigh/run_20241216-173336\n",
      "Pipeline info saved at: /workspaces/container-workspace/tts-gan/Notebooks/Encoder_evaluation/logs/teste/1/RealWorld_thigh/run_20241216-173336/run_2024-12-16-17-33-37157c1e4e365a4e4ea42e83b3914e2e09.yaml\n"
     ]
    },
    {
     "name": "stderr",
     "output_type": "stream",
     "text": [
      "/usr/local/lib/python3.10/dist-packages/lightning/pytorch/callbacks/model_checkpoint.py:654: UserWarning:\n",
      "\n",
      "Checkpoint directory /workspaces/container-workspace/tts-gan/Notebooks/Encoder_evaluation/checkpoints exists and is not empty.\n",
      "\n",
      "LOCAL_RANK: 0 - CUDA_VISIBLE_DEVICES: [0]\n",
      "\n",
      "  | Name     | Type             | Params | Mode \n",
      "------------------------------------------------------\n",
      "0 | backbone | TTSGAN_Encoder   | 96.8 K | train\n",
      "1 | fc       | MLP              | 32.9 K | train\n",
      "2 | loss_fn  | CrossEntropyLoss | 0      | train\n",
      "------------------------------------------------------\n",
      "129 K     Trainable params\n",
      "0         Non-trainable params\n",
      "129 K     Total params\n",
      "0.519     Total estimated model params size (MB)\n",
      "71        Modules in train mode\n",
      "0         Modules in eval mode\n"
     ]
    },
    {
     "name": "stdout",
     "output_type": "stream",
     "text": [
      "Sanity Checking: |          | 0/? [00:00<?, ?it/s]Using DataLoader with shuffle=False\n"
     ]
    },
    {
     "name": "stderr",
     "output_type": "stream",
     "text": [
      "/usr/local/lib/python3.10/dist-packages/lightning/pytorch/trainer/connectors/data_connector.py:424: PossibleUserWarning:\n",
      "\n",
      "The 'val_dataloader' does not have many workers which may be a bottleneck. Consider increasing the value of the `num_workers` argument` to `num_workers=5` in the `DataLoader` to improve performance.\n",
      "\n"
     ]
    },
    {
     "name": "stdout",
     "output_type": "stream",
     "text": [
      "Using DataLoader with shuffle=True                                          \n"
     ]
    },
    {
     "name": "stderr",
     "output_type": "stream",
     "text": [
      "/usr/local/lib/python3.10/dist-packages/lightning/pytorch/trainer/connectors/data_connector.py:424: PossibleUserWarning:\n",
      "\n",
      "The 'train_dataloader' does not have many workers which may be a bottleneck. Consider increasing the value of the `num_workers` argument` to `num_workers=5` in the `DataLoader` to improve performance.\n",
      "\n"
     ]
    },
    {
     "name": "stdout",
     "output_type": "stream",
     "text": [
      "Epoch 0: 100%|██████████| 161/161 [00:02<00:00, 57.45it/s, v_num=3336, val_loss=1.170, val_acc=0.509, train_loss=1.490, train_acc=0.432]"
     ]
    },
    {
     "name": "stderr",
     "output_type": "stream",
     "text": [
      "`Trainer.fit` stopped: `max_epochs=1` reached.\n"
     ]
    },
    {
     "name": "stdout",
     "output_type": "stream",
     "text": [
      "Epoch 0: 100%|██████████| 161/161 [00:02<00:00, 55.06it/s, v_num=3336, val_loss=1.170, val_acc=0.509, train_loss=1.490, train_acc=0.432]\n"
     ]
    },
    {
     "name": "stderr",
     "output_type": "stream",
     "text": [
      "Seed set to 42\n"
     ]
    },
    {
     "name": "stdout",
     "output_type": "stream",
     "text": [
      "Pipeline info saved at: /workspaces/container-workspace/tts-gan/Notebooks/Encoder_evaluation/logs/teste/1/RealWorld_thigh/run_20241216-173336/run_2024-12-16-17-33-37157c1e4e365a4e4ea42e83b3914e2e09.yaml\n",
      "Log directory set to: /workspaces/container-workspace/tts-gan/Notebooks/Encoder_evaluation/logs/teste/1/RealWorld_thigh/run_20241216-173336\n",
      "Pipeline info saved at: /workspaces/container-workspace/tts-gan/Notebooks/Encoder_evaluation/logs/teste/1/RealWorld_thigh/run_20241216-173336/run_2024-12-16-17-33-41dd37b2df859249a18fc9c1e1cf397abf.yaml\n",
      "Using DataLoader with shuffle=False\n"
     ]
    },
    {
     "name": "stderr",
     "output_type": "stream",
     "text": [
      "Restoring states from the checkpoint path at /workspaces/container-workspace/tts-gan/Notebooks/Encoder_evaluation/checkpoints/epoch=0-step=161-v32.ckpt\n",
      "LOCAL_RANK: 0 - CUDA_VISIBLE_DEVICES: [0]\n",
      "Loaded model weights from the checkpoint at /workspaces/container-workspace/tts-gan/Notebooks/Encoder_evaluation/checkpoints/epoch=0-step=161-v32.ckpt\n"
     ]
    },
    {
     "name": "stdout",
     "output_type": "stream",
     "text": [
      "Using DataLoader with shuffle=False\n"
     ]
    },
    {
     "name": "stderr",
     "output_type": "stream",
     "text": [
      "/usr/local/lib/python3.10/dist-packages/lightning/pytorch/trainer/connectors/data_connector.py:424: PossibleUserWarning:\n",
      "\n",
      "The 'predict_dataloader' does not have many workers which may be a bottleneck. Consider increasing the value of the `num_workers` argument` to `num_workers=5` in the `DataLoader` to improve performance.\n",
      "\n"
     ]
    },
    {
     "name": "stdout",
     "output_type": "stream",
     "text": [
      "Predicting DataLoader 0: 100%|██████████| 46/46 [00:00<00:00, 221.59it/s]\n",
      "Running classification metrics...\n",
      "Running model analysis...\n",
      "Using DataLoader with shuffle=False\n",
      "t-SNE plot saved to /workspaces/container-workspace/tts-gan/Notebooks/Encoder_evaluation/logs/teste/1/RealWorld_thigh/run_20241216-173336/tsne_cpc_finetuned_kuhar.pdf\n",
      "Metrics saved to /workspaces/container-workspace/tts-gan/Notebooks/Encoder_evaluation/logs/teste/1/RealWorld_thigh/run_20241216-173336/metrics_2024-12-16-17-33-41dd37b2df859249a18fc9c1e1cf397abf.yaml\n",
      "Pipeline info saved at: /workspaces/container-workspace/tts-gan/Notebooks/Encoder_evaluation/logs/teste/1/RealWorld_thigh/run_20241216-173336/run_2024-12-16-17-33-41dd37b2df859249a18fc9c1e1cf397abf.yaml\n",
      "\n",
      "\n",
      "checkpoint number: 1 | repeat 3 | data name: RealWorld_thigh | checkpoint name: UCI_DAGHAR_Multiclass_50000_D_60_6axis_2024_12_16_17_00_44/Model/checkpoint\n",
      "\n",
      "\n",
      "Model loaded from gan_dict.pth\n",
      "When loading model, the following keys are unexpected: ['2.clshead.1.weight', '2.clshead.1.bias', '2.clshead.2.weight', '2.clshead.2.bias']. Ignoring unexpected keys.\n"
     ]
    },
    {
     "name": "stderr",
     "output_type": "stream",
     "text": [
      "/workspaces/container-workspace/tts-gan/Notebooks/Encoder_evaluation/encoder_finetuning.py:48: FutureWarning:\n",
      "\n",
      "You are using `torch.load` with `weights_only=False` (the current default value), which uses the default pickle module implicitly. It is possible to construct malicious pickle data which will execute arbitrary code during unpickling (See https://github.com/pytorch/pytorch/blob/main/SECURITY.md#untrusted-models for more details). In a future release, the default value for `weights_only` will be flipped to `True`. This limits the functions that could be executed during unpickling. Arbitrary objects will no longer be allowed to be loaded via this mode unless they are explicitly allowlisted by the user via `torch.serialization.add_safe_globals`. We recommend you start setting `weights_only=True` for any use case where you don't have full control of the loaded file. Please open an issue on GitHub for any issues related to this experimental feature.\n",
      "\n"
     ]
    },
    {
     "name": "stdout",
     "output_type": "stream",
     "text": [
      "Using DataLoader with shuffle=True\n"
     ]
    },
    {
     "name": "stderr",
     "output_type": "stream",
     "text": [
      "GPU available: True (cuda), used: True\n",
      "TPU available: False, using: 0 TPU cores\n",
      "HPU available: False, using: 0 HPUs\n",
      "Seed set to 42\n"
     ]
    },
    {
     "name": "stdout",
     "output_type": "stream",
     "text": [
      "Log directory set to: /workspaces/container-workspace/tts-gan/Notebooks/Encoder_evaluation/logs/teste/1/RealWorld_thigh/run_20241216-173402\n",
      "Pipeline info saved at: /workspaces/container-workspace/tts-gan/Notebooks/Encoder_evaluation/logs/teste/1/RealWorld_thigh/run_20241216-173402/run_2024-12-16-17-34-03521f6aa1b65c41f3980f675967aac869.yaml\n"
     ]
    }
   ],
   "source": [
    "root_data_path = '/workspaces/container-workspace/standardized_view/'\n",
    "root_ckpt_path = '/workspaces/container-workspace/tts-gan/logs/review/'\n",
    "root_log_path =  '/workspaces/container-workspace/tts-gan/Notebooks/Encoder_evaluation/logs/'\n",
    "repeat = 3\n",
    "\n",
    "for i in range(len([os.path.join(a, 'Model/checkpoint') for a in os.listdir(root_ckpt_path)])):\n",
    "    for data_path in os.listdir(root_data_path):\n",
    "        for _ in range(repeat):\n",
    "            execution_id = f'run_{datetime.now().strftime(\"%Y%m%d-%H%M%S\")}'\n",
    "            checkpoint_path = [os.path.join(a, 'Model/checkpoint') for a in os.listdir(root_ckpt_path)][i]\n",
    "            print(f'\\n\\ncheckpoint number: {i} | repeat {_ + 1} | data name: {data_path} | checkpoint name: {checkpoint_path}\\n\\n')\n",
    "\n",
    "            complete_TTSGAN_training(data_path = root_data_path + data_path,\n",
    "                                    checkpoint_path = root_ckpt_path + checkpoint_path,\n",
    "                                    root_log_dir = root_log_path + f'/teste/{i}',\n",
    "                                    execution_id = execution_id,\n",
    "                                    num_classes = 6,\n",
    "                                    max_epochs = 1)"
   ]
  }
 ],
 "metadata": {
  "kernelspec": {
   "display_name": "Python 3",
   "language": "python",
   "name": "python3"
  },
  "language_info": {
   "codemirror_mode": {
    "name": "ipython",
    "version": 3
   },
   "file_extension": ".py",
   "mimetype": "text/x-python",
   "name": "python",
   "nbconvert_exporter": "python",
   "pygments_lexer": "ipython3",
   "version": "3.10.6"
  }
 },
 "nbformat": 4,
 "nbformat_minor": 2
}
