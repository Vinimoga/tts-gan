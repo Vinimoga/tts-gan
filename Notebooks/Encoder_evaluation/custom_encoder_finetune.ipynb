{
 "cells": [
  {
   "cell_type": "markdown",
   "metadata": {},
   "source": [
    "# Finetune a Custom Encoder on the DAGHAR Dataset\n",
    "\n",
    "\n",
    "In this notebook, we will fine-tune a custom encoder (previously trained elsewhere) on the DAGHAR KuHAR dataset. The encoder can be **any `torch.nn.Module` that was trained elsewhere** and whose checkpoint is available at a `.ckpt` file (saved using `torch.save(model.state_dict())`). This file may contain only the weights from encoder or may contains the weights of the entire model, including the encoder.\n",
    "\n",
    "To do this, we will first define yor model by:\n",
    "1. Loadig the encoder from the checkpoint, using the `FromPretrained` class. We going to call this encoder as `backbone`.\n",
    "2. Calculating the embedding size of the `backbone`. This is necessary to define the head of the model. This is done by passing a dummy input through the `backbone` and checking the output shape.\n",
    "3. Defining the head of the model. We use a standard MLP classifier as the head, whose input size is the embedding size, followed by a hidden layer of 128 units and an output layer with the number of classes in the dataset, that is, 6.\n",
    "4. Creating a `SimpleSupervisedModel` with the `backbone` and the head. The `SimpleSupervisedModel` is a PyTorch Lightning module that receives the `backbone` and the head as arguments and trains the model end-to-end. This model simply forwards the input through the `backbone`, flattens the output, and passes it through the head to get the logits, whose loss is calculated using the cross-entropy loss.\n",
    "\n",
    "Note that, for sake of reproducibility, you should only change parts related to loading the encoder and defining the head of the model. The rest of the code should remain the same (or at least very similar) to the one provided in this notebook.\n",
    "\n",
    "**Notes:**\n",
    "1. The `backbone` should have a `forward` method that takes a batch of time series as input and returns the output of the encoder (embeddings). Your encoder must accept samples with the shape `(batch_size, channels, steps)`, where `channels` is the number of channels in the time series and `steps` is the number of time steps. For DAGHAR dataset, `channels=6` and `steps=60`. **Thus, your encoder should accept samples with the shape `(batch_size, 6, 60)`.**\n",
    "\n"
   ]
  },
  {
   "cell_type": "code",
   "execution_count": 1,
   "metadata": {},
   "outputs": [],
   "source": [
    "# You should install minerva before running this script\n",
    "\n",
    "#!pip install git+https://github.com/discovery-unicamp/Minerva-Dev.git\n",
    "#!pip install kaleido"
   ]
  },
  {
   "cell_type": "code",
   "execution_count": 2,
   "metadata": {},
   "outputs": [
    {
     "name": "stderr",
     "output_type": "stream",
     "text": [
      "/usr/local/lib/python3.10/dist-packages/_distutils_hack/__init__.py:55: UserWarning: Reliance on distutils from stdlib is deprecated. Users must rely on setuptools to provide the distutils module. Avoid importing distutils or import setuptools first, and avoid setting SETUPTOOLS_USE_DISTUTILS=stdlib. Register concerns at https://github.com/pypa/setuptools/issues/new?template=distutils-deprecation.yml\n",
      "  warnings.warn(\n",
      "/usr/local/lib/python3.10/dist-packages/tqdm/auto.py:21: TqdmWarning: IProgress not found. Please update jupyter and ipywidgets. See https://ipywidgets.readthedocs.io/en/stable/user_install.html\n",
      "  from .autonotebook import tqdm as notebook_tqdm\n"
     ]
    }
   ],
   "source": [
    "from datetime import datetime\n",
    "\n",
    "import lightning as L\n",
    "import torch\n",
    "from lightning.pytorch.callbacks import ModelCheckpoint\n",
    "from lightning.pytorch.loggers import CSVLogger\n",
    "\n",
    "from minerva.models.ssl.cpc import CPC\n",
    "from minerva.models.nets.cpc_networks import HARCPCAutoregressive\n",
    "from minerva.data.data_modules.har_rodrigues_24 import HARDataModuleCPC\n",
    "from minerva.pipelines.lightning_pipeline import SimpleLightningPipeline\n",
    "from minerva.models.nets.base import SimpleSupervisedModel\n",
    "\n",
    "from minerva.models.nets.tnc import TSEncoder\n",
    "import torchmetrics\n",
    "\n",
    "from minerva.data.data_modules.har import MultiModalHARSeriesDataModule\n",
    "from minerva.models.loaders import FromPretrained\n",
    "from minerva.models.nets.base import SimpleSupervisedModel\n",
    "from minerva.models.nets.mlp import MLP\n",
    "from minerva.analysis.metrics.balanced_accuracy import BalancedAccuracy\n",
    "from minerva.analysis.model_analysis import TSNEAnalysis"
   ]
  },
  {
   "cell_type": "code",
   "execution_count": 3,
   "metadata": {},
   "outputs": [
    {
     "name": "stdout",
     "output_type": "stream",
     "text": [
      "/workspaces/container-workspace/standardized_view/UCI\n",
      "/workspaces/container-workspace/standardized_view/WISDM\n",
      "/workspaces/container-workspace/standardized_view/KuHar\n",
      "/workspaces/container-workspace/standardized_view/RealWorld_waist\n",
      "/workspaces/container-workspace/standardized_view/MotionSense\n",
      "/workspaces/container-workspace/standardized_view/RealWorld_thigh\n"
     ]
    }
   ],
   "source": [
    "import os\n",
    "\n",
    "root_data_path = '/workspaces/container-workspace/standardized_view/'\n",
    "for data_path in os.listdir(root_data_path):\n",
    "    print(root_data_path + data_path)"
   ]
  },
  {
   "cell_type": "code",
   "execution_count": 4,
   "metadata": {},
   "outputs": [],
   "source": [
    "dataset = 'MotionSense'\n",
    "ckpt_id = 0\n",
    "tipo = 'lightning'\n",
    "root_dir = '/workspaces/container-workspace/tts-gan/logs/review1/'\n",
    "\n",
    "if tipo == 'Normal':\n",
    "    base_dirs = os.listdir(root_dir)\n",
    "    appendice = 'Model/checkpoint'\n",
    "    is_basegan = False \n",
    "    display(base_dirs)\n",
    "\n",
    "elif tipo =='lightning':\n",
    "    is_basegan = True "
   ]
  },
  {
   "cell_type": "code",
   "execution_count": null,
   "metadata": {},
   "outputs": [
    {
     "name": "stdout",
     "output_type": "stream",
     "text": [
      "Execution ID: run_20241219-123331\n",
      "Log dir: ./logs/comparação1/lightning/0/MotionSense/run_20241219-123331\n"
     ]
    }
   ],
   "source": [
    "# Name of the experiment\n",
    "execution_id = f'run_{datetime.now().strftime(\"%Y%m%d-%H%M%S\")}'\n",
    "# Directory to save logs\n",
    "log_dir = f\"./logs/comparação1/{tipo}/{ckpt_id}/{dataset}/{execution_id}\" \n",
    "\n",
    "print(f\"Execution ID: {execution_id}\")\n",
    "print(f\"Log dir: {log_dir}\")"
   ]
  },
  {
   "cell_type": "markdown",
   "metadata": {},
   "source": [
    "## Fine-tuning a Pre-trained Custom Encoder\n",
    "\n",
    "In this notebook, we will fine-tune a custom encoder on the DAGHAR dataset. The encoder can be any `torch.nn.Module` that was trained elsewhere and whose checkpoint is available at a `.ckpt` file (saved using `torch.save(model.state_dict())`). This file may contain only the weights from encoder or may contains the weights of the entire model, including the encoder."
   ]
  },
  {
   "cell_type": "markdown",
   "metadata": {},
   "source": [
    "### 1. Defining the Data Module\n",
    "\n",
    "We will use the `MultiModalHARSeriesDataModule` data module to load the DAGHAR dataset for fine-tuning. This data module loads the data in the format required for fine-tuning, which includes sliding window time series data for each sample. Thus, each sample of the dataset will be a 2-element tuple containing the time series (`6x60`, where 6 is the number of features and 60 is the window size) and the corresponding label.\n",
    "\n",
    "The data module requires the following arguments:\n",
    "- `data_path`: Path to the directory containing the dataset (change it to use other dataset from DAGHAR).\n",
    "- `feature_prefix`: The prefix of the columns containing the features. For each prefix, we will create a different channel with all columns that start with the prefix.\n",
    "- `label`: The name of the column containing the labels.\n",
    "- `features_as_channels`: If True, for each prefix, we will create a different channel with all columns that start with the prefix. If False, we will concatenate all columns with the same prefix into a single channel (the sample will be a tensor of 1x360 instead of 6x60).\n",
    "- `cast_to`: The data type to cast the features (float32).\n",
    "- `batch_size`: The batch size for training."
   ]
  },
  {
   "cell_type": "code",
   "execution_count": 6,
   "metadata": {},
   "outputs": [
    {
     "data": {
      "text/plain": [
       "MultiModalHARSeriesDataModule(data_path=/workspaces/container-workspace/standardized_view/MotionSense, batch_size=64)"
      ]
     },
     "execution_count": 6,
     "metadata": {},
     "output_type": "execute_result"
    }
   ],
   "source": [
    "data_module = MultiModalHARSeriesDataModule(\n",
    "    data_path=f\"/workspaces/container-workspace/standardized_view/{dataset}\",\n",
    "    feature_prefixes=[\"accel-x\", \"accel-y\", \"accel-z\", \"gyro-x\", \"gyro-y\", \"gyro-z\"],\n",
    "    label=\"standard activity code\",\n",
    "    features_as_channels=True,\n",
    "    cast_to=\"float32\",\n",
    "    batch_size=64,\n",
    "    num_workers=1,\n",
    ")\n",
    "\n",
    "data_module"
   ]
  },
  {
   "cell_type": "markdown",
   "metadata": {},
   "source": [
    "### 2. Defining the Fine-tuning Model\n",
    "\n",
    "We first going to create the `backbone` of our model, that is our encoder. To do this, we:\n",
    "1. Copy-and-paste the code of the encoder in the cell below. Should be a `torch.nn.Module` or equivalent. You should copy all code necessary to define the encoder, including imports, class definition, the `forward` method, and any other methods or classes that are necessary to define the encoder.\n",
    "2. Load the weights of the encoder from the checkpoint file using the `FromPretrained` class. This class receives the path to the checkpoint file and the model class and loads the weights from the checkpoint to the model. The `FromPretrained` class is a simple wrapper around the `torch.load` function that loads the weights from the checkpoint to the model.\n",
    "\n",
    "**NOTE**: \n",
    "1. For sake of tutorial, we will create a dummy encoder and save the random weights to a checkpoint file. You should replace the dummy encoder with your encoder and the checkpoint file with the file containing the weights of your encoder.\n",
    "2. Your encoder **must accept samples with the shape `(batch_size, 6, 60)`**. This is the shape of the samples in the DAGHAR dataset. If your encoder does not accept samples with this shape, you should modify it to accept samples with this shape."
   ]
  },
  {
   "cell_type": "markdown",
   "metadata": {},
   "source": [
    "#### Encoder Definition*"
   ]
  },
  {
   "cell_type": "code",
   "execution_count": 7,
   "metadata": {},
   "outputs": [],
   "source": [
    "from minerva.models.nets.time_series.gans import TTSGAN_Encoder, GAN, TTSGAN_Generator, TTSGAN_Discriminator\n",
    "\n",
    "discriminator = TTSGAN_Discriminator(channels=6, seq_len=60)\n",
    "generator = TTSGAN_Generator(channels=6, seq_len=60)\n",
    "\n",
    "model = GAN(generator = generator,\n",
    "            discriminator = discriminator, \n",
    "            loss_gen = torch.nn.MSELoss(),\n",
    "            loss_dis = torch.nn.MSELoss(),\n",
    "            )"
   ]
  },
  {
   "cell_type": "code",
   "execution_count": 9,
   "metadata": {},
   "outputs": [
    {
     "data": {
      "text/plain": [
       "'/workspaces/container-workspace/tts-gan/Notebooks/training/ttsgan_50000steps_batch16/version_3/checkpoints/epoch=19344-step=38690.ckpt'"
      ]
     },
     "execution_count": 9,
     "metadata": {},
     "output_type": "execute_result"
    }
   ],
   "source": [
    "if tipo == 'Normal':\n",
    "    ckpt_path = root_dir + base_dirs[ckpt_id] + '/' + appendice\n",
    "elif tipo == 'lightning':\n",
    "    #ckpt_path = f\"/workspaces/container-workspace/tts-gan/Notebooks/training/ttsgan_50000steps/all_checkpoints/{ckpt_id}-epoch=12499-step=50000.ckpt\"\n",
    "    ckpt_path = f\"/workspaces/container-workspace/tts-gan/Notebooks/training/ttsgan_50000steps_batch16/version_3/checkpoints/epoch=19344-step=38690.ckpt\"\n",
    "\n",
    "ckpt_path"
   ]
  },
  {
   "cell_type": "code",
   "execution_count": 10,
   "metadata": {},
   "outputs": [
    {
     "name": "stderr",
     "output_type": "stream",
     "text": [
      "/tmp/ipykernel_1645564/4149965660.py:4: FutureWarning: You are using `torch.load` with `weights_only=False` (the current default value), which uses the default pickle module implicitly. It is possible to construct malicious pickle data which will execute arbitrary code during unpickling (See https://github.com/pytorch/pytorch/blob/main/SECURITY.md#untrusted-models for more details). In a future release, the default value for `weights_only` will be flipped to `True`. This limits the functions that could be executed during unpickling. Arbitrary objects will no longer be allowed to be loaded via this mode unless they are explicitly allowlisted by the user via `torch.serialization.add_safe_globals`. We recommend you start setting `weights_only=True` for any use case where you don't have full control of the loaded file. Please open an issue on GitHub for any issues related to this experimental feature.\n",
      "  ckpt = torch.load(f=ckpt_path)\n"
     ]
    }
   ],
   "source": [
    "# REPLACE THIS WITH YOUR ENCODER CHECKPOINT PATH\n",
    "#ckpt_path = \"/workspaces/container-workspace/tts-gan/Notebooks/ttsgan/version_0/checkpoints/epoch=9999-step=40000.ckpt\"\n",
    "\n",
    "ckpt = torch.load(f=ckpt_path)\n",
    "\n",
    "# Get state dict\n",
    "if is_basegan:\n",
    "        state_dict = ckpt['state_dict']\n",
    "        # Separate GAN generator and discriminatorstate_dict\n",
    "        gen_state_dict = {key: value for key, value in state_dict.items() if key.startswith('gen')}\n",
    "        dis_state_dict = {key: value for key, value in state_dict.items() if key.startswith('dis')}\n",
    "\n",
    "        # Remove prefix 'gen.' e 'dis.' from keys\n",
    "        gen_state_dict = {key[len('gen.') :]: value for key, value in gen_state_dict.items()}\n",
    "        dis_state_dict = {key[len('dis.') :]: value for key, value in dis_state_dict.items()}\n",
    "\n",
    "else:\n",
    "        gen_state_dict = ckpt['gen_state_dict']\n",
    "        dis_state_dict = ckpt['dis_state_dict']\n",
    "#save disctionary\n",
    "save_dict = {'gen_state_dict': gen_state_dict, 'dis_state_dict': dis_state_dict}\n",
    "torch.save(save_dict, \"gan_dict.pth\")"
   ]
  },
  {
   "cell_type": "markdown",
   "metadata": {},
   "source": [
    "You should comment the cell below. It is only use to save the dummy encoder to a checkpoint file. When you replace it with your encoder, you should remove this cell."
   ]
  },
  {
   "cell_type": "code",
   "execution_count": 11,
   "metadata": {},
   "outputs": [
    {
     "data": {
      "text/plain": [
       "'\\ntorch.save(DummyEncoder().state_dict(), ckpt_path)\\nprint(f\"Encoder saved at \\'{ckpt_path}\\'\")\\nprint(\"You should remove this torch.save for the final version of your code\")\\n'"
      ]
     },
     "execution_count": 11,
     "metadata": {},
     "output_type": "execute_result"
    }
   ],
   "source": [
    "# COMMENT THIS CELL! It is only here to illustrate a chekpoint. YOU SHOULD USE YOUR OWN ENCODER CHECKPOINT\n",
    "'''\n",
    "torch.save(DummyEncoder().state_dict(), ckpt_path)\n",
    "print(f\"Encoder saved at '{ckpt_path}'\")\n",
    "print(\"You should remove this torch.save for the final version of your code\")\n",
    "'''"
   ]
  },
  {
   "cell_type": "markdown",
   "metadata": {},
   "source": [
    "#### Instantiating the Encoder and Loading it from Checkpoint*\n",
    "\n",
    "We will load the encoder from the checkpoint file using the `FromPretrained` class. This class receives the following parameters:\n",
    "- `model`: is a instance of the model class with random weights. We going to replace the weights of this model with the weights from the checkpoint.\n",
    "- `ckpt_path`: is the path to the checkpoint file containing the weights of the encoder.\n",
    "- `filter_keys`: optional parameter that can be used to filter the keys of the checkpoint file. If provided, only the keys that contain the filter keys will be loaded to the model. This is useful when the checkpoint file contains the weights of the entire model and we want to load only the weights of the encoder.\n",
    "- `strict`: if True, the keys of the checkpoint file must match the keys of the model exactly. If False, the keys of the checkpoint file must contain the keys of the model. We usually set this parameter to False to allow loading only the weights of the encoder.\n",
    "- `keys_to_rename`: a dictionary that maps the keys of the checkpoint file to the keys of the model. This is useful when the keys of the checkpoint file do not match the keys of the model. We can rename the keys of the checkpoint file to match the keys of the model."
   ]
  },
  {
   "cell_type": "code",
   "execution_count": 12,
   "metadata": {},
   "outputs": [
    {
     "name": "stdout",
     "output_type": "stream",
     "text": [
      "dict_keys(['0.cls_token', '0.positions', '0.projection.1.weight', '0.projection.1.bias', '1.0.0.fn.0.weight', '1.0.0.fn.0.bias', '1.0.0.fn.1.keys.weight', '1.0.0.fn.1.keys.bias', '1.0.0.fn.1.queries.weight', '1.0.0.fn.1.queries.bias', '1.0.0.fn.1.values.weight', '1.0.0.fn.1.values.bias', '1.0.0.fn.1.projection.weight', '1.0.0.fn.1.projection.bias', '1.0.1.fn.0.weight', '1.0.1.fn.0.bias', '1.0.1.fn.1.0.weight', '1.0.1.fn.1.0.bias', '1.0.1.fn.1.3.weight', '1.0.1.fn.1.3.bias', '1.1.0.fn.0.weight', '1.1.0.fn.0.bias', '1.1.0.fn.1.keys.weight', '1.1.0.fn.1.keys.bias', '1.1.0.fn.1.queries.weight', '1.1.0.fn.1.queries.bias', '1.1.0.fn.1.values.weight', '1.1.0.fn.1.values.bias', '1.1.0.fn.1.projection.weight', '1.1.0.fn.1.projection.bias', '1.1.1.fn.0.weight', '1.1.1.fn.0.bias', '1.1.1.fn.1.0.weight', '1.1.1.fn.1.0.bias', '1.1.1.fn.1.3.weight', '1.1.1.fn.1.3.bias', '1.2.0.fn.0.weight', '1.2.0.fn.0.bias', '1.2.0.fn.1.keys.weight', '1.2.0.fn.1.keys.bias', '1.2.0.fn.1.queries.weight', '1.2.0.fn.1.queries.bias', '1.2.0.fn.1.values.weight', '1.2.0.fn.1.values.bias', '1.2.0.fn.1.projection.weight', '1.2.0.fn.1.projection.bias', '1.2.1.fn.0.weight', '1.2.1.fn.0.bias', '1.2.1.fn.1.0.weight', '1.2.1.fn.1.0.bias', '1.2.1.fn.1.3.weight', '1.2.1.fn.1.3.bias', '2.clshead.1.weight', '2.clshead.1.bias', '2.clshead.2.weight', '2.clshead.2.bias'])\n",
      "Model loaded from gan_dict.pth\n",
      "When loading model, the following keys are unexpected: ['2.clshead.1.weight', '2.clshead.1.bias', '2.clshead.2.weight', '2.clshead.2.bias']. Ignoring unexpected keys.\n"
     ]
    },
    {
     "data": {
      "text/plain": [
       "TTSGAN_Encoder(\n",
       "  (0): PatchEmbedding_Linear(\n",
       "    (projection): Sequential(\n",
       "      (0): RearrangeLayer()\n",
       "      (1): Linear(in_features=90, out_features=50, bias=True)\n",
       "    )\n",
       "  )\n",
       "  (1): Dis_TransformerEncoder(\n",
       "    (0): Dis_TransformerEncoderBlock(\n",
       "      (0): ResidualAdd(\n",
       "        (fn): Sequential(\n",
       "          (0): LayerNorm((50,), eps=1e-05, elementwise_affine=True)\n",
       "          (1): MultiHeadAttention(\n",
       "            (keys): Linear(in_features=50, out_features=50, bias=True)\n",
       "            (queries): Linear(in_features=50, out_features=50, bias=True)\n",
       "            (values): Linear(in_features=50, out_features=50, bias=True)\n",
       "            (att_drop): Dropout(p=0.5, inplace=False)\n",
       "            (projection): Linear(in_features=50, out_features=50, bias=True)\n",
       "          )\n",
       "          (2): Dropout(p=0.5, inplace=False)\n",
       "        )\n",
       "      )\n",
       "      (1): ResidualAdd(\n",
       "        (fn): Sequential(\n",
       "          (0): LayerNorm((50,), eps=1e-05, elementwise_affine=True)\n",
       "          (1): FeedForwardBlock(\n",
       "            (0): Linear(in_features=50, out_features=200, bias=True)\n",
       "            (1): GELU(approximate='none')\n",
       "            (2): Dropout(p=0.5, inplace=False)\n",
       "            (3): Linear(in_features=200, out_features=50, bias=True)\n",
       "          )\n",
       "          (2): Dropout(p=0.5, inplace=False)\n",
       "        )\n",
       "      )\n",
       "    )\n",
       "    (1): Dis_TransformerEncoderBlock(\n",
       "      (0): ResidualAdd(\n",
       "        (fn): Sequential(\n",
       "          (0): LayerNorm((50,), eps=1e-05, elementwise_affine=True)\n",
       "          (1): MultiHeadAttention(\n",
       "            (keys): Linear(in_features=50, out_features=50, bias=True)\n",
       "            (queries): Linear(in_features=50, out_features=50, bias=True)\n",
       "            (values): Linear(in_features=50, out_features=50, bias=True)\n",
       "            (att_drop): Dropout(p=0.5, inplace=False)\n",
       "            (projection): Linear(in_features=50, out_features=50, bias=True)\n",
       "          )\n",
       "          (2): Dropout(p=0.5, inplace=False)\n",
       "        )\n",
       "      )\n",
       "      (1): ResidualAdd(\n",
       "        (fn): Sequential(\n",
       "          (0): LayerNorm((50,), eps=1e-05, elementwise_affine=True)\n",
       "          (1): FeedForwardBlock(\n",
       "            (0): Linear(in_features=50, out_features=200, bias=True)\n",
       "            (1): GELU(approximate='none')\n",
       "            (2): Dropout(p=0.5, inplace=False)\n",
       "            (3): Linear(in_features=200, out_features=50, bias=True)\n",
       "          )\n",
       "          (2): Dropout(p=0.5, inplace=False)\n",
       "        )\n",
       "      )\n",
       "    )\n",
       "    (2): Dis_TransformerEncoderBlock(\n",
       "      (0): ResidualAdd(\n",
       "        (fn): Sequential(\n",
       "          (0): LayerNorm((50,), eps=1e-05, elementwise_affine=True)\n",
       "          (1): MultiHeadAttention(\n",
       "            (keys): Linear(in_features=50, out_features=50, bias=True)\n",
       "            (queries): Linear(in_features=50, out_features=50, bias=True)\n",
       "            (values): Linear(in_features=50, out_features=50, bias=True)\n",
       "            (att_drop): Dropout(p=0.5, inplace=False)\n",
       "            (projection): Linear(in_features=50, out_features=50, bias=True)\n",
       "          )\n",
       "          (2): Dropout(p=0.5, inplace=False)\n",
       "        )\n",
       "      )\n",
       "      (1): ResidualAdd(\n",
       "        (fn): Sequential(\n",
       "          (0): LayerNorm((50,), eps=1e-05, elementwise_affine=True)\n",
       "          (1): FeedForwardBlock(\n",
       "            (0): Linear(in_features=50, out_features=200, bias=True)\n",
       "            (1): GELU(approximate='none')\n",
       "            (2): Dropout(p=0.5, inplace=False)\n",
       "            (3): Linear(in_features=200, out_features=50, bias=True)\n",
       "          )\n",
       "          (2): Dropout(p=0.5, inplace=False)\n",
       "        )\n",
       "      )\n",
       "    )\n",
       "  )\n",
       ")"
      ]
     },
     "execution_count": 12,
     "metadata": {},
     "output_type": "execute_result"
    }
   ],
   "source": [
    "# Instantiating encoder (random weights)\n",
    "backbone = TTSGAN_Encoder(in_channels=6, seq_len=60)\n",
    "\n",
    "# Loading encoder from checkpoint\n",
    "print(dis_state_dict.keys())\n",
    "backbone = FromPretrained(\n",
    "    model=backbone,\n",
    "    ckpt_path='gan_dict.pth',\n",
    "    strict=False,\n",
    "    ckpt_key='dis_state_dict'\n",
    ")\n",
    "backbone"
   ]
  },
  {
   "cell_type": "markdown",
   "metadata": {},
   "source": [
    "#### Defining the head\n",
    "\n",
    "We will define the head of the model. The head is a simple MLP classifier that receives the embeddings from the encoder and outputs the logits. The head consists of a single hidden layer with 128 units and an output layer with the number of classes in the dataset, that is, 6.\n",
    "In order to know the input size of the head, we need to calculate the embedding size of the encoder. This is done by passing a dummy input through the encoder and checking the output shape. Let's pick the first batch of the training data and pass it through the encoder to get the embedding size."
   ]
  },
  {
   "cell_type": "code",
   "execution_count": 13,
   "metadata": {},
   "outputs": [
    {
     "name": "stdout",
     "output_type": "stream",
     "text": [
      "Using DataLoader with shuffle=True\n",
      "O primeiro batch de treino tem shape X=(64, 6, 60) e y=(64,)\n"
     ]
    }
   ],
   "source": [
    "# Pega os dataloader de treino\n",
    "data_module.setup(\"fit\")\n",
    "train_data_loader = data_module.train_dataloader()\n",
    "\n",
    "# Obtem o primeiro batch de treino (64 amostras de 6x60)\n",
    "first_batch = next(iter(train_data_loader))\n",
    "\n",
    "X, y = first_batch\n",
    "print(f\"O primeiro batch de treino tem shape X={tuple(X.shape)} e y={tuple(y.shape)}\")"
   ]
  },
  {
   "cell_type": "markdown",
   "metadata": {},
   "source": [
    "We made a single forward pass through the encoder with the first batch of the training data and checked the output shape that is `(64, 16, 60)`. The embedding size is `16 x 30 = 480`, that is, the product of the number of channels and the number of steps in the output of the encoder. Thus, the input layer of our MLP head will have 480 units."
   ]
  },
  {
   "cell_type": "code",
   "execution_count": 14,
   "metadata": {},
   "outputs": [
    {
     "name": "stdout",
     "output_type": "stream",
     "text": [
      "O embedding tem shape (64, 5, 50)\n",
      "O embedding final, achatado, tem o shape de 250\n"
     ]
    }
   ],
   "source": [
    "embeddings = backbone(X)\n",
    "mlp_input_shape = embeddings.shape[1] * embeddings.shape[2]\n",
    "print(f\"O embedding tem shape {tuple(embeddings.shape)}\")\n",
    "print(f\"O embedding final, achatado, tem o shape de {mlp_input_shape}\")"
   ]
  },
  {
   "cell_type": "markdown",
   "metadata": {},
   "source": [
    "Let's define the head of the model in the cell below. The head will be a simple MLP classifier with:\n",
    "- A input layer with 480 units (`mlp_input_shape` variable).\n",
    "- A hidden layer with 128 units.\n",
    "- An output layer with 6 units, that is the number of classes in the dataset (`num_classes` variable)."
   ]
  },
  {
   "cell_type": "code",
   "execution_count": 15,
   "metadata": {},
   "outputs": [
    {
     "data": {
      "text/plain": [
       "MLP(\n",
       "  (0): Linear(in_features=250, out_features=128, bias=True)\n",
       "  (1): ReLU()\n",
       "  (2): Linear(in_features=128, out_features=6, bias=True)\n",
       ")"
      ]
     },
     "execution_count": 15,
     "metadata": {},
     "output_type": "execute_result"
    }
   ],
   "source": [
    "num_classes = 6\n",
    "head = MLP([mlp_input_shape, 128, num_classes])\n",
    "head"
   ]
  },
  {
   "cell_type": "markdown",
   "metadata": {},
   "source": [
    "#### Defining the SimpleSupervisedModel\n",
    "\n",
    "Finally, we use the `SimpleSupervisedModel` class to create the supervised model with the encoder as the backbone and the MLP classifier as the head. The `SimpleSupervisedModel` class requires the following arguments:\n",
    "- `backbone`: The backbone model (`FromPretrained` model).\n",
    "- `fc`: The head model (the MLP classifier).\n",
    "- `loss_fn`: The loss function to use for training (`CrossEntropyLoss`).\n",
    "- `flatten`: Whether to flatten the input before passing it through the head. Usually, the input is flattened if the backbone outputs a tensor with more than two dimensions.\n",
    "- `train_metrics`: A dictionary where the keys are the names of the metrics and the values are the functions that calculate the metrics. The metrics function should use `torchmetrics` API to calculate the metrics.\n",
    "- `val_metrics`: A dictionary where the keys are the names of the metrics and the values are the functions that calculate the metrics. The metrics function should use `torchmetrics` API to calculate the metrics."
   ]
  },
  {
   "cell_type": "code",
   "execution_count": 16,
   "metadata": {},
   "outputs": [
    {
     "data": {
      "text/plain": [
       "SimpleSupervisedModel(\n",
       "  (backbone): TTSGAN_Encoder(\n",
       "    (0): PatchEmbedding_Linear(\n",
       "      (projection): Sequential(\n",
       "        (0): RearrangeLayer()\n",
       "        (1): Linear(in_features=90, out_features=50, bias=True)\n",
       "      )\n",
       "    )\n",
       "    (1): Dis_TransformerEncoder(\n",
       "      (0): Dis_TransformerEncoderBlock(\n",
       "        (0): ResidualAdd(\n",
       "          (fn): Sequential(\n",
       "            (0): LayerNorm((50,), eps=1e-05, elementwise_affine=True)\n",
       "            (1): MultiHeadAttention(\n",
       "              (keys): Linear(in_features=50, out_features=50, bias=True)\n",
       "              (queries): Linear(in_features=50, out_features=50, bias=True)\n",
       "              (values): Linear(in_features=50, out_features=50, bias=True)\n",
       "              (att_drop): Dropout(p=0.5, inplace=False)\n",
       "              (projection): Linear(in_features=50, out_features=50, bias=True)\n",
       "            )\n",
       "            (2): Dropout(p=0.5, inplace=False)\n",
       "          )\n",
       "        )\n",
       "        (1): ResidualAdd(\n",
       "          (fn): Sequential(\n",
       "            (0): LayerNorm((50,), eps=1e-05, elementwise_affine=True)\n",
       "            (1): FeedForwardBlock(\n",
       "              (0): Linear(in_features=50, out_features=200, bias=True)\n",
       "              (1): GELU(approximate='none')\n",
       "              (2): Dropout(p=0.5, inplace=False)\n",
       "              (3): Linear(in_features=200, out_features=50, bias=True)\n",
       "            )\n",
       "            (2): Dropout(p=0.5, inplace=False)\n",
       "          )\n",
       "        )\n",
       "      )\n",
       "      (1): Dis_TransformerEncoderBlock(\n",
       "        (0): ResidualAdd(\n",
       "          (fn): Sequential(\n",
       "            (0): LayerNorm((50,), eps=1e-05, elementwise_affine=True)\n",
       "            (1): MultiHeadAttention(\n",
       "              (keys): Linear(in_features=50, out_features=50, bias=True)\n",
       "              (queries): Linear(in_features=50, out_features=50, bias=True)\n",
       "              (values): Linear(in_features=50, out_features=50, bias=True)\n",
       "              (att_drop): Dropout(p=0.5, inplace=False)\n",
       "              (projection): Linear(in_features=50, out_features=50, bias=True)\n",
       "            )\n",
       "            (2): Dropout(p=0.5, inplace=False)\n",
       "          )\n",
       "        )\n",
       "        (1): ResidualAdd(\n",
       "          (fn): Sequential(\n",
       "            (0): LayerNorm((50,), eps=1e-05, elementwise_affine=True)\n",
       "            (1): FeedForwardBlock(\n",
       "              (0): Linear(in_features=50, out_features=200, bias=True)\n",
       "              (1): GELU(approximate='none')\n",
       "              (2): Dropout(p=0.5, inplace=False)\n",
       "              (3): Linear(in_features=200, out_features=50, bias=True)\n",
       "            )\n",
       "            (2): Dropout(p=0.5, inplace=False)\n",
       "          )\n",
       "        )\n",
       "      )\n",
       "      (2): Dis_TransformerEncoderBlock(\n",
       "        (0): ResidualAdd(\n",
       "          (fn): Sequential(\n",
       "            (0): LayerNorm((50,), eps=1e-05, elementwise_affine=True)\n",
       "            (1): MultiHeadAttention(\n",
       "              (keys): Linear(in_features=50, out_features=50, bias=True)\n",
       "              (queries): Linear(in_features=50, out_features=50, bias=True)\n",
       "              (values): Linear(in_features=50, out_features=50, bias=True)\n",
       "              (att_drop): Dropout(p=0.5, inplace=False)\n",
       "              (projection): Linear(in_features=50, out_features=50, bias=True)\n",
       "            )\n",
       "            (2): Dropout(p=0.5, inplace=False)\n",
       "          )\n",
       "        )\n",
       "        (1): ResidualAdd(\n",
       "          (fn): Sequential(\n",
       "            (0): LayerNorm((50,), eps=1e-05, elementwise_affine=True)\n",
       "            (1): FeedForwardBlock(\n",
       "              (0): Linear(in_features=50, out_features=200, bias=True)\n",
       "              (1): GELU(approximate='none')\n",
       "              (2): Dropout(p=0.5, inplace=False)\n",
       "              (3): Linear(in_features=200, out_features=50, bias=True)\n",
       "            )\n",
       "            (2): Dropout(p=0.5, inplace=False)\n",
       "          )\n",
       "        )\n",
       "      )\n",
       "    )\n",
       "  )\n",
       "  (fc): MLP(\n",
       "    (0): Linear(in_features=250, out_features=128, bias=True)\n",
       "    (1): ReLU()\n",
       "    (2): Linear(in_features=128, out_features=6, bias=True)\n",
       "  )\n",
       "  (loss_fn): CrossEntropyLoss()\n",
       ")"
      ]
     },
     "execution_count": 16,
     "metadata": {},
     "output_type": "execute_result"
    }
   ],
   "source": [
    "model = SimpleSupervisedModel(\n",
    "    backbone=backbone,\n",
    "    fc=head,\n",
    "    loss_fn=torch.nn.CrossEntropyLoss(),\n",
    "    flatten=True,\n",
    "    train_metrics={\n",
    "        \"acc\": torchmetrics.Accuracy(task=\"multiclass\", num_classes=6),\n",
    "    },\n",
    "    val_metrics={\n",
    "        \"acc\": torchmetrics.Accuracy(task=\"multiclass\", num_classes=6),\n",
    "    },\n",
    ")\n",
    "\n",
    "model"
   ]
  },
  {
   "cell_type": "markdown",
   "metadata": {},
   "source": [
    "### 3. Defining the Pytorch Lightning Trainer Configuration\n",
    "\n",
    "We will define the PyTorch Lightning Trainer configuration for fine-tuning the model.\n",
    "\n",
    "The trainer configuration includes the following parameters:\n",
    "- `max_epochs`: The maximum number of epochs to train the model.\n",
    "- `accelerator`: The accelerator to use for training: `cpu`, `gpu`, or `tpu`.\n",
    "- `devices`: The number of accelerators to use for training.\n",
    "- `logger`: The logger to use for logging the training progress.\n",
    "- `limit_*_batches`: The number of batches to use for training and validation. **This is useful for debugging and testing the model.**. You should remove these parameters when training the model for real."
   ]
  },
  {
   "cell_type": "code",
   "execution_count": 17,
   "metadata": {},
   "outputs": [
    {
     "name": "stderr",
     "output_type": "stream",
     "text": [
      "GPU available: True (cuda), used: True\n",
      "TPU available: False, using: 0 TPU cores\n",
      "HPU available: False, using: 0 HPUs\n"
     ]
    },
    {
     "data": {
      "text/plain": [
       "<lightning.pytorch.trainer.trainer.Trainer at 0x7f9c7e325ed0>"
      ]
     },
     "execution_count": 17,
     "metadata": {},
     "output_type": "execute_result"
    }
   ],
   "source": [
    "## Callbacks\n",
    "checkpoint_callback = ModelCheckpoint(\n",
    "    dirpath='checkpoints/',\n",
    "    monitor='val_loss',\n",
    "    mode='min',\n",
    "    save_last=True\n",
    ")\n",
    "\n",
    "## Logger\n",
    "logger = CSVLogger(save_dir=log_dir, name='tts-finetune', version=execution_id)\n",
    "\n",
    "## Trainer\n",
    "trainer = L.Trainer(\n",
    "    # Maximum number of epochs to train\n",
    "    max_epochs=100,\n",
    "    # Training on GPU\n",
    "    accelerator=\"gpu\",\n",
    "    # We will train using 1 gpu\n",
    "    devices=1,\n",
    "    # Logger for logging\n",
    "    logger=logger,\n",
    "    # List of callbacks\n",
    "    callbacks=[checkpoint_callback],\n",
    "    # Only for testing. Remove for production. We will only train using 1 batch of training and validation\n",
    "    #limit_train_batches=1,\n",
    "    #limit_val_batches=1,\n",
    ")\n",
    "\n",
    "trainer"
   ]
  },
  {
   "cell_type": "markdown",
   "metadata": {},
   "source": [
    "### 4. Creating the fine-tuning pipeline (and running the training)\n",
    "\n",
    "We will create a `SimpleLightningPipeline` to fine-tune the model. This pipeline receives the following arguments:\n",
    "- `model`: The model to train.\n",
    "- `trainer`: The PyTorch Lightning Trainer to use for training.\n",
    "- `log_dir`: The directory to save the logs, checkpoints, and other artifacts of the training process.\n",
    "- `save_run_status`: If True, save the status of the run to the log directory. This is useful for reprodutibility purposes.\n",
    "- `seed`: The seed to use for random number generators in PyTorch, NumPy, and other libraries.\n",
    "\n",
    "This pipeline is optional, as user can simply use `trainer.fit(model, datamodule)` directly to train the model. However, the pipeline provides a more organized way to train the model and save required information for reproducibility."
   ]
  },
  {
   "cell_type": "code",
   "execution_count": 18,
   "metadata": {},
   "outputs": [
    {
     "name": "stderr",
     "output_type": "stream",
     "text": [
      "Seed set to 42\n"
     ]
    },
    {
     "name": "stdout",
     "output_type": "stream",
     "text": [
      "Log directory set to: /workspaces/container-workspace/tts-gan/Notebooks/Encoder_evaluation/logs/comparação1/lightning/0/MotionSense/run_20241219-123331\n"
     ]
    }
   ],
   "source": [
    "train_pipeline = SimpleLightningPipeline(\n",
    "    model=model,\n",
    "    trainer=trainer,\n",
    "    log_dir=log_dir,\n",
    "    save_run_status=True,\n",
    "    seed=42\n",
    ")"
   ]
  },
  {
   "cell_type": "markdown",
   "metadata": {},
   "source": [
    "Run the pipeline to fine-tune the model on the DAGHAR dataset!"
   ]
  },
  {
   "cell_type": "code",
   "execution_count": 19,
   "metadata": {},
   "outputs": [
    {
     "name": "stdout",
     "output_type": "stream",
     "text": [
      "Pipeline info saved at: /workspaces/container-workspace/tts-gan/Notebooks/Encoder_evaluation/logs/comparação1/lightning/0/MotionSense/run_20241219-123331/run_2024-12-19-12-34-06eabb3af7b5754f27afceef2cc198e5dd.yaml\n"
     ]
    },
    {
     "name": "stderr",
     "output_type": "stream",
     "text": [
      "/usr/local/lib/python3.10/dist-packages/lightning/pytorch/callbacks/model_checkpoint.py:654: Checkpoint directory /workspaces/container-workspace/tts-gan/Notebooks/Encoder_evaluation/checkpoints exists and is not empty.\n",
      "LOCAL_RANK: 0 - CUDA_VISIBLE_DEVICES: [0]\n",
      "\n",
      "  | Name     | Type             | Params | Mode \n",
      "------------------------------------------------------\n",
      "0 | backbone | TTSGAN_Encoder   | 96.8 K | train\n",
      "1 | fc       | MLP              | 32.9 K | train\n",
      "2 | loss_fn  | CrossEntropyLoss | 0      | train\n",
      "------------------------------------------------------\n",
      "129 K     Trainable params\n",
      "0         Non-trainable params\n",
      "129 K     Total params\n",
      "0.519     Total estimated model params size (MB)\n",
      "71        Modules in train mode\n",
      "0         Modules in eval mode\n"
     ]
    },
    {
     "name": "stdout",
     "output_type": "stream",
     "text": [
      "Sanity Checking: |          | 0/? [00:00<?, ?it/s]Using DataLoader with shuffle=False\n"
     ]
    },
    {
     "name": "stderr",
     "output_type": "stream",
     "text": [
      "/usr/local/lib/python3.10/dist-packages/lightning/pytorch/trainer/connectors/data_connector.py:424: The 'val_dataloader' does not have many workers which may be a bottleneck. Consider increasing the value of the `num_workers` argument` to `num_workers=5` in the `DataLoader` to improve performance.\n"
     ]
    },
    {
     "name": "stdout",
     "output_type": "stream",
     "text": [
      "                                                                           "
     ]
    },
    {
     "name": "stderr",
     "output_type": "stream",
     "text": [
      "/usr/local/lib/python3.10/dist-packages/lightning/pytorch/trainer/connectors/data_connector.py:424: The 'train_dataloader' does not have many workers which may be a bottleneck. Consider increasing the value of the `num_workers` argument` to `num_workers=5` in the `DataLoader` to improve performance.\n"
     ]
    },
    {
     "name": "stdout",
     "output_type": "stream",
     "text": [
      "Using DataLoader with shuffle=True\n",
      "Epoch 99: 100%|██████████| 55/55 [00:00<00:00, 67.94it/s, v_num=3331, val_loss=2.040, val_acc=0.786, train_loss=0.128, train_acc=0.943]"
     ]
    },
    {
     "name": "stderr",
     "output_type": "stream",
     "text": [
      "`Trainer.fit` stopped: `max_epochs=100` reached.\n"
     ]
    },
    {
     "name": "stdout",
     "output_type": "stream",
     "text": [
      "Epoch 99: 100%|██████████| 55/55 [00:00<00:00, 62.77it/s, v_num=3331, val_loss=2.040, val_acc=0.786, train_loss=0.128, train_acc=0.943]\n",
      "Pipeline info saved at: /workspaces/container-workspace/tts-gan/Notebooks/Encoder_evaluation/logs/comparação1/lightning/0/MotionSense/run_20241219-123331/run_2024-12-19-12-34-06eabb3af7b5754f27afceef2cc198e5dd.yaml\n"
     ]
    }
   ],
   "source": [
    "train_pipeline.run(data_module, task=\"fit\")"
   ]
  },
  {
   "cell_type": "markdown",
   "metadata": {},
   "source": [
    "## Evaluating the Fine-tuned Model\n",
    "\n",
    "After fine-tuning the encoder on the DAGHAR dataset, we will evaluate the model's performance on the test set of the same dataset. We create a simple evaluation pipeline, that will:\n",
    "1. Run forward on test set.\n",
    "2. Calculcate the metrics. This is specified in the `classification_metrics` dictionary, where the keys are the names of the metrics and the values are the functions that calculate the metrics. The metrics function should use `torchmetrics` API to calculate the metrics.\n",
    "3. Perform model analysis, such as plot t-sne embeddings.\n",
    "\n",
    "The test pipeline requires the following arguments:\n",
    "- `model`: The fine-tuned model to evaluate.\n",
    "- `trainer`: The PyTorch Lightning Trainer configuration.\n",
    "- `log_dir`: The directory to save the evaluation logs.\n",
    "- `seed`: The random seed for reproducibility.\n",
    "- `classification_metrics`: A dictionary where the keys are the names of the metrics and the values are the functions that calculate the metrics. The metrics function should use `torchmetrics` API to calculate the metrics.\n",
    "- `model_analysis`: A function that performs model analysis, such as plotting t-sne embeddings.\n",
    "\n",
    "Finally, we run the evaluation pipeline with the test data module to evaluate the model on the test set. We set the `task` parameter of the `run` method to `evaluate` to evaluate the model on the test set."
   ]
  },
  {
   "cell_type": "code",
   "execution_count": 20,
   "metadata": {},
   "outputs": [
    {
     "name": "stderr",
     "output_type": "stream",
     "text": [
      "Seed set to 42\n"
     ]
    },
    {
     "name": "stdout",
     "output_type": "stream",
     "text": [
      "Log directory set to: /workspaces/container-workspace/tts-gan/Notebooks/Encoder_evaluation/logs/comparação1/lightning/0/MotionSense/run_20241219-123331\n"
     ]
    }
   ],
   "source": [
    "test_pipeline = SimpleLightningPipeline(\n",
    "    model=model,\n",
    "    trainer=trainer,\n",
    "    log_dir=log_dir,\n",
    "    save_run_status=True,\n",
    "    seed=42,\n",
    "    classification_metrics={\n",
    "        \"accuracy\": torchmetrics.Accuracy(num_classes=6, task=\"multiclass\"),\n",
    "        \"f1\": torchmetrics.F1Score(num_classes=6, task=\"multiclass\"),\n",
    "        \"precision\": torchmetrics.Precision(num_classes=6, task=\"multiclass\"),\n",
    "        \"recall\": torchmetrics.Recall(num_classes=6, task=\"multiclass\"),\n",
    "        \"balanced_accuracy\": BalancedAccuracy(num_classes=6, task=\"multiclass\"),\n",
    "    },\n",
    "    apply_metrics_per_sample=False,\n",
    "      model_analysis={\n",
    "         \"tsne\": TSNEAnalysis(\n",
    "             height=800,\n",
    "             width=800,\n",
    "             legend_title=\"Activity\",\n",
    "             title=\"t-SNE of CPC Finetuned on KuHar\",\n",
    "             output_filename=\"tsne_cpc_finetuned_kuhar.pdf\",\n",
    "             label_names={\n",
    "                 0: \"sit\",\n",
    "                 1: \"stand\",\n",
    "                 2: \"walk\",\n",
    "                 3: \"stair up\",\n",
    "                 4: \"stair down\",\n",
    "                 5: \"run\",\n",
    "                 6: \"stair up and down\",\n",
    "             },\n",
    "         )\n",
    "     },\n",
    ")"
   ]
  },
  {
   "cell_type": "code",
   "execution_count": 21,
   "metadata": {},
   "outputs": [
    {
     "name": "stdout",
     "output_type": "stream",
     "text": [
      "Pipeline info saved at: /workspaces/container-workspace/tts-gan/Notebooks/Encoder_evaluation/logs/comparação1/lightning/0/MotionSense/run_20241219-123331/run_2024-12-19-12-35-35f2a54be09e854360a776a62c81e230df.yaml\n"
     ]
    },
    {
     "name": "stdout",
     "output_type": "stream",
     "text": [
      "Using DataLoader with shuffle=False\n"
     ]
    },
    {
     "name": "stderr",
     "output_type": "stream",
     "text": [
      "Restoring states from the checkpoint path at /workspaces/container-workspace/tts-gan/Notebooks/Encoder_evaluation/checkpoints/epoch=1-step=110-v2.ckpt\n",
      "LOCAL_RANK: 0 - CUDA_VISIBLE_DEVICES: [0]\n",
      "Loaded model weights from the checkpoint at /workspaces/container-workspace/tts-gan/Notebooks/Encoder_evaluation/checkpoints/epoch=1-step=110-v2.ckpt\n"
     ]
    },
    {
     "name": "stdout",
     "output_type": "stream",
     "text": [
      "Using DataLoader with shuffle=False\n"
     ]
    },
    {
     "name": "stderr",
     "output_type": "stream",
     "text": [
      "/usr/local/lib/python3.10/dist-packages/lightning/pytorch/trainer/connectors/data_connector.py:424: The 'predict_dataloader' does not have many workers which may be a bottleneck. Consider increasing the value of the `num_workers` argument` to `num_workers=5` in the `DataLoader` to improve performance.\n"
     ]
    },
    {
     "name": "stdout",
     "output_type": "stream",
     "text": [
      "Predicting DataLoader 0: 100%|██████████| 17/17 [00:00<00:00, 292.25it/s]\n",
      "Running classification metrics...\n",
      "Running model analysis...\n",
      "Using DataLoader with shuffle=False\n"
     ]
    },
    {
     "name": "stderr",
     "output_type": "stream",
     "text": [
      "/workspaces/container-workspace/Minerva-Dev/minerva/analysis/model_analysis.py:118: UserWarning: Creating a tensor from a list of numpy.ndarrays is extremely slow. Please consider converting the list to a single numpy.ndarray with numpy.array() before converting to a tensor. (Triggered internally at ../torch/csrc/utils/tensor_new.cpp:278.)\n",
      "  X = torch.tensor(X, device=\"cpu\")\n"
     ]
    },
    {
     "name": "stdout",
     "output_type": "stream",
     "text": [
      "t-SNE plot saved to /workspaces/container-workspace/tts-gan/Notebooks/Encoder_evaluation/logs/comparação1/lightning/0/MotionSense/run_20241219-123331/tsne_cpc_finetuned_kuhar.pdf\n",
      "Metrics saved to /workspaces/container-workspace/tts-gan/Notebooks/Encoder_evaluation/logs/comparação1/lightning/0/MotionSense/run_20241219-123331/metrics_2024-12-19-12-35-35f2a54be09e854360a776a62c81e230df.yaml\n",
      "Pipeline info saved at: /workspaces/container-workspace/tts-gan/Notebooks/Encoder_evaluation/logs/comparação1/lightning/0/MotionSense/run_20241219-123331/run_2024-12-19-12-35-35f2a54be09e854360a776a62c81e230df.yaml\n"
     ]
    },
    {
     "data": {
      "text/plain": [
       "{'classification': {'accuracy': [0.7259886860847473],\n",
       "  'f1': [0.7259886860847473],\n",
       "  'precision': [0.7259886860847473],\n",
       "  'recall': [0.7259886860847473],\n",
       "  'balanced_accuracy': [0.7061669230461121]},\n",
       " 'analysis': {'tsne': '/workspaces/container-workspace/tts-gan/Notebooks/Encoder_evaluation/logs/comparação1/lightning/0/MotionSense/run_20241219-123331/tsne_cpc_finetuned_kuhar.pdf'}}"
      ]
     },
     "execution_count": 21,
     "metadata": {},
     "output_type": "execute_result"
    }
   ],
   "source": [
    "d= test_pipeline.run(\n",
    "    data_module, task=\"evaluate\", ckpt_path=checkpoint_callback.best_model_path\n",
    ")\n",
    "d"
   ]
  },
  {
   "cell_type": "code",
   "execution_count": null,
   "metadata": {},
   "outputs": [],
   "source": []
  },
  {
   "cell_type": "markdown",
   "metadata": {},
   "source": [
    "### Vinicius TEST, Please Erase"
   ]
  },
  {
   "cell_type": "code",
   "execution_count": 21,
   "metadata": {},
   "outputs": [
    {
     "name": "stdout",
     "output_type": "stream",
     "text": [
      "Dataset path not found: /workspaces/container-workspace/tts-gan/Notebooks/Encoder_evaluation/logs/comparação/Normal/3/UCI\n",
      "Dataset path not found: /workspaces/container-workspace/tts-gan/Notebooks/Encoder_evaluation/logs/comparação/Normal/3/WISDM\n",
      "Dataset path not found: /workspaces/container-workspace/tts-gan/Notebooks/Encoder_evaluation/logs/comparação/Normal/3/KuHar\n",
      "Dataset path not found: /workspaces/container-workspace/tts-gan/Notebooks/Encoder_evaluation/logs/comparação/Normal/3/RealWorld_waist\n",
      "Dataset path not found: /workspaces/container-workspace/tts-gan/Notebooks/Encoder_evaluation/logs/comparação/Normal/3/MotionSense\n"
     ]
    },
    {
     "data": {
      "text/plain": [
       "({'UCI': {'accuracy': '0.8691 ± 0.0044',\n",
       "   'balanced acurracy': '0.8735 ± 0.0048'},\n",
       "  'WISDM': {'accuracy': '0.8609 ± 0.0051',\n",
       "   'balanced acurracy': '0.8619 ± 0.0051'},\n",
       "  'KuHar': {'accuracy': '0.5671 ± 0.0544',\n",
       "   'balanced acurracy': '0.5588 ± 0.0810'},\n",
       "  'RealWorld_waist': {'accuracy': '0.7076 ± 0.0258',\n",
       "   'balanced acurracy': '0.7545 ± 0.0222'},\n",
       "  'MotionSense': {'accuracy': '0.8785 ± 0.0094',\n",
       "   'balanced acurracy': '0.8840 ± 0.0072'},\n",
       "  'RealWorld_thigh': {'accuracy': '0.6663 ± 0.0189',\n",
       "   'balanced acurracy': '0.6795 ± 0.0262'}},\n",
       " {'UCI': {'accuracy': '0.8358 ± 0.0395',\n",
       "   'balanced acurracy': '0.8693 ± 0.0249'},\n",
       "  'WISDM': {'accuracy': '0.8515 ± 0.0131',\n",
       "   'balanced acurracy': '0.8562 ± 0.0088'},\n",
       "  'KuHar': {'accuracy': '0.4856 ± 0.0317',\n",
       "   'balanced acurracy': '0.4921 ± 0.0386'},\n",
       "  'RealWorld_waist': {'accuracy': '0.6458 ± 0.0200',\n",
       "   'balanced acurracy': '0.6583 ± 0.0234'},\n",
       "  'MotionSense': {'accuracy': '0.7427 ± 0.0291',\n",
       "   'balanced acurracy': '0.7659 ± 0.0684'},\n",
       "  'RealWorld_thigh': {'accuracy': '0.6427 ± 0.0241',\n",
       "   'balanced acurracy': '0.6986 ± 0.0343'}})"
      ]
     },
     "execution_count": 21,
     "metadata": {},
     "output_type": "execute_result"
    }
   ],
   "source": [
    "import yaml\n",
    "import os\n",
    "import glob\n",
    "import numpy as np\n",
    "\n",
    "def process_datasets_runs(base_path):\n",
    "    \"\"\"\n",
    "    Função que percorre uma estrutura de diretórios e processa as runs\n",
    "    de cada dataset, agrupando os diretórios por dataset.\n",
    "    \n",
    "    Args:\n",
    "        base_path (str): Caminho base onde estão localizados os diretórios (0, 1, 2).\n",
    "    \"\"\"\n",
    "    dictionary = {}\n",
    "\n",
    "    # Diretórios (0, 1, 2)\n",
    "    directories = os.listdir(base_path)\n",
    "    #print(directories)\n",
    "\n",
    "    # Nomes dos datasets presentes em cada diretório\n",
    "    datasets = os.listdir(base_path + directories[0])\n",
    "    #print(datasets)\n",
    "\n",
    "    for dataset in datasets:\n",
    "        #print(f\"Processing dataset: {dataset}\")\n",
    "        accuracy = []\n",
    "        balancedaccuracy = []\n",
    "        for directory in directories:\n",
    "\n",
    "            dataset_path = os.path.join(base_path, directory, dataset)\n",
    "            if os.path.exists(dataset_path):\n",
    "                \n",
    "                # Obter todas as runs\n",
    "                runs = [run for run in os.listdir(dataset_path) if os.path.isdir(os.path.join(dataset_path, run))]\n",
    "                runs.sort()  # Ordena para garantir a sequência das runs\n",
    "                #print(runs)\n",
    "                for run in runs:\n",
    "                    run_path = os.path.join(dataset_path, run)\n",
    "                    #print(f\"Processing run: {run_path}\")\n",
    "                    \n",
    "                    metrics_file = glob.glob(os.path.join(run_path, 'metrics_????-??-??-??-??-*.yaml'))\n",
    "                    with open(metrics_file[0], 'r') as file:\n",
    "                        data = yaml.safe_load(file)\n",
    "                            \n",
    "                    # Extract the 'classification' dictionary if it exists\n",
    "                    classification_data = data.get('classification')\n",
    "                    #print(dataset, classification_data)\n",
    "                    accuracy.append(classification_data['accuracy'])\n",
    "                    balancedaccuracy.append(classification_data['balanced_accuracy'])\n",
    "            else:\n",
    "                print(f\"Dataset path not found: {dataset_path}\")\n",
    "\n",
    "        dictionary[dataset] = {'accuracy': f'{np.array(accuracy).mean():.4f} ± {np.array(accuracy).std():.4f}',\n",
    "                                'balanced acurracy':  f'{np.array(balancedaccuracy).mean():.4f} ± {np.array(balancedaccuracy).std():.4f}'}\n",
    "    return dictionary\n",
    "\n",
    "# Exemplo de uso\n",
    "base_path = \"/workspaces/container-workspace/tts-gan/Notebooks/Encoder_evaluation/logs/comparação/\"  # Substitua pelo caminho base da sua estrutura de dados\n",
    "\n",
    "normal_runs = process_datasets_runs(base_path + 'Normal/')\n",
    "lightning_runs = process_datasets_runs(base_path + 'lightning/')\n",
    "\n",
    "normal_runs, lightning_runs\n"
   ]
  },
  {
   "cell_type": "code",
   "execution_count": 22,
   "metadata": {},
   "outputs": [
    {
     "data": {
      "text/html": [
       "<div>\n",
       "<style scoped>\n",
       "    .dataframe tbody tr th:only-of-type {\n",
       "        vertical-align: middle;\n",
       "    }\n",
       "\n",
       "    .dataframe tbody tr th {\n",
       "        vertical-align: top;\n",
       "    }\n",
       "\n",
       "    .dataframe thead th {\n",
       "        text-align: right;\n",
       "    }\n",
       "</style>\n",
       "<table border=\"1\" class=\"dataframe\">\n",
       "  <thead>\n",
       "    <tr style=\"text-align: right;\">\n",
       "      <th></th>\n",
       "      <th></th>\n",
       "      <th>UCI</th>\n",
       "      <th>WISDM</th>\n",
       "      <th>KuHar</th>\n",
       "      <th>RealWorld_waist</th>\n",
       "      <th>MotionSense</th>\n",
       "      <th>RealWorld_thigh</th>\n",
       "    </tr>\n",
       "  </thead>\n",
       "  <tbody>\n",
       "    <tr>\n",
       "      <th rowspan=\"2\" valign=\"top\">Normal</th>\n",
       "      <th>accuracy</th>\n",
       "      <td>0.8691 ± 0.0044</td>\n",
       "      <td>0.8609 ± 0.0051</td>\n",
       "      <td>0.5671 ± 0.0544</td>\n",
       "      <td>0.7076 ± 0.0258</td>\n",
       "      <td>0.8785 ± 0.0094</td>\n",
       "      <td>0.6663 ± 0.0189</td>\n",
       "    </tr>\n",
       "    <tr>\n",
       "      <th>balanced acurracy</th>\n",
       "      <td>0.8735 ± 0.0048</td>\n",
       "      <td>0.8619 ± 0.0051</td>\n",
       "      <td>0.5588 ± 0.0810</td>\n",
       "      <td>0.7545 ± 0.0222</td>\n",
       "      <td>0.8840 ± 0.0072</td>\n",
       "      <td>0.6795 ± 0.0262</td>\n",
       "    </tr>\n",
       "    <tr>\n",
       "      <th rowspan=\"2\" valign=\"top\">Lightning</th>\n",
       "      <th>accuracy</th>\n",
       "      <td>0.8358 ± 0.0395</td>\n",
       "      <td>0.8515 ± 0.0131</td>\n",
       "      <td>0.4856 ± 0.0317</td>\n",
       "      <td>0.6458 ± 0.0200</td>\n",
       "      <td>0.7427 ± 0.0291</td>\n",
       "      <td>0.6427 ± 0.0241</td>\n",
       "    </tr>\n",
       "    <tr>\n",
       "      <th>balanced acurracy</th>\n",
       "      <td>0.8693 ± 0.0249</td>\n",
       "      <td>0.8562 ± 0.0088</td>\n",
       "      <td>0.4921 ± 0.0386</td>\n",
       "      <td>0.6583 ± 0.0234</td>\n",
       "      <td>0.7659 ± 0.0684</td>\n",
       "      <td>0.6986 ± 0.0343</td>\n",
       "    </tr>\n",
       "  </tbody>\n",
       "</table>\n",
       "</div>"
      ],
      "text/plain": [
       "                                         UCI            WISDM  \\\n",
       "Normal    accuracy           0.8691 ± 0.0044  0.8609 ± 0.0051   \n",
       "          balanced acurracy  0.8735 ± 0.0048  0.8619 ± 0.0051   \n",
       "Lightning accuracy           0.8358 ± 0.0395  0.8515 ± 0.0131   \n",
       "          balanced acurracy  0.8693 ± 0.0249  0.8562 ± 0.0088   \n",
       "\n",
       "                                       KuHar  RealWorld_waist  \\\n",
       "Normal    accuracy           0.5671 ± 0.0544  0.7076 ± 0.0258   \n",
       "          balanced acurracy  0.5588 ± 0.0810  0.7545 ± 0.0222   \n",
       "Lightning accuracy           0.4856 ± 0.0317  0.6458 ± 0.0200   \n",
       "          balanced acurracy  0.4921 ± 0.0386  0.6583 ± 0.0234   \n",
       "\n",
       "                                 MotionSense  RealWorld_thigh  \n",
       "Normal    accuracy           0.8785 ± 0.0094  0.6663 ± 0.0189  \n",
       "          balanced acurracy  0.8840 ± 0.0072  0.6795 ± 0.0262  \n",
       "Lightning accuracy           0.7427 ± 0.0291  0.6427 ± 0.0241  \n",
       "          balanced acurracy  0.7659 ± 0.0684  0.6986 ± 0.0343  "
      ]
     },
     "execution_count": 22,
     "metadata": {},
     "output_type": "execute_result"
    }
   ],
   "source": [
    "import pandas as pd\n",
    "\n",
    "datasets = list(normal_runs.keys())\n",
    "metrics = ['accuracy', 'balanced acurracy']\n",
    "\n",
    "# Construir o DataFrame\n",
    "df_data_1 = pd.DataFrame(normal_runs).reindex(metrics)\n",
    "df_data_2 = pd.DataFrame(lightning_runs).reindex(metrics)\n",
    "\n",
    "df_combined = pd.concat([df_data_1, df_data_2], keys=['Normal', 'Lightning'])\n",
    "df_combined"
   ]
  },
  {
   "cell_type": "code",
   "execution_count": 25,
   "metadata": {},
   "outputs": [
    {
     "data": {
      "image/png": "[encoded data removed]",
      "text/plain": [
       "<Figure size 1000x600 with 1 Axes>"
      ]
     },
     "metadata": {},
     "output_type": "display_data"
    },
    {
     "data": {
      "image/png": "[encoded data removed]",
      "text/plain": [
       "<Figure size 1000x600 with 1 Axes>"
      ]
     },
     "metadata": {},
     "output_type": "display_data"
    }
   ],
   "source": [
    "import matplotlib.pyplot as plt\n",
    "import numpy as np\n",
    "\n",
    "# Função para processar os dados e separar valores e incertezas\n",
    "def process_runs_data(runs, metric):\n",
    "    values, uncertainties = [], []\n",
    "    for dataset in runs:\n",
    "        data = runs[dataset][metric]\n",
    "        value, uncertainty = data.split(\" ± \")\n",
    "        values.append(float(value))\n",
    "        uncertainties.append(float(uncertainty))\n",
    "    return values, uncertainties\n",
    "\n",
    "# Processando os dados de ambos os runs\n",
    "datasets = list(normal_runs.keys())\n",
    "\n",
    "# Acurácia\n",
    "accuracy_normal, accuracy_unc_normal = process_runs_data(normal_runs, \"accuracy\")\n",
    "accuracy_lightning, accuracy_unc_lightning = process_runs_data(lightning_runs, \"accuracy\")\n",
    "\n",
    "# Acurácia balanceada\n",
    "balanced_accuracy_normal, bal_acc_unc_normal = process_runs_data(normal_runs, \"balanced acurracy\")\n",
    "balanced_accuracy_lightning, bal_acc_unc_lightning = process_runs_data(lightning_runs, \"balanced acurracy\")\n",
    "\n",
    "# Função para plotar os gráficos\n",
    "def plot_with_uncertainties(datasets, normal_values, normal_unc, lightning_values, lightning_unc, metric_name):\n",
    "    x = np.arange(len(datasets))\n",
    "    width = 0.35\n",
    "\n",
    "    fig, ax = plt.subplots(figsize=(10, 6))\n",
    "    ax.bar(x - width/2, normal_values, width, yerr=normal_unc, label=\"Normal Runs\", capsize=5, color='blue', alpha=0.7)\n",
    "    ax.bar(x + width/2, lightning_values, width, yerr=lightning_unc, label=\"Lightning Runs\", capsize=5, color='orange', alpha=0.7)\n",
    "\n",
    "    ax.set_xlabel(\"Datasets\")\n",
    "    ax.set_ylabel(metric_name)\n",
    "    ax.set_title(f\"{metric_name} Comparison with Uncertainties\")\n",
    "    ax.set_xticks(x)\n",
    "    ax.set_xticklabels(datasets, rotation=45, ha='right')\n",
    "    ax.legend()\n",
    "\n",
    "    plt.tight_layout()\n",
    "    plt.show()\n",
    "\n",
    "# Plotando os gráficos\n",
    "plot_with_uncertainties(datasets, accuracy_normal, accuracy_unc_normal, accuracy_lightning, accuracy_unc_lightning, \"Accuracy\")\n",
    "plot_with_uncertainties(datasets, balanced_accuracy_normal, bal_acc_unc_normal, balanced_accuracy_lightning, bal_acc_unc_lightning, \"Balanced Accuracy\")\n"
   ]
  },
  {
   "cell_type": "code",
   "execution_count": 3,
   "metadata": {},
   "outputs": [
    {
     "name": "stdout",
     "output_type": "stream",
     "text": [
      "/workspaces/container-workspace/tts-gan/Notebooks/Encoder_evaluation/logs/Normal/2/UCI/run_20241217-132213\n",
      "/workspaces/container-workspace/tts-gan/Notebooks/Encoder_evaluation/logs/Normal/2/UCI/run_20241217-132056\n",
      "/workspaces/container-workspace/tts-gan/Notebooks/Encoder_evaluation/logs/Normal/2/UCI/run_20241217-131943\n",
      "[[0.834782600402832], [0.834782600402832], [0.8710144758224487]]\n",
      "/workspaces/container-workspace/tts-gan/Notebooks/Encoder_evaluation/logs/Normal/2/WISDM/run_20241217-132704\n",
      "/workspaces/container-workspace/tts-gan/Notebooks/Encoder_evaluation/logs/Normal/2/WISDM/run_20241217-133036\n",
      "/workspaces/container-workspace/tts-gan/Notebooks/Encoder_evaluation/logs/Normal/2/WISDM/run_20241217-132330\n",
      "[[0.8529185652732849], [0.8529185652732849], [0.8529185652732849]]\n",
      "/workspaces/container-workspace/tts-gan/Notebooks/Encoder_evaluation/logs/Normal/2/KuHar/run_20241217-133605\n",
      "/workspaces/container-workspace/tts-gan/Notebooks/Encoder_evaluation/logs/Normal/2/KuHar/run_20241217-133409\n",
      "/workspaces/container-workspace/tts-gan/Notebooks/Encoder_evaluation/logs/Normal/2/KuHar/run_20241217-133505\n",
      "[[0.5347222089767456], [0.5347222089767456], [0.5347222089767456]]\n",
      "/workspaces/container-workspace/tts-gan/Notebooks/Encoder_evaluation/logs/Normal/2/RealWorld_waist/run_20241217-134115\n",
      "/workspaces/container-workspace/tts-gan/Notebooks/Encoder_evaluation/logs/Normal/2/RealWorld_waist/run_20241217-134524\n",
      "/workspaces/container-workspace/tts-gan/Notebooks/Encoder_evaluation/logs/Normal/2/RealWorld_waist/run_20241217-133706\n",
      "[[0.7071759104728699], [0.7071759104728699], [0.7071759104728699]]\n",
      "/workspaces/container-workspace/tts-gan/Notebooks/Encoder_evaluation/logs/Normal/2/MotionSense/run_20241217-135115\n",
      "/workspaces/container-workspace/tts-gan/Notebooks/Encoder_evaluation/logs/Normal/2/MotionSense/run_20241217-134934\n",
      "/workspaces/container-workspace/tts-gan/Notebooks/Encoder_evaluation/logs/Normal/2/MotionSense/run_20241217-135301\n",
      "[[0.8851224184036255], [0.8851224184036255], [0.8851224184036255]]\n",
      "/workspaces/container-workspace/tts-gan/Notebooks/Encoder_evaluation/logs/Normal/2/RealWorld_thigh/run_20241217-135445\n",
      "/workspaces/container-workspace/tts-gan/Notebooks/Encoder_evaluation/logs/Normal/2/RealWorld_thigh/run_20241217-135858\n",
      "/workspaces/container-workspace/tts-gan/Notebooks/Encoder_evaluation/logs/Normal/2/RealWorld_thigh/run_20241217-140315\n",
      "[[0.6987577676773071], [0.6987577676773071], [0.6987577676773071]]\n",
      "/workspaces/container-workspace/tts-gan/Notebooks/Encoder_evaluation/logs/Normal/1/UCI/run_20241217-123516\n",
      "/workspaces/container-workspace/tts-gan/Notebooks/Encoder_evaluation/logs/Normal/1/UCI/run_20241217-123625\n",
      "/workspaces/container-workspace/tts-gan/Notebooks/Encoder_evaluation/logs/Normal/1/UCI/run_20241217-123744\n",
      "[[0.8666666746139526], [0.834782600402832], [0.834782600402832]]\n",
      "/workspaces/container-workspace/tts-gan/Notebooks/Encoder_evaluation/logs/Normal/1/WISDM/run_20241217-124233\n",
      "/workspaces/container-workspace/tts-gan/Notebooks/Encoder_evaluation/logs/Normal/1/WISDM/run_20241217-124607\n",
      "/workspaces/container-workspace/tts-gan/Notebooks/Encoder_evaluation/logs/Normal/1/WISDM/run_20241217-123901\n",
      "[[0.8529185652732849], [0.8529185652732849], [0.8529185652732849]]\n",
      "/workspaces/container-workspace/tts-gan/Notebooks/Encoder_evaluation/logs/Normal/1/KuHar/run_20241217-125040\n",
      "/workspaces/container-workspace/tts-gan/Notebooks/Encoder_evaluation/logs/Normal/1/KuHar/run_20241217-125136\n",
      "/workspaces/container-workspace/tts-gan/Notebooks/Encoder_evaluation/logs/Normal/1/KuHar/run_20241217-124940\n",
      "[[0.5347222089767456], [0.5347222089767456], [0.5347222089767456]]\n",
      "/workspaces/container-workspace/tts-gan/Notebooks/Encoder_evaluation/logs/Normal/1/RealWorld_waist/run_20241217-130054\n",
      "/workspaces/container-workspace/tts-gan/Notebooks/Encoder_evaluation/logs/Normal/1/RealWorld_waist/run_20241217-125644\n",
      "/workspaces/container-workspace/tts-gan/Notebooks/Encoder_evaluation/logs/Normal/1/RealWorld_waist/run_20241217-125233\n",
      "[[0.7071759104728699], [0.7071759104728699], [0.7071759104728699]]\n",
      "/workspaces/container-workspace/tts-gan/Notebooks/Encoder_evaluation/logs/Normal/1/MotionSense/run_20241217-130644\n",
      "/workspaces/container-workspace/tts-gan/Notebooks/Encoder_evaluation/logs/Normal/1/MotionSense/run_20241217-130827\n",
      "/workspaces/container-workspace/tts-gan/Notebooks/Encoder_evaluation/logs/Normal/1/MotionSense/run_20241217-130501\n",
      "[[0.8851224184036255], [0.8851224184036255], [0.8851224184036255]]\n",
      "/workspaces/container-workspace/tts-gan/Notebooks/Encoder_evaluation/logs/Normal/1/RealWorld_thigh/run_20241217-131420\n",
      "/workspaces/container-workspace/tts-gan/Notebooks/Encoder_evaluation/logs/Normal/1/RealWorld_thigh/run_20241217-131009\n",
      "[[0.6987577676773071], [0.6987577676773071]]\n",
      "/workspaces/container-workspace/tts-gan/Notebooks/Encoder_evaluation/logs/Normal/3/UCI/run_20241217-142126\n",
      "/workspaces/container-workspace/tts-gan/Notebooks/Encoder_evaluation/logs/Normal/3/UCI/run_20241217-142009\n",
      "/workspaces/container-workspace/tts-gan/Notebooks/Encoder_evaluation/logs/Normal/3/UCI/run_20241217-141900\n",
      "[[0.834782600402832], [0.834782600402832], [0.8536232113838196]]\n",
      "/workspaces/container-workspace/tts-gan/Notebooks/Encoder_evaluation/logs/Normal/3/WISDM/run_20241217-142616\n",
      "/workspaces/container-workspace/tts-gan/Notebooks/Encoder_evaluation/logs/Normal/3/WISDM/run_20241217-142244\n",
      "/workspaces/container-workspace/tts-gan/Notebooks/Encoder_evaluation/logs/Normal/3/WISDM/run_20241217-143041\n",
      "[[0.8529185652732849], [0.8529185652732849], [0.8529185652732849]]\n",
      "/workspaces/container-workspace/tts-gan/Notebooks/Encoder_evaluation/logs/Normal/3/KuHar/run_20241217-143613\n",
      "/workspaces/container-workspace/tts-gan/Notebooks/Encoder_evaluation/logs/Normal/3/KuHar/run_20241217-143510\n",
      "/workspaces/container-workspace/tts-gan/Notebooks/Encoder_evaluation/logs/Normal/3/KuHar/run_20241217-143413\n",
      "[[0.5347222089767456], [0.5347222089767456], [0.5347222089767456]]\n",
      "/workspaces/container-workspace/tts-gan/Notebooks/Encoder_evaluation/logs/Normal/3/RealWorld_waist/run_20241217-144530\n",
      "/workspaces/container-workspace/tts-gan/Notebooks/Encoder_evaluation/logs/Normal/3/RealWorld_waist/run_20241217-143709\n",
      "/workspaces/container-workspace/tts-gan/Notebooks/Encoder_evaluation/logs/Normal/3/RealWorld_waist/run_20241217-144121\n",
      "[[0.7071759104728699], [0.7071759104728699], [0.7071759104728699]]\n",
      "/workspaces/container-workspace/tts-gan/Notebooks/Encoder_evaluation/logs/Normal/3/MotionSense/run_20241217-145302\n",
      "/workspaces/container-workspace/tts-gan/Notebooks/Encoder_evaluation/logs/Normal/3/MotionSense/run_20241217-145121\n",
      "/workspaces/container-workspace/tts-gan/Notebooks/Encoder_evaluation/logs/Normal/3/MotionSense/run_20241217-144937\n",
      "[[0.8851224184036255], [0.8851224184036255], [0.8851224184036255]]\n",
      "/workspaces/container-workspace/tts-gan/Notebooks/Encoder_evaluation/logs/Normal/3/RealWorld_thigh/run_20241217-150313\n",
      "/workspaces/container-workspace/tts-gan/Notebooks/Encoder_evaluation/logs/Normal/3/RealWorld_thigh/run_20241217-145446\n",
      "/workspaces/container-workspace/tts-gan/Notebooks/Encoder_evaluation/logs/Normal/3/RealWorld_thigh/run_20241217-145859\n",
      "[[0.6987577676773071], [0.6987577676773071], [0.6987577676773071]]\n",
      "/workspaces/container-workspace/tts-gan/Notebooks/Encoder_evaluation/logs/Normal/0/UCI/run_20241217-114554\n",
      "/workspaces/container-workspace/tts-gan/Notebooks/Encoder_evaluation/logs/Normal/0/UCI/run_20241217-114713\n",
      "/workspaces/container-workspace/tts-gan/Notebooks/Encoder_evaluation/logs/Normal/0/UCI/run_20241217-114832\n",
      "[[0.8318840861320496], [0.834782600402832], [0.834782600402832]]\n",
      "/workspaces/container-workspace/tts-gan/Notebooks/Encoder_evaluation/logs/Normal/0/WISDM/run_20241217-115321\n",
      "/workspaces/container-workspace/tts-gan/Notebooks/Encoder_evaluation/logs/Normal/0/WISDM/run_20241217-115652\n",
      "/workspaces/container-workspace/tts-gan/Notebooks/Encoder_evaluation/logs/Normal/0/WISDM/run_20241217-114948\n",
      "[[0.8529185652732849], [0.8529185652732849], [0.8529185652732849]]\n",
      "/workspaces/container-workspace/tts-gan/Notebooks/Encoder_evaluation/logs/Normal/0/KuHar/run_20241217-120025\n",
      "/workspaces/container-workspace/tts-gan/Notebooks/Encoder_evaluation/logs/Normal/0/KuHar/run_20241217-120121\n",
      "/workspaces/container-workspace/tts-gan/Notebooks/Encoder_evaluation/logs/Normal/0/KuHar/run_20241217-120218\n",
      "[[0.5347222089767456], [0.5347222089767456], [0.5347222089767456]]\n",
      "/workspaces/container-workspace/tts-gan/Notebooks/Encoder_evaluation/logs/Normal/0/RealWorld_waist/run_20241217-121137\n",
      "/workspaces/container-workspace/tts-gan/Notebooks/Encoder_evaluation/logs/Normal/0/RealWorld_waist/run_20241217-120727\n",
      "/workspaces/container-workspace/tts-gan/Notebooks/Encoder_evaluation/logs/Normal/0/RealWorld_waist/run_20241217-120316\n",
      "[[0.7071759104728699], [0.7071759104728699], [0.7071759104728699]]\n",
      "/workspaces/container-workspace/tts-gan/Notebooks/Encoder_evaluation/logs/Normal/0/MotionSense/run_20241217-121730\n",
      "/workspaces/container-workspace/tts-gan/Notebooks/Encoder_evaluation/logs/Normal/0/MotionSense/run_20241217-121547\n",
      "/workspaces/container-workspace/tts-gan/Notebooks/Encoder_evaluation/logs/Normal/0/MotionSense/run_20241217-121913\n",
      "[[0.8851224184036255], [0.8851224184036255], [0.8851224184036255]]\n",
      "/workspaces/container-workspace/tts-gan/Notebooks/Encoder_evaluation/logs/Normal/0/RealWorld_thigh/run_20241217-122510\n",
      "/workspaces/container-workspace/tts-gan/Notebooks/Encoder_evaluation/logs/Normal/0/RealWorld_thigh/run_20241217-122925\n",
      "/workspaces/container-workspace/tts-gan/Notebooks/Encoder_evaluation/logs/Normal/0/RealWorld_thigh/run_20241217-122058\n",
      "[[0.6987577676773071], [0.6987577676773071], [0.6987577676773071]]\n",
      "/workspaces/container-workspace/tts-gan/Notebooks/Encoder_evaluation/logs/Normal/4/UCI/run_20241217-150926\n",
      "/workspaces/container-workspace/tts-gan/Notebooks/Encoder_evaluation/logs/Normal/4/UCI/run_20241217-150814\n",
      "/workspaces/container-workspace/tts-gan/Notebooks/Encoder_evaluation/logs/Normal/4/UCI/run_20241217-151042\n",
      "[[0.834782600402832], [0.8594202995300293], [0.834782600402832]]\n",
      "/workspaces/container-workspace/tts-gan/Notebooks/Encoder_evaluation/logs/Normal/4/WISDM/run_20241217-151908\n",
      "/workspaces/container-workspace/tts-gan/Notebooks/Encoder_evaluation/logs/Normal/4/WISDM/run_20241217-151203\n",
      "/workspaces/container-workspace/tts-gan/Notebooks/Encoder_evaluation/logs/Normal/4/WISDM/run_20241217-151537\n",
      "[[0.8529185652732849], [0.8529185652732849], [0.8529185652732849]]\n",
      "/workspaces/container-workspace/tts-gan/Notebooks/Encoder_evaluation/logs/Normal/4/KuHar/run_20241217-152240\n",
      "/workspaces/container-workspace/tts-gan/Notebooks/Encoder_evaluation/logs/Normal/4/KuHar/run_20241217-152334\n",
      "/workspaces/container-workspace/tts-gan/Notebooks/Encoder_evaluation/logs/Normal/4/KuHar/run_20241217-152433\n",
      "[[0.5347222089767456], [0.5347222089767456], [0.5347222089767456]]\n",
      "/workspaces/container-workspace/tts-gan/Notebooks/Encoder_evaluation/logs/Normal/4/RealWorld_waist/run_20241217-152529\n",
      "/workspaces/container-workspace/tts-gan/Notebooks/Encoder_evaluation/logs/Normal/4/RealWorld_waist/run_20241217-152941\n",
      "/workspaces/container-workspace/tts-gan/Notebooks/Encoder_evaluation/logs/Normal/4/RealWorld_waist/run_20241217-153353\n",
      "[[0.7071759104728699], [0.7071759104728699], [0.7071759104728699]]\n",
      "/workspaces/container-workspace/tts-gan/Notebooks/Encoder_evaluation/logs/Normal/4/MotionSense/run_20241217-153808\n",
      "/workspaces/container-workspace/tts-gan/Notebooks/Encoder_evaluation/logs/Normal/4/MotionSense/run_20241217-154137\n",
      "/workspaces/container-workspace/tts-gan/Notebooks/Encoder_evaluation/logs/Normal/4/MotionSense/run_20241217-153953\n",
      "[[0.8851224184036255], [0.8851224184036255], [0.8851224184036255]]\n",
      "/workspaces/container-workspace/tts-gan/Notebooks/Encoder_evaluation/logs/Normal/4/RealWorld_thigh/run_20241217-155157\n",
      "/workspaces/container-workspace/tts-gan/Notebooks/Encoder_evaluation/logs/Normal/4/RealWorld_thigh/run_20241217-154322\n",
      "/workspaces/container-workspace/tts-gan/Notebooks/Encoder_evaluation/logs/Normal/4/RealWorld_thigh/run_20241217-154739\n",
      "[[0.6987577676773071], [0.6987577676773071], [0.6987577676773071]]\n"
     ]
    },
    {
     "data": {
      "text/plain": [
       "{'2': {'UCI': {'accuracy': '0.8469 ± 0.0171',\n",
       "   'balanced acurracy': '0.8683 ± 0.0021',\n",
       "   'f1': '0.8469 ± 0.0171',\n",
       "   'precision': '0.8469 ± 0.0171',\n",
       "   'recall': '0.8469 ± 0.0171'},\n",
       "  'WISDM': {'accuracy': '0.8529 ± 0.0000',\n",
       "   'balanced acurracy': '0.8533 ± 0.0000',\n",
       "   'f1': '0.8529 ± 0.0000',\n",
       "   'precision': '0.8529 ± 0.0000',\n",
       "   'recall': '0.8529 ± 0.0000'},\n",
       "  'KuHar': {'accuracy': '0.5347 ± 0.0000',\n",
       "   'balanced acurracy': '0.5656 ± 0.0000',\n",
       "   'f1': '0.5347 ± 0.0000',\n",
       "   'precision': '0.5347 ± 0.0000',\n",
       "   'recall': '0.5347 ± 0.0000'},\n",
       "  'RealWorld_waist': {'accuracy': '0.7072 ± 0.0000',\n",
       "   'balanced acurracy': '0.7481 ± 0.0000',\n",
       "   'f1': '0.7072 ± 0.0000',\n",
       "   'precision': '0.7072 ± 0.0000',\n",
       "   'recall': '0.7072 ± 0.0000'},\n",
       "  'MotionSense': {'accuracy': '0.8851 ± 0.0000',\n",
       "   'balanced acurracy': '0.8864 ± 0.0000',\n",
       "   'f1': '0.8851 ± 0.0000',\n",
       "   'precision': '0.8851 ± 0.0000',\n",
       "   'recall': '0.8851 ± 0.0000'},\n",
       "  'RealWorld_thigh': {'accuracy': '0.6988 ± 0.0000',\n",
       "   'balanced acurracy': '0.7329 ± 0.0000',\n",
       "   'f1': '0.6988 ± 0.0000',\n",
       "   'precision': '0.6988 ± 0.0000',\n",
       "   'recall': '0.6988 ± 0.0000'}},\n",
       " '1': {'UCI': {'accuracy': '0.8454 ± 0.0150',\n",
       "   'balanced acurracy': '0.8769 ± 0.0141',\n",
       "   'f1': '0.8454 ± 0.0150',\n",
       "   'precision': '0.8454 ± 0.0150',\n",
       "   'recall': '0.8454 ± 0.0150'},\n",
       "  'WISDM': {'accuracy': '0.8529 ± 0.0000',\n",
       "   'balanced acurracy': '0.8533 ± 0.0000',\n",
       "   'f1': '0.8529 ± 0.0000',\n",
       "   'precision': '0.8529 ± 0.0000',\n",
       "   'recall': '0.8529 ± 0.0000'},\n",
       "  'KuHar': {'accuracy': '0.5347 ± 0.0000',\n",
       "   'balanced acurracy': '0.5656 ± 0.0000',\n",
       "   'f1': '0.5347 ± 0.0000',\n",
       "   'precision': '0.5347 ± 0.0000',\n",
       "   'recall': '0.5347 ± 0.0000'},\n",
       "  'RealWorld_waist': {'accuracy': '0.7072 ± 0.0000',\n",
       "   'balanced acurracy': '0.7481 ± 0.0000',\n",
       "   'f1': '0.7072 ± 0.0000',\n",
       "   'precision': '0.7072 ± 0.0000',\n",
       "   'recall': '0.7072 ± 0.0000'},\n",
       "  'MotionSense': {'accuracy': '0.8851 ± 0.0000',\n",
       "   'balanced acurracy': '0.8864 ± 0.0000',\n",
       "   'f1': '0.8851 ± 0.0000',\n",
       "   'precision': '0.8851 ± 0.0000',\n",
       "   'recall': '0.8851 ± 0.0000'},\n",
       "  'RealWorld_thigh': {'accuracy': '0.6988 ± 0.0000',\n",
       "   'balanced acurracy': '0.7329 ± 0.0000',\n",
       "   'f1': '0.6988 ± 0.0000',\n",
       "   'precision': '0.6988 ± 0.0000',\n",
       "   'recall': '0.6988 ± 0.0000'}},\n",
       " '3': {'UCI': {'accuracy': '0.8411 ± 0.0089',\n",
       "   'balanced acurracy': '0.8667 ± 0.0002',\n",
       "   'f1': '0.8411 ± 0.0089',\n",
       "   'precision': '0.8411 ± 0.0089',\n",
       "   'recall': '0.8411 ± 0.0089'},\n",
       "  'WISDM': {'accuracy': '0.8529 ± 0.0000',\n",
       "   'balanced acurracy': '0.8533 ± 0.0000',\n",
       "   'f1': '0.8529 ± 0.0000',\n",
       "   'precision': '0.8529 ± 0.0000',\n",
       "   'recall': '0.8529 ± 0.0000'},\n",
       "  'KuHar': {'accuracy': '0.5347 ± 0.0000',\n",
       "   'balanced acurracy': '0.5656 ± 0.0000',\n",
       "   'f1': '0.5347 ± 0.0000',\n",
       "   'precision': '0.5347 ± 0.0000',\n",
       "   'recall': '0.5347 ± 0.0000'},\n",
       "  'RealWorld_waist': {'accuracy': '0.7072 ± 0.0000',\n",
       "   'balanced acurracy': '0.7481 ± 0.0000',\n",
       "   'f1': '0.7072 ± 0.0000',\n",
       "   'precision': '0.7072 ± 0.0000',\n",
       "   'recall': '0.7072 ± 0.0000'},\n",
       "  'MotionSense': {'accuracy': '0.8851 ± 0.0000',\n",
       "   'balanced acurracy': '0.8864 ± 0.0000',\n",
       "   'f1': '0.8851 ± 0.0000',\n",
       "   'precision': '0.8851 ± 0.0000',\n",
       "   'recall': '0.8851 ± 0.0000'},\n",
       "  'RealWorld_thigh': {'accuracy': '0.6988 ± 0.0000',\n",
       "   'balanced acurracy': '0.7329 ± 0.0000',\n",
       "   'f1': '0.6988 ± 0.0000',\n",
       "   'precision': '0.6988 ± 0.0000',\n",
       "   'recall': '0.6988 ± 0.0000'}},\n",
       " '0': {'UCI': {'accuracy': '0.8338 ± 0.0014',\n",
       "   'balanced acurracy': '0.8687 ± 0.0026',\n",
       "   'f1': '0.8338 ± 0.0014',\n",
       "   'precision': '0.8338 ± 0.0014',\n",
       "   'recall': '0.8338 ± 0.0014'},\n",
       "  'WISDM': {'accuracy': '0.8529 ± 0.0000',\n",
       "   'balanced acurracy': '0.8533 ± 0.0000',\n",
       "   'f1': '0.8529 ± 0.0000',\n",
       "   'precision': '0.8529 ± 0.0000',\n",
       "   'recall': '0.8529 ± 0.0000'},\n",
       "  'KuHar': {'accuracy': '0.5347 ± 0.0000',\n",
       "   'balanced acurracy': '0.5656 ± 0.0000',\n",
       "   'f1': '0.5347 ± 0.0000',\n",
       "   'precision': '0.5347 ± 0.0000',\n",
       "   'recall': '0.5347 ± 0.0000'},\n",
       "  'RealWorld_waist': {'accuracy': '0.7072 ± 0.0000',\n",
       "   'balanced acurracy': '0.7481 ± 0.0000',\n",
       "   'f1': '0.7072 ± 0.0000',\n",
       "   'precision': '0.7072 ± 0.0000',\n",
       "   'recall': '0.7072 ± 0.0000'},\n",
       "  'MotionSense': {'accuracy': '0.8851 ± 0.0000',\n",
       "   'balanced acurracy': '0.8864 ± 0.0000',\n",
       "   'f1': '0.8851 ± 0.0000',\n",
       "   'precision': '0.8851 ± 0.0000',\n",
       "   'recall': '0.8851 ± 0.0000'},\n",
       "  'RealWorld_thigh': {'accuracy': '0.6988 ± 0.0000',\n",
       "   'balanced acurracy': '0.7329 ± 0.0000',\n",
       "   'f1': '0.6988 ± 0.0000',\n",
       "   'precision': '0.6988 ± 0.0000',\n",
       "   'recall': '0.6988 ± 0.0000'}},\n",
       " '4': {'UCI': {'accuracy': '0.8430 ± 0.0116',\n",
       "   'balanced acurracy': '0.8645 ± 0.0034',\n",
       "   'f1': '0.8430 ± 0.0116',\n",
       "   'precision': '0.8430 ± 0.0116',\n",
       "   'recall': '0.8430 ± 0.0116'},\n",
       "  'WISDM': {'accuracy': '0.8529 ± 0.0000',\n",
       "   'balanced acurracy': '0.8533 ± 0.0000',\n",
       "   'f1': '0.8529 ± 0.0000',\n",
       "   'precision': '0.8529 ± 0.0000',\n",
       "   'recall': '0.8529 ± 0.0000'},\n",
       "  'KuHar': {'accuracy': '0.5347 ± 0.0000',\n",
       "   'balanced acurracy': '0.5656 ± 0.0000',\n",
       "   'f1': '0.5347 ± 0.0000',\n",
       "   'precision': '0.5347 ± 0.0000',\n",
       "   'recall': '0.5347 ± 0.0000'},\n",
       "  'RealWorld_waist': {'accuracy': '0.7072 ± 0.0000',\n",
       "   'balanced acurracy': '0.7481 ± 0.0000',\n",
       "   'f1': '0.7072 ± 0.0000',\n",
       "   'precision': '0.7072 ± 0.0000',\n",
       "   'recall': '0.7072 ± 0.0000'},\n",
       "  'MotionSense': {'accuracy': '0.8851 ± 0.0000',\n",
       "   'balanced acurracy': '0.8864 ± 0.0000',\n",
       "   'f1': '0.8851 ± 0.0000',\n",
       "   'precision': '0.8851 ± 0.0000',\n",
       "   'recall': '0.8851 ± 0.0000'},\n",
       "  'RealWorld_thigh': {'accuracy': '0.6988 ± 0.0000',\n",
       "   'balanced acurracy': '0.7329 ± 0.0000',\n",
       "   'f1': '0.6988 ± 0.0000',\n",
       "   'precision': '0.6988 ± 0.0000',\n",
       "   'recall': '0.6988 ± 0.0000'}}}"
      ]
     },
     "execution_count": 3,
     "metadata": {},
     "output_type": "execute_result"
    }
   ],
   "source": [
    "import yaml\n",
    "import os\n",
    "import glob\n",
    "import numpy as np\n",
    "import pandas as pd\n",
    "#import dataframe_image as dfi\n",
    "\n",
    "# Define the root directory\n",
    "#root = \"./logs\"\n",
    "root = '/workspaces/container-workspace/tts-gan/Notebooks/Encoder_evaluation/logs/Normal'\n",
    "tests = {}\n",
    "\n",
    "#Loop over every log directory\n",
    "for directory in os.listdir(root):\n",
    "    #Loop over each dataset directory inside the root   \n",
    "    dictionary = {}\n",
    "    for dataset in os.listdir(root + '/' + directory):\n",
    "        \n",
    "        dataset_path = os.path.join(root, directory, dataset)\n",
    "        \n",
    "            # Loop over each run directory within the dataset directory\n",
    "        accuracy = []\n",
    "        balancedaccuracy = []\n",
    "        f1 = []\n",
    "        precision = []\n",
    "        recall = []\n",
    "        \n",
    "        for run in os.listdir(dataset_path):\n",
    "            run_path = os.path.join(dataset_path, run)\n",
    "            print(run_path)\n",
    "            metrics_file = glob.glob(os.path.join(run_path, 'metrics_????-??-??-??-??-*.yaml'))\n",
    "            with open(metrics_file[0], 'r') as file:\n",
    "                data = yaml.safe_load(file)\n",
    "                            \n",
    "            # Extract the 'classification' dictionary if it exists\n",
    "            classification_data = data.get('classification')\n",
    "            #print(dataset, classification_data)\n",
    "            accuracy.append(classification_data['accuracy'])\n",
    "            balancedaccuracy.append(classification_data['balanced_accuracy'])\n",
    "            f1.append(classification_data['f1'])\n",
    "            precision.append(classification_data['precision'])\n",
    "            recall.append(classification_data['recall'])\n",
    "        print(accuracy)\n",
    "        dictionary[dataset] = {'accuracy': f'{np.array(accuracy).mean():.4f} ± {np.array(accuracy).std():.4f}',\n",
    "                            'balanced acurracy':  f'{np.array(balancedaccuracy).mean():.4f} ± {np.array(balancedaccuracy).std():.4f}',\n",
    "                            'f1':  f'{np.array(f1).mean():.4f} ± {np.array(f1).std():.4f}',\n",
    "                            'precision':  f'{np.array(precision).mean():.4f} ± {np.array(precision).std():.4f}',\n",
    "                            'recall':  f'{np.array(recall).mean():.4f} ± {np.array(recall).std():.4f}'}\n",
    "        \n",
    "    tests[directory] = dictionary      \n",
    "\n",
    "tests"
   ]
  },
  {
   "cell_type": "code",
   "execution_count": null,
   "metadata": {},
   "outputs": [],
   "source": [
    "list_dfs = []\n",
    "list_stiled_dfs = []\n",
    "print(tests)\n",
    "for data_test in tests.keys():\n",
    "    temp = tests[data_test]\n",
    "    print(temp)\n",
    "\n",
    "\n",
    "# Criando o DataFrame\n",
    "df = pd.DataFrame(frame).T\n",
    "\n",
    "display(styled_df)\n",
    "list_dfs.append(df)"
   ]
  },
  {
   "cell_type": "code",
   "execution_count": null,
   "metadata": {},
   "outputs": [],
   "source": [
    "from datetime import datetime\n",
    "\n",
    "root_data_path = '/workspaces/container-workspace/standardized_view/'\n",
    "root_ckpt_path = '/workspaces/container-workspace/tts-gan/Notebooks/training/ttsgan_50000steps/all_checkpoints/'\n",
    "root_log_path =  '/workspaces/container-workspace/tts-gan/Notebooks/Encoder_evaluation/logs/'\n",
    "repeat = 3\n",
    "i = 2\n",
    "sorted_list = os.listdir(root_ckpt_path)\n",
    "sorted_list.sort()\n",
    "\n",
    "#print(sorted_list)\n",
    "\n",
    "for data_path in os.listdir(root_data_path):\n",
    "    for _ in range(repeat):\n",
    "        execution_id = f'run_{datetime.now().strftime(\"%Y%m%d-%H%M%S\")}'\n",
    "        checkpoint_path = [a for a in sorted_list][i]\n",
    "        print(f'checkpoint number: {i} | repeat {_ + 1} | data name: {data_path} | checkpoint name: {checkpoint_path}')"
   ]
  },
  {
   "cell_type": "code",
   "execution_count": null,
   "metadata": {},
   "outputs": [],
   "source": [
    "list_dfs = []\n",
    "list_stiled_dfs = []\n",
    "for data_test in tests.keys():\n",
    "    frame = tests[data_test]\n",
    "\n",
    "    # Criando o DataFrame\n",
    "    df = pd.DataFrame(frame).T\n",
    "\n",
    "        # Aplicando estilo com fundo branco e bordas sutis\n",
    "    styled_df = (\n",
    "            df.style\n",
    "            .set_properties(**{'background-color': 'white', 'color': 'black', 'border-color': 'lightgray'})\n",
    "            .set_table_styles([\n",
    "                {'selector': 'th', 'props': [('background-color', '#f2f2f2'), ('color', 'black'), ('border-color', 'gray'), ('font-weight', 'bold')]},\n",
    "                {'selector': 'tr:hover', 'props': [('background-color', '#f9f9f9')]}\n",
    "            ])\n",
    "            .set_caption(f\"Metricas de Performance por Dataset do teste {data_test}\")  # Adiciona um título ao DataFrame\n",
    "        )\n",
    "\n",
    "    display(styled_df)\n",
    "    list_dfs.append(df)\n",
    "    #list_stiled_dfs.append(styled_df)\n"
   ]
  },
  {
   "cell_type": "code",
   "execution_count": null,
   "metadata": {},
   "outputs": [],
   "source": [
    "import seaborn as sns\n",
    "import matplotlib.pyplot as plt\n",
    "\n",
    "for df in list_dfs:\n",
    "    display(df)\n",
    "    # Convertendo as métricas para float para visualização\n",
    "    df_numeric = df.replace(r' ± .*', '', regex=True).astype(float)\n",
    "\n",
    "    # Criando um gráfico de barras\n",
    "    plt.figure(figsize=(8, 6))\n",
    "    sns.barplot(data=df_numeric.reset_index().melt(id_vars='index'), \n",
    "                x='index', y='value', hue='variable')\n",
    "    plt.title('Métricas de Classificação por Dataset')\n",
    "    plt.xlabel('Dataset')\n",
    "    plt.ylabel('Valor')\n",
    "    plt.legend(title='Métricas')\n",
    "    #plt.xticks(rotation=45)\n",
    "    plt.tight_layout()\n",
    "    plt.show()"
   ]
  },
  {
   "cell_type": "code",
   "execution_count": null,
   "metadata": {},
   "outputs": [],
   "source": [
    "# Lista para armazenar os dados em formato tabular\n",
    "rows = []\n",
    "desired_order = ['normal', 'Lightning_10000', 'Lightning_5000', 'Lightning_1000']\n",
    "\n",
    "# Itera sobre cada tipo de teste\n",
    "for test_type, datasets in tests.items():\n",
    "    # Itera sobre cada dataset dentro do tipo de teste\n",
    "    for dataset_name, metrics in datasets.items():\n",
    "        # Adiciona as métricas de interesse ao formato tabular\n",
    "        rows.append({\n",
    "            'Test Type': test_type,\n",
    "            'Dataset': dataset_name,\n",
    "            'Accuracy': metrics.get('accuracy', ''),\n",
    "            'Balanced Accuracy': metrics.get('balanced acurracy', '')\n",
    "        })\n",
    "\n",
    "# Cria o DataFrame a partir da lista de linhas\n",
    "df = pd.DataFrame(rows)\n",
    "#display(df)\n",
    "# Criação de DataFrame com apenas 'Accuracy'\n",
    "df_accuracy = df.pivot(index='Test Type', columns='Dataset', values='Accuracy')\n",
    "# Reorganizando o DataFrame de Accuracy\n",
    "df_accuracy = df_accuracy.reindex(desired_order)\n",
    "\n",
    "# Criação de DataFrame com apenas 'Balanced Accuracy'\n",
    "df_balanced_accuracy = df.pivot(index='Test Type', columns='Dataset', values='Balanced Accuracy')\n",
    "# Reorganizando o DataFrame de Balanced Accuracy\n",
    "df_balanced_accuracy = df_balanced_accuracy.reindex(desired_order)\n",
    "# Exibindo os DataFrames resultantes\n",
    "\n",
    "print(\"DataFrame de Accuracy:\")\n",
    "display(df_accuracy)\n",
    "\n",
    "print(\"\\nDataFrame de Balanced Accuracy:\")\n",
    "display(df_balanced_accuracy)\n",
    "\n"
   ]
  }
 ],
 "metadata": {
  "kernelspec": {
   "display_name": "Python 3",
   "language": "python",
   "name": "python3"
  },
  "language_info": {
   "codemirror_mode": {
    "name": "ipython",
    "version": 3
   },
   "file_extension": ".py",
   "mimetype": "text/x-python",
   "name": "python",
   "nbconvert_exporter": "python",
   "pygments_lexer": "ipython3",
   "version": "3.10.6"
  }
 },
 "nbformat": 4,
 "nbformat_minor": 2
}
