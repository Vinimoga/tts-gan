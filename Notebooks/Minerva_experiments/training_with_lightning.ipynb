{
 "cells": [
  {
   "cell_type": "code",
   "execution_count": 1,
   "metadata": {},
   "outputs": [],
   "source": [
    "# You should install minerva before running this script\n",
    "\n",
    "#!pip install git+https://github.com/discovery-unicamp/Minerva-Dev.git\n",
    "#!pip install kaleido"
   ]
  },
  {
   "cell_type": "markdown",
   "metadata": {},
   "source": [
    "### Important imports"
   ]
  },
  {
   "cell_type": "code",
   "execution_count": 2,
   "metadata": {},
   "outputs": [
    {
     "name": "stderr",
     "output_type": "stream",
     "text": [
      "/usr/local/lib/python3.10/dist-packages/_distutils_hack/__init__.py:53: UserWarning: Reliance on distutils from stdlib is deprecated. Users must rely on setuptools to provide the distutils module. Avoid importing distutils or import setuptools first, and avoid setting SETUPTOOLS_USE_DISTUTILS=stdlib. Register concerns at https://github.com/pypa/setuptools/issues/new?template=distutils-deprecation.yml\n",
      "  warnings.warn(\n",
      "/usr/local/lib/python3.10/dist-packages/tqdm/auto.py:21: TqdmWarning: IProgress not found. Please update jupyter and ipywidgets. See https://ipywidgets.readthedocs.io/en/stable/user_install.html\n",
      "  from .autonotebook import tqdm as notebook_tqdm\n"
     ]
    }
   ],
   "source": [
    "from minerva.models.nets.time_series.gans import GAN, TTSGAN_Encoder, TTSGAN_Discriminator, TTSGAN_Generator\n",
    "from minerva.data.data_module_tools import RandomDataModule\n",
    "import torch\n",
    "import lightning as L\n",
    "from torch.utils.data import DataLoader, Dataset, random_split\n",
    "\n",
    "from sklearn.model_selection import train_test_split\n",
    "import matplotlib.pyplot as plt\n",
    "\n",
    "from lightning.pytorch.callbacks import ModelCheckpoint\n",
    "from callbacks import TsneGeneratorCallback, TsneEncoderCallback, KNNValidationCallback, MyPrintingCallback\n",
    "\n",
    "import os\n",
    "import pandas as pd\n",
    "import numpy as np"
   ]
  },
  {
   "cell_type": "code",
   "execution_count": 3,
   "metadata": {},
   "outputs": [
    {
     "data": {
      "text/plain": [
       "'Using cuda device'"
      ]
     },
     "metadata": {},
     "output_type": "display_data"
    }
   ],
   "source": [
    "device = (\n",
    "    \"cuda\"\n",
    "    if torch.cuda.is_available()\n",
    "    else \"mps\"\n",
    "    if torch.backends.mps.is_available()\n",
    "    else \"cpu\"\n",
    ")\n",
    "\n",
    "device_number = 1\n",
    "if torch.cuda.is_available():\n",
    "    torch.cuda.set_device(device_number)\n",
    "\n",
    "display(f\"Using {device} device\")"
   ]
  },
  {
   "cell_type": "code",
   "execution_count": 4,
   "metadata": {},
   "outputs": [
    {
     "data": {
      "text/plain": [
       "1"
      ]
     },
     "execution_count": 4,
     "metadata": {},
     "output_type": "execute_result"
    }
   ],
   "source": [
    "torch.cuda.current_device()"
   ]
  },
  {
   "cell_type": "code",
   "execution_count": 5,
   "metadata": {},
   "outputs": [],
   "source": [
    "experiment_number = 2\n",
    "version = 1\n",
    "n_epochs = 300 #300\n",
    "batch_size = 16 #64\n",
    "SAC = ['Sit', 'Stand', 'Walk', 'Upstairs', 'Downstairs', 'Run']\n",
    "beta1 = 0.9\n",
    "beta2 = 0.999\n",
    "gen_lr = 0.0001\n",
    "dis_lr = 0.0003\n",
    "assimetrical_percentage = 1.0\n",
    "clip_grad = 5. #None\n",
    "\n",
    "\n",
    "save_dir = './training'\n",
    "name = 'without_callback_with_clip_grad_recomended_batch_size_64'"
   ]
  },
  {
   "cell_type": "markdown",
   "metadata": {},
   "source": [
    "### Data"
   ]
  },
  {
   "cell_type": "code",
   "execution_count": 6,
   "metadata": {},
   "outputs": [
    {
     "name": "stdout",
     "output_type": "stream",
     "text": [
      "Directory already exists\n",
      "Folder ../../../standardize_view/RealWorld_upperarm not found. Experiments can be run freely\n",
      "initial download finished\n"
     ]
    }
   ],
   "source": [
    "import shutil\n",
    "\n",
    "newpath = r'../../../standardize_view'\n",
    "\n",
    "if os.path.exists(newpath):\n",
    "    print(\"Directory already exists\")\n",
    "else:\n",
    "    #os.makedirs(newpath)\n",
    "    print(\"Directory created\")\n",
    "    !unzip ../../../standardized_view.zip?download=1 -d ../../../standardize_view\n",
    "\n",
    "folder_to_delete = os.path.join(newpath, \"RealWorld_upperarm\")\n",
    "\n",
    "if os.path.exists(folder_to_delete):\n",
    "    shutil.rmtree(folder_to_delete)\n",
    "    print(f\"Deleting folder {folder_to_delete}\")\n",
    "else:\n",
    "    print(f\"Folder {folder_to_delete} not found. Experiments can be run freely\")\n",
    "\n",
    "print(\"initial download finished\")"
   ]
  },
  {
   "cell_type": "code",
   "execution_count": 7,
   "metadata": {},
   "outputs": [
    {
     "data": {
      "text/plain": [
       "['KuHar', 'MotionSense', 'RealWorld_thigh', 'RealWorld_waist', 'UCI', 'WISDM']"
      ]
     },
     "execution_count": 7,
     "metadata": {},
     "output_type": "execute_result"
    }
   ],
   "source": [
    "dataNames = os.listdir(newpath)\n",
    "dataNames.sort()\n",
    "dataNames"
   ]
  },
  {
   "cell_type": "code",
   "execution_count": 8,
   "metadata": {},
   "outputs": [
    {
     "name": "stdout",
     "output_type": "stream",
     "text": [
      "KuHar\n",
      "MotionSense\n",
      "RealWorld_thigh\n",
      "RealWorld_waist\n",
      "UCI\n",
      "WISDM\n"
     ]
    },
    {
     "data": {
      "text/plain": [
       "((36788, 6, 60), (36788,))"
      ]
     },
     "execution_count": 8,
     "metadata": {},
     "output_type": "execute_result"
    }
   ],
   "source": [
    "X = []\n",
    "y = []   \n",
    "for dataName in dataNames:\n",
    "    print(dataName)\n",
    "    dfTr = pd.read_csv(newpath + '/' + dataName + '/train.csv')\n",
    "    X_tr = dfTr.values[:,:360].reshape(-1,6,60)\n",
    "    y_tr = dfTr.values[:,-1].astype(np.int32)\n",
    "    X.append(X_tr)\n",
    "    y.append(y_tr)\n",
    "X = np.concatenate(X, axis=0)\n",
    "y = np.concatenate(y, axis=0)\n",
    "X.shape, y.shape"
   ]
  },
  {
   "cell_type": "code",
   "execution_count": 9,
   "metadata": {},
   "outputs": [
    {
     "data": {
      "text/plain": [
       "(torch.Size([29430, 6, 60]),\n",
       " torch.Size([7358, 6, 60]),\n",
       " torch.Size([29430]),\n",
       " torch.Size([7358]))"
      ]
     },
     "execution_count": 9,
     "metadata": {},
     "output_type": "execute_result"
    }
   ],
   "source": [
    "X_train, X_test, y_train, y_test = train_test_split(X, y, test_size=0.2, shuffle = True, random_state = 42)\n",
    "\n",
    "X_train = torch.tensor(X_train.astype(np.float32), dtype=torch.float32, device=device).detach()\n",
    "X_test = torch.tensor(X_test.astype(np.float32), dtype=torch.float32, device=device).detach()\n",
    "y_train = torch.tensor(y_train.astype(np.float32), dtype=torch.float32, device=device).detach()\n",
    "y_test = torch.tensor(y_test.astype(np.float32), dtype=torch.float32, device=device).detach()\n",
    "\n",
    "X_train.shape, X_test.shape, y_train.shape, y_test.shape "
   ]
  },
  {
   "cell_type": "code",
   "execution_count": 10,
   "metadata": {},
   "outputs": [
    {
     "name": "stdout",
     "output_type": "stream",
     "text": [
      "460\n",
      "115\n",
      "torch.Size([64, 6, 60]) torch.Size([64])\n"
     ]
    }
   ],
   "source": [
    "import numpy as np\n",
    "import torch\n",
    "from torch.utils.data import DataLoader, Dataset, random_split\n",
    "\n",
    "class CustomDataset(Dataset):\n",
    "    def __init__(self, data, labels):\n",
    "        self.data = data\n",
    "        self.labels = labels\n",
    "\n",
    "    def __len__(self):\n",
    "        return len(self.data)\n",
    "\n",
    "    def __getitem__(self, idx):\n",
    "        return self.data[idx], self.labels[idx]\n",
    "\n",
    "class CustomDataModule(L.LightningDataModule):\n",
    "    def __init__(self, data, labels, batch_size=16, val_split=0.2, num_workers=8):\n",
    "        super().__init__()\n",
    "        self.data = data\n",
    "        self.labels = labels\n",
    "        self.batch_size = batch_size\n",
    "        self.val_split = val_split\n",
    "        self.num_workers = num_workers\n",
    "\n",
    "    def setup(self, stage=None):\n",
    "        dataset = CustomDataset(self.data, self.labels)\n",
    "        val_size = int(len(dataset) * self.val_split)\n",
    "        train_size = len(dataset) - val_size\n",
    "        self.train_dataset, self.val_dataset = random_split(dataset, [train_size, val_size])\n",
    "\n",
    "    def train_dataloader(self):\n",
    "        return DataLoader(self.train_dataset, batch_size=self.batch_size, shuffle=True, num_workers=self.num_workers)\n",
    "\n",
    "    def val_dataloader(self):\n",
    "        return DataLoader(self.val_dataset, batch_size=self.batch_size, num_workers=self.num_workers)\n",
    "\n",
    "    def test_dataloader(self):\n",
    "        return DataLoader(self.val_dataset, batch_size=self.batch_size, num_workers=self.num_workers)\n",
    "\n",
    "# Supondo que X seja seu dado com forma (36788, 6, 60)\n",
    "#X = np.random.rand(36788, 6, 60).astype(np.float32)  # Certifique-se de que os dados sejam do tipo float32\n",
    "#y = np.random.randint(0, 2, size=(36788,)).astype(np.float32)  # Rótulos fictícios para fins de exemplo\n",
    "\n",
    "X = X.astype(np.float32)\n",
    "y = y.astype(int)\n",
    "X_tensor = torch.tensor(X)\n",
    "y_tensor = torch.tensor(y)\n",
    "\n",
    "# Crie o DataModule\n",
    "data_module = CustomDataModule(X_tensor, y_tensor, batch_size=64)\n",
    "\n",
    "# Configure o DataModule\n",
    "data_module.setup()\n",
    "\n",
    "# Acesse os dataloaders\n",
    "train_loader = data_module.train_dataloader()\n",
    "val_loader = data_module.val_dataloader()\n",
    "\n",
    "# Exemplo de iteração através do train_loader\n",
    "print(len(train_loader))\n",
    "print(len(val_loader))\n",
    "for batch in train_loader:\n",
    "    X_batch, y_batch = batch\n",
    "    print(X_batch.shape, y_batch.shape)  # Deve imprimir torch.Size([64, 6, 60]) torch.Size([64])\n",
    "    break"
   ]
  },
  {
   "cell_type": "code",
   "execution_count": null,
   "metadata": {},
   "outputs": [],
   "source": [
    "import matplotlib.pyplot as plt\n",
    "\n",
    "def plot_batch(X_batch, y_batch):\n",
    "    \"\"\"\n",
    "    Plota todos os b elementos do batch e escreve o título de cada subplot com o valor de y_batch[i].\n",
    "\n",
    "    Parameters\n",
    "    ----------\n",
    "    X_batch : torch.Tensor\n",
    "        O tensor contendo os dados do batch com shape (b, C, T).\n",
    "    y_batch : torch.Tensor\n",
    "        O tensor contendo os rótulos do batch com shape (b,).\n",
    "    \"\"\"\n",
    "    num_samples = X_batch.shape[0]\n",
    "    num_channels = X_batch.shape[1]\n",
    "    time_steps = X_batch.shape[2]\n",
    "\n",
    "    fig, axes = plt.subplots(num_samples // 4, 4, figsize=(20, 20))\n",
    "    axes = axes.flatten()\n",
    "\n",
    "    for i in range(num_samples):\n",
    "        for j in range(num_channels):\n",
    "            axes[i].plot(X_batch[i, j].cpu().numpy()) #, label=f'Channel {j+1}'\n",
    "        axes[i].set_title(f'Label: {SAC[y_batch[i].item()]}')\n",
    "        #axes[i].legend()\n",
    "\n",
    "    plt.tight_layout()\n",
    "    plt.show()\n",
    "\n",
    "# Exemplo de uso\n",
    "# Supondo que você tenha um batch de dados\n",
    "for batch in train_loader:\n",
    "    X_batch, y_batch = batch\n",
    "    plot_batch(X_batch, y_batch)\n",
    "    break  # Apenas para plotar o primeiro batch"
   ]
  },
  {
   "cell_type": "code",
   "execution_count": null,
   "metadata": {},
   "outputs": [
    {
     "data": {
      "text/plain": [
       "'\\ndatamodule = RandomDataModule(\\n    data_shape = (6,60),\\n    num_classes = 6,\\n    num_train_samples = 8,\\n    num_val_samples = 8,\\n    num_test_samples= 8,\\n    batch_size = 16,\\n)\\n'"
      ]
     },
     "execution_count": 13,
     "metadata": {},
     "output_type": "execute_result"
    }
   ],
   "source": [
    "'''\n",
    "datamodule = RandomDataModule(\n",
    "    data_shape = (6,60),\n",
    "    num_classes = 6,\n",
    "    num_train_samples = 8,\n",
    "    num_val_samples = 8,\n",
    "    num_test_samples= 8,\n",
    "    batch_size = 16,\n",
    ")\n",
    "'''"
   ]
  },
  {
   "cell_type": "code",
   "execution_count": null,
   "metadata": {},
   "outputs": [],
   "source": [
    "#from GANModels import Discriminator, Generator #Test"
   ]
  },
  {
   "cell_type": "code",
   "execution_count": null,
   "metadata": {},
   "outputs": [
    {
     "data": {
      "text/plain": [
       "GAN(\n",
       "  (gen): TTSGAN_Generator(\n",
       "    (l1): Linear(in_features=100, out_features=600, bias=True)\n",
       "    (blocks): Gen_TransformerEncoder(\n",
       "      (0): Gen_TransformerEncoderBlock(\n",
       "        (0): ResidualAdd(\n",
       "          (fn): Sequential(\n",
       "            (0): LayerNorm((10,), eps=1e-05, elementwise_affine=True)\n",
       "            (1): MultiHeadAttention(\n",
       "              (keys): Linear(in_features=10, out_features=10, bias=True)\n",
       "              (queries): Linear(in_features=10, out_features=10, bias=True)\n",
       "              (values): Linear(in_features=10, out_features=10, bias=True)\n",
       "              (att_drop): Dropout(p=0.5, inplace=False)\n",
       "              (projection): Linear(in_features=10, out_features=10, bias=True)\n",
       "            )\n",
       "            (2): Dropout(p=0.5, inplace=False)\n",
       "          )\n",
       "        )\n",
       "        (1): ResidualAdd(\n",
       "          (fn): Sequential(\n",
       "            (0): LayerNorm((10,), eps=1e-05, elementwise_affine=True)\n",
       "            (1): FeedForwardBlock(\n",
       "              (0): Linear(in_features=10, out_features=40, bias=True)\n",
       "              (1): GELU(approximate='none')\n",
       "              (2): Dropout(p=0.5, inplace=False)\n",
       "              (3): Linear(in_features=40, out_features=10, bias=True)\n",
       "            )\n",
       "            (2): Dropout(p=0.5, inplace=False)\n",
       "          )\n",
       "        )\n",
       "      )\n",
       "      (1): Gen_TransformerEncoderBlock(\n",
       "        (0): ResidualAdd(\n",
       "          (fn): Sequential(\n",
       "            (0): LayerNorm((10,), eps=1e-05, elementwise_affine=True)\n",
       "            (1): MultiHeadAttention(\n",
       "              (keys): Linear(in_features=10, out_features=10, bias=True)\n",
       "              (queries): Linear(in_features=10, out_features=10, bias=True)\n",
       "              (values): Linear(in_features=10, out_features=10, bias=True)\n",
       "              (att_drop): Dropout(p=0.5, inplace=False)\n",
       "              (projection): Linear(in_features=10, out_features=10, bias=True)\n",
       "            )\n",
       "            (2): Dropout(p=0.5, inplace=False)\n",
       "          )\n",
       "        )\n",
       "        (1): ResidualAdd(\n",
       "          (fn): Sequential(\n",
       "            (0): LayerNorm((10,), eps=1e-05, elementwise_affine=True)\n",
       "            (1): FeedForwardBlock(\n",
       "              (0): Linear(in_features=10, out_features=40, bias=True)\n",
       "              (1): GELU(approximate='none')\n",
       "              (2): Dropout(p=0.5, inplace=False)\n",
       "              (3): Linear(in_features=40, out_features=10, bias=True)\n",
       "            )\n",
       "            (2): Dropout(p=0.5, inplace=False)\n",
       "          )\n",
       "        )\n",
       "      )\n",
       "      (2): Gen_TransformerEncoderBlock(\n",
       "        (0): ResidualAdd(\n",
       "          (fn): Sequential(\n",
       "            (0): LayerNorm((10,), eps=1e-05, elementwise_affine=True)\n",
       "            (1): MultiHeadAttention(\n",
       "              (keys): Linear(in_features=10, out_features=10, bias=True)\n",
       "              (queries): Linear(in_features=10, out_features=10, bias=True)\n",
       "              (values): Linear(in_features=10, out_features=10, bias=True)\n",
       "              (att_drop): Dropout(p=0.5, inplace=False)\n",
       "              (projection): Linear(in_features=10, out_features=10, bias=True)\n",
       "            )\n",
       "            (2): Dropout(p=0.5, inplace=False)\n",
       "          )\n",
       "        )\n",
       "        (1): ResidualAdd(\n",
       "          (fn): Sequential(\n",
       "            (0): LayerNorm((10,), eps=1e-05, elementwise_affine=True)\n",
       "            (1): FeedForwardBlock(\n",
       "              (0): Linear(in_features=10, out_features=40, bias=True)\n",
       "              (1): GELU(approximate='none')\n",
       "              (2): Dropout(p=0.5, inplace=False)\n",
       "              (3): Linear(in_features=40, out_features=10, bias=True)\n",
       "            )\n",
       "            (2): Dropout(p=0.5, inplace=False)\n",
       "          )\n",
       "        )\n",
       "      )\n",
       "    )\n",
       "    (deconv): Sequential(\n",
       "      (0): Conv2d(10, 6, kernel_size=(1, 1), stride=(1, 1))\n",
       "    )\n",
       "  )\n",
       "  (dis): TTSGAN_Discriminator(\n",
       "    (backbone): Sequential(\n",
       "      (0): PatchEmbedding_Linear(\n",
       "        (projection): Sequential(\n",
       "          (0): RearrangeLayer()\n",
       "          (1): Linear(in_features=90, out_features=50, bias=True)\n",
       "        )\n",
       "      )\n",
       "      (1): Dis_TransformerEncoder(\n",
       "        (0): Dis_TransformerEncoderBlock(\n",
       "          (0): ResidualAdd(\n",
       "            (fn): Sequential(\n",
       "              (0): LayerNorm((50,), eps=1e-05, elementwise_affine=True)\n",
       "              (1): MultiHeadAttention(\n",
       "                (keys): Linear(in_features=50, out_features=50, bias=True)\n",
       "                (queries): Linear(in_features=50, out_features=50, bias=True)\n",
       "                (values): Linear(in_features=50, out_features=50, bias=True)\n",
       "                (att_drop): Dropout(p=0.5, inplace=False)\n",
       "                (projection): Linear(in_features=50, out_features=50, bias=True)\n",
       "              )\n",
       "              (2): Dropout(p=0.5, inplace=False)\n",
       "            )\n",
       "          )\n",
       "          (1): ResidualAdd(\n",
       "            (fn): Sequential(\n",
       "              (0): LayerNorm((50,), eps=1e-05, elementwise_affine=True)\n",
       "              (1): FeedForwardBlock(\n",
       "                (0): Linear(in_features=50, out_features=200, bias=True)\n",
       "                (1): GELU(approximate='none')\n",
       "                (2): Dropout(p=0.5, inplace=False)\n",
       "                (3): Linear(in_features=200, out_features=50, bias=True)\n",
       "              )\n",
       "              (2): Dropout(p=0.5, inplace=False)\n",
       "            )\n",
       "          )\n",
       "        )\n",
       "        (1): Dis_TransformerEncoderBlock(\n",
       "          (0): ResidualAdd(\n",
       "            (fn): Sequential(\n",
       "              (0): LayerNorm((50,), eps=1e-05, elementwise_affine=True)\n",
       "              (1): MultiHeadAttention(\n",
       "                (keys): Linear(in_features=50, out_features=50, bias=True)\n",
       "                (queries): Linear(in_features=50, out_features=50, bias=True)\n",
       "                (values): Linear(in_features=50, out_features=50, bias=True)\n",
       "                (att_drop): Dropout(p=0.5, inplace=False)\n",
       "                (projection): Linear(in_features=50, out_features=50, bias=True)\n",
       "              )\n",
       "              (2): Dropout(p=0.5, inplace=False)\n",
       "            )\n",
       "          )\n",
       "          (1): ResidualAdd(\n",
       "            (fn): Sequential(\n",
       "              (0): LayerNorm((50,), eps=1e-05, elementwise_affine=True)\n",
       "              (1): FeedForwardBlock(\n",
       "                (0): Linear(in_features=50, out_features=200, bias=True)\n",
       "                (1): GELU(approximate='none')\n",
       "                (2): Dropout(p=0.5, inplace=False)\n",
       "                (3): Linear(in_features=200, out_features=50, bias=True)\n",
       "              )\n",
       "              (2): Dropout(p=0.5, inplace=False)\n",
       "            )\n",
       "          )\n",
       "        )\n",
       "        (2): Dis_TransformerEncoderBlock(\n",
       "          (0): ResidualAdd(\n",
       "            (fn): Sequential(\n",
       "              (0): LayerNorm((50,), eps=1e-05, elementwise_affine=True)\n",
       "              (1): MultiHeadAttention(\n",
       "                (keys): Linear(in_features=50, out_features=50, bias=True)\n",
       "                (queries): Linear(in_features=50, out_features=50, bias=True)\n",
       "                (values): Linear(in_features=50, out_features=50, bias=True)\n",
       "                (att_drop): Dropout(p=0.5, inplace=False)\n",
       "                (projection): Linear(in_features=50, out_features=50, bias=True)\n",
       "              )\n",
       "              (2): Dropout(p=0.5, inplace=False)\n",
       "            )\n",
       "          )\n",
       "          (1): ResidualAdd(\n",
       "            (fn): Sequential(\n",
       "              (0): LayerNorm((50,), eps=1e-05, elementwise_affine=True)\n",
       "              (1): FeedForwardBlock(\n",
       "                (0): Linear(in_features=50, out_features=200, bias=True)\n",
       "                (1): GELU(approximate='none')\n",
       "                (2): Dropout(p=0.5, inplace=False)\n",
       "                (3): Linear(in_features=200, out_features=50, bias=True)\n",
       "              )\n",
       "              (2): Dropout(p=0.5, inplace=False)\n",
       "            )\n",
       "          )\n",
       "        )\n",
       "      )\n",
       "    )\n",
       "    (classification_head): ClassificationHead(\n",
       "      (clshead): Sequential(\n",
       "        (0): ReduceLayer()\n",
       "        (1): LayerNorm((50,), eps=1e-05, elementwise_affine=True)\n",
       "        (2): Linear(in_features=50, out_features=1, bias=True)\n",
       "      )\n",
       "    )\n",
       "  )\n",
       "  (loss_gen): MSELoss()\n",
       "  (loss_dis): MSELoss()\n",
       ")"
      ]
     },
     "execution_count": 15,
     "metadata": {},
     "output_type": "execute_result"
    }
   ],
   "source": [
    "generator = TTSGAN_Generator(seq_len = 60, channels = 6)\n",
    "discriminator = TTSGAN_Discriminator(seq_len = 60, channels = 6)\n",
    "\n",
    "model = GAN(generator = generator,\n",
    "            discriminator = discriminator, \n",
    "            loss_gen = torch.nn.MSELoss(),\n",
    "            loss_dis = torch.nn.MSELoss(),\n",
    "            assimetrical_percentage = assimetrical_percentage,\n",
    "            generator_lr = gen_lr,\n",
    "            discriminator_lr = dis_lr,\n",
    "            beta1 = beta1,\n",
    "            beta2 = beta2,\n",
    "            clip_grad = clip_grad,\n",
    "            )\n",
    "model"
   ]
  },
  {
   "cell_type": "code",
   "execution_count": null,
   "metadata": {},
   "outputs": [],
   "source": [
    "from lightning.pytorch.callbacks import ModelCheckpoint\n",
    "from callbacks import TsneGeneratorCallback, TsneEncoderCallback, KNNValidationCallback, MyPrintingCallback\n",
    "\n",
    "#checkpoint_callback = ModelCheckpoint()\n",
    "#printing_callback = MyPrintingCallback()\n",
    "#knnvalidation_callback = KNNValidationCallback(k=10, flatten=True)\n",
    "#tsnecallbackgenerator = TsneGeneratorCallback(image_save_dir=f'{save_dir}/{name}/version_{version}/tsne/generator/')\n",
    "#tsnecallbackencoder = TsneEncoderCallback(image_save_dir=f'{save_dir}/{name}/version_{version}/tsne/encoder/', flatten=True)"
   ]
  },
  {
   "cell_type": "code",
   "execution_count": null,
   "metadata": {},
   "outputs": [],
   "source": [
    "from lightning.pytorch.loggers.csv_logs import CSVLogger\n",
    "\n",
    "logger = CSVLogger(save_dir=save_dir, name=name, version=version)"
   ]
  },
  {
   "cell_type": "code",
   "execution_count": null,
   "metadata": {},
   "outputs": [
    {
     "name": "stderr",
     "output_type": "stream",
     "text": [
      "GPU available: True (cuda), used: True\n",
      "TPU available: False, using: 0 TPU cores\n",
      "HPU available: False, using: 0 HPUs\n"
     ]
    }
   ],
   "source": [
    "trainer = L.Trainer(accelerator=device, devices=1,\n",
    "                    callbacks=[], #[printing_callback, knnvalidation_callback, tsnecallbackencoder],#[printing_callback, knnvalidation_callback, tsnecallbackencoder], #printing_callback\n",
    "                    logger=logger, max_epochs=n_epochs) #max_steps=50000"
   ]
  },
  {
   "cell_type": "code",
   "execution_count": null,
   "metadata": {},
   "outputs": [
    {
     "name": "stderr",
     "output_type": "stream",
     "text": [
      "/usr/local/lib/python3.10/dist-packages/lightning/fabric/loggers/csv_logs.py:268: Experiment logs directory ./training/without_callback_with_clip_grad_recomended_batch_size_64/version_1 exists and is not empty. Previous log files in this directory will be deleted when the new ones are saved!\n",
      "LOCAL_RANK: 0 - CUDA_VISIBLE_DEVICES: [0,1]\n",
      "\n",
      "  | Name     | Type                 | Params | Mode \n",
      "----------------------------------------------------------\n",
      "0 | gen      | TTSGAN_Generator     | 65.3 K | train\n",
      "1 | dis      | TTSGAN_Discriminator | 97.0 K | train\n",
      "2 | loss_gen | MSELoss              | 0      | train\n",
      "3 | loss_dis | MSELoss              | 0      | train\n",
      "----------------------------------------------------------\n",
      "162 K     Trainable params\n",
      "0         Non-trainable params\n",
      "162 K     Total params\n",
      "0.649     Total estimated model params size (MB)\n",
      "139       Modules in train mode\n",
      "0         Modules in eval mode\n"
     ]
    },
    {
     "name": "stdout",
     "output_type": "stream",
     "text": [
      "Sanity Checking: |          | 0/? [00:00<?, ?it/s]"
     ]
    },
    {
     "name": "stdout",
     "output_type": "stream",
     "text": [
      "Epoch 131:   5%|▌         | 23/460 [00:02<00:43, 10.02it/s, v_num=1]       "
     ]
    }
   ],
   "source": [
    "trainer.fit(model = model, datamodule = data_module)"
   ]
  },
  {
   "cell_type": "code",
   "execution_count": null,
   "metadata": {},
   "outputs": [
    {
     "name": "stdout",
     "output_type": "stream",
     "text": [
      "knn loss []\n"
     ]
    }
   ],
   "source": [
    "import csv\n",
    "\n",
    "def extract_losses(file_path):\n",
    "    knn_validation = []\n",
    "\n",
    "    with open(file_path, 'r') as file:\n",
    "        reader = csv.DictReader(file)\n",
    "        for row in reader:\n",
    "            if 'knn_accuracy' in row and row['knn_accuracy']:\n",
    "                knn_validation.append(float(row['knn_accuracy']))\n",
    "\n",
    "        return knn_validation\n",
    "\n",
    "# Exemplo de uso\n",
    "#version = 6\n",
    "file_path = f'{save_dir}/{name}/version_{version}/metrics.csv'\n",
    "knn_loss  = extract_losses(file_path)\n",
    "print(\"knn loss\", knn_loss)"
   ]
  },
  {
   "cell_type": "code",
   "execution_count": null,
   "metadata": {},
   "outputs": [],
   "source": [
    "from scipy.signal import find_peaks\n",
    "\n",
    "vales, _ = find_peaks(-np.array(knn_loss))\n",
    "picos, _ = find_peaks(knn_loss)"
   ]
  },
  {
   "cell_type": "code",
   "execution_count": null,
   "metadata": {},
   "outputs": [
    {
     "data": {
      "text/plain": [
       "array([], dtype=int64)"
      ]
     },
     "execution_count": 44,
     "metadata": {},
     "output_type": "execute_result"
    }
   ],
   "source": [
    "vales"
   ]
  },
  {
   "cell_type": "code",
   "execution_count": null,
   "metadata": {},
   "outputs": [
    {
     "name": "stderr",
     "output_type": "stream",
     "text": [
      "/tmp/ipykernel_347793/2564488378.py:26: UserWarning: Attempting to set identical low and high xlims makes transformation singular; automatically expanding.\n",
      "  plt.xlim(0, len(knn_loss))\n"
     ]
    },
    {
     "data": {
      "image/png": "[encoded data removed]",
      "text/plain": [
       "<Figure size 1000x500 with 1 Axes>"
      ]
     },
     "metadata": {},
     "output_type": "display_data"
    }
   ],
   "source": [
    "import matplotlib.pyplot as plt\n",
    "\n",
    "# Criar uma lista de índices de 0 a 100\n",
    "indices = list(range(len(knn_loss)))\n",
    "\n",
    "# Criar o gráfico\n",
    "plt.figure(figsize=(10, 5))\n",
    "plt.plot(indices, knn_loss, marker='', linestyle='-', color='b', label='KNN Accuracy per epoch')\n",
    "\n",
    "plt.scatter(picos, np.array(knn_loss)[picos], color='green', marker='^', label='Local Maximas')\n",
    "plt.scatter(vales, np.array(knn_loss)[vales], color='red', marker='v', label='Local Minimas')\n",
    "\n",
    "plt.axvline(x=8, color='g', linestyle='--', linewidth=2)\n",
    "plt.axvline(x=140, color='g', linestyle='--', linewidth=2)\n",
    "\n",
    "plt.axvline(x=76, color='r', linestyle='--', linewidth=2)\n",
    "#plt.axvline(x=140, color='g', linestyle='--', linewidth=2)\n",
    "\n",
    "\n",
    "plt.xlabel('Epoch')\n",
    "plt.ylabel('Acuraccy')\n",
    "plt.title('Gráfico de Loss do KNN')\n",
    "plt.legend()\n",
    "plt.grid(True)\n",
    "plt.ylim(0, 1)  # Ajustar o limite do eixo y para melhor visualização\n",
    "plt.xlim(0, len(knn_loss))\n",
    "\n",
    "\n",
    "\n",
    "# Mostrar o gráfico\n",
    "plt.show()"
   ]
  },
  {
   "cell_type": "code",
   "execution_count": null,
   "metadata": {},
   "outputs": [
    {
     "data": {
      "text/plain": [
       "<All keys matched successfully>"
      ]
     },
     "execution_count": 46,
     "metadata": {},
     "output_type": "execute_result"
    }
   ],
   "source": [
    "ckp = torch.load(f='/workspaces/vinicius.garcia/Projetos/tts-gan/Notebooks/Minerva_experiments' \\\n",
    "                '/training/ttsgan_minerva/version_0/checkpoints/epoch=299-step=276000.ckpt')\n",
    "generator = TTSGAN_Generator(seq_len = 60, channels = 6)\n",
    "discriminator = TTSGAN_Discriminator(seq_len = 60, channels = 6)\n",
    "\n",
    "test_gan = GAN(generator = generator,\n",
    "            discriminator = discriminator, \n",
    "            loss_gen = torch.nn.MSELoss(),\n",
    "            loss_dis = torch.nn.MSELoss(),\n",
    "            )\n",
    "test_gan.load_state_dict(ckp['state_dict'])\n",
    "#print(ckp['state_dict'])"
   ]
  }
 ],
 "metadata": {
  "kernelspec": {
   "display_name": "Python 3",
   "language": "python",
   "name": "python3"
  },
  "language_info": {
   "codemirror_mode": {
    "name": "ipython",
    "version": 3
   },
   "file_extension": ".py",
   "mimetype": "text/x-python",
   "name": "python",
   "nbconvert_exporter": "python",
   "pygments_lexer": "ipython3",
   "version": "3.10.6"
  }
 },
 "nbformat": 4,
 "nbformat_minor": 2
}
