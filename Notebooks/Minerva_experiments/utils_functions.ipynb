{
 "cells": [
  {
   "cell_type": "code",
   "execution_count": 34,
   "metadata": {},
   "outputs": [],
   "source": [
    "import torch\n",
    "import os\n",
    "import shutil\n",
    "\n",
    "from minerva.models.nets.time_series.gans import TTSGAN_Generator, TTSGAN_Discriminator, TTSGAN_Encoder, GAN"
   ]
  },
  {
   "cell_type": "markdown",
   "metadata": {},
   "source": [
    "#### Fixing backbone state dict"
   ]
  },
  {
   "cell_type": "markdown",
   "metadata": {},
   "source": [
    "##### backbone from minerva"
   ]
  },
  {
   "cell_type": "code",
   "execution_count": 24,
   "metadata": {},
   "outputs": [
    {
     "name": "stdout",
     "output_type": "stream",
     "text": [
      "['epoch=299-step=276000.ckpt']\n"
     ]
    },
    {
     "data": {
      "text/plain": [
       "odict_keys(['gen.pos_embed', 'gen.l1.weight', 'gen.l1.bias', 'gen.blocks.0.0.fn.0.weight', 'gen.blocks.0.0.fn.0.bias', 'gen.blocks.0.0.fn.1.keys.weight', 'gen.blocks.0.0.fn.1.keys.bias', 'gen.blocks.0.0.fn.1.queries.weight', 'gen.blocks.0.0.fn.1.queries.bias', 'gen.blocks.0.0.fn.1.values.weight', 'gen.blocks.0.0.fn.1.values.bias', 'gen.blocks.0.0.fn.1.projection.weight', 'gen.blocks.0.0.fn.1.projection.bias', 'gen.blocks.0.1.fn.0.weight', 'gen.blocks.0.1.fn.0.bias', 'gen.blocks.0.1.fn.1.0.weight', 'gen.blocks.0.1.fn.1.0.bias', 'gen.blocks.0.1.fn.1.3.weight', 'gen.blocks.0.1.fn.1.3.bias', 'gen.blocks.1.0.fn.0.weight', 'gen.blocks.1.0.fn.0.bias', 'gen.blocks.1.0.fn.1.keys.weight', 'gen.blocks.1.0.fn.1.keys.bias', 'gen.blocks.1.0.fn.1.queries.weight', 'gen.blocks.1.0.fn.1.queries.bias', 'gen.blocks.1.0.fn.1.values.weight', 'gen.blocks.1.0.fn.1.values.bias', 'gen.blocks.1.0.fn.1.projection.weight', 'gen.blocks.1.0.fn.1.projection.bias', 'gen.blocks.1.1.fn.0.weight', 'gen.blocks.1.1.fn.0.bias', 'gen.blocks.1.1.fn.1.0.weight', 'gen.blocks.1.1.fn.1.0.bias', 'gen.blocks.1.1.fn.1.3.weight', 'gen.blocks.1.1.fn.1.3.bias', 'gen.blocks.2.0.fn.0.weight', 'gen.blocks.2.0.fn.0.bias', 'gen.blocks.2.0.fn.1.keys.weight', 'gen.blocks.2.0.fn.1.keys.bias', 'gen.blocks.2.0.fn.1.queries.weight', 'gen.blocks.2.0.fn.1.queries.bias', 'gen.blocks.2.0.fn.1.values.weight', 'gen.blocks.2.0.fn.1.values.bias', 'gen.blocks.2.0.fn.1.projection.weight', 'gen.blocks.2.0.fn.1.projection.bias', 'gen.blocks.2.1.fn.0.weight', 'gen.blocks.2.1.fn.0.bias', 'gen.blocks.2.1.fn.1.0.weight', 'gen.blocks.2.1.fn.1.0.bias', 'gen.blocks.2.1.fn.1.3.weight', 'gen.blocks.2.1.fn.1.3.bias', 'gen.deconv.0.weight', 'gen.deconv.0.bias', 'dis.backbone.0.cls_token', 'dis.backbone.0.positions', 'dis.backbone.0.projection.1.weight', 'dis.backbone.0.projection.1.bias', 'dis.backbone.1.0.0.fn.0.weight', 'dis.backbone.1.0.0.fn.0.bias', 'dis.backbone.1.0.0.fn.1.keys.weight', 'dis.backbone.1.0.0.fn.1.keys.bias', 'dis.backbone.1.0.0.fn.1.queries.weight', 'dis.backbone.1.0.0.fn.1.queries.bias', 'dis.backbone.1.0.0.fn.1.values.weight', 'dis.backbone.1.0.0.fn.1.values.bias', 'dis.backbone.1.0.0.fn.1.projection.weight', 'dis.backbone.1.0.0.fn.1.projection.bias', 'dis.backbone.1.0.1.fn.0.weight', 'dis.backbone.1.0.1.fn.0.bias', 'dis.backbone.1.0.1.fn.1.0.weight', 'dis.backbone.1.0.1.fn.1.0.bias', 'dis.backbone.1.0.1.fn.1.3.weight', 'dis.backbone.1.0.1.fn.1.3.bias', 'dis.backbone.1.1.0.fn.0.weight', 'dis.backbone.1.1.0.fn.0.bias', 'dis.backbone.1.1.0.fn.1.keys.weight', 'dis.backbone.1.1.0.fn.1.keys.bias', 'dis.backbone.1.1.0.fn.1.queries.weight', 'dis.backbone.1.1.0.fn.1.queries.bias', 'dis.backbone.1.1.0.fn.1.values.weight', 'dis.backbone.1.1.0.fn.1.values.bias', 'dis.backbone.1.1.0.fn.1.projection.weight', 'dis.backbone.1.1.0.fn.1.projection.bias', 'dis.backbone.1.1.1.fn.0.weight', 'dis.backbone.1.1.1.fn.0.bias', 'dis.backbone.1.1.1.fn.1.0.weight', 'dis.backbone.1.1.1.fn.1.0.bias', 'dis.backbone.1.1.1.fn.1.3.weight', 'dis.backbone.1.1.1.fn.1.3.bias', 'dis.backbone.1.2.0.fn.0.weight', 'dis.backbone.1.2.0.fn.0.bias', 'dis.backbone.1.2.0.fn.1.keys.weight', 'dis.backbone.1.2.0.fn.1.keys.bias', 'dis.backbone.1.2.0.fn.1.queries.weight', 'dis.backbone.1.2.0.fn.1.queries.bias', 'dis.backbone.1.2.0.fn.1.values.weight', 'dis.backbone.1.2.0.fn.1.values.bias', 'dis.backbone.1.2.0.fn.1.projection.weight', 'dis.backbone.1.2.0.fn.1.projection.bias', 'dis.backbone.1.2.1.fn.0.weight', 'dis.backbone.1.2.1.fn.0.bias', 'dis.backbone.1.2.1.fn.1.0.weight', 'dis.backbone.1.2.1.fn.1.0.bias', 'dis.backbone.1.2.1.fn.1.3.weight', 'dis.backbone.1.2.1.fn.1.3.bias', 'dis.classification_head.clshead.1.weight', 'dis.classification_head.clshead.1.bias', 'dis.classification_head.clshead.2.weight', 'dis.classification_head.clshead.2.bias'])"
      ]
     },
     "execution_count": 24,
     "metadata": {},
     "output_type": "execute_result"
    }
   ],
   "source": [
    "version = 'version_0'\n",
    "file_path = f'training/ttsgan_minerva/{version}/checkpoints/'\n",
    "ckpt_path = os.listdir(file_path)\n",
    "print(ckpt_path)\n",
    "ckpt = torch.load(file_path + ckpt_path[0])\n",
    "ckpt['state_dict'].keys()"
   ]
  },
  {
   "cell_type": "code",
   "execution_count": 25,
   "metadata": {},
   "outputs": [
    {
     "data": {
      "text/plain": [
       "odict_keys(['backbone.0.cls_token', 'backbone.0.positions', 'backbone.0.projection.1.weight', 'backbone.0.projection.1.bias', 'backbone.1.0.0.fn.0.weight', 'backbone.1.0.0.fn.0.bias', 'backbone.1.0.0.fn.1.keys.weight', 'backbone.1.0.0.fn.1.keys.bias', 'backbone.1.0.0.fn.1.queries.weight', 'backbone.1.0.0.fn.1.queries.bias', 'backbone.1.0.0.fn.1.values.weight', 'backbone.1.0.0.fn.1.values.bias', 'backbone.1.0.0.fn.1.projection.weight', 'backbone.1.0.0.fn.1.projection.bias', 'backbone.1.0.1.fn.0.weight', 'backbone.1.0.1.fn.0.bias', 'backbone.1.0.1.fn.1.0.weight', 'backbone.1.0.1.fn.1.0.bias', 'backbone.1.0.1.fn.1.3.weight', 'backbone.1.0.1.fn.1.3.bias', 'backbone.1.1.0.fn.0.weight', 'backbone.1.1.0.fn.0.bias', 'backbone.1.1.0.fn.1.keys.weight', 'backbone.1.1.0.fn.1.keys.bias', 'backbone.1.1.0.fn.1.queries.weight', 'backbone.1.1.0.fn.1.queries.bias', 'backbone.1.1.0.fn.1.values.weight', 'backbone.1.1.0.fn.1.values.bias', 'backbone.1.1.0.fn.1.projection.weight', 'backbone.1.1.0.fn.1.projection.bias', 'backbone.1.1.1.fn.0.weight', 'backbone.1.1.1.fn.0.bias', 'backbone.1.1.1.fn.1.0.weight', 'backbone.1.1.1.fn.1.0.bias', 'backbone.1.1.1.fn.1.3.weight', 'backbone.1.1.1.fn.1.3.bias', 'backbone.1.2.0.fn.0.weight', 'backbone.1.2.0.fn.0.bias', 'backbone.1.2.0.fn.1.keys.weight', 'backbone.1.2.0.fn.1.keys.bias', 'backbone.1.2.0.fn.1.queries.weight', 'backbone.1.2.0.fn.1.queries.bias', 'backbone.1.2.0.fn.1.values.weight', 'backbone.1.2.0.fn.1.values.bias', 'backbone.1.2.0.fn.1.projection.weight', 'backbone.1.2.0.fn.1.projection.bias', 'backbone.1.2.1.fn.0.weight', 'backbone.1.2.1.fn.0.bias', 'backbone.1.2.1.fn.1.0.weight', 'backbone.1.2.1.fn.1.0.bias', 'backbone.1.2.1.fn.1.3.weight', 'backbone.1.2.1.fn.1.3.bias', 'classification_head.clshead.1.weight', 'classification_head.clshead.1.bias', 'classification_head.clshead.2.weight', 'classification_head.clshead.2.bias'])"
      ]
     },
     "execution_count": 25,
     "metadata": {},
     "output_type": "execute_result"
    }
   ],
   "source": [
    "new_model = GAN(\n",
    "        generator = TTSGAN_Generator(seq_len= 60, channels=6),\n",
    "        discriminator = TTSGAN_Discriminator(seq_len=60, channels=6),\n",
    "        loss_gen = torch.nn.BCELoss(),\n",
    "        loss_dis = torch.nn.BCELoss(),\n",
    "        )\n",
    "\n",
    "new_model.load_state_dict(ckpt['state_dict'])\n",
    "new_model.dis.state_dict().keys()\n"
   ]
  },
  {
   "cell_type": "markdown",
   "metadata": {},
   "source": [
    "##### backbone from tts"
   ]
  },
  {
   "cell_type": "code",
   "execution_count": 41,
   "metadata": {},
   "outputs": [
    {
     "name": "stdout",
     "output_type": "stream",
     "text": [
      "current_path: ../../logs/minerva/UCI_DAGHAR_Multiclass_137694_D_60_6axis_2025_03_17_19_55_47/Model/checkpoint\n"
     ]
    },
    {
     "data": {
      "text/plain": [
       "odict_keys(['0.cls_token', '0.positions', '0.projection.1.weight', '0.projection.1.bias', '1.0.0.fn.0.weight', '1.0.0.fn.0.bias', '1.0.0.fn.1.keys.weight', '1.0.0.fn.1.keys.bias', '1.0.0.fn.1.queries.weight', '1.0.0.fn.1.queries.bias', '1.0.0.fn.1.values.weight', '1.0.0.fn.1.values.bias', '1.0.0.fn.1.projection.weight', '1.0.0.fn.1.projection.bias', '1.0.1.fn.0.weight', '1.0.1.fn.0.bias', '1.0.1.fn.1.0.weight', '1.0.1.fn.1.0.bias', '1.0.1.fn.1.3.weight', '1.0.1.fn.1.3.bias', '1.1.0.fn.0.weight', '1.1.0.fn.0.bias', '1.1.0.fn.1.keys.weight', '1.1.0.fn.1.keys.bias', '1.1.0.fn.1.queries.weight', '1.1.0.fn.1.queries.bias', '1.1.0.fn.1.values.weight', '1.1.0.fn.1.values.bias', '1.1.0.fn.1.projection.weight', '1.1.0.fn.1.projection.bias', '1.1.1.fn.0.weight', '1.1.1.fn.0.bias', '1.1.1.fn.1.0.weight', '1.1.1.fn.1.0.bias', '1.1.1.fn.1.3.weight', '1.1.1.fn.1.3.bias', '1.2.0.fn.0.weight', '1.2.0.fn.0.bias', '1.2.0.fn.1.keys.weight', '1.2.0.fn.1.keys.bias', '1.2.0.fn.1.queries.weight', '1.2.0.fn.1.queries.bias', '1.2.0.fn.1.values.weight', '1.2.0.fn.1.values.bias', '1.2.0.fn.1.projection.weight', '1.2.0.fn.1.projection.bias', '1.2.1.fn.0.weight', '1.2.1.fn.0.bias', '1.2.1.fn.1.0.weight', '1.2.1.fn.1.0.bias', '1.2.1.fn.1.3.weight', '1.2.1.fn.1.3.bias', '2.clshead.1.weight', '2.clshead.1.bias', '2.clshead.2.weight', '2.clshead.2.bias'])"
      ]
     },
     "execution_count": 41,
     "metadata": {},
     "output_type": "execute_result"
    }
   ],
   "source": [
    "ckpt_dir_path = f'../../logs/minerva/'\n",
    "ckpt_list = os.listdir(ckpt_dir_path)\n",
    "version = 0\n",
    "ckpt = torch.load(f'{ckpt_dir_path + ckpt_list[version]}/Model/checkpoint')\n",
    "print(f'current_path: {ckpt_dir_path + ckpt_list[version]}/Model/checkpoint')\n",
    "ckpt['dis_state_dict'].keys()"
   ]
  },
  {
   "cell_type": "code",
   "execution_count": 42,
   "metadata": {},
   "outputs": [
    {
     "data": {
      "text/plain": [
       "tensor([-2.1020,  0.5510,  0.3637, -0.4594, -0.7321, -0.5686,  0.2233,  0.7594,\n",
       "         1.5826, -0.9896], device='cuda:0')"
      ]
     },
     "execution_count": 42,
     "metadata": {},
     "output_type": "execute_result"
    }
   ],
   "source": [
    "ckpt['dis_state_dict']['0.cls_token'][0][0][0:10]"
   ]
  },
  {
   "cell_type": "markdown",
   "metadata": {},
   "source": [
    "New keys from dict should be:\n",
    "['backbone.0.cls_token', 'backbone.0.positions', 'backbone.0.projection.1.weight', 'backbone.0.projection.1.bias', 'backbone.1.0.0.fn.0.weight', 'backbone.1.0.0.fn.0.bias', 'backbone.1.0.0.fn.1.keys.weight', 'backbone.1.0.0.fn.1.keys.bias', 'backbone.1.0.0.fn.1.queries.weight', 'backbone.1.0.0.fn.1.queries.bias', 'backbone.1.0.0.fn.1.values.weight', 'backbone.1.0.0.fn.1.values.bias', 'backbone.1.0.0.fn.1.projection.weight', 'backbone.1.0.0.fn.1.projection.bias', 'backbone.1.0.1.fn.0.weight', 'backbone.1.0.1.fn.0.bias', 'backbone.1.0.1.fn.1.0.weight', 'backbone.1.0.1.fn.1.0.bias', 'backbone.1.0.1.fn.1.3.weight', 'backbone.1.0.1.fn.1.3.bias', 'backbone.1.1.0.fn.0.weight', 'backbone.1.1.0.fn.0.bias', 'backbone.1.1.0.fn.1.keys.weight', 'backbone.1.1.0.fn.1.keys.bias', 'backbone.1.1.0.fn.1.queries.weight', 'backbone.1.1.0.fn.1.queries.bias', 'backbone.1.1.0.fn.1.values.weight', 'backbone.1.1.0.fn.1.values.bias', 'backbone.1.1.0.fn.1.projection.weight', 'backbone.1.1.0.fn.1.projection.bias', 'backbone.1.1.1.fn.0.weight', 'backbone.1.1.1.fn.0.bias', 'backbone.1.1.1.fn.1.0.weight', 'backbone.1.1.1.fn.1.0.bias', 'backbone.1.1.1.fn.1.3.weight', 'backbone.1.1.1.fn.1.3.bias', 'backbone.1.2.0.fn.0.weight', 'backbone.1.2.0.fn.0.bias', 'backbone.1.2.0.fn.1.keys.weight', 'backbone.1.2.0.fn.1.keys.bias', 'backbone.1.2.0.fn.1.queries.weight', 'backbone.1.2.0.fn.1.queries.bias', 'backbone.1.2.0.fn.1.values.weight', 'backbone.1.2.0.fn.1.values.bias', 'backbone.1.2.0.fn.1.projection.weight', 'backbone.1.2.0.fn.1.projection.bias', 'backbone.1.2.1.fn.0.weight', 'backbone.1.2.1.fn.0.bias', 'backbone.1.2.1.fn.1.0.weight', 'backbone.1.2.1.fn.1.0.bias', 'backbone.1.2.1.fn.1.3.weight', 'backbone.1.2.1.fn.1.3.bias', 'classification_head.clshead.1.weight', 'classification_head.clshead.1.bias', 'classification_head.clshead.2.weight', 'classification_head.clshead.2.bias']\n",
    "\n",
    "old keys is:\n",
    "['0.cls_token', '0.positions', '0.projection.1.weight', '0.projection.1.bias', '1.0.0.fn.0.weight', '1.0.0.fn.0.bias', '1.0.0.fn.1.keys.weight', '1.0.0.fn.1.keys.bias', '1.0.0.fn.1.queries.weight', '1.0.0.fn.1.queries.bias', '1.0.0.fn.1.values.weight', '1.0.0.fn.1.values.bias', '1.0.0.fn.1.projection.weight', '1.0.0.fn.1.projection.bias', '1.0.1.fn.0.weight', '1.0.1.fn.0.bias', '1.0.1.fn.1.0.weight', '1.0.1.fn.1.0.bias', '1.0.1.fn.1.3.weight', '1.0.1.fn.1.3.bias', '1.1.0.fn.0.weight', '1.1.0.fn.0.bias', '1.1.0.fn.1.keys.weight', '1.1.0.fn.1.keys.bias', '1.1.0.fn.1.queries.weight', '1.1.0.fn.1.queries.bias', '1.1.0.fn.1.values.weight', '1.1.0.fn.1.values.bias', '1.1.0.fn.1.projection.weight', '1.1.0.fn.1.projection.bias', '1.1.1.fn.0.weight', '1.1.1.fn.0.bias', '1.1.1.fn.1.0.weight', '1.1.1.fn.1.0.bias', '1.1.1.fn.1.3.weight', '1.1.1.fn.1.3.bias', '1.2.0.fn.0.weight', '1.2.0.fn.0.bias', '1.2.0.fn.1.keys.weight', '1.2.0.fn.1.keys.bias', '1.2.0.fn.1.queries.weight', '1.2.0.fn.1.queries.bias', '1.2.0.fn.1.values.weight', '1.2.0.fn.1.values.bias', '1.2.0.fn.1.projection.weight', '1.2.0.fn.1.projection.bias', '1.2.1.fn.0.weight', '1.2.1.fn.0.bias', '1.2.1.fn.1.0.weight', '1.2.1.fn.1.0.bias', '1.2.1.fn.1.3.weight', '1.2.1.fn.1.3.bias', '2.clshead.1.weight', '2.clshead.1.bias', '2.clshead.2.weight', '2.clshead.2.bias']"
   ]
  },
  {
   "cell_type": "code",
   "execution_count": 43,
   "metadata": {},
   "outputs": [
    {
     "name": "stdout",
     "output_type": "stream",
     "text": [
      "original keys: odict_keys(['0.cls_token', '0.positions', '0.projection.1.weight', '0.projection.1.bias', '1.0.0.fn.0.weight', '1.0.0.fn.0.bias', '1.0.0.fn.1.keys.weight', '1.0.0.fn.1.keys.bias', '1.0.0.fn.1.queries.weight', '1.0.0.fn.1.queries.bias', '1.0.0.fn.1.values.weight', '1.0.0.fn.1.values.bias', '1.0.0.fn.1.projection.weight', '1.0.0.fn.1.projection.bias', '1.0.1.fn.0.weight', '1.0.1.fn.0.bias', '1.0.1.fn.1.0.weight', '1.0.1.fn.1.0.bias', '1.0.1.fn.1.3.weight', '1.0.1.fn.1.3.bias', '1.1.0.fn.0.weight', '1.1.0.fn.0.bias', '1.1.0.fn.1.keys.weight', '1.1.0.fn.1.keys.bias', '1.1.0.fn.1.queries.weight', '1.1.0.fn.1.queries.bias', '1.1.0.fn.1.values.weight', '1.1.0.fn.1.values.bias', '1.1.0.fn.1.projection.weight', '1.1.0.fn.1.projection.bias', '1.1.1.fn.0.weight', '1.1.1.fn.0.bias', '1.1.1.fn.1.0.weight', '1.1.1.fn.1.0.bias', '1.1.1.fn.1.3.weight', '1.1.1.fn.1.3.bias', '1.2.0.fn.0.weight', '1.2.0.fn.0.bias', '1.2.0.fn.1.keys.weight', '1.2.0.fn.1.keys.bias', '1.2.0.fn.1.queries.weight', '1.2.0.fn.1.queries.bias', '1.2.0.fn.1.values.weight', '1.2.0.fn.1.values.bias', '1.2.0.fn.1.projection.weight', '1.2.0.fn.1.projection.bias', '1.2.1.fn.0.weight', '1.2.1.fn.0.bias', '1.2.1.fn.1.0.weight', '1.2.1.fn.1.0.bias', '1.2.1.fn.1.3.weight', '1.2.1.fn.1.3.bias', '2.clshead.1.weight', '2.clshead.1.bias', '2.clshead.2.weight', '2.clshead.2.bias'])\n",
      "after key check: dict_keys(['backbone.0.cls_token', 'backbone.0.positions', 'backbone.0.projection.1.weight', 'backbone.0.projection.1.bias', 'backbone.1.0.0.fn.0.weight', 'backbone.1.0.0.fn.0.bias', 'backbone.1.0.0.fn.1.keys.weight', 'backbone.1.0.0.fn.1.keys.bias', 'backbone.1.0.0.fn.1.queries.weight', 'backbone.1.0.0.fn.1.queries.bias', 'backbone.1.0.0.fn.1.values.weight', 'backbone.1.0.0.fn.1.values.bias', 'backbone.1.0.0.fn.1.projection.weight', 'backbone.1.0.0.fn.1.projection.bias', 'backbone.1.0.1.fn.0.weight', 'backbone.1.0.1.fn.0.bias', 'backbone.1.0.1.fn.1.0.weight', 'backbone.1.0.1.fn.1.0.bias', 'backbone.1.0.1.fn.1.3.weight', 'backbone.1.0.1.fn.1.3.bias', 'backbone.1.1.0.fn.0.weight', 'backbone.1.1.0.fn.0.bias', 'backbone.1.1.0.fn.1.keys.weight', 'backbone.1.1.0.fn.1.keys.bias', 'backbone.1.1.0.fn.1.queries.weight', 'backbone.1.1.0.fn.1.queries.bias', 'backbone.1.1.0.fn.1.values.weight', 'backbone.1.1.0.fn.1.values.bias', 'backbone.1.1.0.fn.1.projection.weight', 'backbone.1.1.0.fn.1.projection.bias', 'backbone.1.1.1.fn.0.weight', 'backbone.1.1.1.fn.0.bias', 'backbone.1.1.1.fn.1.0.weight', 'backbone.1.1.1.fn.1.0.bias', 'backbone.1.1.1.fn.1.3.weight', 'backbone.1.1.1.fn.1.3.bias', 'backbone.1.2.0.fn.0.weight', 'backbone.1.2.0.fn.0.bias', 'backbone.1.2.0.fn.1.keys.weight', 'backbone.1.2.0.fn.1.keys.bias', 'backbone.1.2.0.fn.1.queries.weight', 'backbone.1.2.0.fn.1.queries.bias', 'backbone.1.2.0.fn.1.values.weight', 'backbone.1.2.0.fn.1.values.bias', 'backbone.1.2.0.fn.1.projection.weight', 'backbone.1.2.0.fn.1.projection.bias', 'backbone.1.2.1.fn.0.weight', 'backbone.1.2.1.fn.0.bias', 'backbone.1.2.1.fn.1.0.weight', 'backbone.1.2.1.fn.1.0.bias', 'backbone.1.2.1.fn.1.3.weight', 'backbone.1.2.1.fn.1.3.bias', 'classification_head.clshead.1.weight', 'classification_head.clshead.1.bias', 'classification_head.clshead.2.weight', 'classification_head.clshead.2.bias'])\n",
      "\n",
      "are they compatible with the model now? True\n",
      "done\n"
     ]
    }
   ],
   "source": [
    "keys = ckpt[\"dis_state_dict\"].keys()\n",
    "print(f'original keys: {keys}')\n",
    "new_ckpt = {'dis_state_dict': {}}\n",
    "\n",
    "list_of_new_keys_in_order = ['backbone.0.cls_token', 'backbone.0.positions', 'backbone.0.projection.1.weight', 'backbone.0.projection.1.bias', 'backbone.1.0.0.fn.0.weight', 'backbone.1.0.0.fn.0.bias', 'backbone.1.0.0.fn.1.keys.weight', 'backbone.1.0.0.fn.1.keys.bias', 'backbone.1.0.0.fn.1.queries.weight', 'backbone.1.0.0.fn.1.queries.bias', 'backbone.1.0.0.fn.1.values.weight', 'backbone.1.0.0.fn.1.values.bias', 'backbone.1.0.0.fn.1.projection.weight', 'backbone.1.0.0.fn.1.projection.bias', 'backbone.1.0.1.fn.0.weight', 'backbone.1.0.1.fn.0.bias', 'backbone.1.0.1.fn.1.0.weight', 'backbone.1.0.1.fn.1.0.bias', 'backbone.1.0.1.fn.1.3.weight', 'backbone.1.0.1.fn.1.3.bias', 'backbone.1.1.0.fn.0.weight', 'backbone.1.1.0.fn.0.bias', 'backbone.1.1.0.fn.1.keys.weight', 'backbone.1.1.0.fn.1.keys.bias', 'backbone.1.1.0.fn.1.queries.weight', 'backbone.1.1.0.fn.1.queries.bias', 'backbone.1.1.0.fn.1.values.weight', 'backbone.1.1.0.fn.1.values.bias', 'backbone.1.1.0.fn.1.projection.weight', 'backbone.1.1.0.fn.1.projection.bias', 'backbone.1.1.1.fn.0.weight', 'backbone.1.1.1.fn.0.bias', 'backbone.1.1.1.fn.1.0.weight', 'backbone.1.1.1.fn.1.0.bias', 'backbone.1.1.1.fn.1.3.weight', 'backbone.1.1.1.fn.1.3.bias', 'backbone.1.2.0.fn.0.weight', 'backbone.1.2.0.fn.0.bias', 'backbone.1.2.0.fn.1.keys.weight', 'backbone.1.2.0.fn.1.keys.bias', 'backbone.1.2.0.fn.1.queries.weight', 'backbone.1.2.0.fn.1.queries.bias', 'backbone.1.2.0.fn.1.values.weight', 'backbone.1.2.0.fn.1.values.bias', 'backbone.1.2.0.fn.1.projection.weight', 'backbone.1.2.0.fn.1.projection.bias', 'backbone.1.2.1.fn.0.weight', 'backbone.1.2.1.fn.0.bias', 'backbone.1.2.1.fn.1.0.weight', 'backbone.1.2.1.fn.1.0.bias', 'backbone.1.2.1.fn.1.3.weight', 'backbone.1.2.1.fn.1.3.bias', 'classification_head.clshead.1.weight', 'classification_head.clshead.1.bias', 'classification_head.clshead.2.weight', 'classification_head.clshead.2.bias']\n",
    "list_of_old_keys_in_order = ['0.cls_token', '0.positions', '0.projection.1.weight', '0.projection.1.bias', '1.0.0.fn.0.weight', '1.0.0.fn.0.bias', '1.0.0.fn.1.keys.weight', '1.0.0.fn.1.keys.bias', '1.0.0.fn.1.queries.weight', '1.0.0.fn.1.queries.bias', '1.0.0.fn.1.values.weight', '1.0.0.fn.1.values.bias', '1.0.0.fn.1.projection.weight', '1.0.0.fn.1.projection.bias', '1.0.1.fn.0.weight', '1.0.1.fn.0.bias', '1.0.1.fn.1.0.weight', '1.0.1.fn.1.0.bias', '1.0.1.fn.1.3.weight', '1.0.1.fn.1.3.bias', '1.1.0.fn.0.weight', '1.1.0.fn.0.bias', '1.1.0.fn.1.keys.weight', '1.1.0.fn.1.keys.bias', '1.1.0.fn.1.queries.weight', '1.1.0.fn.1.queries.bias', '1.1.0.fn.1.values.weight', '1.1.0.fn.1.values.bias', '1.1.0.fn.1.projection.weight', '1.1.0.fn.1.projection.bias', '1.1.1.fn.0.weight', '1.1.1.fn.0.bias', '1.1.1.fn.1.0.weight', '1.1.1.fn.1.0.bias', '1.1.1.fn.1.3.weight', '1.1.1.fn.1.3.bias', '1.2.0.fn.0.weight', '1.2.0.fn.0.bias', '1.2.0.fn.1.keys.weight', '1.2.0.fn.1.keys.bias', '1.2.0.fn.1.queries.weight', '1.2.0.fn.1.queries.bias', '1.2.0.fn.1.values.weight', '1.2.0.fn.1.values.bias', '1.2.0.fn.1.projection.weight', '1.2.0.fn.1.projection.bias', '1.2.1.fn.0.weight', '1.2.1.fn.0.bias', '1.2.1.fn.1.0.weight', '1.2.1.fn.1.0.bias', '1.2.1.fn.1.3.weight', '1.2.1.fn.1.3.bias', '2.clshead.1.weight', '2.clshead.1.bias', '2.clshead.2.weight', '2.clshead.2.bias']\n",
    "for i, key in enumerate(keys):\n",
    "    new_key = list_of_new_keys_in_order[i]\n",
    "    new_ckpt['dis_state_dict'][new_key] = ckpt['dis_state_dict'][key]\n",
    "\n",
    "print(f'after key check: {new_ckpt[\"dis_state_dict\"].keys()}')\n",
    "print(f'\\nare they compatible with the model now? {list(new_ckpt[\"dis_state_dict\"].keys()) == list(new_model.dis.state_dict().keys())}')\n",
    "\n",
    "if os.path.isdir(f'backbones/{version}') == False:\n",
    "    os.mkdir(f'backbones/{version}')\n",
    "torch.save(new_ckpt, f'backbones/{version}/final.ckpt')\n",
    "shutil.copy(f'{ckpt_dir_path + ckpt_list[version]}/Model/checkpoint', f'backbones/{version}/original.ckpt')\n",
    "print('done')"
   ]
  },
  {
   "cell_type": "markdown",
   "metadata": {},
   "source": [
    "#### See KNN training"
   ]
  },
  {
   "cell_type": "code",
   "execution_count": 45,
   "metadata": {},
   "outputs": [],
   "source": [
    "import csv\n",
    "\n",
    "def extract_losses(file_path):\n",
    "    knn_validation = []\n",
    "\n",
    "    with open(file_path, 'r') as file:\n",
    "        reader = csv.DictReader(file)\n",
    "        for row in reader:\n",
    "            if 'knn_accuracy' in row and row['knn_accuracy']:\n",
    "                knn_validation.append(float(row['knn_accuracy']))\n",
    "\n",
    "        return knn_validation"
   ]
  },
  {
   "cell_type": "code",
   "execution_count": 54,
   "metadata": {},
   "outputs": [
    {
     "name": "stdout",
     "output_type": "stream",
     "text": [
      "knn loss [0.24451620876789093, 0.46634888648986816, 0.45751067996025085, 0.4716678559780121, 0.49316197633743286, 0.4999554455280304, 0.5298534631729126, 0.5301117897033691, 0.5170883536338806, 0.5237460136413574, 0.5248262882232666, 0.5406004786491394, 0.5562321543693542, 0.5414023399353027, 0.5282297134399414, 0.5165382027626038, 0.5123329758644104, 0.5149077773094177, 0.5155871510505676, 0.5195273756980896, 0.5067489147186279, 0.5006281137466431, 0.5002338886260986, 0.5393710136413574, 0.5218572020530701, 0.5158588886260986, 0.5130189657211304, 0.5206477046012878, 0.5320206880569458, 0.5251180529594421, 0.5164090394973755, 0.5190039277076721, 0.4934737980365753, 0.5010290741920471, 0.49778154492378235, 0.5014500021934509, 0.4847247004508972, 0.5008174180984497, 0.49016615748405457, 0.49573013186454773, 0.4828425645828247, 0.476715087890625, 0.4753430187702179, 0.48013854026794434, 0.4944048523902893, 0.48610344529151917, 0.4893442690372467, 0.48511895537376404, 0.48230576515197754, 0.5025436282157898, 0.5237526893615723, 0.5131615400314331, 0.5033589005470276, 0.4919458329677582, 0.5045750141143799, 0.5059403777122498, 0.5251180529594421, 0.5327267646789551, 0.521727979183197, 0.5377606153488159, 0.5218638777732849, 0.5287664532661438, 0.5225098133087158, 0.5264633893966675, 0.5221289396286011, 0.5154512524604797, 0.5124821662902832, 0.5076866745948792, 0.5059403777122498, 0.509867250919342, 0.5037598013877869, 0.4966745376586914, 0.5014500021934509, 0.49627360701560974, 0.49111056327819824, 0.4852614998817444, 0.48431041836738586, 0.49517327547073364, 0.48755791783332825, 0.4760023057460785, 0.4864709675312042, 0.4651327431201935, 0.47681084275245667, 0.478971391916275, 0.46905291080474854, 0.46948057413101196, 0.4763965606689453, 0.47596222162246704, 0.48686519265174866, 0.4747728109359741, 0.47926318645477295, 0.47640323638916016, 0.48224562406539917, 0.46597468852996826, 0.47888898849487305, 0.4774901866912842, 0.4819805920124054, 0.48618584871292114, 0.4939504563808441, 0.48713693022727966, 0.4901528060436249, 0.4942155182361603, 0.4921908378601074, 0.4757372736930847, 0.4860433042049408, 0.48414111137390137, 0.4908120930194855, 0.49515992403030396, 0.48579829931259155, 0.5014166235923767, 0.5015324354171753, 0.49123308062553406, 0.5003162622451782, 0.49663445353507996, 0.49351611733436584, 0.48685184121131897, 0.487938791513443, 0.4927009046077728, 0.4898877441883087, 0.49788400530815125, 0.4882305860519409, 0.4933735728263855, 0.49529579281806946, 0.48973849415779114, 0.48439282178878784, 0.4994876980781555, 0.4797999858856201, 0.48743540048599243, 0.487007737159729, 0.4920549690723419, 0.48564237356185913, 0.4847247004508972, 0.4910504221916199, 0.48971179127693176, 0.5014166235923767, 0.49490153789520264, 0.4897518754005432, 0.48010513186454773, 0.49164068698883057, 0.49913355708122253, 0.48960933089256287, 0.49764567613601685, 0.49054035544395447, 0.5076866745948792, 0.4890524744987488, 0.4944872558116913, 0.5011782646179199, 0.4877138137817383, 0.4823814928531647, 0.4968237578868866, 0.5026795268058777, 0.49774813652038574, 0.49165403842926025, 0.5055127143859863, 0.4889366626739502, 0.49380791187286377, 0.5049826502799988, 0.4914981424808502, 0.4890591502189636, 0.5000646114349365, 0.49791741371154785, 0.4940997064113617, 0.5089161396026611, 0.4994186460971832, 0.4960152208805084, 0.5036038756370544, 0.4971979558467865, 0.5093171000480652, 0.49165403842926025, 0.5041473507881165, 0.5045950412750244, 0.5044525265693665, 0.5170816779136658, 0.5051051378250122, 0.5150637030601501, 0.5085285902023315, 0.5245344638824463, 0.5139299631118774, 0.5154445767402649, 0.5024077892303467, 0.5056887269020081, 0.5179036259651184, 0.5111034512519836, 0.518705427646637, 0.5176184773445129, 0.5196698904037476, 0.5240110754966736, 0.5237259268760681, 0.5292965769767761, 0.524133563041687, 0.5282096266746521, 0.5269801020622253, 0.5385558009147644, 0.5243785381317139, 0.5337802767753601, 0.5258998870849609, 0.528759777545929, 0.5340453386306763, 0.525763988494873, 0.5321565270423889, 0.5288956761360168, 0.514221727848053, 0.530519425868988, 0.5428902506828308, 0.5048334002494812, 0.5294458270072937, 0.5332702398300171, 0.5449483394622803, 0.5381615161895752, 0.5323057770729065, 0.5554303526878357, 0.5560896396636963, 0.5543233156204224, 0.5502405762672424, 0.5486101508140564, 0.5445340275764465, 0.5400570034980774, 0.5355599522590637, 0.5320206880569458, 0.5248196125030518, 0.5238818526268005, 0.5267418026924133, 0.5288065671920776, 0.518059492111206, 0.5283989906311035, 0.5251447558403015, 0.5218905806541443, 0.516972541809082, 0.5217079520225525, 0.5137050151824951, 0.5029712915420532, 0.48584505915641785, 0.4748463034629822, 0.4547109007835388, 0.44206833839416504, 0.4211243689060211, 0.40386226773262024, 0.3950307369232178, 0.38781628012657166, 0.40657296776771545, 0.45170170068740845, 0.4688279628753662, 0.482285737991333, 0.49341365694999695, 0.4972180128097534, 0.49764567613601685, 0.4989910125732422, 0.49561432003974915, 0.4942489266395569, 0.49436476826667786, 0.4924759566783905, 0.4916473627090454, 0.4915248453617096, 0.4862259328365326, 0.4856824576854706, 0.4859408438205719, 0.48444628715515137, 0.483100950717926, 0.4847180247306824, 0.4875779449939728, 0.4806552827358246, 0.4822790324687958, 0.48132795095443726, 0.47276148200035095, 0.4689638316631317, 0.4556419253349304, 0.4459885060787201, 0.44340699911117554, 0.4400169253349304, 0.4351055920124054, 0.4189437925815582, 0.40698057413101196, 0.3774501085281372, 0.3593994975090027, 0.3452623784542084, 0.32243630290031433, 0.3074639141559601, 0.3085642457008362, 0.2861056625843048, 0.2706299126148224, 0.25459060072898865, 0.2495567500591278, 0.25471311807632446, 0.2506236732006073, 0.2542921304702759, 0.24723359942436218, 0.24587491154670715, 0.2521249055862427, 0.28093594312667847, 0.2801274061203003, 0.271560937166214, 0.28909480571746826, 0.3101746141910553, 0.3003920316696167, 0.28937989473342896, 0.30094218254089355, 0.31031718850135803, 0.30418968200683594, 0.2877494692802429, 0.2982047498226166]\n"
     ]
    },
    {
     "data": {
      "image/png": "[encoded data removed]",
      "text/plain": [
       "<Figure size 1000x500 with 1 Axes>"
      ]
     },
     "metadata": {},
     "output_type": "display_data"
    }
   ],
   "source": [
    "file_path = f'./training/ttsgan_minerva/version_1/metrics.csv'\n",
    "knn_loss  = extract_losses(file_path)\n",
    "print(\"knn loss\", knn_loss)\n",
    "import matplotlib.pyplot as plt\n",
    "\n",
    "# Criar uma lista de índices de 0 a 100\n",
    "indices = list(range(len(knn_loss)))\n",
    "\n",
    "# Criar o gráfico\n",
    "plt.figure(figsize=(10, 5))\n",
    "plt.plot(indices, knn_loss, marker='o', linestyle='-', color='b', label='KNN Loss')\n",
    "plt.xlabel('Índice')\n",
    "plt.ylabel('Loss')\n",
    "plt.title('Gráfico de Loss do KNN')\n",
    "plt.legend()\n",
    "plt.grid(True)\n",
    "plt.ylim(0, 1)  # Ajustar o limite do eixo y para melhor visualização\n",
    "\n",
    "# Mostrar o gráfico\n",
    "plt.show()"
   ]
  },
  {
   "cell_type": "markdown",
   "metadata": {},
   "source": [
    "#### Ver gif"
   ]
  },
  {
   "cell_type": "code",
   "execution_count": 8,
   "metadata": {},
   "outputs": [],
   "source": [
    "import re\n",
    "import os\n",
    "from PIL import Image\n",
    "\n",
    "def numerical_sort(value):\n",
    "    \"\"\"\n",
    "    Custom sort function to sort filenames with numerical values correctly.\n",
    "    \"\"\"\n",
    "    numbers = re.findall(r'\\d+', value)\n",
    "    return int(numbers[0]) if numbers else 0\n",
    "\n",
    "def create_gif(image_paths, output_gif_path, duration=500):\n",
    "    images = [Image.open(image_path) for image_path in image_paths]\n",
    "    # Save as GIF\n",
    "    images[0].save(\n",
    "        f'{output_gif_path}/tsne.gif',\n",
    "        save_all=True,\n",
    "        append_images=images[1:],            \n",
    "        duration=duration,\n",
    "        loop=0  # 0 means infinite loop\n",
    "    )  "
   ]
  },
  {
   "cell_type": "code",
   "execution_count": 9,
   "metadata": {},
   "outputs": [],
   "source": [
    "image_save_dir = './training/ttsgan_minerva/version_5/tsne/generator'\n",
    "\n",
    "image_files = sorted(os.listdir(image_save_dir), key=numerical_sort)\n",
    "image_paths = [os.path.join(image_save_dir, file_name) for file_name in image_files if file_name.endswith('.png')]\n",
    "\n",
    "create_gif(image_paths, image_save_dir, duration=200)"
   ]
  }
 ],
 "metadata": {
  "kernelspec": {
   "display_name": "Python 3",
   "language": "python",
   "name": "python3"
  },
  "language_info": {
   "codemirror_mode": {
    "name": "ipython",
    "version": 3
   },
   "file_extension": ".py",
   "mimetype": "text/x-python",
   "name": "python",
   "nbconvert_exporter": "python",
   "pygments_lexer": "ipython3",
   "version": "3.10.6"
  }
 },
 "nbformat": 4,
 "nbformat_minor": 2
}
