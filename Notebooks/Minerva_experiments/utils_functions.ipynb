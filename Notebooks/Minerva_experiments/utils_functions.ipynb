{
 "cells": [
  {
   "cell_type": "code",
   "execution_count": 2,
   "metadata": {},
   "outputs": [
    {
     "name": "stderr",
     "output_type": "stream",
     "text": [
      "/usr/local/lib/python3.10/dist-packages/_distutils_hack/__init__.py:53: UserWarning: Reliance on distutils from stdlib is deprecated. Users must rely on setuptools to provide the distutils module. Avoid importing distutils or import setuptools first, and avoid setting SETUPTOOLS_USE_DISTUTILS=stdlib. Register concerns at https://github.com/pypa/setuptools/issues/new?template=distutils-deprecation.yml\n",
      "  warnings.warn(\n",
      "/usr/local/lib/python3.10/dist-packages/tqdm/auto.py:21: TqdmWarning: IProgress not found. Please update jupyter and ipywidgets. See https://ipywidgets.readthedocs.io/en/stable/user_install.html\n",
      "  from .autonotebook import tqdm as notebook_tqdm\n"
     ]
    }
   ],
   "source": [
    "import torch\n",
    "import os\n",
    "import shutil\n",
    "import numpy as np\n",
    "import csv\n",
    "from scipy.signal import find_peaks\n",
    "import matplotlib.pyplot as plt\n",
    "\n",
    "from minerva.models.nets.time_series.gans import TTSGAN_Generator, TTSGAN_Discriminator, TTSGAN_Encoder, GAN"
   ]
  },
  {
   "cell_type": "markdown",
   "metadata": {},
   "source": [
    "### Fixing backbone state dict"
   ]
  },
  {
   "cell_type": "markdown",
   "metadata": {},
   "source": [
    "#### backbone untrained "
   ]
  },
  {
   "cell_type": "code",
   "execution_count": 6,
   "metadata": {},
   "outputs": [
    {
     "name": "stdout",
     "output_type": "stream",
     "text": [
      "done\n",
      "done\n",
      "done\n",
      "done\n",
      "done\n"
     ]
    }
   ],
   "source": [
    "for i in range(5):\n",
    "    root_path = f\"./backbones/{i}/experiment_1_untrained\"\n",
    "    encoder = TTSGAN_Encoder(seq_len=60, channels=6)\n",
    "    if not os.path.isdir(root_path):\n",
    "        os.mkdir(root_path)\n",
    "    torch.save(encoder.state_dict(), f\"{root_path}/final.ckpt\")\n",
    "    print('done')"
   ]
  },
  {
   "cell_type": "code",
   "execution_count": 7,
   "metadata": {},
   "outputs": [
    {
     "name": "stdout",
     "output_type": "stream",
     "text": [
      "------------------\n"
     ]
    },
    {
     "name": "stdout",
     "output_type": "stream",
     "text": [
      "./backbones/1/experiment_1_untrained\n",
      "odict_keys(['0.cls_token', '0.positions', '0.projection.1.weight', '0.projection.1.bias', '1.0.0.fn.0.weight', '1.0.0.fn.0.bias', '1.0.0.fn.1.keys.weight', '1.0.0.fn.1.keys.bias', '1.0.0.fn.1.queries.weight', '1.0.0.fn.1.queries.bias', '1.0.0.fn.1.values.weight', '1.0.0.fn.1.values.bias', '1.0.0.fn.1.projection.weight', '1.0.0.fn.1.projection.bias', '1.0.1.fn.0.weight', '1.0.1.fn.0.bias', '1.0.1.fn.1.0.weight', '1.0.1.fn.1.0.bias', '1.0.1.fn.1.3.weight', '1.0.1.fn.1.3.bias', '1.1.0.fn.0.weight', '1.1.0.fn.0.bias', '1.1.0.fn.1.keys.weight', '1.1.0.fn.1.keys.bias', '1.1.0.fn.1.queries.weight', '1.1.0.fn.1.queries.bias', '1.1.0.fn.1.values.weight', '1.1.0.fn.1.values.bias', '1.1.0.fn.1.projection.weight', '1.1.0.fn.1.projection.bias', '1.1.1.fn.0.weight', '1.1.1.fn.0.bias', '1.1.1.fn.1.0.weight', '1.1.1.fn.1.0.bias', '1.1.1.fn.1.3.weight', '1.1.1.fn.1.3.bias', '1.2.0.fn.0.weight', '1.2.0.fn.0.bias', '1.2.0.fn.1.keys.weight', '1.2.0.fn.1.keys.bias', '1.2.0.fn.1.queries.weight', '1.2.0.fn.1.queries.bias', '1.2.0.fn.1.values.weight', '1.2.0.fn.1.values.bias', '1.2.0.fn.1.projection.weight', '1.2.0.fn.1.projection.bias', '1.2.1.fn.0.weight', '1.2.1.fn.0.bias', '1.2.1.fn.1.0.weight', '1.2.1.fn.1.0.bias', '1.2.1.fn.1.3.weight', '1.2.1.fn.1.3.bias'])\n",
      "------------------\n",
      "./backbones/2/experiment_1_untrained\n",
      "odict_keys(['0.cls_token', '0.positions', '0.projection.1.weight', '0.projection.1.bias', '1.0.0.fn.0.weight', '1.0.0.fn.0.bias', '1.0.0.fn.1.keys.weight', '1.0.0.fn.1.keys.bias', '1.0.0.fn.1.queries.weight', '1.0.0.fn.1.queries.bias', '1.0.0.fn.1.values.weight', '1.0.0.fn.1.values.bias', '1.0.0.fn.1.projection.weight', '1.0.0.fn.1.projection.bias', '1.0.1.fn.0.weight', '1.0.1.fn.0.bias', '1.0.1.fn.1.0.weight', '1.0.1.fn.1.0.bias', '1.0.1.fn.1.3.weight', '1.0.1.fn.1.3.bias', '1.1.0.fn.0.weight', '1.1.0.fn.0.bias', '1.1.0.fn.1.keys.weight', '1.1.0.fn.1.keys.bias', '1.1.0.fn.1.queries.weight', '1.1.0.fn.1.queries.bias', '1.1.0.fn.1.values.weight', '1.1.0.fn.1.values.bias', '1.1.0.fn.1.projection.weight', '1.1.0.fn.1.projection.bias', '1.1.1.fn.0.weight', '1.1.1.fn.0.bias', '1.1.1.fn.1.0.weight', '1.1.1.fn.1.0.bias', '1.1.1.fn.1.3.weight', '1.1.1.fn.1.3.bias', '1.2.0.fn.0.weight', '1.2.0.fn.0.bias', '1.2.0.fn.1.keys.weight', '1.2.0.fn.1.keys.bias', '1.2.0.fn.1.queries.weight', '1.2.0.fn.1.queries.bias', '1.2.0.fn.1.values.weight', '1.2.0.fn.1.values.bias', '1.2.0.fn.1.projection.weight', '1.2.0.fn.1.projection.bias', '1.2.1.fn.0.weight', '1.2.1.fn.0.bias', '1.2.1.fn.1.0.weight', '1.2.1.fn.1.0.bias', '1.2.1.fn.1.3.weight', '1.2.1.fn.1.3.bias'])\n",
      "------------------\n",
      "./backbones/0/experiment_1_untrained\n",
      "odict_keys(['0.cls_token', '0.positions', '0.projection.1.weight', '0.projection.1.bias', '1.0.0.fn.0.weight', '1.0.0.fn.0.bias', '1.0.0.fn.1.keys.weight', '1.0.0.fn.1.keys.bias', '1.0.0.fn.1.queries.weight', '1.0.0.fn.1.queries.bias', '1.0.0.fn.1.values.weight', '1.0.0.fn.1.values.bias', '1.0.0.fn.1.projection.weight', '1.0.0.fn.1.projection.bias', '1.0.1.fn.0.weight', '1.0.1.fn.0.bias', '1.0.1.fn.1.0.weight', '1.0.1.fn.1.0.bias', '1.0.1.fn.1.3.weight', '1.0.1.fn.1.3.bias', '1.1.0.fn.0.weight', '1.1.0.fn.0.bias', '1.1.0.fn.1.keys.weight', '1.1.0.fn.1.keys.bias', '1.1.0.fn.1.queries.weight', '1.1.0.fn.1.queries.bias', '1.1.0.fn.1.values.weight', '1.1.0.fn.1.values.bias', '1.1.0.fn.1.projection.weight', '1.1.0.fn.1.projection.bias', '1.1.1.fn.0.weight', '1.1.1.fn.0.bias', '1.1.1.fn.1.0.weight', '1.1.1.fn.1.0.bias', '1.1.1.fn.1.3.weight', '1.1.1.fn.1.3.bias', '1.2.0.fn.0.weight', '1.2.0.fn.0.bias', '1.2.0.fn.1.keys.weight', '1.2.0.fn.1.keys.bias', '1.2.0.fn.1.queries.weight', '1.2.0.fn.1.queries.bias', '1.2.0.fn.1.values.weight', '1.2.0.fn.1.values.bias', '1.2.0.fn.1.projection.weight', '1.2.0.fn.1.projection.bias', '1.2.1.fn.0.weight', '1.2.1.fn.0.bias', '1.2.1.fn.1.0.weight', '1.2.1.fn.1.0.bias', '1.2.1.fn.1.3.weight', '1.2.1.fn.1.3.bias'])\n",
      "------------------\n",
      "./backbones/3/experiment_1_untrained\n",
      "odict_keys(['0.cls_token', '0.positions', '0.projection.1.weight', '0.projection.1.bias', '1.0.0.fn.0.weight', '1.0.0.fn.0.bias', '1.0.0.fn.1.keys.weight', '1.0.0.fn.1.keys.bias', '1.0.0.fn.1.queries.weight', '1.0.0.fn.1.queries.bias', '1.0.0.fn.1.values.weight', '1.0.0.fn.1.values.bias', '1.0.0.fn.1.projection.weight', '1.0.0.fn.1.projection.bias', '1.0.1.fn.0.weight', '1.0.1.fn.0.bias', '1.0.1.fn.1.0.weight', '1.0.1.fn.1.0.bias', '1.0.1.fn.1.3.weight', '1.0.1.fn.1.3.bias', '1.1.0.fn.0.weight', '1.1.0.fn.0.bias', '1.1.0.fn.1.keys.weight', '1.1.0.fn.1.keys.bias', '1.1.0.fn.1.queries.weight', '1.1.0.fn.1.queries.bias', '1.1.0.fn.1.values.weight', '1.1.0.fn.1.values.bias', '1.1.0.fn.1.projection.weight', '1.1.0.fn.1.projection.bias', '1.1.1.fn.0.weight', '1.1.1.fn.0.bias', '1.1.1.fn.1.0.weight', '1.1.1.fn.1.0.bias', '1.1.1.fn.1.3.weight', '1.1.1.fn.1.3.bias', '1.2.0.fn.0.weight', '1.2.0.fn.0.bias', '1.2.0.fn.1.keys.weight', '1.2.0.fn.1.keys.bias', '1.2.0.fn.1.queries.weight', '1.2.0.fn.1.queries.bias', '1.2.0.fn.1.values.weight', '1.2.0.fn.1.values.bias', '1.2.0.fn.1.projection.weight', '1.2.0.fn.1.projection.bias', '1.2.1.fn.0.weight', '1.2.1.fn.0.bias', '1.2.1.fn.1.0.weight', '1.2.1.fn.1.0.bias', '1.2.1.fn.1.3.weight', '1.2.1.fn.1.3.bias'])\n",
      "------------------\n",
      "./backbones/4/experiment_1_untrained\n",
      "odict_keys(['0.cls_token', '0.positions', '0.projection.1.weight', '0.projection.1.bias', '1.0.0.fn.0.weight', '1.0.0.fn.0.bias', '1.0.0.fn.1.keys.weight', '1.0.0.fn.1.keys.bias', '1.0.0.fn.1.queries.weight', '1.0.0.fn.1.queries.bias', '1.0.0.fn.1.values.weight', '1.0.0.fn.1.values.bias', '1.0.0.fn.1.projection.weight', '1.0.0.fn.1.projection.bias', '1.0.1.fn.0.weight', '1.0.1.fn.0.bias', '1.0.1.fn.1.0.weight', '1.0.1.fn.1.0.bias', '1.0.1.fn.1.3.weight', '1.0.1.fn.1.3.bias', '1.1.0.fn.0.weight', '1.1.0.fn.0.bias', '1.1.0.fn.1.keys.weight', '1.1.0.fn.1.keys.bias', '1.1.0.fn.1.queries.weight', '1.1.0.fn.1.queries.bias', '1.1.0.fn.1.values.weight', '1.1.0.fn.1.values.bias', '1.1.0.fn.1.projection.weight', '1.1.0.fn.1.projection.bias', '1.1.1.fn.0.weight', '1.1.1.fn.0.bias', '1.1.1.fn.1.0.weight', '1.1.1.fn.1.0.bias', '1.1.1.fn.1.3.weight', '1.1.1.fn.1.3.bias', '1.2.0.fn.0.weight', '1.2.0.fn.0.bias', '1.2.0.fn.1.keys.weight', '1.2.0.fn.1.keys.bias', '1.2.0.fn.1.queries.weight', '1.2.0.fn.1.queries.bias', '1.2.0.fn.1.values.weight', '1.2.0.fn.1.values.bias', '1.2.0.fn.1.projection.weight', '1.2.0.fn.1.projection.bias', '1.2.1.fn.0.weight', '1.2.1.fn.0.bias', '1.2.1.fn.1.0.weight', '1.2.1.fn.1.0.bias', '1.2.1.fn.1.3.weight', '1.2.1.fn.1.3.bias'])\n",
      "------------------\n"
     ]
    }
   ],
   "source": [
    "#Testing every model to see if it indeed works\n",
    "list_of_backbones = []\n",
    "\n",
    "print('------------------')\n",
    "for path in os.listdir('./backbones'):\n",
    "    encoder = TTSGAN_Encoder(seq_len=60, channels=6)\n",
    "    path = f'./backbones/{path}/experiment_1_untrained'\n",
    "    encoder.load_state_dict(torch.load(f'{path}/final.ckpt'))\n",
    "    print(path)\n",
    "    print(encoder.state_dict().keys())\n",
    "    print('------------------')"
   ]
  },
  {
   "cell_type": "markdown",
   "metadata": {},
   "source": [
    "##### backbone from tts"
   ]
  },
  {
   "cell_type": "code",
   "execution_count": null,
   "metadata": {},
   "outputs": [],
   "source": [
    "\n",
    "def get_backbones(path_to_model, path_to_save, minerva = False):\n",
    "    \"\"\"\n",
    "    Load the weights of the encoder and the generator of the trained model\n",
    "    \"\"\"\n",
    "    model = GAN(\n",
    "        generator = TTSGAN_Generator(seq_len= 60, channels=6),\n",
    "        discriminator = TTSGAN_Discriminator(seq_len=60, channels=6),\n",
    "        loss_gen = torch.nn.BCELoss(),\n",
    "        loss_dis = torch.nn.BCELoss(),\n",
    "        )\n",
    "    if minerva:\n",
    "        model.load_state_dict(torch.load(path_to_model)['state_dict'])\n",
    "    else:\n",
    "        model.dis.backbone.load_state_dict(torch.load(path_to_model)['dis_state_dict'], strict=False)\n",
    "    if not os.path.isdir(path_to_save):\n",
    "        os.makedirs(path_to_save)\n",
    "    torch.save(model.dis.backbone.state_dict(),f'{path_to_save}/final.ckpt')\n",
    "    shutil.copy(path_to_model, f'{path_to_save}/original.ckpt')\n",
    "    print('done')"
   ]
  },
  {
   "cell_type": "code",
   "execution_count": 18,
   "metadata": {},
   "outputs": [
    {
     "name": "stdout",
     "output_type": "stream",
     "text": [
      "done\n",
      "done\n",
      "done\n",
      "done\n",
      "done\n"
     ]
    }
   ],
   "source": [
    "for i,version in enumerate(os.listdir('../../logs/minerva')):\n",
    "    path_to_save = f'./backbones/{i}/experiment_2_pytorch_training'\n",
    "    path_to_model = f'../../logs/minerva/{version}/Model/checkpoint'\n",
    "    get_backbones(path_to_model, path_to_save)"
   ]
  },
  {
   "cell_type": "code",
   "execution_count": 9,
   "metadata": {},
   "outputs": [
    {
     "name": "stdout",
     "output_type": "stream",
     "text": [
      "------------------\n",
      "./backbones/1/experiment_2_pytorch_training\n",
      "odict_keys(['0.cls_token', '0.positions', '0.projection.1.weight', '0.projection.1.bias', '1.0.0.fn.0.weight', '1.0.0.fn.0.bias', '1.0.0.fn.1.keys.weight', '1.0.0.fn.1.keys.bias', '1.0.0.fn.1.queries.weight', '1.0.0.fn.1.queries.bias', '1.0.0.fn.1.values.weight', '1.0.0.fn.1.values.bias', '1.0.0.fn.1.projection.weight', '1.0.0.fn.1.projection.bias', '1.0.1.fn.0.weight', '1.0.1.fn.0.bias', '1.0.1.fn.1.0.weight', '1.0.1.fn.1.0.bias', '1.0.1.fn.1.3.weight', '1.0.1.fn.1.3.bias', '1.1.0.fn.0.weight', '1.1.0.fn.0.bias', '1.1.0.fn.1.keys.weight', '1.1.0.fn.1.keys.bias', '1.1.0.fn.1.queries.weight', '1.1.0.fn.1.queries.bias', '1.1.0.fn.1.values.weight', '1.1.0.fn.1.values.bias', '1.1.0.fn.1.projection.weight', '1.1.0.fn.1.projection.bias', '1.1.1.fn.0.weight', '1.1.1.fn.0.bias', '1.1.1.fn.1.0.weight', '1.1.1.fn.1.0.bias', '1.1.1.fn.1.3.weight', '1.1.1.fn.1.3.bias', '1.2.0.fn.0.weight', '1.2.0.fn.0.bias', '1.2.0.fn.1.keys.weight', '1.2.0.fn.1.keys.bias', '1.2.0.fn.1.queries.weight', '1.2.0.fn.1.queries.bias', '1.2.0.fn.1.values.weight', '1.2.0.fn.1.values.bias', '1.2.0.fn.1.projection.weight', '1.2.0.fn.1.projection.bias', '1.2.1.fn.0.weight', '1.2.1.fn.0.bias', '1.2.1.fn.1.0.weight', '1.2.1.fn.1.0.bias', '1.2.1.fn.1.3.weight', '1.2.1.fn.1.3.bias'])\n",
      "------------------\n",
      "./backbones/2/experiment_2_pytorch_training\n",
      "odict_keys(['0.cls_token', '0.positions', '0.projection.1.weight', '0.projection.1.bias', '1.0.0.fn.0.weight', '1.0.0.fn.0.bias', '1.0.0.fn.1.keys.weight', '1.0.0.fn.1.keys.bias', '1.0.0.fn.1.queries.weight', '1.0.0.fn.1.queries.bias', '1.0.0.fn.1.values.weight', '1.0.0.fn.1.values.bias', '1.0.0.fn.1.projection.weight', '1.0.0.fn.1.projection.bias', '1.0.1.fn.0.weight', '1.0.1.fn.0.bias', '1.0.1.fn.1.0.weight', '1.0.1.fn.1.0.bias', '1.0.1.fn.1.3.weight', '1.0.1.fn.1.3.bias', '1.1.0.fn.0.weight', '1.1.0.fn.0.bias', '1.1.0.fn.1.keys.weight', '1.1.0.fn.1.keys.bias', '1.1.0.fn.1.queries.weight', '1.1.0.fn.1.queries.bias', '1.1.0.fn.1.values.weight', '1.1.0.fn.1.values.bias', '1.1.0.fn.1.projection.weight', '1.1.0.fn.1.projection.bias', '1.1.1.fn.0.weight', '1.1.1.fn.0.bias', '1.1.1.fn.1.0.weight', '1.1.1.fn.1.0.bias', '1.1.1.fn.1.3.weight', '1.1.1.fn.1.3.bias', '1.2.0.fn.0.weight', '1.2.0.fn.0.bias', '1.2.0.fn.1.keys.weight', '1.2.0.fn.1.keys.bias', '1.2.0.fn.1.queries.weight', '1.2.0.fn.1.queries.bias', '1.2.0.fn.1.values.weight', '1.2.0.fn.1.values.bias', '1.2.0.fn.1.projection.weight', '1.2.0.fn.1.projection.bias', '1.2.1.fn.0.weight', '1.2.1.fn.0.bias', '1.2.1.fn.1.0.weight', '1.2.1.fn.1.0.bias', '1.2.1.fn.1.3.weight', '1.2.1.fn.1.3.bias'])\n",
      "------------------\n",
      "./backbones/0/experiment_2_pytorch_training\n",
      "odict_keys(['0.cls_token', '0.positions', '0.projection.1.weight', '0.projection.1.bias', '1.0.0.fn.0.weight', '1.0.0.fn.0.bias', '1.0.0.fn.1.keys.weight', '1.0.0.fn.1.keys.bias', '1.0.0.fn.1.queries.weight', '1.0.0.fn.1.queries.bias', '1.0.0.fn.1.values.weight', '1.0.0.fn.1.values.bias', '1.0.0.fn.1.projection.weight', '1.0.0.fn.1.projection.bias', '1.0.1.fn.0.weight', '1.0.1.fn.0.bias', '1.0.1.fn.1.0.weight', '1.0.1.fn.1.0.bias', '1.0.1.fn.1.3.weight', '1.0.1.fn.1.3.bias', '1.1.0.fn.0.weight', '1.1.0.fn.0.bias', '1.1.0.fn.1.keys.weight', '1.1.0.fn.1.keys.bias', '1.1.0.fn.1.queries.weight', '1.1.0.fn.1.queries.bias', '1.1.0.fn.1.values.weight', '1.1.0.fn.1.values.bias', '1.1.0.fn.1.projection.weight', '1.1.0.fn.1.projection.bias', '1.1.1.fn.0.weight', '1.1.1.fn.0.bias', '1.1.1.fn.1.0.weight', '1.1.1.fn.1.0.bias', '1.1.1.fn.1.3.weight', '1.1.1.fn.1.3.bias', '1.2.0.fn.0.weight', '1.2.0.fn.0.bias', '1.2.0.fn.1.keys.weight', '1.2.0.fn.1.keys.bias', '1.2.0.fn.1.queries.weight', '1.2.0.fn.1.queries.bias', '1.2.0.fn.1.values.weight', '1.2.0.fn.1.values.bias', '1.2.0.fn.1.projection.weight', '1.2.0.fn.1.projection.bias', '1.2.1.fn.0.weight', '1.2.1.fn.0.bias', '1.2.1.fn.1.0.weight', '1.2.1.fn.1.0.bias', '1.2.1.fn.1.3.weight', '1.2.1.fn.1.3.bias'])\n",
      "------------------\n",
      "./backbones/3/experiment_2_pytorch_training\n",
      "odict_keys(['0.cls_token', '0.positions', '0.projection.1.weight', '0.projection.1.bias', '1.0.0.fn.0.weight', '1.0.0.fn.0.bias', '1.0.0.fn.1.keys.weight', '1.0.0.fn.1.keys.bias', '1.0.0.fn.1.queries.weight', '1.0.0.fn.1.queries.bias', '1.0.0.fn.1.values.weight', '1.0.0.fn.1.values.bias', '1.0.0.fn.1.projection.weight', '1.0.0.fn.1.projection.bias', '1.0.1.fn.0.weight', '1.0.1.fn.0.bias', '1.0.1.fn.1.0.weight', '1.0.1.fn.1.0.bias', '1.0.1.fn.1.3.weight', '1.0.1.fn.1.3.bias', '1.1.0.fn.0.weight', '1.1.0.fn.0.bias', '1.1.0.fn.1.keys.weight', '1.1.0.fn.1.keys.bias', '1.1.0.fn.1.queries.weight', '1.1.0.fn.1.queries.bias', '1.1.0.fn.1.values.weight', '1.1.0.fn.1.values.bias', '1.1.0.fn.1.projection.weight', '1.1.0.fn.1.projection.bias', '1.1.1.fn.0.weight', '1.1.1.fn.0.bias', '1.1.1.fn.1.0.weight', '1.1.1.fn.1.0.bias', '1.1.1.fn.1.3.weight', '1.1.1.fn.1.3.bias', '1.2.0.fn.0.weight', '1.2.0.fn.0.bias', '1.2.0.fn.1.keys.weight', '1.2.0.fn.1.keys.bias', '1.2.0.fn.1.queries.weight', '1.2.0.fn.1.queries.bias', '1.2.0.fn.1.values.weight', '1.2.0.fn.1.values.bias', '1.2.0.fn.1.projection.weight', '1.2.0.fn.1.projection.bias', '1.2.1.fn.0.weight', '1.2.1.fn.0.bias', '1.2.1.fn.1.0.weight', '1.2.1.fn.1.0.bias', '1.2.1.fn.1.3.weight', '1.2.1.fn.1.3.bias'])\n",
      "------------------\n",
      "./backbones/4/experiment_2_pytorch_training\n",
      "odict_keys(['0.cls_token', '0.positions', '0.projection.1.weight', '0.projection.1.bias', '1.0.0.fn.0.weight', '1.0.0.fn.0.bias', '1.0.0.fn.1.keys.weight', '1.0.0.fn.1.keys.bias', '1.0.0.fn.1.queries.weight', '1.0.0.fn.1.queries.bias', '1.0.0.fn.1.values.weight', '1.0.0.fn.1.values.bias', '1.0.0.fn.1.projection.weight', '1.0.0.fn.1.projection.bias', '1.0.1.fn.0.weight', '1.0.1.fn.0.bias', '1.0.1.fn.1.0.weight', '1.0.1.fn.1.0.bias', '1.0.1.fn.1.3.weight', '1.0.1.fn.1.3.bias', '1.1.0.fn.0.weight', '1.1.0.fn.0.bias', '1.1.0.fn.1.keys.weight', '1.1.0.fn.1.keys.bias', '1.1.0.fn.1.queries.weight', '1.1.0.fn.1.queries.bias', '1.1.0.fn.1.values.weight', '1.1.0.fn.1.values.bias', '1.1.0.fn.1.projection.weight', '1.1.0.fn.1.projection.bias', '1.1.1.fn.0.weight', '1.1.1.fn.0.bias', '1.1.1.fn.1.0.weight', '1.1.1.fn.1.0.bias', '1.1.1.fn.1.3.weight', '1.1.1.fn.1.3.bias', '1.2.0.fn.0.weight', '1.2.0.fn.0.bias', '1.2.0.fn.1.keys.weight', '1.2.0.fn.1.keys.bias', '1.2.0.fn.1.queries.weight', '1.2.0.fn.1.queries.bias', '1.2.0.fn.1.values.weight', '1.2.0.fn.1.values.bias', '1.2.0.fn.1.projection.weight', '1.2.0.fn.1.projection.bias', '1.2.1.fn.0.weight', '1.2.1.fn.0.bias', '1.2.1.fn.1.0.weight', '1.2.1.fn.1.0.bias', '1.2.1.fn.1.3.weight', '1.2.1.fn.1.3.bias'])\n",
      "------------------\n"
     ]
    }
   ],
   "source": [
    "#Testing every model to see if it indeed works\n",
    "\n",
    "print('------------------')\n",
    "for path in os.listdir('./backbones'):\n",
    "    encoder = TTSGAN_Encoder(seq_len=60, channels=6)\n",
    "    path = f'./backbones/{path}/experiment_2_pytorch_training'\n",
    "    encoder.load_state_dict(torch.load(f'{path}/final.ckpt'))\n",
    "    print(path)\n",
    "    print(encoder.state_dict().keys())\n",
    "    print('------------------')"
   ]
  },
  {
   "cell_type": "markdown",
   "metadata": {},
   "source": [
    "##### backbone from minerva"
   ]
  },
  {
   "cell_type": "code",
   "execution_count": 20,
   "metadata": {},
   "outputs": [
    {
     "name": "stdout",
     "output_type": "stream",
     "text": [
      "done\n",
      "done\n",
      "done\n",
      "done\n",
      "done\n"
     ]
    }
   ],
   "source": [
    "#for every model\n",
    "list_of_backbones = ['version_0', 'version_1', 'version_2', 'version_3', 'version_4']\n",
    "for i,version in enumerate(list_of_backbones):\n",
    "    path_to_save = f'./backbones/{i}/experiment_3_minerva_training'\n",
    "    path_to_model = f'./training/ttsgan_minerva/{version}/checkpoints/epoch=299-step=276000.ckpt'\n",
    "    get_backbones(path_to_model, path_to_save, minerva=True)\n"
   ]
  },
  {
   "cell_type": "code",
   "execution_count": null,
   "metadata": {},
   "outputs": [
    {
     "name": "stdout",
     "output_type": "stream",
     "text": [
      "------------------\n",
      "./backbones/1/experiment_3_minerva_training\n",
      "odict_keys(['0.cls_token', '0.positions', '0.projection.1.weight', '0.projection.1.bias', '1.0.0.fn.0.weight', '1.0.0.fn.0.bias', '1.0.0.fn.1.keys.weight', '1.0.0.fn.1.keys.bias', '1.0.0.fn.1.queries.weight', '1.0.0.fn.1.queries.bias', '1.0.0.fn.1.values.weight', '1.0.0.fn.1.values.bias', '1.0.0.fn.1.projection.weight', '1.0.0.fn.1.projection.bias', '1.0.1.fn.0.weight', '1.0.1.fn.0.bias', '1.0.1.fn.1.0.weight', '1.0.1.fn.1.0.bias', '1.0.1.fn.1.3.weight', '1.0.1.fn.1.3.bias', '1.1.0.fn.0.weight', '1.1.0.fn.0.bias', '1.1.0.fn.1.keys.weight', '1.1.0.fn.1.keys.bias', '1.1.0.fn.1.queries.weight', '1.1.0.fn.1.queries.bias', '1.1.0.fn.1.values.weight', '1.1.0.fn.1.values.bias', '1.1.0.fn.1.projection.weight', '1.1.0.fn.1.projection.bias', '1.1.1.fn.0.weight', '1.1.1.fn.0.bias', '1.1.1.fn.1.0.weight', '1.1.1.fn.1.0.bias', '1.1.1.fn.1.3.weight', '1.1.1.fn.1.3.bias', '1.2.0.fn.0.weight', '1.2.0.fn.0.bias', '1.2.0.fn.1.keys.weight', '1.2.0.fn.1.keys.bias', '1.2.0.fn.1.queries.weight', '1.2.0.fn.1.queries.bias', '1.2.0.fn.1.values.weight', '1.2.0.fn.1.values.bias', '1.2.0.fn.1.projection.weight', '1.2.0.fn.1.projection.bias', '1.2.1.fn.0.weight', '1.2.1.fn.0.bias', '1.2.1.fn.1.0.weight', '1.2.1.fn.1.0.bias', '1.2.1.fn.1.3.weight', '1.2.1.fn.1.3.bias'])\n",
      "------------------\n",
      "./backbones/2/experiment_3_minerva_training\n",
      "odict_keys(['0.cls_token', '0.positions', '0.projection.1.weight', '0.projection.1.bias', '1.0.0.fn.0.weight', '1.0.0.fn.0.bias', '1.0.0.fn.1.keys.weight', '1.0.0.fn.1.keys.bias', '1.0.0.fn.1.queries.weight', '1.0.0.fn.1.queries.bias', '1.0.0.fn.1.values.weight', '1.0.0.fn.1.values.bias', '1.0.0.fn.1.projection.weight', '1.0.0.fn.1.projection.bias', '1.0.1.fn.0.weight', '1.0.1.fn.0.bias', '1.0.1.fn.1.0.weight', '1.0.1.fn.1.0.bias', '1.0.1.fn.1.3.weight', '1.0.1.fn.1.3.bias', '1.1.0.fn.0.weight', '1.1.0.fn.0.bias', '1.1.0.fn.1.keys.weight', '1.1.0.fn.1.keys.bias', '1.1.0.fn.1.queries.weight', '1.1.0.fn.1.queries.bias', '1.1.0.fn.1.values.weight', '1.1.0.fn.1.values.bias', '1.1.0.fn.1.projection.weight', '1.1.0.fn.1.projection.bias', '1.1.1.fn.0.weight', '1.1.1.fn.0.bias', '1.1.1.fn.1.0.weight', '1.1.1.fn.1.0.bias', '1.1.1.fn.1.3.weight', '1.1.1.fn.1.3.bias', '1.2.0.fn.0.weight', '1.2.0.fn.0.bias', '1.2.0.fn.1.keys.weight', '1.2.0.fn.1.keys.bias', '1.2.0.fn.1.queries.weight', '1.2.0.fn.1.queries.bias', '1.2.0.fn.1.values.weight', '1.2.0.fn.1.values.bias', '1.2.0.fn.1.projection.weight', '1.2.0.fn.1.projection.bias', '1.2.1.fn.0.weight', '1.2.1.fn.0.bias', '1.2.1.fn.1.0.weight', '1.2.1.fn.1.0.bias', '1.2.1.fn.1.3.weight', '1.2.1.fn.1.3.bias'])\n",
      "------------------\n",
      "./backbones/0/experiment_3_minerva_training\n",
      "odict_keys(['0.cls_token', '0.positions', '0.projection.1.weight', '0.projection.1.bias', '1.0.0.fn.0.weight', '1.0.0.fn.0.bias', '1.0.0.fn.1.keys.weight', '1.0.0.fn.1.keys.bias', '1.0.0.fn.1.queries.weight', '1.0.0.fn.1.queries.bias', '1.0.0.fn.1.values.weight', '1.0.0.fn.1.values.bias', '1.0.0.fn.1.projection.weight', '1.0.0.fn.1.projection.bias', '1.0.1.fn.0.weight', '1.0.1.fn.0.bias', '1.0.1.fn.1.0.weight', '1.0.1.fn.1.0.bias', '1.0.1.fn.1.3.weight', '1.0.1.fn.1.3.bias', '1.1.0.fn.0.weight', '1.1.0.fn.0.bias', '1.1.0.fn.1.keys.weight', '1.1.0.fn.1.keys.bias', '1.1.0.fn.1.queries.weight', '1.1.0.fn.1.queries.bias', '1.1.0.fn.1.values.weight', '1.1.0.fn.1.values.bias', '1.1.0.fn.1.projection.weight', '1.1.0.fn.1.projection.bias', '1.1.1.fn.0.weight', '1.1.1.fn.0.bias', '1.1.1.fn.1.0.weight', '1.1.1.fn.1.0.bias', '1.1.1.fn.1.3.weight', '1.1.1.fn.1.3.bias', '1.2.0.fn.0.weight', '1.2.0.fn.0.bias', '1.2.0.fn.1.keys.weight', '1.2.0.fn.1.keys.bias', '1.2.0.fn.1.queries.weight', '1.2.0.fn.1.queries.bias', '1.2.0.fn.1.values.weight', '1.2.0.fn.1.values.bias', '1.2.0.fn.1.projection.weight', '1.2.0.fn.1.projection.bias', '1.2.1.fn.0.weight', '1.2.1.fn.0.bias', '1.2.1.fn.1.0.weight', '1.2.1.fn.1.0.bias', '1.2.1.fn.1.3.weight', '1.2.1.fn.1.3.bias'])\n",
      "------------------\n",
      "./backbones/3/experiment_3_minerva_training\n",
      "odict_keys(['0.cls_token', '0.positions', '0.projection.1.weight', '0.projection.1.bias', '1.0.0.fn.0.weight', '1.0.0.fn.0.bias', '1.0.0.fn.1.keys.weight', '1.0.0.fn.1.keys.bias', '1.0.0.fn.1.queries.weight', '1.0.0.fn.1.queries.bias', '1.0.0.fn.1.values.weight', '1.0.0.fn.1.values.bias', '1.0.0.fn.1.projection.weight', '1.0.0.fn.1.projection.bias', '1.0.1.fn.0.weight', '1.0.1.fn.0.bias', '1.0.1.fn.1.0.weight', '1.0.1.fn.1.0.bias', '1.0.1.fn.1.3.weight', '1.0.1.fn.1.3.bias', '1.1.0.fn.0.weight', '1.1.0.fn.0.bias', '1.1.0.fn.1.keys.weight', '1.1.0.fn.1.keys.bias', '1.1.0.fn.1.queries.weight', '1.1.0.fn.1.queries.bias', '1.1.0.fn.1.values.weight', '1.1.0.fn.1.values.bias', '1.1.0.fn.1.projection.weight', '1.1.0.fn.1.projection.bias', '1.1.1.fn.0.weight', '1.1.1.fn.0.bias', '1.1.1.fn.1.0.weight', '1.1.1.fn.1.0.bias', '1.1.1.fn.1.3.weight', '1.1.1.fn.1.3.bias', '1.2.0.fn.0.weight', '1.2.0.fn.0.bias', '1.2.0.fn.1.keys.weight', '1.2.0.fn.1.keys.bias', '1.2.0.fn.1.queries.weight', '1.2.0.fn.1.queries.bias', '1.2.0.fn.1.values.weight', '1.2.0.fn.1.values.bias', '1.2.0.fn.1.projection.weight', '1.2.0.fn.1.projection.bias', '1.2.1.fn.0.weight', '1.2.1.fn.0.bias', '1.2.1.fn.1.0.weight', '1.2.1.fn.1.0.bias', '1.2.1.fn.1.3.weight', '1.2.1.fn.1.3.bias'])\n",
      "------------------\n",
      "./backbones/4/experiment_3_minerva_training\n",
      "odict_keys(['0.cls_token', '0.positions', '0.projection.1.weight', '0.projection.1.bias', '1.0.0.fn.0.weight', '1.0.0.fn.0.bias', '1.0.0.fn.1.keys.weight', '1.0.0.fn.1.keys.bias', '1.0.0.fn.1.queries.weight', '1.0.0.fn.1.queries.bias', '1.0.0.fn.1.values.weight', '1.0.0.fn.1.values.bias', '1.0.0.fn.1.projection.weight', '1.0.0.fn.1.projection.bias', '1.0.1.fn.0.weight', '1.0.1.fn.0.bias', '1.0.1.fn.1.0.weight', '1.0.1.fn.1.0.bias', '1.0.1.fn.1.3.weight', '1.0.1.fn.1.3.bias', '1.1.0.fn.0.weight', '1.1.0.fn.0.bias', '1.1.0.fn.1.keys.weight', '1.1.0.fn.1.keys.bias', '1.1.0.fn.1.queries.weight', '1.1.0.fn.1.queries.bias', '1.1.0.fn.1.values.weight', '1.1.0.fn.1.values.bias', '1.1.0.fn.1.projection.weight', '1.1.0.fn.1.projection.bias', '1.1.1.fn.0.weight', '1.1.1.fn.0.bias', '1.1.1.fn.1.0.weight', '1.1.1.fn.1.0.bias', '1.1.1.fn.1.3.weight', '1.1.1.fn.1.3.bias', '1.2.0.fn.0.weight', '1.2.0.fn.0.bias', '1.2.0.fn.1.keys.weight', '1.2.0.fn.1.keys.bias', '1.2.0.fn.1.queries.weight', '1.2.0.fn.1.queries.bias', '1.2.0.fn.1.values.weight', '1.2.0.fn.1.values.bias', '1.2.0.fn.1.projection.weight', '1.2.0.fn.1.projection.bias', '1.2.1.fn.0.weight', '1.2.1.fn.0.bias', '1.2.1.fn.1.0.weight', '1.2.1.fn.1.0.bias', '1.2.1.fn.1.3.weight', '1.2.1.fn.1.3.bias'])\n",
      "------------------\n"
     ]
    }
   ],
   "source": [
    "#Testing every model to see if it indeed works\n",
    "\n",
    "print('------------------')\n",
    "for path in os.listdir('./backbones'):\n",
    "    encoder = TTSGAN_Encoder(seq_len=60, channels=6)\n",
    "    path = f'./backbones/{path}/experiment_3_minerva_training'\n",
    "    encoder.load_state_dict(torch.load(f'{path}/final.ckpt'))\n",
    "    print(path)\n",
    "    print(encoder.state_dict().keys())\n",
    "    print('------------------')"
   ]
  },
  {
   "cell_type": "markdown",
   "metadata": {},
   "source": [
    "#### See KNN training"
   ]
  },
  {
   "cell_type": "code",
   "execution_count": 5,
   "metadata": {},
   "outputs": [],
   "source": [
    "import csv\n",
    "import numpy as np\n",
    "\n",
    "def extract_losses(file_path):\n",
    "    knn_validation = []\n",
    "\n",
    "    with open(file_path, 'r') as file:\n",
    "        reader = csv.DictReader(file)\n",
    "        for row in reader:\n",
    "            if 'knn_accuracy' in row and row['knn_accuracy']:\n",
    "                knn_validation.append(float(row['knn_accuracy']))\n",
    "\n",
    "        return knn_validation"
   ]
  },
  {
   "cell_type": "code",
   "execution_count": 3,
   "metadata": {},
   "outputs": [
    {
     "name": "stdout",
     "output_type": "stream",
     "text": [
      "knn loss [0.2448146790266037, 0.2526884377002716, 0.4685562252998352, 0.45903199911117554, 0.46433091163635254, 0.4868919253349304, 0.4997861683368683, 0.5221021771430969, 0.5290114879608154, 0.5204450488090515, 0.5176118016242981, 0.5080875754356384, 0.4931486248970032, 0.4775102436542511, 0.46077823638916016, 0.4533187747001648, 0.4512673616409302, 0.43455541133880615, 0.43387606739997864, 0.42544546723365784, 0.42583972215652466, 0.44242915511131287, 0.44936519861221313, 0.4492360055446625, 0.4507305920124054, 0.4478706419467926, 0.44583258032798767, 0.44229328632354736, 0.43767374753952026, 0.43672263622283936, 0.4300583600997925, 0.425167053937912, 0.42231377959251404, 0.4185027480125427, 0.4168723225593567, 0.416471391916275, 0.41701486706733704, 0.41701486706733704, 0.4172799289226532, 0.4190462529659271, 0.41958972811698914, 0.42108428478240967, 0.4242092967033386, 0.4235232472419739, 0.43303412199020386, 0.43577155470848083, 0.4393041729927063, 0.4398476481437683, 0.441335529088974, 0.43753787875175476, 0.43713024258613586, 0.43223896622657776, 0.43645089864730835, 0.4380813539028168, 0.44107046723365784, 0.43780961632728577, 0.4402552545070648, 0.43876737356185913, 0.4386248290538788, 0.43672263622283936, 0.42421597242355347, 0.42081254720687866, 0.41238194704055786, 0.4054526090621948, 0.39892417192459106, 0.379494845867157, 0.3643932640552521, 0.34429794549942017, 0.32621392607688904, 0.3218527138233185, 0.29278331995010376, 0.2710375189781189, 0.26667630672454834, 0.25431886315345764, 0.25064370036125183, 0.2412753850221634, 0.24046017229557037, 0.24507306516170502, 0.2471177875995636, 0.25091543793678284, 0.26002538204193115, 0.2675115764141083, 0.2699572443962097, 0.27729418873786926, 0.2725387513637543, 0.28149276971817017, 0.27688658237457275, 0.2915671765804291, 0.34686610102653503, 0.4412130117416382, 0.464725136756897, 0.46475186944007874, 0.44897764921188354, 0.4355131983757019, 0.43933090567588806, 0.423964262008667, 0.4235566556453705, 0.43022096157073975, 0.4640524685382843, 0.48456209897994995, 0.49138230085372925, 0.5015524625778198, 0.5035838484764099, 0.5042832493782043, 0.47206878662109375, 0.44717124104499817, 0.46566954255104065, 0.49475231766700745, 0.4807644188404083, 0.4546574354171753, 0.43575820326805115, 0.42842793464660645, 0.4633597731590271, 0.4523543417453766, 0.44829827547073364, 0.4323614537715912, 0.4448748230934143, 0.44704872369766235, 0.45628786087036133, 0.4684069752693176, 0.4679793417453766, 0.4518108665943146, 0.4824149012565613, 0.4632372558116913, 0.4979040324687958, 0.45859766006469727, 0.46309471130371094, 0.44963693618774414, 0.4632239043712616, 0.4405403733253479, 0.4368652105331421, 0.4499220550060272, 0.45864441990852356, 0.46295884251594543, 0.4582100808620453, 0.43155959248542786, 0.4398476481437683, 0.4506080746650696, 0.4406895935535431, 0.514622688293457, 0.5246703624725342, 0.5153020024299622, 0.5289023518562317, 0.4693380296230316, 0.42925649881362915, 0.4586043357849121, 0.4663689434528351, 0.4553568363189697, 0.47367915511131287, 0.44092124700546265, 0.45356377959251404, 0.5057978630065918, 0.44843414425849915, 0.44962358474731445, 0.5122795104980469, 0.5109341740608215, 0.48498308658599854, 0.46199437975883484, 0.45628786087036133, 0.48007839918136597, 0.46145758032798767, 0.4481423795223236, 0.44870591163635254, 0.4578091502189636, 0.45984721183776855, 0.44689950346946716, 0.47327154874801636, 0.49842748045921326, 0.48780959844589233, 0.467558354139328, 0.4827958047389984, 0.43020758032798767, 0.4193313419818878, 0.45871347188949585, 0.4744810163974762, 0.478156179189682, 0.4980131983757019, 0.45292454957962036, 0.44381460547447205, 0.4830608665943146, 0.4721979796886444, 0.5016816854476929, 0.48772719502449036, 0.47166118025779724, 0.47710931301116943, 0.46487438678741455, 0.42013320326805115, 0.4451332092285156, 0.4136114716529846, 0.44936519861221313, 0.4302009046077728, 0.45930373668670654, 0.43428367376327515, 0.45415404438972473, 0.46624642610549927, 0.4704650640487671, 0.4516816735267639, 0.4342769980430603, 0.45590031147003174, 0.42096176743507385, 0.4413555860519409, 0.42134934663772583, 0.43807464838027954, 0.42138275504112244, 0.4288422167301178, 0.39854997396469116, 0.39895758032798767, 0.41771426796913147, 0.41811519861221313, 0.4140324294567108, 0.41090741753578186, 0.3963894248008728, 0.3911929726600647, 0.4341611862182617, 0.4368852376937866, 0.4147184491157532, 0.4443647563457489, 0.44723138213157654, 0.44694626331329346, 0.45102235674858093, 0.4578225314617157, 0.4592970311641693, 0.46883463859558105, 0.46651148796081543, 0.4720955193042755, 0.4761715829372406, 0.47534969449043274, 0.47440528869628906, 0.48188480734825134, 0.47481289505958557, 0.4715386629104614, 0.4738217294216156, 0.48090699315071106, 0.48500311374664307, 0.4896160066127777, 0.48853573203086853, 0.502394437789917, 0.49681708216667175, 0.492611825466156, 0.49873262643814087, 0.4883798062801361, 0.4915248453617096, 0.49426230788230896, 0.49126648902893066, 0.4859742522239685, 0.48501649498939514, 0.4869186580181122, 0.482285737991333, 0.4880056083202362, 0.49030202627182007, 0.4889232814311981, 0.4913756251335144, 0.4964228570461273, 0.5006414651870728, 0.498725950717926, 0.4881080687046051, 0.4987058937549591, 0.4871569871902466, 0.48880746960639954, 0.4765591621398926, 0.48077112436294556, 0.47724518179893494, 0.47980666160583496, 0.48254409432411194, 0.4705875813961029, 0.4745144248008728, 0.47398433089256287, 0.4711243808269501, 0.46812188625335693, 0.470839262008667, 0.4669257700443268, 0.4626670479774475, 0.4682644307613373, 0.4727548062801361, 0.4765658378601074, 0.4701799750328064, 0.47560808062553406, 0.4723471999168396, 0.46676987409591675, 0.4756147563457489, 0.4719529449939728, 0.47181040048599243, 0.47710931301116943, 0.46787017583847046, 0.4791540503501892, 0.47778865694999695, 0.4704517126083374, 0.4703158438205719, 0.4715520441532135, 0.4727681875228882, 0.4700574576854706, 0.47548556327819824, 0.4700574576854706, 0.47398433089256287, 0.47316908836364746, 0.4733116626739502, 0.481742262840271, 0.4822656810283661, 0.4819939434528351, 0.4799625873565674]\n"
     ]
    }
   ],
   "source": [
    "# Exemplo de uso\n",
    "version = 6\n",
    "file_path = f'./training/ttsgan_minerva/version_{version}/metrics.csv'\n",
    "\n",
    "knn_loss  = extract_losses(file_path)\n",
    "print(\"knn loss\", knn_loss)"
   ]
  },
  {
   "cell_type": "code",
   "execution_count": null,
   "metadata": {},
   "outputs": [],
   "source": [
    "from scipy.signal import find_peaks\n",
    "\n",
    "vales, _ = find_peaks(-np.array(knn_loss))\n",
    "picos, _ = find_peaks(knn_loss)"
   ]
  },
  {
   "cell_type": "code",
   "execution_count": 7,
   "metadata": {},
   "outputs": [
    {
     "data": {
      "text/plain": [
       "array([  3,  19,  23,  35,  43,  51,  55,  76,  84,  86,  93,  96, 105,\n",
       "       111, 115, 121, 123, 125, 127, 130, 135, 138, 141, 144, 147, 149,\n",
       "       152, 158, 161, 165, 169, 172, 178, 180, 183, 186, 188, 190, 192,\n",
       "       197, 199, 201, 203, 205, 212, 215, 218, 223, 227, 230, 235, 238,\n",
       "       240, 245, 247, 250, 255, 257, 259, 261, 264, 268, 271, 275, 278,\n",
       "       281, 283, 287, 290, 292, 294])"
      ]
     },
     "execution_count": 7,
     "metadata": {},
     "output_type": "execute_result"
    }
   ],
   "source": [
    "vales"
   ]
  },
  {
   "cell_type": "code",
   "execution_count": 8,
   "metadata": {},
   "outputs": [
    {
     "data": {
      "image/png": "[encoded data removed]",
      "text/plain": [
       "<Figure size 1000x500 with 1 Axes>"
      ]
     },
     "metadata": {},
     "output_type": "display_data"
    }
   ],
   "source": [
    "import matplotlib.pyplot as plt\n",
    "\n",
    "# Criar uma lista de índices de 0 a 100\n",
    "indices = list(range(len(knn_loss)))\n",
    "\n",
    "# Criar o gráfico\n",
    "plt.figure(figsize=(10, 5))\n",
    "plt.plot(indices, knn_loss, marker='', linestyle='-', color='b', label='KNN Accuracy per epoch')\n",
    "\n",
    "plt.scatter(picos, np.array(knn_loss)[picos], color='green', marker='^', label='Local Maximas')\n",
    "plt.scatter(vales, np.array(knn_loss)[vales], color='red', marker='v', label='Local Minimas')\n",
    "\n",
    "plt.axvline(x=8, color='g', linestyle='--', linewidth=2)\n",
    "plt.axvline(x=140, color='g', linestyle='--', linewidth=2)\n",
    "\n",
    "plt.axvline(x=76, color='r', linestyle='--', linewidth=2)\n",
    "#plt.axvline(x=140, color='g', linestyle='--', linewidth=2)\n",
    "\n",
    "\n",
    "plt.xlabel('Epoch')\n",
    "plt.ylabel('Acuraccy')\n",
    "plt.title('Gráfico de Loss do KNN')\n",
    "plt.legend()\n",
    "plt.grid(True)\n",
    "plt.ylim(0, 1)  # Ajustar o limite do eixo y para melhor visualização\n",
    "plt.xlim(0, len(knn_loss))\n",
    "\n",
    "\n",
    "\n",
    "# Mostrar o gráfico\n",
    "plt.show()"
   ]
  },
  {
   "cell_type": "markdown",
   "metadata": {},
   "source": [
    "#### Ver gif"
   ]
  },
  {
   "cell_type": "code",
   "execution_count": 8,
   "metadata": {},
   "outputs": [],
   "source": [
    "import re\n",
    "import os\n",
    "from PIL import Image\n",
    "\n",
    "def numerical_sort(value):\n",
    "    \"\"\"\n",
    "    Custom sort function to sort filenames with numerical values correctly.\n",
    "    \"\"\"\n",
    "    numbers = re.findall(r'\\d+', value)\n",
    "    return int(numbers[0]) if numbers else 0\n",
    "\n",
    "def create_gif(image_paths, output_gif_path, duration=500):\n",
    "    images = [Image.open(image_path) for image_path in image_paths]\n",
    "    # Save as GIF\n",
    "    images[0].save(\n",
    "        f'{output_gif_path}/tsne.gif',\n",
    "        save_all=True,\n",
    "        append_images=images[1:],            \n",
    "        duration=duration,\n",
    "        loop=0  # 0 means infinite loop\n",
    "    )  "
   ]
  },
  {
   "cell_type": "code",
   "execution_count": 9,
   "metadata": {},
   "outputs": [],
   "source": [
    "image_save_dir = './training/ttsgan_minerva/version_5/tsne/generator'\n",
    "\n",
    "image_files = sorted(os.listdir(image_save_dir), key=numerical_sort)\n",
    "image_paths = [os.path.join(image_save_dir, file_name) for file_name in image_files if file_name.endswith('.png')]\n",
    "\n",
    "create_gif(image_paths, image_save_dir, duration=200)"
   ]
  },
  {
   "cell_type": "markdown",
   "metadata": {},
   "source": [
    "#### see if it is equal"
   ]
  },
  {
   "cell_type": "code",
   "execution_count": 4,
   "metadata": {},
   "outputs": [
    {
     "data": {
      "text/plain": [
       "1.0"
      ]
     },
     "execution_count": 4,
     "metadata": {},
     "output_type": "execute_result"
    }
   ],
   "source": [
    "import numpy as np\n",
    "\n",
    "array1 = np.load('../../listinha1.npy')\n",
    "array2 = np.load('../../listinha2.npy')\n",
    "array3 = np.load('../../listinha3.npy')\n",
    "\n",
    "np.mean(array1 == array3)"
   ]
  }
 ],
 "metadata": {
  "kernelspec": {
   "display_name": "Python 3",
   "language": "python",
   "name": "python3"
  },
  "language_info": {
   "codemirror_mode": {
    "name": "ipython",
    "version": 3
   },
   "file_extension": ".py",
   "mimetype": "text/x-python",
   "name": "python",
   "nbconvert_exporter": "python",
   "pygments_lexer": "ipython3",
   "version": "3.10.6"
  }
 },
 "nbformat": 4,
 "nbformat_minor": 2
}
