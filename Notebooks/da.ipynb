{
 "cells": [
  {
   "cell_type": "code",
   "execution_count": 3,
   "metadata": {},
   "outputs": [
    {
     "name": "stderr",
     "output_type": "stream",
     "text": [
      "/usr/local/lib/python3.10/dist-packages/_distutils_hack/__init__.py:55: UserWarning: Reliance on distutils from stdlib is deprecated. Users must rely on setuptools to provide the distutils module. Avoid importing distutils or import setuptools first, and avoid setting SETUPTOOLS_USE_DISTUTILS=stdlib. Register concerns at https://github.com/pypa/setuptools/issues/new?template=distutils-deprecation.yml\n",
      "  warnings.warn(\n"
     ]
    }
   ],
   "source": [
    "import torch\n",
    "from torch import nn\n",
    "import torch.nn.functional as F\n",
    "from torch.utils import data\n",
    "\n",
    "import numpy as np\n",
    "\n",
    "import os\n",
    "import sys\n",
    "\n",
    "import matplotlib.pyplot as plt\n",
    "\n",
    "sys.path.append(os.path.abspath('..'))\n",
    "from LoadRealRunningJumping import *\n",
    "from LoadSyntheticRunningJumping import *\n",
    "\n",
    "from dataLoader import *\n",
    "\n",
    "import torch.fft as fft"
   ]
  },
  {
   "cell_type": "code",
   "execution_count": 6,
   "metadata": {},
   "outputs": [
    {
     "name": "stdout",
     "output_type": "stream",
     "text": [
      "return single class data and labels, class is run\n",
      "data shape is (16260, 3, 1, 30)\n",
      "label shape is (16260,)\n",
      "Checkpoint epochs: 50\n"
     ]
    },
    {
     "name": "stderr",
     "output_type": "stream",
     "text": [
      "/workspaces/container-workspace/tts-gan/LoadSyntheticRunningJumping.py:77: FutureWarning: You are using `torch.load` with `weights_only=False` (the current default value), which uses the default pickle module implicitly. It is possible to construct malicious pickle data which will execute arbitrary code during unpickling (See https://github.com/pytorch/pytorch/blob/main/SECURITY.md#untrusted-models for more details). In a future release, the default value for `weights_only` will be flipped to `True`. This limits the functions that could be executed during unpickling. Arbitrary objects will no longer be allowed to be loaded via this mode unless they are explicitly allowlisted by the user via `torch.serialization.add_safe_globals`. We recommend you start setting `weights_only=True` for any use case where you don't have full control of the loaded file. Please open an issue on GitHub for any issues related to this experimental feature.\n",
      "  ckp = torch.load(path,  map_location=torch.device('cpu')) #take off map_location if GPU\n"
     ]
    },
    {
     "name": "stdout",
     "output_type": "stream",
     "text": [
      "(16260, 3, 1, 30)\n",
      "(16260, 1)\n"
     ]
    },
    {
     "data": {
      "text/plain": [
       "(16260, 3, 30)"
      ]
     },
     "execution_count": 6,
     "metadata": {},
     "output_type": "execute_result"
    }
   ],
   "source": [
    "real_sample = daghar_load_dataset(class_name='run', path='../DAGHAR_GANs/')\n",
    "synthetic_sample= Single_Class_Synthetic_Dataset( path = '../pre-trained-models/daghar_50000_30_100/run_50000_D_30_2024_10_18_01_39_30/Model/checkpoint',\n",
    "                                                      sample_size = len(real_sample),\n",
    "                                                      seq_len = 30)\n",
    "\n",
    "real_sample, synthetic_sample = real_sample[:][0], synthetic_sample[:][0]\n",
    "np.asarray(real_sample).squeeze().shape"
   ]
  },
  {
   "cell_type": "code",
   "execution_count": 11,
   "metadata": {},
   "outputs": [],
   "source": [
    "batch_size, _, _ = np.asarray(real_sample).squeeze().shape"
   ]
  },
  {
   "cell_type": "code",
   "execution_count": 12,
   "metadata": {},
   "outputs": [
    {
     "data": {
      "text/plain": [
       "16260"
      ]
     },
     "execution_count": 12,
     "metadata": {},
     "output_type": "execute_result"
    }
   ],
   "source": [
    "batch_size"
   ]
  },
  {
   "cell_type": "code",
   "execution_count": 5,
   "metadata": {},
   "outputs": [],
   "source": [
    "log_dir = '../logs/testdaghar_all_50000_6axis_60_100'\n",
    "path = '../DAGHAR_split_25_10/train/'\n",
    "data_path = path + 'data/'\n",
    "dataset = os.listdir(data_path)\n",
    "label_path = [path + 'label/' + s.replace('DAGHAR', 'Label') for s in dataset]"
   ]
  },
  {
   "cell_type": "code",
   "execution_count": 10,
   "metadata": {},
   "outputs": [
    {
     "name": "stdout",
     "output_type": "stream",
     "text": [
      "../DAGHAR_split_25_10/train/data/MotionSense_DAGHAR_Multiclass.csv\n",
      "../DAGHAR_split_25_10/train/data/RealWorld_thigh_DAGHAR_Multiclass.csv\n",
      "../DAGHAR_split_25_10/train/data/WISDM_DAGHAR_Multiclass.csv\n",
      "../DAGHAR_split_25_10/train/data/UCI_DAGHAR_Multiclass.csv\n",
      "../DAGHAR_split_25_10/train/data/RealWorld_waist_DAGHAR_Multiclass.csv\n",
      "../DAGHAR_split_25_10/train/data/KuHar_DAGHAR_Multiclass.csv\n"
     ]
    }
   ],
   "source": [
    "for i in range(len(dataset)):\n",
    "    print(data_path + dataset[i])"
   ]
  },
  {
   "cell_type": "code",
   "execution_count": 17,
   "metadata": {},
   "outputs": [
    {
     "name": "stdout",
     "output_type": "stream",
     "text": [
      "MotionSense_DAGHAR_Multiclass.csv\n",
      "RealWorld_thigh_DAGHAR_Multiclass.csv\n",
      "WISDM_DAGHAR_Multiclass.csv\n",
      "UCI_DAGHAR_Multiclass.csv\n",
      "RealWorld_waist_DAGHAR_Multiclass.csv\n",
      "KuHar_DAGHAR_Multiclass.csv\n"
     ]
    }
   ],
   "source": [
    "classes = os.listdir(data_path)\n",
    "for i, class_name in enumerate([s for s in classes]):\n",
    "    print(class_name)"
   ]
  }
 ],
 "metadata": {
  "kernelspec": {
   "display_name": "Python 3 (ipykernel)",
   "language": "python",
   "name": "python3"
  }
 },
 "nbformat": 4,
 "nbformat_minor": 2
}
