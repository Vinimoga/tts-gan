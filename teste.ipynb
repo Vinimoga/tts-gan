{
 "cells": [
  {
   "cell_type": "code",
   "execution_count": null,
   "metadata": {},
   "outputs": [
    {
     "name": "stdout",
     "output_type": "stream",
     "text": [
      "\n",
      " Starting training\n",
      "Total of classes being trained: 1\n",
      "\n",
      "['UCI_DAGHAR_Multiclass.csv']\n",
      "----------------------------------------------------------------------------------------------------\n",
      "\n",
      "----------------------------------------------------------------------------------------------------\n",
      "\n",
      " Starting individual training\n",
      "UCI_DAGHAR_Multiclass training\n",
      "Data path: DAGHAR_split_25_10_all/train/data/UCI_DAGHAR_Multiclass.csv\n",
      "Label path: DAGHAR_split_25_10_all/train/label/UCI_Label_Multiclass.csv\n",
      "----------------------------------------------------------------------------------------------------\n"
     ]
    },
    {
     "name": "stderr",
     "output_type": "stream",
     "text": [
      "/usr/local/lib/python3.10/dist-packages/_distutils_hack/__init__.py:55: UserWarning: Reliance on distutils from stdlib is deprecated. Users must rely on setuptools to provide the distutils module. Avoid importing distutils or import setuptools first, and avoid setting SETUPTOOLS_USE_DISTUTILS=stdlib. Register concerns at https://github.com/pypa/setuptools/issues/new?template=distutils-deprecation.yml\n",
      "  warnings.warn(\n"
     ]
    },
    {
     "name": "stdout",
     "output_type": "stream",
     "text": [
      "Generator(\n",
      "  (l1): Linear(in_features=100, out_features=600, bias=True)\n",
      "  (blocks): Gen_TransformerEncoder(\n",
      "    (0): Gen_TransformerEncoderBlock(\n",
      "      (0): ResidualAdd(\n",
      "        (fn): Sequential(\n",
      "          (0): LayerNorm((10,), eps=1e-05, elementwise_affine=True)\n",
      "          (1): MultiHeadAttention(\n",
      "            (keys): Linear(in_features=10, out_features=10, bias=True)\n",
      "            (queries): Linear(in_features=10, out_features=10, bias=True)\n",
      "            (values): Linear(in_features=10, out_features=10, bias=True)\n",
      "            (att_drop): Dropout(p=0.5, inplace=False)\n",
      "            (projection): Linear(in_features=10, out_features=10, bias=True)\n",
      "          )\n",
      "          (2): Dropout(p=0.5, inplace=False)\n",
      "        )\n",
      "      )\n",
      "      (1): ResidualAdd(\n",
      "        (fn): Sequential(\n",
      "          (0): LayerNorm((10,), eps=1e-05, elementwise_affine=True)\n",
      "          (1): FeedForwardBlock(\n",
      "            (0): Linear(in_features=10, out_features=40, bias=True)\n",
      "            (1): GELU(approximate='none')\n",
      "            (2): Dropout(p=0.5, inplace=False)\n",
      "            (3): Linear(in_features=40, out_features=10, bias=True)\n",
      "          )\n",
      "          (2): Dropout(p=0.5, inplace=False)\n",
      "        )\n",
      "      )\n",
      "    )\n",
      "    (1): Gen_TransformerEncoderBlock(\n",
      "      (0): ResidualAdd(\n",
      "        (fn): Sequential(\n",
      "          (0): LayerNorm((10,), eps=1e-05, elementwise_affine=True)\n",
      "          (1): MultiHeadAttention(\n",
      "            (keys): Linear(in_features=10, out_features=10, bias=True)\n",
      "            (queries): Linear(in_features=10, out_features=10, bias=True)\n",
      "            (values): Linear(in_features=10, out_features=10, bias=True)\n",
      "            (att_drop): Dropout(p=0.5, inplace=False)\n",
      "            (projection): Linear(in_features=10, out_features=10, bias=True)\n",
      "          )\n",
      "          (2): Dropout(p=0.5, inplace=False)\n",
      "        )\n",
      "      )\n",
      "      (1): ResidualAdd(\n",
      "        (fn): Sequential(\n",
      "          (0): LayerNorm((10,), eps=1e-05, elementwise_affine=True)\n",
      "          (1): FeedForwardBlock(\n",
      "            (0): Linear(in_features=10, out_features=40, bias=True)\n",
      "            (1): GELU(approximate='none')\n",
      "            (2): Dropout(p=0.5, inplace=False)\n",
      "            (3): Linear(in_features=40, out_features=10, bias=True)\n",
      "          )\n",
      "          (2): Dropout(p=0.5, inplace=False)\n",
      "        )\n",
      "      )\n",
      "    )\n",
      "    (2): Gen_TransformerEncoderBlock(\n",
      "      (0): ResidualAdd(\n",
      "        (fn): Sequential(\n",
      "          (0): LayerNorm((10,), eps=1e-05, elementwise_affine=True)\n",
      "          (1): MultiHeadAttention(\n",
      "            (keys): Linear(in_features=10, out_features=10, bias=True)\n",
      "            (queries): Linear(in_features=10, out_features=10, bias=True)\n",
      "            (values): Linear(in_features=10, out_features=10, bias=True)\n",
      "            (att_drop): Dropout(p=0.5, inplace=False)\n",
      "            (projection): Linear(in_features=10, out_features=10, bias=True)\n",
      "          )\n",
      "          (2): Dropout(p=0.5, inplace=False)\n",
      "        )\n",
      "      )\n",
      "      (1): ResidualAdd(\n",
      "        (fn): Sequential(\n",
      "          (0): LayerNorm((10,), eps=1e-05, elementwise_affine=True)\n",
      "          (1): FeedForwardBlock(\n",
      "            (0): Linear(in_features=10, out_features=40, bias=True)\n",
      "            (1): GELU(approximate='none')\n",
      "            (2): Dropout(p=0.5, inplace=False)\n",
      "            (3): Linear(in_features=40, out_features=10, bias=True)\n",
      "          )\n",
      "          (2): Dropout(p=0.5, inplace=False)\n",
      "        )\n",
      "      )\n",
      "    )\n",
      "  )\n",
      "  (deconv): Sequential(\n",
      "    (0): Conv2d(10, 6, kernel_size=(1, 1), stride=(1, 1))\n",
      "  )\n",
      ")\n",
      "Discriminator(\n",
      "  (0): PatchEmbedding_Linear(\n",
      "    (projection): Sequential(\n",
      "      (0): RearrangeLayer()\n",
      "      (1): Linear(in_features=90, out_features=50, bias=True)\n",
      "    )\n",
      "  )\n",
      "  (1): Dis_TransformerEncoder(\n",
      "    (0): Dis_TransformerEncoderBlock(\n",
      "      (0): ResidualAdd(\n",
      "        (fn): Sequential(\n",
      "          (0): LayerNorm((50,), eps=1e-05, elementwise_affine=True)\n",
      "          (1): MultiHeadAttention(\n",
      "            (keys): Linear(in_features=50, out_features=50, bias=True)\n",
      "            (queries): Linear(in_features=50, out_features=50, bias=True)\n",
      "            (values): Linear(in_features=50, out_features=50, bias=True)\n",
      "            (att_drop): Dropout(p=0.5, inplace=False)\n",
      "            (projection): Linear(in_features=50, out_features=50, bias=True)\n",
      "          )\n",
      "          (2): Dropout(p=0.5, inplace=False)\n",
      "        )\n",
      "      )\n",
      "      (1): ResidualAdd(\n",
      "        (fn): Sequential(\n",
      "          (0): LayerNorm((50,), eps=1e-05, elementwise_affine=True)\n",
      "          (1): FeedForwardBlock(\n",
      "            (0): Linear(in_features=50, out_features=200, bias=True)\n",
      "            (1): GELU(approximate='none')\n",
      "            (2): Dropout(p=0.5, inplace=False)\n",
      "            (3): Linear(in_features=200, out_features=50, bias=True)\n",
      "          )\n",
      "          (2): Dropout(p=0.5, inplace=False)\n",
      "        )\n",
      "      )\n",
      "    )\n",
      "    (1): Dis_TransformerEncoderBlock(\n",
      "      (0): ResidualAdd(\n",
      "        (fn): Sequential(\n",
      "          (0): LayerNorm((50,), eps=1e-05, elementwise_affine=True)\n",
      "          (1): MultiHeadAttention(\n",
      "            (keys): Linear(in_features=50, out_features=50, bias=True)\n",
      "            (queries): Linear(in_features=50, out_features=50, bias=True)\n",
      "            (values): Linear(in_features=50, out_features=50, bias=True)\n",
      "            (att_drop): Dropout(p=0.5, inplace=False)\n",
      "            (projection): Linear(in_features=50, out_features=50, bias=True)\n",
      "          )\n",
      "          (2): Dropout(p=0.5, inplace=False)\n",
      "        )\n",
      "      )\n",
      "      (1): ResidualAdd(\n",
      "        (fn): Sequential(\n",
      "          (0): LayerNorm((50,), eps=1e-05, elementwise_affine=True)\n",
      "          (1): FeedForwardBlock(\n",
      "            (0): Linear(in_features=50, out_features=200, bias=True)\n",
      "            (1): GELU(approximate='none')\n",
      "            (2): Dropout(p=0.5, inplace=False)\n",
      "            (3): Linear(in_features=200, out_features=50, bias=True)\n",
      "          )\n",
      "          (2): Dropout(p=0.5, inplace=False)\n",
      "        )\n",
      "      )\n",
      "    )\n",
      "    (2): Dis_TransformerEncoderBlock(\n",
      "      (0): ResidualAdd(\n",
      "        (fn): Sequential(\n",
      "          (0): LayerNorm((50,), eps=1e-05, elementwise_affine=True)\n",
      "          (1): MultiHeadAttention(\n",
      "            (keys): Linear(in_features=50, out_features=50, bias=True)\n",
      "            (queries): Linear(in_features=50, out_features=50, bias=True)\n",
      "            (values): Linear(in_features=50, out_features=50, bias=True)\n",
      "            (att_drop): Dropout(p=0.5, inplace=False)\n",
      "            (projection): Linear(in_features=50, out_features=50, bias=True)\n",
      "          )\n",
      "          (2): Dropout(p=0.5, inplace=False)\n",
      "        )\n",
      "      )\n",
      "      (1): ResidualAdd(\n",
      "        (fn): Sequential(\n",
      "          (0): LayerNorm((50,), eps=1e-05, elementwise_affine=True)\n",
      "          (1): FeedForwardBlock(\n",
      "            (0): Linear(in_features=50, out_features=200, bias=True)\n",
      "            (1): GELU(approximate='none')\n",
      "            (2): Dropout(p=0.5, inplace=False)\n",
      "            (3): Linear(in_features=200, out_features=50, bias=True)\n",
      "          )\n",
      "          (2): Dropout(p=0.5, inplace=False)\n",
      "        )\n",
      "      )\n",
      "    )\n",
      "  )\n",
      "  (2): ClassificationHead(\n",
      "    (clshead): Sequential(\n",
      "      (0): ReduceLayer()\n",
      "      (1): LayerNorm((50,), eps=1e-05, elementwise_affine=True)\n",
      "      (2): Linear(in_features=50, out_features=1, bias=True)\n",
      "    )\n",
      "  )\n",
      ")\n",
      "DataParallel(\n",
      "  (module): Discriminator(\n",
      "    (0): PatchEmbedding_Linear(\n",
      "      (projection): Sequential(\n",
      "        (0): RearrangeLayer()\n",
      "        (1): Linear(in_features=90, out_features=50, bias=True)\n",
      "      )\n",
      "    )\n",
      "    (1): Dis_TransformerEncoder(\n",
      "      (0): Dis_TransformerEncoderBlock(\n",
      "        (0): ResidualAdd(\n",
      "          (fn): Sequential(\n",
      "            (0): LayerNorm((50,), eps=1e-05, elementwise_affine=True)\n",
      "            (1): MultiHeadAttention(\n",
      "              (keys): Linear(in_features=50, out_features=50, bias=True)\n",
      "              (queries): Linear(in_features=50, out_features=50, bias=True)\n",
      "              (values): Linear(in_features=50, out_features=50, bias=True)\n",
      "              (att_drop): Dropout(p=0.5, inplace=False)\n",
      "              (projection): Linear(in_features=50, out_features=50, bias=True)\n",
      "            )\n",
      "            (2): Dropout(p=0.5, inplace=False)\n",
      "          )\n",
      "        )\n",
      "        (1): ResidualAdd(\n",
      "          (fn): Sequential(\n",
      "            (0): LayerNorm((50,), eps=1e-05, elementwise_affine=True)\n",
      "            (1): FeedForwardBlock(\n",
      "              (0): Linear(in_features=50, out_features=200, bias=True)\n",
      "              (1): GELU(approximate='none')\n",
      "              (2): Dropout(p=0.5, inplace=False)\n",
      "              (3): Linear(in_features=200, out_features=50, bias=True)\n",
      "            )\n",
      "            (2): Dropout(p=0.5, inplace=False)\n",
      "          )\n",
      "        )\n",
      "      )\n",
      "      (1): Dis_TransformerEncoderBlock(\n",
      "        (0): ResidualAdd(\n",
      "          (fn): Sequential(\n",
      "            (0): LayerNorm((50,), eps=1e-05, elementwise_affine=True)\n",
      "            (1): MultiHeadAttention(\n",
      "              (keys): Linear(in_features=50, out_features=50, bias=True)\n",
      "              (queries): Linear(in_features=50, out_features=50, bias=True)\n",
      "              (values): Linear(in_features=50, out_features=50, bias=True)\n",
      "              (att_drop): Dropout(p=0.5, inplace=False)\n",
      "              (projection): Linear(in_features=50, out_features=50, bias=True)\n",
      "            )\n",
      "            (2): Dropout(p=0.5, inplace=False)\n",
      "          )\n",
      "        )\n",
      "        (1): ResidualAdd(\n",
      "          (fn): Sequential(\n",
      "            (0): LayerNorm((50,), eps=1e-05, elementwise_affine=True)\n",
      "            (1): FeedForwardBlock(\n",
      "              (0): Linear(in_features=50, out_features=200, bias=True)\n",
      "              (1): GELU(approximate='none')\n",
      "              (2): Dropout(p=0.5, inplace=False)\n",
      "              (3): Linear(in_features=200, out_features=50, bias=True)\n",
      "            )\n",
      "            (2): Dropout(p=0.5, inplace=False)\n",
      "          )\n",
      "        )\n",
      "      )\n",
      "      (2): Dis_TransformerEncoderBlock(\n",
      "        (0): ResidualAdd(\n",
      "          (fn): Sequential(\n",
      "            (0): LayerNorm((50,), eps=1e-05, elementwise_affine=True)\n",
      "            (1): MultiHeadAttention(\n",
      "              (keys): Linear(in_features=50, out_features=50, bias=True)\n",
      "              (queries): Linear(in_features=50, out_features=50, bias=True)\n",
      "              (values): Linear(in_features=50, out_features=50, bias=True)\n",
      "              (att_drop): Dropout(p=0.5, inplace=False)\n",
      "              (projection): Linear(in_features=50, out_features=50, bias=True)\n",
      "            )\n",
      "            (2): Dropout(p=0.5, inplace=False)\n",
      "          )\n",
      "        )\n",
      "        (1): ResidualAdd(\n",
      "          (fn): Sequential(\n",
      "            (0): LayerNorm((50,), eps=1e-05, elementwise_affine=True)\n",
      "            (1): FeedForwardBlock(\n",
      "              (0): Linear(in_features=50, out_features=200, bias=True)\n",
      "              (1): GELU(approximate='none')\n",
      "              (2): Dropout(p=0.5, inplace=False)\n",
      "              (3): Linear(in_features=200, out_features=50, bias=True)\n",
      "            )\n",
      "            (2): Dropout(p=0.5, inplace=False)\n",
      "          )\n",
      "        )\n",
      "      )\n",
      "    )\n",
      "    (2): ClassificationHead(\n",
      "      (clshead): Sequential(\n",
      "        (0): ReduceLayer()\n",
      "        (1): LayerNorm((50,), eps=1e-05, elementwise_affine=True)\n",
      "        (2): Linear(in_features=50, out_features=1, bias=True)\n",
      "      )\n",
      "    )\n",
      "  )\n",
      ")\n",
      "UCI_DAGHAR_Multiclass\n",
      "daghar\n",
      "return single class data and labels, class is UCI_DAGHAR_Multiclass\n",
      "data shape is (36788, 6, 1, 60)\n",
      "label shape is (36788,)\n",
      "2300\n",
      "Epochs between checkpoint: 1\n",
      "\n",
      "\n",
      "\n",
      "Saving checkpoint 1 in logs/daghar_all_50000_6axis_60_100/UCI_DAGHAR_Multiclass_1_D_60_6axis_2024_12_03_00_04_41/Model\n",
      "\n",
      "\n",
      "\n"
     ]
    },
    {
     "name": "stderr",
     "output_type": "stream",
     "text": [
      "/workspaces/container-workspace/tts-gan/train_GAN_dahar.py:225: UserWarning: The torch.cuda.*DtypeTensor constructors are no longer recommended. It's best to use methods such as torch.tensor(data, dtype=*, device='cuda') to create tensors. (Triggered internally at ../torch/csrc/tensor/python_tensor.cpp:78.)\n",
      "  fixed_z = torch.cuda.FloatTensor(np.random.normal(0, 1, (100, args.latent_dim)))\n",
      "Namespace(world_size=1, rank=0, loca_rank=-1, dist_url='tcp://localhost:4321', dist_backend='nccl', seed=12345, gpu=None, multiprocessing_distributed=False, max_epoch=1.0, max_iter=1, gen_batch_size=16, dis_batch_size=16, batch_size=16, g_lr=0.0001, wd=0.001, d_lr=0.0003, ctrl_lr=0.00035, lr_decay=False, beta1=0.9, beta2=0.999, num_workers=6, latent_dim=100, img_size=32, channels=6, n_critic=1, val_freq=20, print_freq=1000, log_dir='logs/daghar_all_50000_6axis_60_100', path_helper={'prefix': 'logs/daghar_all_50000_6axis_60_100/UCI_DAGHAR_Multiclass_1_D_60_6axis_2024_12_03_00_04_41', 'ckpt_path': 'logs/daghar_all_50000_6axis_60_100/UCI_DAGHAR_Multiclass_1_D_60_6axis_2024_12_03_00_04_41/Model', 'log_path': 'logs/daghar_all_50000_6axis_60_100/UCI_DAGHAR_Multiclass_1_D_60_6axis_2024_12_03_00_04_41/Log', 'sample_path': 'logs/daghar_all_50000_6axis_60_100/UCI_DAGHAR_Multiclass_1_D_60_6axis_2024_12_03_00_04_41/Samples'}, checkpoint_number=4, seq_len=60, load_path=None, class_name='UCI_DAGHAR_Multiclass', augment_times=None, exp_name='UCI_DAGHAR_Multiclass_1_D_60_6axis', d_spectral_norm=False, g_spectral_norm=False, dataset='daghar', data_path='DAGHAR_split_25_10_all/train/data/UCI_DAGHAR_Multiclass.csv', label_path='DAGHAR_split_25_10_all/train/label/UCI_Label_Multiclass.csv', init_type='xavier_uniform', gf_dim=1024, df_dim=384, gen_model='my_gen', dis_model='my_dis', controller='controller', eval_batch_size=100, num_eval_imgs=50000, bottom_width=8, random_seed=12345, shared_epoch=15, grow_step1=25, grow_step2=55, max_search_iter=90, ctrl_step=30, ctrl_sample_batch=1, hid_size=100, baseline_decay=0.9, rl_num_eval_img=5000, num_candidate=10, topk=5, entropy_coeff=0.001, dynamic_reset_threshold=0.001, dynamic_reset_window=500, arch=None, optimizer='adam', loss='lsgan', n_classes=0, phi=1.0, grow_steps=[0, 0], D_downsample='avg', fade_in=0.0, d_depth=3, g_depth='5,4,2', g_norm='ln', d_norm='ln', g_act='gelu', d_act='gelu', patch_size=2, fid_stat='None', diff_aug='translation,cutout,color', accumulated_times=1, g_accumulated_times=1, num_landmarks=64, d_heads=4, dropout=0.0, ema=0.9999, ema_warmup=0.1, ema_kimg=500, latent_norm=False, ministd=False, g_mlp=4, d_mlp=4, g_window_size=8, d_window_size=8, show=False, distributed=False)\n",
      "  0%|          | 0/2300 [00:00<?, ?it/s]"
     ]
    },
    {
     "name": "stdout",
     "output_type": "stream",
     "text": [
      "test\n",
      "[Epoch 0/1] [Batch 0/2300] [D loss: 2.050287] [G loss: 0.614858] [ema: 0.000000] \n",
      "test\n",
      "test\n",
      "test\n",
      "test\n"
     ]
    },
    {
     "name": "stderr",
     "output_type": "stream",
     "text": [
      "/workspaces/container-workspace/tts-gan/functions.py:359: UserWarning: This overload of add_ is deprecated:\n",
      "\tadd_(Number alpha, Tensor other)\n",
      "Consider using one of the following signatures instead:\n",
      "\tadd_(Tensor other, *, Number alpha = 1) (Triggered internally at ../torch/csrc/utils/python_arg_parser.cpp:1581.)\n",
      "  avg_p.mul_(ema_beta).add_(1. - ema_beta, cpu_p.cpu().data)\n",
      "  0%|          | 4/2300 [00:00<05:21,  7.14it/s]"
     ]
    },
    {
     "name": "stdout",
     "output_type": "stream",
     "text": [
      "test\n",
      "test\n",
      "test\n",
      "test\n",
      "test\n",
      "test\n"
     ]
    },
    {
     "name": "stderr",
     "output_type": "stream",
     "text": [
      "  0%|          | 10/2300 [00:00<02:24, 15.80it/s]"
     ]
    },
    {
     "name": "stdout",
     "output_type": "stream",
     "text": [
      "test\n",
      "test\n",
      "test\n",
      "test\n",
      "test\n",
      "test\n"
     ]
    },
    {
     "name": "stderr",
     "output_type": "stream",
     "text": [
      "  1%|          | 16/2300 [00:01<01:49, 20.94it/s]"
     ]
    },
    {
     "name": "stdout",
     "output_type": "stream",
     "text": [
      "test\n",
      "test\n",
      "test\n",
      "test\n",
      "test\n",
      "test\n"
     ]
    },
    {
     "name": "stderr",
     "output_type": "stream",
     "text": [
      "  1%|          | 22/2300 [00:01<01:34, 24.07it/s]"
     ]
    },
    {
     "name": "stdout",
     "output_type": "stream",
     "text": [
      "test\n",
      "test\n",
      "test\n",
      "test\n",
      "test\n",
      "test\n"
     ]
    },
    {
     "name": "stderr",
     "output_type": "stream",
     "text": [
      "  1%|          | 28/2300 [00:01<01:30, 25.14it/s]"
     ]
    },
    {
     "name": "stdout",
     "output_type": "stream",
     "text": [
      "test\n",
      "test\n",
      "test\n",
      "test\n",
      "test\n",
      "test\n"
     ]
    },
    {
     "name": "stderr",
     "output_type": "stream",
     "text": [
      "  1%|▏         | 34/2300 [00:01<01:26, 26.05it/s]"
     ]
    },
    {
     "name": "stdout",
     "output_type": "stream",
     "text": [
      "test\n",
      "test\n",
      "test\n",
      "test\n",
      "test\n",
      "test\n"
     ]
    },
    {
     "name": "stderr",
     "output_type": "stream",
     "text": [
      "  2%|▏         | 40/2300 [00:02<01:24, 26.63it/s]"
     ]
    },
    {
     "name": "stdout",
     "output_type": "stream",
     "text": [
      "test\n",
      "test\n",
      "test\n",
      "test\n",
      "test\n",
      "test\n"
     ]
    },
    {
     "name": "stderr",
     "output_type": "stream",
     "text": [
      "  2%|▏         | 46/2300 [00:02<01:23, 26.94it/s]"
     ]
    },
    {
     "name": "stdout",
     "output_type": "stream",
     "text": [
      "test\n",
      "test\n",
      "test\n",
      "test\n",
      "test\n",
      "test\n"
     ]
    },
    {
     "name": "stderr",
     "output_type": "stream",
     "text": [
      "  2%|▏         | 52/2300 [00:02<01:22, 27.40it/s]"
     ]
    },
    {
     "name": "stdout",
     "output_type": "stream",
     "text": [
      "test\n",
      "test\n",
      "test\n",
      "test\n",
      "test\n",
      "test\n"
     ]
    },
    {
     "name": "stderr",
     "output_type": "stream",
     "text": [
      "  3%|▎         | 58/2300 [00:02<01:21, 27.57it/s]"
     ]
    },
    {
     "name": "stdout",
     "output_type": "stream",
     "text": [
      "test\n",
      "test\n",
      "test\n",
      "test\n",
      "test\n",
      "test\n"
     ]
    },
    {
     "name": "stderr",
     "output_type": "stream",
     "text": [
      "  3%|▎         | 64/2300 [00:02<01:22, 27.20it/s]"
     ]
    },
    {
     "name": "stdout",
     "output_type": "stream",
     "text": [
      "test\n",
      "test\n",
      "test\n",
      "test\n",
      "test\n",
      "test\n"
     ]
    },
    {
     "name": "stderr",
     "output_type": "stream",
     "text": [
      "  3%|▎         | 70/2300 [00:03<01:22, 27.17it/s]"
     ]
    },
    {
     "name": "stdout",
     "output_type": "stream",
     "text": [
      "test\n",
      "test\n",
      "test\n",
      "test\n",
      "test\n",
      "test\n"
     ]
    },
    {
     "name": "stderr",
     "output_type": "stream",
     "text": [
      "  3%|▎         | 76/2300 [00:03<01:22, 26.98it/s]"
     ]
    },
    {
     "name": "stdout",
     "output_type": "stream",
     "text": [
      "test\n",
      "test\n",
      "test\n",
      "test\n",
      "test\n",
      "test\n"
     ]
    },
    {
     "name": "stderr",
     "output_type": "stream",
     "text": [
      "  4%|▎         | 82/2300 [00:03<01:24, 26.17it/s]"
     ]
    },
    {
     "name": "stdout",
     "output_type": "stream",
     "text": [
      "test\n",
      "test\n",
      "test\n",
      "test\n",
      "test\n",
      "test\n"
     ]
    },
    {
     "name": "stderr",
     "output_type": "stream",
     "text": [
      "  4%|▍         | 88/2300 [00:03<01:23, 26.57it/s]"
     ]
    },
    {
     "name": "stdout",
     "output_type": "stream",
     "text": [
      "test\n",
      "test\n",
      "test\n",
      "test\n",
      "test\n",
      "test\n"
     ]
    },
    {
     "name": "stderr",
     "output_type": "stream",
     "text": [
      "  4%|▍         | 94/2300 [00:04<01:22, 26.63it/s]"
     ]
    },
    {
     "name": "stdout",
     "output_type": "stream",
     "text": [
      "test\n",
      "test\n",
      "test\n",
      "test\n",
      "test\n",
      "test\n"
     ]
    },
    {
     "name": "stderr",
     "output_type": "stream",
     "text": [
      "  4%|▍         | 100/2300 [00:04<01:21, 26.99it/s]"
     ]
    },
    {
     "name": "stdout",
     "output_type": "stream",
     "text": [
      "test\n",
      "test\n",
      "test\n",
      "test\n",
      "test\n",
      "test\n"
     ]
    },
    {
     "name": "stderr",
     "output_type": "stream",
     "text": [
      "  5%|▍         | 106/2300 [00:04<01:20, 27.25it/s]"
     ]
    },
    {
     "name": "stdout",
     "output_type": "stream",
     "text": [
      "test\n",
      "test\n",
      "test\n",
      "test\n",
      "test\n",
      "test\n"
     ]
    },
    {
     "name": "stderr",
     "output_type": "stream",
     "text": [
      "  5%|▍         | 112/2300 [00:04<01:19, 27.43it/s]"
     ]
    },
    {
     "name": "stdout",
     "output_type": "stream",
     "text": [
      "test\n",
      "test\n",
      "test\n",
      "test\n",
      "test\n",
      "test\n"
     ]
    },
    {
     "name": "stderr",
     "output_type": "stream",
     "text": [
      "  5%|▌         | 118/2300 [00:04<01:20, 27.23it/s]"
     ]
    },
    {
     "name": "stdout",
     "output_type": "stream",
     "text": [
      "test\n",
      "test\n",
      "test\n",
      "test\n",
      "test\n",
      "test\n"
     ]
    },
    {
     "name": "stderr",
     "output_type": "stream",
     "text": [
      "  5%|▌         | 124/2300 [00:05<01:20, 27.17it/s]"
     ]
    },
    {
     "name": "stdout",
     "output_type": "stream",
     "text": [
      "test\n",
      "test\n",
      "test\n",
      "test\n",
      "test\n",
      "test\n"
     ]
    },
    {
     "name": "stderr",
     "output_type": "stream",
     "text": [
      "  6%|▌         | 130/2300 [00:05<01:20, 27.11it/s]"
     ]
    },
    {
     "name": "stdout",
     "output_type": "stream",
     "text": [
      "test\n",
      "test\n",
      "test\n",
      "test\n",
      "test\n",
      "test\n"
     ]
    },
    {
     "name": "stderr",
     "output_type": "stream",
     "text": [
      "  6%|▌         | 136/2300 [00:05<01:20, 26.77it/s]"
     ]
    },
    {
     "name": "stdout",
     "output_type": "stream",
     "text": [
      "test\n",
      "test\n",
      "test\n",
      "test\n",
      "test\n",
      "test\n"
     ]
    },
    {
     "name": "stderr",
     "output_type": "stream",
     "text": [
      "  6%|▌         | 142/2300 [00:05<01:20, 26.88it/s]"
     ]
    },
    {
     "name": "stdout",
     "output_type": "stream",
     "text": [
      "test\n",
      "test\n",
      "test\n",
      "test\n",
      "test\n",
      "test\n"
     ]
    },
    {
     "name": "stderr",
     "output_type": "stream",
     "text": [
      "  6%|▋         | 148/2300 [00:06<01:19, 27.06it/s]"
     ]
    },
    {
     "name": "stdout",
     "output_type": "stream",
     "text": [
      "test\n",
      "test\n",
      "test\n",
      "test\n",
      "test\n",
      "test\n"
     ]
    },
    {
     "name": "stderr",
     "output_type": "stream",
     "text": [
      "  7%|▋         | 154/2300 [00:06<01:19, 27.12it/s]"
     ]
    },
    {
     "name": "stdout",
     "output_type": "stream",
     "text": [
      "test\n",
      "test\n",
      "test\n",
      "test\n",
      "test\n",
      "test\n"
     ]
    },
    {
     "name": "stderr",
     "output_type": "stream",
     "text": [
      "  7%|▋         | 160/2300 [00:06<01:19, 26.99it/s]"
     ]
    },
    {
     "name": "stdout",
     "output_type": "stream",
     "text": [
      "test\n",
      "test\n",
      "test\n",
      "test\n",
      "test\n",
      "test\n"
     ]
    },
    {
     "name": "stderr",
     "output_type": "stream",
     "text": [
      "  7%|▋         | 166/2300 [00:06<01:18, 27.08it/s]"
     ]
    },
    {
     "name": "stdout",
     "output_type": "stream",
     "text": [
      "test\n",
      "test\n",
      "test\n",
      "test\n",
      "test\n",
      "test\n"
     ]
    },
    {
     "name": "stderr",
     "output_type": "stream",
     "text": [
      "  7%|▋         | 172/2300 [00:06<01:18, 27.03it/s]"
     ]
    },
    {
     "name": "stdout",
     "output_type": "stream",
     "text": [
      "test\n",
      "test\n",
      "test\n",
      "test\n",
      "test\n",
      "test\n"
     ]
    },
    {
     "name": "stderr",
     "output_type": "stream",
     "text": [
      "  8%|▊         | 178/2300 [00:07<01:18, 27.18it/s]"
     ]
    },
    {
     "name": "stdout",
     "output_type": "stream",
     "text": [
      "test\n",
      "test\n",
      "test\n",
      "test\n",
      "test\n",
      "test\n"
     ]
    },
    {
     "name": "stderr",
     "output_type": "stream",
     "text": [
      "  8%|▊         | 184/2300 [00:07<01:18, 27.04it/s]"
     ]
    },
    {
     "name": "stdout",
     "output_type": "stream",
     "text": [
      "test\n",
      "test\n",
      "test\n",
      "test\n",
      "test\n",
      "test\n"
     ]
    },
    {
     "name": "stderr",
     "output_type": "stream",
     "text": [
      "  8%|▊         | 190/2300 [00:07<01:17, 27.07it/s]"
     ]
    },
    {
     "name": "stdout",
     "output_type": "stream",
     "text": [
      "test\n",
      "test\n",
      "test\n",
      "test\n",
      "test\n",
      "test\n"
     ]
    },
    {
     "name": "stderr",
     "output_type": "stream",
     "text": [
      "  9%|▊         | 196/2300 [00:07<01:17, 27.17it/s]"
     ]
    },
    {
     "name": "stdout",
     "output_type": "stream",
     "text": [
      "test\n",
      "test\n",
      "test\n",
      "test\n",
      "test\n",
      "test\n"
     ]
    },
    {
     "name": "stderr",
     "output_type": "stream",
     "text": [
      "  9%|▉         | 202/2300 [00:08<01:17, 27.23it/s]"
     ]
    },
    {
     "name": "stdout",
     "output_type": "stream",
     "text": [
      "test\n",
      "test\n",
      "test\n",
      "test\n",
      "test\n",
      "test\n"
     ]
    },
    {
     "name": "stderr",
     "output_type": "stream",
     "text": [
      "  9%|▉         | 208/2300 [00:08<01:16, 27.24it/s]"
     ]
    },
    {
     "name": "stdout",
     "output_type": "stream",
     "text": [
      "test\n",
      "test\n",
      "test\n",
      "test\n",
      "test\n",
      "test\n"
     ]
    },
    {
     "name": "stderr",
     "output_type": "stream",
     "text": [
      "  9%|▉         | 214/2300 [00:08<01:17, 26.95it/s]"
     ]
    },
    {
     "name": "stdout",
     "output_type": "stream",
     "text": [
      "test\n",
      "test\n",
      "test\n",
      "test\n",
      "test\n",
      "test\n"
     ]
    },
    {
     "name": "stderr",
     "output_type": "stream",
     "text": [
      " 10%|▉         | 220/2300 [00:08<01:16, 27.03it/s]"
     ]
    },
    {
     "name": "stdout",
     "output_type": "stream",
     "text": [
      "test\n",
      "test\n",
      "test\n",
      "test\n",
      "test\n",
      "test\n"
     ]
    },
    {
     "name": "stderr",
     "output_type": "stream",
     "text": [
      " 10%|▉         | 226/2300 [00:08<01:16, 27.08it/s]"
     ]
    },
    {
     "name": "stdout",
     "output_type": "stream",
     "text": [
      "test\n",
      "test\n",
      "test\n",
      "test\n",
      "test\n"
     ]
    },
    {
     "name": "stderr",
     "output_type": "stream",
     "text": [
      " 10%|█         | 232/2300 [00:09<01:20, 25.62it/s]"
     ]
    },
    {
     "name": "stdout",
     "output_type": "stream",
     "text": [
      "test\n",
      "test\n",
      "test\n",
      "test\n",
      "test\n",
      "test\n"
     ]
    },
    {
     "name": "stderr",
     "output_type": "stream",
     "text": [
      " 10%|█         | 238/2300 [00:09<01:18, 26.25it/s]"
     ]
    },
    {
     "name": "stdout",
     "output_type": "stream",
     "text": [
      "test\n",
      "test\n",
      "test\n",
      "test\n",
      "test\n",
      "test\n"
     ]
    },
    {
     "name": "stderr",
     "output_type": "stream",
     "text": [
      " 11%|█         | 244/2300 [00:09<01:16, 26.84it/s]"
     ]
    },
    {
     "name": "stdout",
     "output_type": "stream",
     "text": [
      "test\n",
      "test\n",
      "test\n",
      "test\n",
      "test\n",
      "test\n"
     ]
    },
    {
     "name": "stderr",
     "output_type": "stream",
     "text": [
      " 11%|█         | 250/2300 [00:09<01:16, 26.67it/s]"
     ]
    },
    {
     "name": "stdout",
     "output_type": "stream",
     "text": [
      "test\n",
      "test\n",
      "test\n",
      "test\n",
      "test\n",
      "test\n"
     ]
    },
    {
     "name": "stderr",
     "output_type": "stream",
     "text": [
      " 11%|█         | 256/2300 [00:10<01:15, 27.07it/s]"
     ]
    },
    {
     "name": "stdout",
     "output_type": "stream",
     "text": [
      "test\n",
      "test\n",
      "test\n",
      "test\n",
      "test\n",
      "test\n"
     ]
    },
    {
     "name": "stderr",
     "output_type": "stream",
     "text": [
      " 11%|█▏        | 262/2300 [00:10<01:14, 27.29it/s]"
     ]
    },
    {
     "name": "stdout",
     "output_type": "stream",
     "text": [
      "test\n",
      "test\n",
      "test\n",
      "test\n",
      "test\n",
      "test\n"
     ]
    },
    {
     "name": "stderr",
     "output_type": "stream",
     "text": [
      " 12%|█▏        | 268/2300 [00:10<01:15, 27.07it/s]"
     ]
    },
    {
     "name": "stdout",
     "output_type": "stream",
     "text": [
      "test\n",
      "test\n",
      "test\n",
      "test\n",
      "test\n",
      "test\n"
     ]
    },
    {
     "name": "stderr",
     "output_type": "stream",
     "text": [
      " 12%|█▏        | 274/2300 [00:10<01:14, 27.24it/s]"
     ]
    },
    {
     "name": "stdout",
     "output_type": "stream",
     "text": [
      "test\n",
      "test\n",
      "test\n",
      "test\n",
      "test\n",
      "test\n"
     ]
    },
    {
     "name": "stderr",
     "output_type": "stream",
     "text": [
      " 12%|█▏        | 280/2300 [00:10<01:14, 27.24it/s]"
     ]
    },
    {
     "name": "stdout",
     "output_type": "stream",
     "text": [
      "test\n",
      "test\n",
      "test\n",
      "test\n",
      "test\n",
      "test\n"
     ]
    },
    {
     "name": "stderr",
     "output_type": "stream",
     "text": [
      " 12%|█▏        | 286/2300 [00:11<01:13, 27.38it/s]"
     ]
    },
    {
     "name": "stdout",
     "output_type": "stream",
     "text": [
      "test\n",
      "test\n",
      "test\n",
      "test\n",
      "test\n",
      "test\n"
     ]
    },
    {
     "name": "stderr",
     "output_type": "stream",
     "text": [
      " 13%|█▎        | 292/2300 [00:11<01:12, 27.56it/s]"
     ]
    },
    {
     "name": "stdout",
     "output_type": "stream",
     "text": [
      "test\n",
      "test\n",
      "test\n",
      "test\n",
      "test\n",
      "test\n"
     ]
    },
    {
     "name": "stderr",
     "output_type": "stream",
     "text": [
      " 13%|█▎        | 298/2300 [00:11<01:13, 27.15it/s]"
     ]
    },
    {
     "name": "stdout",
     "output_type": "stream",
     "text": [
      "test\n",
      "test\n",
      "test\n",
      "test\n",
      "test\n",
      "test\n"
     ]
    },
    {
     "name": "stderr",
     "output_type": "stream",
     "text": [
      " 13%|█▎        | 304/2300 [00:11<01:14, 26.64it/s]"
     ]
    },
    {
     "name": "stdout",
     "output_type": "stream",
     "text": [
      "test\n",
      "test\n",
      "test\n",
      "test\n",
      "test\n"
     ]
    },
    {
     "name": "stderr",
     "output_type": "stream",
     "text": [
      " 13%|█▎        | 310/2300 [00:12<01:22, 24.21it/s]"
     ]
    },
    {
     "name": "stdout",
     "output_type": "stream",
     "text": [
      "test\n",
      "test\n",
      "test\n",
      "test\n",
      "test\n",
      "test\n"
     ]
    },
    {
     "name": "stderr",
     "output_type": "stream",
     "text": [
      " 14%|█▎        | 316/2300 [00:12<01:18, 25.39it/s]"
     ]
    },
    {
     "name": "stdout",
     "output_type": "stream",
     "text": [
      "test\n",
      "test\n",
      "test\n",
      "test\n",
      "test\n",
      "test\n"
     ]
    },
    {
     "name": "stderr",
     "output_type": "stream",
     "text": [
      " 14%|█▍        | 322/2300 [00:12<01:15, 26.06it/s]"
     ]
    },
    {
     "name": "stdout",
     "output_type": "stream",
     "text": [
      "test\n",
      "test\n",
      "test\n",
      "test\n",
      "test\n",
      "test\n"
     ]
    },
    {
     "name": "stderr",
     "output_type": "stream",
     "text": [
      " 14%|█▍        | 328/2300 [00:12<01:14, 26.50it/s]"
     ]
    },
    {
     "name": "stdout",
     "output_type": "stream",
     "text": [
      "test\n",
      "test\n",
      "test\n",
      "test\n",
      "test\n",
      "test\n"
     ]
    },
    {
     "name": "stderr",
     "output_type": "stream",
     "text": [
      " 15%|█▍        | 334/2300 [00:12<01:13, 26.71it/s]"
     ]
    },
    {
     "name": "stdout",
     "output_type": "stream",
     "text": [
      "test\n",
      "test\n",
      "test\n",
      "test\n",
      "test\n",
      "test\n"
     ]
    },
    {
     "name": "stderr",
     "output_type": "stream",
     "text": [
      " 15%|█▍        | 340/2300 [00:13<01:12, 26.92it/s]"
     ]
    },
    {
     "name": "stdout",
     "output_type": "stream",
     "text": [
      "test\n",
      "test\n",
      "test\n",
      "test\n",
      "test\n",
      "test\n"
     ]
    },
    {
     "name": "stderr",
     "output_type": "stream",
     "text": [
      " 15%|█▌        | 346/2300 [00:13<01:13, 26.41it/s]"
     ]
    },
    {
     "name": "stdout",
     "output_type": "stream",
     "text": [
      "test\n",
      "test\n",
      "test\n",
      "test\n",
      "test\n"
     ]
    },
    {
     "name": "stderr",
     "output_type": "stream",
     "text": [
      " 15%|█▌        | 352/2300 [00:13<01:22, 23.65it/s]"
     ]
    },
    {
     "name": "stdout",
     "output_type": "stream",
     "text": [
      "test\n",
      "test\n",
      "test\n",
      "test\n",
      "test\n",
      "test\n"
     ]
    },
    {
     "name": "stderr",
     "output_type": "stream",
     "text": [
      " 16%|█▌        | 358/2300 [00:13<01:16, 25.47it/s]"
     ]
    },
    {
     "name": "stdout",
     "output_type": "stream",
     "text": [
      "test\n",
      "test\n",
      "test\n",
      "test\n",
      "test\n"
     ]
    },
    {
     "name": "stderr",
     "output_type": "stream",
     "text": [
      " 16%|█▌        | 364/2300 [00:14<01:17, 25.08it/s]"
     ]
    },
    {
     "name": "stdout",
     "output_type": "stream",
     "text": [
      "test\n",
      "test\n",
      "test\n",
      "test\n",
      "test\n",
      "test\n"
     ]
    },
    {
     "name": "stderr",
     "output_type": "stream",
     "text": [
      " 16%|█▌        | 370/2300 [00:14<01:14, 26.08it/s]"
     ]
    },
    {
     "name": "stdout",
     "output_type": "stream",
     "text": [
      "test\n",
      "test\n",
      "test\n",
      "test\n",
      "test\n",
      "test\n"
     ]
    },
    {
     "name": "stderr",
     "output_type": "stream",
     "text": [
      " 16%|█▋        | 376/2300 [00:14<01:13, 26.06it/s]"
     ]
    },
    {
     "name": "stdout",
     "output_type": "stream",
     "text": [
      "test\n",
      "test\n",
      "test\n",
      "test\n",
      "test\n",
      "test\n"
     ]
    },
    {
     "name": "stderr",
     "output_type": "stream",
     "text": [
      " 17%|█▋        | 382/2300 [00:14<01:12, 26.56it/s]"
     ]
    },
    {
     "name": "stdout",
     "output_type": "stream",
     "text": [
      "test\n",
      "test\n",
      "test\n",
      "test\n",
      "test\n",
      "test\n"
     ]
    },
    {
     "name": "stderr",
     "output_type": "stream",
     "text": [
      " 17%|█▋        | 388/2300 [00:15<01:10, 26.98it/s]"
     ]
    },
    {
     "name": "stdout",
     "output_type": "stream",
     "text": [
      "test\n",
      "test\n",
      "test\n",
      "test\n",
      "test\n",
      "test\n"
     ]
    },
    {
     "name": "stderr",
     "output_type": "stream",
     "text": [
      " 17%|█▋        | 394/2300 [00:15<01:11, 26.73it/s]"
     ]
    },
    {
     "name": "stdout",
     "output_type": "stream",
     "text": [
      "test\n",
      "test\n",
      "test\n",
      "test\n",
      "test\n",
      "test\n"
     ]
    },
    {
     "name": "stderr",
     "output_type": "stream",
     "text": [
      " 17%|█▋        | 400/2300 [00:15<01:10, 27.07it/s]"
     ]
    },
    {
     "name": "stdout",
     "output_type": "stream",
     "text": [
      "test\n",
      "test\n",
      "test\n",
      "test\n",
      "test\n",
      "test\n"
     ]
    },
    {
     "name": "stderr",
     "output_type": "stream",
     "text": [
      " 18%|█▊        | 406/2300 [00:15<01:09, 27.20it/s]"
     ]
    },
    {
     "name": "stdout",
     "output_type": "stream",
     "text": [
      "test\n",
      "test\n",
      "test\n",
      "test\n",
      "test\n",
      "test\n"
     ]
    }
   ],
   "source": [
    "%run ./dagharGAN_Train.py\n"
   ]
  }
 ],
 "metadata": {
  "kernelspec": {
   "display_name": "Python 3",
   "language": "python",
   "name": "python3"
  },
  "language_info": {
   "codemirror_mode": {
    "name": "ipython",
    "version": 3
   },
   "file_extension": ".py",
   "mimetype": "text/x-python",
   "name": "python",
   "nbconvert_exporter": "python",
   "pygments_lexer": "ipython3",
   "version": "3.10.6"
  }
 },
 "nbformat": 4,
 "nbformat_minor": 2
}
